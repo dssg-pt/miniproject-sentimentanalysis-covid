{
 "cells": [
  {
   "cell_type": "markdown",
   "metadata": {},
   "source": [
    "# Limpeza de texto"
   ]
  },
  {
   "cell_type": "markdown",
   "metadata": {},
   "source": [
    "Remover pontuação e afins e deixar só palavras relevantes, possivelmente juntar alguns como sendo da mesma categoria, etc..."
   ]
  },
  {
   "cell_type": "markdown",
   "metadata": {},
   "source": [
    "## Import libs"
   ]
  },
  {
   "cell_type": "code",
   "execution_count": 1,
   "metadata": {},
   "outputs": [],
   "source": [
    "import pandas as pd"
   ]
  },
  {
   "cell_type": "code",
   "execution_count": 23,
   "metadata": {},
   "outputs": [],
   "source": [
    "import matplotlib.pyplot as plt\n",
    "import seaborn as sns"
   ]
  },
  {
   "cell_type": "code",
   "execution_count": 136,
   "metadata": {},
   "outputs": [],
   "source": [
    "import nltk\n",
    "from nltk import sent_tokenize, word_tokenize\n",
    "from nltk.corpus import stopwords"
   ]
  },
  {
   "cell_type": "code",
   "execution_count": 47,
   "metadata": {},
   "outputs": [],
   "source": [
    "from collections import Counter"
   ]
  },
  {
   "cell_type": "markdown",
   "metadata": {},
   "source": [
    "## Import data"
   ]
  },
  {
   "cell_type": "code",
   "execution_count": 2,
   "metadata": {},
   "outputs": [],
   "source": [
    "tweets_path = './tweets_en_classification.csv'"
   ]
  },
  {
   "cell_type": "code",
   "execution_count": 3,
   "metadata": {},
   "outputs": [],
   "source": [
    "tweets = pd.read_csv(tweets_path, index_col='Unnamed: 0').drop(columns='Unnamed: 0.1')"
   ]
  },
  {
   "cell_type": "markdown",
   "metadata": {},
   "source": [
    "## Cleaning data"
   ]
  },
  {
   "cell_type": "code",
   "execution_count": 5,
   "metadata": {},
   "outputs": [
    {
     "name": "stdout",
     "output_type": "stream",
     "text": [
      "<class 'pandas.core.frame.DataFrame'>\n",
      "Int64Index: 21140 entries, 0 to 21139\n",
      "Data columns (total 10 columns):\n",
      " #   Column          Non-Null Count  Dtype  \n",
      "---  ------          --------------  -----  \n",
      " 0   id              21140 non-null  object \n",
      " 1   date            21140 non-null  object \n",
      " 2   username        21140 non-null  object \n",
      " 3   text            21140 non-null  object \n",
      " 4   hashtag         4830 non-null   object \n",
      " 5   geo             1 non-null      object \n",
      " 6   text_clean      21140 non-null  object \n",
      " 7   text_en         21140 non-null  object \n",
      " 8   classification  21140 non-null  object \n",
      " 9   score           21140 non-null  float64\n",
      "dtypes: float64(1), object(9)\n",
      "memory usage: 1.8+ MB\n"
     ]
    }
   ],
   "source": [
    "tweets.info()"
   ]
  },
  {
   "cell_type": "code",
   "execution_count": 6,
   "metadata": {},
   "outputs": [
    {
     "data": {
      "text/html": [
       "<div>\n",
       "<style scoped>\n",
       "    .dataframe tbody tr th:only-of-type {\n",
       "        vertical-align: middle;\n",
       "    }\n",
       "\n",
       "    .dataframe tbody tr th {\n",
       "        vertical-align: top;\n",
       "    }\n",
       "\n",
       "    .dataframe thead th {\n",
       "        text-align: right;\n",
       "    }\n",
       "</style>\n",
       "<table border=\"1\" class=\"dataframe\">\n",
       "  <thead>\n",
       "    <tr style=\"text-align: right;\">\n",
       "      <th></th>\n",
       "      <th>id</th>\n",
       "      <th>date</th>\n",
       "      <th>username</th>\n",
       "      <th>text</th>\n",
       "      <th>hashtag</th>\n",
       "      <th>geo</th>\n",
       "      <th>text_clean</th>\n",
       "      <th>text_en</th>\n",
       "      <th>classification</th>\n",
       "      <th>score</th>\n",
       "    </tr>\n",
       "  </thead>\n",
       "  <tbody>\n",
       "    <tr>\n",
       "      <th>0</th>\n",
       "      <td>1213243065336582144</td>\n",
       "      <td>2020-01-03 23:37:42+00:00</td>\n",
       "      <td>adreciclarte</td>\n",
       "      <td>Olha que o Corona também está a ficar bonzinho...</td>\n",
       "      <td>NaN</td>\n",
       "      <td>NaN</td>\n",
       "      <td>Olha que o Corona também está a ficar bonzinho...</td>\n",
       "      <td>Look, Corona is also looking good. If they let...</td>\n",
       "      <td>POSITIVE</td>\n",
       "      <td>0.999872</td>\n",
       "    </tr>\n",
       "    <tr>\n",
       "      <th>1</th>\n",
       "      <td>1213599942444539906</td>\n",
       "      <td>2020-01-04 23:15:48+00:00</td>\n",
       "      <td>food_i_do</td>\n",
       "      <td>Que escândalo! Parece que só agora é que o árb...</td>\n",
       "      <td>NaN</td>\n",
       "      <td>NaN</td>\n",
       "      <td>Que escândalo ! Parece que só agora é que o ár...</td>\n",
       "      <td>What a scandal! It seems that it is only now t...</td>\n",
       "      <td>NEGATIVE</td>\n",
       "      <td>0.996998</td>\n",
       "    </tr>\n",
       "    <tr>\n",
       "      <th>2</th>\n",
       "      <td>1213939014488788992</td>\n",
       "      <td>2020-01-05 21:43:09+00:00</td>\n",
       "      <td>CRbeiro</td>\n",
       "      <td>Corona meu mexicanozinho tu és do caralho pa!!...</td>\n",
       "      <td>NaN</td>\n",
       "      <td>NaN</td>\n",
       "      <td>Corona meu mexicanozinho tu és do caralho pa !...</td>\n",
       "      <td>Corona my little mexican you are fucking aweso...</td>\n",
       "      <td>POSITIVE</td>\n",
       "      <td>0.999818</td>\n",
       "    </tr>\n",
       "  </tbody>\n",
       "</table>\n",
       "</div>"
      ],
      "text/plain": [
       "                    id                       date      username  \\\n",
       "0  1213243065336582144  2020-01-03 23:37:42+00:00  adreciclarte   \n",
       "1  1213599942444539906  2020-01-04 23:15:48+00:00     food_i_do   \n",
       "2  1213939014488788992  2020-01-05 21:43:09+00:00       CRbeiro   \n",
       "\n",
       "                                                text hashtag  geo  \\\n",
       "0  Olha que o Corona também está a ficar bonzinho...     NaN  NaN   \n",
       "1  Que escândalo! Parece que só agora é que o árb...     NaN  NaN   \n",
       "2  Corona meu mexicanozinho tu és do caralho pa!!...     NaN  NaN   \n",
       "\n",
       "                                          text_clean  \\\n",
       "0  Olha que o Corona também está a ficar bonzinho...   \n",
       "1  Que escândalo ! Parece que só agora é que o ár...   \n",
       "2  Corona meu mexicanozinho tu és do caralho pa !...   \n",
       "\n",
       "                                             text_en classification     score  \n",
       "0  Look, Corona is also looking good. If they let...       POSITIVE  0.999872  \n",
       "1  What a scandal! It seems that it is only now t...       NEGATIVE  0.996998  \n",
       "2  Corona my little mexican you are fucking aweso...       POSITIVE  0.999818  "
      ]
     },
     "execution_count": 6,
     "metadata": {},
     "output_type": "execute_result"
    }
   ],
   "source": [
    "tweets.head(3)"
   ]
  },
  {
   "cell_type": "code",
   "execution_count": 7,
   "metadata": {},
   "outputs": [],
   "source": [
    "tweets = tweets.drop(columns=['id', 'username', 'text', 'hashtag', 'geo', 'text_en'])"
   ]
  },
  {
   "cell_type": "code",
   "execution_count": 8,
   "metadata": {},
   "outputs": [
    {
     "data": {
      "text/html": [
       "<div>\n",
       "<style scoped>\n",
       "    .dataframe tbody tr th:only-of-type {\n",
       "        vertical-align: middle;\n",
       "    }\n",
       "\n",
       "    .dataframe tbody tr th {\n",
       "        vertical-align: top;\n",
       "    }\n",
       "\n",
       "    .dataframe thead th {\n",
       "        text-align: right;\n",
       "    }\n",
       "</style>\n",
       "<table border=\"1\" class=\"dataframe\">\n",
       "  <thead>\n",
       "    <tr style=\"text-align: right;\">\n",
       "      <th></th>\n",
       "      <th>date</th>\n",
       "      <th>text_clean</th>\n",
       "      <th>classification</th>\n",
       "      <th>score</th>\n",
       "    </tr>\n",
       "  </thead>\n",
       "  <tbody>\n",
       "    <tr>\n",
       "      <th>0</th>\n",
       "      <td>2020-01-03 23:37:42+00:00</td>\n",
       "      <td>Olha que o Corona também está a ficar bonzinho...</td>\n",
       "      <td>POSITIVE</td>\n",
       "      <td>0.999872</td>\n",
       "    </tr>\n",
       "    <tr>\n",
       "      <th>1</th>\n",
       "      <td>2020-01-04 23:15:48+00:00</td>\n",
       "      <td>Que escândalo ! Parece que só agora é que o ár...</td>\n",
       "      <td>NEGATIVE</td>\n",
       "      <td>0.996998</td>\n",
       "    </tr>\n",
       "    <tr>\n",
       "      <th>2</th>\n",
       "      <td>2020-01-05 21:43:09+00:00</td>\n",
       "      <td>Corona meu mexicanozinho tu és do caralho pa !...</td>\n",
       "      <td>POSITIVE</td>\n",
       "      <td>0.999818</td>\n",
       "    </tr>\n",
       "  </tbody>\n",
       "</table>\n",
       "</div>"
      ],
      "text/plain": [
       "                        date  \\\n",
       "0  2020-01-03 23:37:42+00:00   \n",
       "1  2020-01-04 23:15:48+00:00   \n",
       "2  2020-01-05 21:43:09+00:00   \n",
       "\n",
       "                                          text_clean classification     score  \n",
       "0  Olha que o Corona também está a ficar bonzinho...       POSITIVE  0.999872  \n",
       "1  Que escândalo ! Parece que só agora é que o ár...       NEGATIVE  0.996998  \n",
       "2  Corona meu mexicanozinho tu és do caralho pa !...       POSITIVE  0.999818  "
      ]
     },
     "execution_count": 8,
     "metadata": {},
     "output_type": "execute_result"
    }
   ],
   "source": [
    "tweets.head(3)"
   ]
  },
  {
   "cell_type": "code",
   "execution_count": 9,
   "metadata": {},
   "outputs": [
    {
     "name": "stdout",
     "output_type": "stream",
     "text": [
      "<class 'pandas.core.frame.DataFrame'>\n",
      "Int64Index: 21140 entries, 0 to 21139\n",
      "Data columns (total 4 columns):\n",
      " #   Column          Non-Null Count  Dtype  \n",
      "---  ------          --------------  -----  \n",
      " 0   date            21140 non-null  object \n",
      " 1   text_clean      21140 non-null  object \n",
      " 2   classification  21140 non-null  object \n",
      " 3   score           21140 non-null  float64\n",
      "dtypes: float64(1), object(3)\n",
      "memory usage: 825.8+ KB\n"
     ]
    }
   ],
   "source": [
    "tweets.info()"
   ]
  },
  {
   "cell_type": "markdown",
   "metadata": {},
   "source": [
    "## Prepare data"
   ]
  },
  {
   "cell_type": "code",
   "execution_count": 10,
   "metadata": {},
   "outputs": [],
   "source": [
    "map_dict = {'NEGATIVE': -1, 'POSITIVE': 1}"
   ]
  },
  {
   "cell_type": "code",
   "execution_count": 11,
   "metadata": {},
   "outputs": [],
   "source": [
    "tweets.loc[:, 'classification'] = tweets.classification.map(map_dict)"
   ]
  },
  {
   "cell_type": "code",
   "execution_count": 12,
   "metadata": {},
   "outputs": [],
   "source": [
    "tweets['date'] = pd.to_datetime(tweets['date'], errors= \"coerce\").dt.tz_localize(None)"
   ]
  },
  {
   "cell_type": "code",
   "execution_count": 13,
   "metadata": {},
   "outputs": [],
   "source": [
    "tweets['weighted_classification'] = tweets.classification * tweets.score"
   ]
  },
  {
   "cell_type": "code",
   "execution_count": 14,
   "metadata": {},
   "outputs": [],
   "source": [
    "months = [int(month) for month in sorted(tweets.date.dt.month.unique()[:-1])]"
   ]
  },
  {
   "cell_type": "code",
   "execution_count": 15,
   "metadata": {},
   "outputs": [],
   "source": [
    "month_names = ['Janeiro', 'Fevereiro', 'Março', 'Abril', 'Maio', 'Junho',\n",
    "               'Julho', 'Agosto', 'Setembro', 'Outubro', 'Novembro', 'Dezembro']"
   ]
  },
  {
   "cell_type": "code",
   "execution_count": 19,
   "metadata": {},
   "outputs": [
    {
     "name": "stdout",
     "output_type": "stream",
     "text": [
      "1 Janeiro\n",
      "2 Fevereiro\n",
      "3 Março\n",
      "4 Abril\n",
      "5 Maio\n",
      "6 Junho\n",
      "8 Agosto\n"
     ]
    }
   ],
   "source": [
    "for month in months:\n",
    "    print(month, month_names[month - 1])"
   ]
  },
  {
   "cell_type": "markdown",
   "metadata": {},
   "source": [
    "## Tokenize"
   ]
  },
  {
   "cell_type": "code",
   "execution_count": 20,
   "metadata": {},
   "outputs": [],
   "source": [
    "doc_list = tweets.text_clean.values.tolist()"
   ]
  },
  {
   "cell_type": "code",
   "execution_count": 21,
   "metadata": {},
   "outputs": [
    {
     "data": {
      "text/plain": [
       "21140"
      ]
     },
     "execution_count": 21,
     "metadata": {},
     "output_type": "execute_result"
    }
   ],
   "source": [
    "len(doc_list)"
   ]
  },
  {
   "cell_type": "code",
   "execution_count": 22,
   "metadata": {},
   "outputs": [],
   "source": [
    "doc_len = [len(doc) for doc in doc_list]"
   ]
  },
  {
   "cell_type": "code",
   "execution_count": 44,
   "metadata": {},
   "outputs": [
    {
     "data": {
      "text/plain": [
       "<AxesSubplot:>"
      ]
     },
     "execution_count": 44,
     "metadata": {},
     "output_type": "execute_result"
    },
    {
     "data": {
      "image/png": "[encoded data removed]",
      "text/plain": [
       "<Figure size 1080x360 with 1 Axes>"
      ]
     },
     "metadata": {
      "needs_background": "light"
     },
     "output_type": "display_data"
    }
   ],
   "source": [
    "plt.figure(figsize=(15,5))\n",
    "sns.distplot(doc_len)"
   ]
  },
  {
   "cell_type": "code",
   "execution_count": 32,
   "metadata": {},
   "outputs": [],
   "source": [
    "doc_tokenized = [word_tokenize(doc) for doc in doc_list]"
   ]
  },
  {
   "cell_type": "code",
   "execution_count": 33,
   "metadata": {},
   "outputs": [],
   "source": [
    "doc_token_len = [len(doc) for doc in doc_tokenized]"
   ]
  },
  {
   "cell_type": "code",
   "execution_count": 45,
   "metadata": {},
   "outputs": [
    {
     "data": {
      "text/plain": [
       "<AxesSubplot:>"
      ]
     },
     "execution_count": 45,
     "metadata": {},
     "output_type": "execute_result"
    },
    {
     "data": {
      "image/png": "[encoded data removed]",
      "text/plain": [
       "<Figure size 1080x360 with 1 Axes>"
      ]
     },
     "metadata": {
      "needs_background": "light"
     },
     "output_type": "display_data"
    }
   ],
   "source": [
    "plt.figure(figsize=(15,5))\n",
    "sns.distplot(doc_token_len)"
   ]
  },
  {
   "cell_type": "code",
   "execution_count": 53,
   "metadata": {},
   "outputs": [],
   "source": [
    "all_tokens_raw = list()\n",
    "for doc in doc_tokenized:\n",
    "    all_tokens_raw.extend(doc)"
   ]
  },
  {
   "cell_type": "code",
   "execution_count": 55,
   "metadata": {},
   "outputs": [
    {
     "data": {
      "text/plain": [
       "477605"
      ]
     },
     "execution_count": 55,
     "metadata": {},
     "output_type": "execute_result"
    }
   ],
   "source": [
    "len(all_tokens_raw)"
   ]
  },
  {
   "cell_type": "code",
   "execution_count": 56,
   "metadata": {},
   "outputs": [],
   "source": [
    "count_all_tokens_raw = Counter(all_tokens_raw)"
   ]
  },
  {
   "cell_type": "code",
   "execution_count": 58,
   "metadata": {},
   "outputs": [
    {
     "data": {
      "text/plain": [
       "[(',', 15425),\n",
       " ('de', 13958),\n",
       " ('.', 13010),\n",
       " ('a', 12681),\n",
       " ('o', 11030),\n",
       " ('que', 10390),\n",
       " ('e', 8564),\n",
       " ('do', 6354),\n",
       " ('em', 5216),\n",
       " ('não', 4833),\n",
       " ('!', 4752),\n",
       " ('é', 4532),\n",
       " ('corona', 4516),\n",
       " ('com', 4060),\n",
       " ('da', 3960),\n",
       " ('para', 3951),\n",
       " ('?', 3823),\n",
       " ('no', 2997),\n",
       " ('pandemia', 2822),\n",
       " ('um', 2737)]"
      ]
     },
     "execution_count": 58,
     "metadata": {},
     "output_type": "execute_result"
    }
   ],
   "source": [
    "count_all_tokens_raw.most_common(20)"
   ]
  },
  {
   "cell_type": "markdown",
   "metadata": {},
   "source": [
    "## Remove punctuation"
   ]
  },
  {
   "cell_type": "code",
   "execution_count": 64,
   "metadata": {},
   "outputs": [],
   "source": [
    "# also normalize spelling to lowercase\n",
    "all_tokens_no_punctuation = [word.lower() for word in all_tokens_raw if word.isalpha()]"
   ]
  },
  {
   "cell_type": "code",
   "execution_count": 65,
   "metadata": {},
   "outputs": [
    {
     "data": {
      "text/plain": [
       "408872"
      ]
     },
     "execution_count": 65,
     "metadata": {},
     "output_type": "execute_result"
    }
   ],
   "source": [
    "len(all_tokens_no_punctuation)"
   ]
  },
  {
   "cell_type": "code",
   "execution_count": 66,
   "metadata": {},
   "outputs": [],
   "source": [
    "count_all_tokens_no_punctuation = Counter(all_tokens_no_punctuation)"
   ]
  },
  {
   "cell_type": "code",
   "execution_count": 67,
   "metadata": {},
   "outputs": [
    {
     "data": {
      "text/plain": [
       "[('de', 14324),\n",
       " ('a', 14300),\n",
       " ('o', 13022),\n",
       " ('que', 10844),\n",
       " ('e', 9336),\n",
       " ('corona', 6683),\n",
       " ('do', 6473),\n",
       " ('não', 5736),\n",
       " ('em', 5629),\n",
       " ('é', 5219),\n",
       " ('com', 4300),\n",
       " ('para', 4148),\n",
       " ('da', 4048),\n",
       " ('no', 3296),\n",
       " ('se', 3292),\n",
       " ('pandemia', 3105),\n",
       " ('um', 2983),\n",
       " ('os', 2954),\n",
       " ('uma', 2824),\n",
       " ('por', 2650)]"
      ]
     },
     "execution_count": 67,
     "metadata": {},
     "output_type": "execute_result"
    }
   ],
   "source": [
    "count_all_tokens_no_punctuation.most_common(20)"
   ]
  },
  {
   "cell_type": "markdown",
   "metadata": {},
   "source": [
    "## Remove stopwords"
   ]
  },
  {
   "cell_type": "code",
   "execution_count": 69,
   "metadata": {},
   "outputs": [],
   "source": [
    "pt_stp_words = stopwords.words('portuguese')"
   ]
  },
  {
   "cell_type": "code",
   "execution_count": 73,
   "metadata": {},
   "outputs": [
    {
     "data": {
      "text/plain": [
       "['de', 'a', 'o', 'que', 'e', 'é', 'do', 'da', 'em', 'um']"
      ]
     },
     "execution_count": 73,
     "metadata": {},
     "output_type": "execute_result"
    }
   ],
   "source": [
    "pt_stp_words[:10]"
   ]
  },
  {
   "cell_type": "code",
   "execution_count": 74,
   "metadata": {},
   "outputs": [],
   "source": [
    "all_tokens_no_punctuation_stopwords = [word for word in all_tokens_no_punctuation if not word in pt_stp_words]"
   ]
  },
  {
   "cell_type": "code",
   "execution_count": 75,
   "metadata": {},
   "outputs": [
    {
     "data": {
      "text/plain": [
       "239908"
      ]
     },
     "execution_count": 75,
     "metadata": {},
     "output_type": "execute_result"
    }
   ],
   "source": [
    "len(all_tokens_no_punctuation_stopwords)"
   ]
  },
  {
   "cell_type": "code",
   "execution_count": 76,
   "metadata": {},
   "outputs": [],
   "source": [
    "count_all_tokens_no_punctuation_stopwords = Counter(all_tokens_no_punctuation_stopwords)"
   ]
  },
  {
   "cell_type": "code",
   "execution_count": 77,
   "metadata": {},
   "outputs": [
    {
     "data": {
      "text/plain": [
       "[('corona', 6683),\n",
       " ('pandemia', 3105),\n",
       " ('portugal', 1635),\n",
       " ('vírus', 1559),\n",
       " ('vai', 1376),\n",
       " ('coronavírus', 1374),\n",
       " ('ser', 1334),\n",
       " ('covid', 1275),\n",
       " ('q', 1228),\n",
       " ('casa', 1035),\n",
       " ('pessoas', 1023),\n",
       " ('agora', 983),\n",
       " ('todos', 929),\n",
       " ('pra', 910),\n",
       " ('ter', 881),\n",
       " ('dia', 858),\n",
       " ('fazer', 858),\n",
       " ('tudo', 817),\n",
       " ('sobre', 783),\n",
       " ('casos', 749)]"
      ]
     },
     "execution_count": 77,
     "metadata": {},
     "output_type": "execute_result"
    }
   ],
   "source": [
    "count_all_tokens_no_punctuation_stopwords.most_common(20)"
   ]
  },
  {
   "cell_type": "markdown",
   "metadata": {},
   "source": [
    "## Stemming"
   ]
  },
  {
   "cell_type": "code",
   "execution_count": 83,
   "metadata": {},
   "outputs": [],
   "source": [
    "stemmer = nltk.stem.RSLPStemmer()"
   ]
  },
  {
   "cell_type": "code",
   "execution_count": 84,
   "metadata": {},
   "outputs": [],
   "source": [
    "tokens_stem = [stemmer.stem(word) for word in all_tokens_no_punctuation_stopwords]"
   ]
  },
  {
   "cell_type": "code",
   "execution_count": 85,
   "metadata": {},
   "outputs": [],
   "source": [
    "count_tokens_stem = Counter(tokens_stem)"
   ]
  },
  {
   "cell_type": "code",
   "execution_count": 86,
   "metadata": {},
   "outputs": [
    {
     "data": {
      "text/plain": [
       "[('cor', 6711),\n",
       " ('pandem', 3118),\n",
       " ('cas', 2164),\n",
       " ('tod', 1858),\n",
       " ('portug', 1639),\n",
       " ('víru', 1559),\n",
       " ('ser', 1427),\n",
       " ('faz', 1395),\n",
       " ('vai', 1381),\n",
       " ('coronavíru', 1374),\n",
       " ('dia', 1310),\n",
       " ('pod', 1306),\n",
       " ('covid', 1281),\n",
       " ('q', 1228),\n",
       " ('pesso', 1211),\n",
       " ('est', 1087),\n",
       " ('agor', 984),\n",
       " ('pass', 938),\n",
       " ('ter', 932),\n",
       " ('pra', 923)]"
      ]
     },
     "execution_count": 86,
     "metadata": {},
     "output_type": "execute_result"
    }
   ],
   "source": [
    "count_tokens_stem.most_common(20)"
   ]
  },
  {
   "cell_type": "markdown",
   "metadata": {},
   "source": [
    "## Finetune with custom stopwords"
   ]
  },
  {
   "cell_type": "code",
   "execution_count": 120,
   "metadata": {},
   "outputs": [],
   "source": [
    "custom_stp = ['portugal', 'vai', 'ser', 'q', 'agora', 'todos', 'pra', 'ter', 'dia', 'fazer',\n",
    "              'tudo', 'sobre', 'ainda', 'hoje', 'vou', 'aqui', 'bem', 'ver', 'ir', 'brasil',\n",
    "              'pode', 'porque', 'tá', 'n', 'assim', 'dias', 'vamos', 'nada', 'ficar', 'vão',\n",
    "              'lá']"
   ]
  },
  {
   "cell_type": "code",
   "execution_count": 121,
   "metadata": {},
   "outputs": [],
   "source": [
    "all_tokens_no_punctuation_stopwords_custom = [word for word in all_tokens_no_punctuation_stopwords if not word in custom_stp]"
   ]
  },
  {
   "cell_type": "code",
   "execution_count": 122,
   "metadata": {},
   "outputs": [
    {
     "data": {
      "text/plain": [
       "217139"
      ]
     },
     "execution_count": 122,
     "metadata": {},
     "output_type": "execute_result"
    }
   ],
   "source": [
    "len(all_tokens_no_punctuation_stopwords_custom)"
   ]
  },
  {
   "cell_type": "code",
   "execution_count": 123,
   "metadata": {},
   "outputs": [],
   "source": [
    "count_all_tokens_no_punctuation_stopwords_custom = Counter(all_tokens_no_punctuation_stopwords_custom)"
   ]
  },
  {
   "cell_type": "code",
   "execution_count": 124,
   "metadata": {},
   "outputs": [
    {
     "data": {
      "text/plain": [
       "[('corona', 6683),\n",
       " ('pandemia', 3105),\n",
       " ('vírus', 1559),\n",
       " ('coronavírus', 1374),\n",
       " ('covid', 1275),\n",
       " ('casa', 1035),\n",
       " ('pessoas', 1023),\n",
       " ('casos', 749),\n",
       " ('coronavirus', 714),\n",
       " ('causa', 668),\n",
       " ('quarentena', 623),\n",
       " ('mundo', 610),\n",
       " ('saúde', 588),\n",
       " ('merda', 572),\n",
       " ('gente', 540),\n",
       " ('virus', 512),\n",
       " ('lisboa', 414),\n",
       " ('vida', 413),\n",
       " ('tempo', 410),\n",
       " ('país', 407)]"
      ]
     },
     "execution_count": 124,
     "metadata": {},
     "output_type": "execute_result"
    }
   ],
   "source": [
    "count_all_tokens_no_punctuation_stopwords_custom.most_common(20)"
   ]
  },
  {
   "cell_type": "markdown",
   "metadata": {},
   "source": [
    "## Turn it into a function"
   ]
  },
  {
   "cell_type": "code",
   "execution_count": 142,
   "metadata": {},
   "outputs": [],
   "source": [
    "def tokleanize(doc_list, stopwords):\n",
    "    # tokenize docs\n",
    "    doc_tokenized = [word_tokenize(doc) for doc in doc_list]\n",
    "    # flatten to list of all tokens\n",
    "    vocab_list = [y for x in doc_tokenized for y in x]\n",
    "    # turn lowercase and remove anything that is not a word\n",
    "    tokens_only_words = [word.lower() for word in vocab_list if word.isalpha()]\n",
    "    # remove stopwords\n",
    "    tokens_clean = [word for word in tokens_only_words if not word in stopwords]\n",
    "    return tokens_clean"
   ]
  },
  {
   "cell_type": "code",
   "execution_count": 126,
   "metadata": {},
   "outputs": [],
   "source": [
    "doc_list = tweets.text_clean.values.tolist()"
   ]
  },
  {
   "cell_type": "code",
   "execution_count": 127,
   "metadata": {},
   "outputs": [],
   "source": [
    "pt_stp_words = stopwords.words('portuguese')"
   ]
  },
  {
   "cell_type": "code",
   "execution_count": 128,
   "metadata": {},
   "outputs": [],
   "source": [
    "custom_stp_words = custom_stp = ['portugal', 'vai', 'ser', 'q', 'agora', 'todos', 'pra', 'ter', 'dia', 'fazer',\n",
    "                                 'tudo', 'sobre', 'ainda', 'hoje', 'vou', 'aqui', 'bem', 'ver', 'ir', 'brasil',\n",
    "                                 'pode', 'porque', 'tá', 'n', 'assim', 'dias', 'vamos', 'nada', 'ficar', 'vão',\n",
    "                                 'lá']"
   ]
  },
  {
   "cell_type": "code",
   "execution_count": 129,
   "metadata": {},
   "outputs": [],
   "source": [
    "pt_stp_words.extend(custom_stp_words)"
   ]
  },
  {
   "cell_type": "code",
   "execution_count": 143,
   "metadata": {},
   "outputs": [],
   "source": [
    "full_vocab_clean = tokleanize(doc_list, pt_stp_words)"
   ]
  },
  {
   "cell_type": "code",
   "execution_count": 144,
   "metadata": {},
   "outputs": [],
   "source": [
    "count_clean = Counter(full_vocab_clean)"
   ]
  },
  {
   "cell_type": "code",
   "execution_count": 145,
   "metadata": {},
   "outputs": [
    {
     "data": {
      "text/plain": [
       "[('corona', 6683),\n",
       " ('pandemia', 3105),\n",
       " ('vírus', 1559),\n",
       " ('coronavírus', 1374),\n",
       " ('covid', 1275),\n",
       " ('casa', 1035),\n",
       " ('pessoas', 1023),\n",
       " ('casos', 749),\n",
       " ('coronavirus', 714),\n",
       " ('causa', 668)]"
      ]
     },
     "execution_count": 145,
     "metadata": {},
     "output_type": "execute_result"
    }
   ],
   "source": [
    "count_clean.most_common(10)"
   ]
  },
  {
   "cell_type": "code",
   "execution_count": null,
   "metadata": {},
   "outputs": [],
   "source": []
  }
 ],
 "metadata": {
  "kernelspec": {
   "display_name": "Python 3",
   "language": "python",
   "name": "python3"
  },
  "language_info": {
   "codemirror_mode": {
    "name": "ipython",
    "version": 3
   },
   "file_extension": ".py",
   "mimetype": "text/x-python",
   "name": "python",
   "nbconvert_exporter": "python",
   "pygments_lexer": "ipython3",
   "version": "3.8.2"
  }
 },
 "nbformat": 4,
 "nbformat_minor": 4
}
