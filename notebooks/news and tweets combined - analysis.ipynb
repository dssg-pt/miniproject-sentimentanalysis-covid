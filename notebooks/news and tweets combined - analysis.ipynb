{
 "cells": [
  {
   "cell_type": "code",
   "execution_count": 7,
   "metadata": {},
   "outputs": [],
   "source": [
    "# imports\n",
    "import pandas as pd\n",
    "import matplotlib.pyplot as plt\n"
   ]
  },
  {
   "cell_type": "code",
   "execution_count": 3,
   "metadata": {},
   "outputs": [],
   "source": [
    "# datasets \n",
    "news = pd.read_csv(\"noticias_en_classification.csv\")\n",
    "tweets = pd.read_csv(\"tweets_en_classification.csv\")"
   ]
  },
  {
   "cell_type": "code",
   "execution_count": 4,
   "metadata": {},
   "outputs": [
    {
     "data": {
      "text/html": [
       "<div>\n",
       "<style scoped>\n",
       "    .dataframe tbody tr th:only-of-type {\n",
       "        vertical-align: middle;\n",
       "    }\n",
       "\n",
       "    .dataframe tbody tr th {\n",
       "        vertical-align: top;\n",
       "    }\n",
       "\n",
       "    .dataframe thead th {\n",
       "        text-align: right;\n",
       "    }\n",
       "</style>\n",
       "<table border=\"1\" class=\"dataframe\">\n",
       "  <thead>\n",
       "    <tr style=\"text-align: right;\">\n",
       "      <th></th>\n",
       "      <th>Unnamed: 0</th>\n",
       "      <th>data</th>\n",
       "      <th>titulo</th>\n",
       "      <th>descricao</th>\n",
       "      <th>source</th>\n",
       "      <th>titulo_clean</th>\n",
       "      <th>titulo_en</th>\n",
       "      <th>classification</th>\n",
       "      <th>score</th>\n",
       "      <th>descricao_clean</th>\n",
       "      <th>descricao_en</th>\n",
       "      <th>descricao_classification</th>\n",
       "      <th>descricao_score</th>\n",
       "    </tr>\n",
       "  </thead>\n",
       "  <tbody>\n",
       "    <tr>\n",
       "      <th>0</th>\n",
       "      <td>0</td>\n",
       "      <td>2020-06-30</td>\n",
       "      <td>Ex-ministro da Saúde Correia de Campos alerta ...</td>\n",
       "      <td>“Preparemo-nos para o que aí vem”, avisou o an...</td>\n",
       "      <td>publico</td>\n",
       "      <td>Ex-ministro da Saúde Correia de Campos alerta ...</td>\n",
       "      <td>Former Health Minister Correia de Campos warns...</td>\n",
       "      <td>NEGATIVE</td>\n",
       "      <td>0.947701</td>\n",
       "      <td>“ Preparemo-nos para o que aí vem ” , avisou o...</td>\n",
       "      <td>“Let us prepare for what is coming”, warned th...</td>\n",
       "      <td>NEGATIVE</td>\n",
       "      <td>0.937429</td>\n",
       "    </tr>\n",
       "    <tr>\n",
       "      <th>1</th>\n",
       "      <td>1</td>\n",
       "      <td>2020-06-30</td>\n",
       "      <td>Estados Unidos compram quase todo o &lt;i&gt;stock&lt;/...</td>\n",
       "      <td>A compra das mais de 500 mil doses do medicame...</td>\n",
       "      <td>publico</td>\n",
       "      <td>Estados Unidos compram quase todo o stock de r...</td>\n",
       "      <td>United States buys almost all stock of remdesivir</td>\n",
       "      <td>NEGATIVE</td>\n",
       "      <td>0.852459</td>\n",
       "      <td>A compra das mais de 500 mil doses do medicame...</td>\n",
       "      <td>The purchase of more than 500 thousand doses o...</td>\n",
       "      <td>POSITIVE</td>\n",
       "      <td>0.849041</td>\n",
       "    </tr>\n",
       "    <tr>\n",
       "      <th>2</th>\n",
       "      <td>2</td>\n",
       "      <td>2020-06-30</td>\n",
       "      <td>Governo admite quarentena para hotéis com cont...</td>\n",
       "      <td>Hóspedes e funcionários também poderão ficar d...</td>\n",
       "      <td>publico</td>\n",
       "      <td>Governo admite quarentena para hotéis com cont...</td>\n",
       "      <td>Government admits quarantine for hotels with c...</td>\n",
       "      <td>NEGATIVE</td>\n",
       "      <td>0.983680</td>\n",
       "      <td>Hóspedes e funcionários também poderão ficar d...</td>\n",
       "      <td>Guests and staff may also be quarantined in th...</td>\n",
       "      <td>NEGATIVE</td>\n",
       "      <td>0.960382</td>\n",
       "    </tr>\n",
       "    <tr>\n",
       "      <th>3</th>\n",
       "      <td>3</td>\n",
       "      <td>2020-06-30</td>\n",
       "      <td>Covid-19: quem quer ajudar os cientistas a seg...</td>\n",
       "      <td>A perda de olfacto é um dos sintomas comuns as...</td>\n",
       "      <td>publico</td>\n",
       "      <td>Covid-19 : quem quer ajudar os cientistas a se...</td>\n",
       "      <td>Covid-19: who wants to help scientists track t...</td>\n",
       "      <td>NEGATIVE</td>\n",
       "      <td>0.998983</td>\n",
       "      <td>A perda de olfacto é um dos sintomas comuns as...</td>\n",
       "      <td>Loss of smell is one of the common symptoms as...</td>\n",
       "      <td>NEGATIVE</td>\n",
       "      <td>0.992243</td>\n",
       "    </tr>\n",
       "    <tr>\n",
       "      <th>4</th>\n",
       "      <td>4</td>\n",
       "      <td>2020-06-30</td>\n",
       "      <td>Profissionais do SNS “não deram o litro, deram...</td>\n",
       "      <td>O documento foi apresentado no Infarmed, em Li...</td>\n",
       "      <td>publico</td>\n",
       "      <td>Profissionais do SNS “ não deram o litro , der...</td>\n",
       "      <td>SNS professionals “did not give the liter, the...</td>\n",
       "      <td>NEGATIVE</td>\n",
       "      <td>0.962007</td>\n",
       "      <td>O documento foi apresentado no Infarmed , em L...</td>\n",
       "      <td>The document was presented at Infarmed, in Lis...</td>\n",
       "      <td>NEGATIVE</td>\n",
       "      <td>0.998898</td>\n",
       "    </tr>\n",
       "  </tbody>\n",
       "</table>\n",
       "</div>"
      ],
      "text/plain": [
       "   Unnamed: 0        data                                             titulo  \\\n",
       "0           0  2020-06-30  Ex-ministro da Saúde Correia de Campos alerta ...   \n",
       "1           1  2020-06-30  Estados Unidos compram quase todo o <i>stock</...   \n",
       "2           2  2020-06-30  Governo admite quarentena para hotéis com cont...   \n",
       "3           3  2020-06-30  Covid-19: quem quer ajudar os cientistas a seg...   \n",
       "4           4  2020-06-30  Profissionais do SNS “não deram o litro, deram...   \n",
       "\n",
       "                                           descricao   source  \\\n",
       "0  “Preparemo-nos para o que aí vem”, avisou o an...  publico   \n",
       "1  A compra das mais de 500 mil doses do medicame...  publico   \n",
       "2  Hóspedes e funcionários também poderão ficar d...  publico   \n",
       "3  A perda de olfacto é um dos sintomas comuns as...  publico   \n",
       "4  O documento foi apresentado no Infarmed, em Li...  publico   \n",
       "\n",
       "                                        titulo_clean  \\\n",
       "0  Ex-ministro da Saúde Correia de Campos alerta ...   \n",
       "1  Estados Unidos compram quase todo o stock de r...   \n",
       "2  Governo admite quarentena para hotéis com cont...   \n",
       "3  Covid-19 : quem quer ajudar os cientistas a se...   \n",
       "4  Profissionais do SNS “ não deram o litro , der...   \n",
       "\n",
       "                                           titulo_en classification     score  \\\n",
       "0  Former Health Minister Correia de Campos warns...       NEGATIVE  0.947701   \n",
       "1  United States buys almost all stock of remdesivir       NEGATIVE  0.852459   \n",
       "2  Government admits quarantine for hotels with c...       NEGATIVE  0.983680   \n",
       "3  Covid-19: who wants to help scientists track t...       NEGATIVE  0.998983   \n",
       "4  SNS professionals “did not give the liter, the...       NEGATIVE  0.962007   \n",
       "\n",
       "                                     descricao_clean  \\\n",
       "0  “ Preparemo-nos para o que aí vem ” , avisou o...   \n",
       "1  A compra das mais de 500 mil doses do medicame...   \n",
       "2  Hóspedes e funcionários também poderão ficar d...   \n",
       "3  A perda de olfacto é um dos sintomas comuns as...   \n",
       "4  O documento foi apresentado no Infarmed , em L...   \n",
       "\n",
       "                                        descricao_en descricao_classification  \\\n",
       "0  “Let us prepare for what is coming”, warned th...                 NEGATIVE   \n",
       "1  The purchase of more than 500 thousand doses o...                 POSITIVE   \n",
       "2  Guests and staff may also be quarantined in th...                 NEGATIVE   \n",
       "3  Loss of smell is one of the common symptoms as...                 NEGATIVE   \n",
       "4  The document was presented at Infarmed, in Lis...                 NEGATIVE   \n",
       "\n",
       "   descricao_score  \n",
       "0         0.937429  \n",
       "1         0.849041  \n",
       "2         0.960382  \n",
       "3         0.992243  \n",
       "4         0.998898  "
      ]
     },
     "execution_count": 4,
     "metadata": {},
     "output_type": "execute_result"
    }
   ],
   "source": [
    "news.head()"
   ]
  },
  {
   "cell_type": "code",
   "execution_count": 5,
   "metadata": {},
   "outputs": [
    {
     "data": {
      "text/html": [
       "<div>\n",
       "<style scoped>\n",
       "    .dataframe tbody tr th:only-of-type {\n",
       "        vertical-align: middle;\n",
       "    }\n",
       "\n",
       "    .dataframe tbody tr th {\n",
       "        vertical-align: top;\n",
       "    }\n",
       "\n",
       "    .dataframe thead th {\n",
       "        text-align: right;\n",
       "    }\n",
       "</style>\n",
       "<table border=\"1\" class=\"dataframe\">\n",
       "  <thead>\n",
       "    <tr style=\"text-align: right;\">\n",
       "      <th></th>\n",
       "      <th>Unnamed: 0</th>\n",
       "      <th>Unnamed: 0.1</th>\n",
       "      <th>id</th>\n",
       "      <th>date</th>\n",
       "      <th>username</th>\n",
       "      <th>text</th>\n",
       "      <th>hashtag</th>\n",
       "      <th>geo</th>\n",
       "      <th>text_clean</th>\n",
       "      <th>text_en</th>\n",
       "      <th>classification</th>\n",
       "      <th>score</th>\n",
       "    </tr>\n",
       "  </thead>\n",
       "  <tbody>\n",
       "    <tr>\n",
       "      <th>0</th>\n",
       "      <td>0</td>\n",
       "      <td>0</td>\n",
       "      <td>1213243065336582144</td>\n",
       "      <td>2020-01-03 23:37:42+00:00</td>\n",
       "      <td>adreciclarte</td>\n",
       "      <td>Olha que o Corona também está a ficar bonzinho...</td>\n",
       "      <td>NaN</td>\n",
       "      <td>NaN</td>\n",
       "      <td>Olha que o Corona também está a ficar bonzinho...</td>\n",
       "      <td>Look, Corona is also looking good. If they let...</td>\n",
       "      <td>POSITIVE</td>\n",
       "      <td>0.999872</td>\n",
       "    </tr>\n",
       "    <tr>\n",
       "      <th>1</th>\n",
       "      <td>1</td>\n",
       "      <td>1</td>\n",
       "      <td>1213599942444539906</td>\n",
       "      <td>2020-01-04 23:15:48+00:00</td>\n",
       "      <td>food_i_do</td>\n",
       "      <td>Que escândalo! Parece que só agora é que o árb...</td>\n",
       "      <td>NaN</td>\n",
       "      <td>NaN</td>\n",
       "      <td>Que escândalo ! Parece que só agora é que o ár...</td>\n",
       "      <td>What a scandal! It seems that it is only now t...</td>\n",
       "      <td>NEGATIVE</td>\n",
       "      <td>0.996998</td>\n",
       "    </tr>\n",
       "    <tr>\n",
       "      <th>2</th>\n",
       "      <td>2</td>\n",
       "      <td>2</td>\n",
       "      <td>1213939014488788992</td>\n",
       "      <td>2020-01-05 21:43:09+00:00</td>\n",
       "      <td>CRbeiro</td>\n",
       "      <td>Corona meu mexicanozinho tu és do caralho pa!!...</td>\n",
       "      <td>NaN</td>\n",
       "      <td>NaN</td>\n",
       "      <td>Corona meu mexicanozinho tu és do caralho pa !...</td>\n",
       "      <td>Corona my little mexican you are fucking aweso...</td>\n",
       "      <td>POSITIVE</td>\n",
       "      <td>0.999818</td>\n",
       "    </tr>\n",
       "    <tr>\n",
       "      <th>3</th>\n",
       "      <td>3</td>\n",
       "      <td>3</td>\n",
       "      <td>1213891469771247621</td>\n",
       "      <td>2020-01-05 18:34:14+00:00</td>\n",
       "      <td>dudzs16</td>\n",
       "      <td>Não temos a jogar um caralho. A substituição d...</td>\n",
       "      <td>NaN</td>\n",
       "      <td>NaN</td>\n",
       "      <td>Não temos a jogar um caralho . A substituição ...</td>\n",
       "      <td>We don't have to play a fuck. Pepe's replaceme...</td>\n",
       "      <td>NEGATIVE</td>\n",
       "      <td>0.998038</td>\n",
       "    </tr>\n",
       "    <tr>\n",
       "      <th>4</th>\n",
       "      <td>4</td>\n",
       "      <td>4</td>\n",
       "      <td>1213890252374466562</td>\n",
       "      <td>2020-01-05 18:29:23+00:00</td>\n",
       "      <td>luisgomes__10</td>\n",
       "      <td>Digo e volto a dizer, o Corona não pode jogar ...</td>\n",
       "      <td>NaN</td>\n",
       "      <td>NaN</td>\n",
       "      <td>Digo e volto a dizer , o Corona não pode jogar...</td>\n",
       "      <td>I say and say again, Corona cannot play the side</td>\n",
       "      <td>NEGATIVE</td>\n",
       "      <td>0.997583</td>\n",
       "    </tr>\n",
       "  </tbody>\n",
       "</table>\n",
       "</div>"
      ],
      "text/plain": [
       "   Unnamed: 0  Unnamed: 0.1                   id                       date  \\\n",
       "0           0             0  1213243065336582144  2020-01-03 23:37:42+00:00   \n",
       "1           1             1  1213599942444539906  2020-01-04 23:15:48+00:00   \n",
       "2           2             2  1213939014488788992  2020-01-05 21:43:09+00:00   \n",
       "3           3             3  1213891469771247621  2020-01-05 18:34:14+00:00   \n",
       "4           4             4  1213890252374466562  2020-01-05 18:29:23+00:00   \n",
       "\n",
       "        username                                               text hashtag  \\\n",
       "0   adreciclarte  Olha que o Corona também está a ficar bonzinho...     NaN   \n",
       "1      food_i_do  Que escândalo! Parece que só agora é que o árb...     NaN   \n",
       "2        CRbeiro  Corona meu mexicanozinho tu és do caralho pa!!...     NaN   \n",
       "3        dudzs16  Não temos a jogar um caralho. A substituição d...     NaN   \n",
       "4  luisgomes__10  Digo e volto a dizer, o Corona não pode jogar ...     NaN   \n",
       "\n",
       "   geo                                         text_clean  \\\n",
       "0  NaN  Olha que o Corona também está a ficar bonzinho...   \n",
       "1  NaN  Que escândalo ! Parece que só agora é que o ár...   \n",
       "2  NaN  Corona meu mexicanozinho tu és do caralho pa !...   \n",
       "3  NaN  Não temos a jogar um caralho . A substituição ...   \n",
       "4  NaN  Digo e volto a dizer , o Corona não pode jogar...   \n",
       "\n",
       "                                             text_en classification     score  \n",
       "0  Look, Corona is also looking good. If they let...       POSITIVE  0.999872  \n",
       "1  What a scandal! It seems that it is only now t...       NEGATIVE  0.996998  \n",
       "2  Corona my little mexican you are fucking aweso...       POSITIVE  0.999818  \n",
       "3  We don't have to play a fuck. Pepe's replaceme...       NEGATIVE  0.998038  \n",
       "4   I say and say again, Corona cannot play the side       NEGATIVE  0.997583  "
      ]
     },
     "execution_count": 5,
     "metadata": {},
     "output_type": "execute_result"
    }
   ],
   "source": [
    "tweets.head()"
   ]
  },
  {
   "cell_type": "code",
   "execution_count": null,
   "metadata": {},
   "outputs": [],
   "source": [
    "# time"
   ]
  },
  {
   "cell_type": "code",
   "execution_count": 11,
   "metadata": {},
   "outputs": [],
   "source": [
    "news[\"data\"] = pd.to_datetime(news[\"data\"], errors = \"coerce\", dayfirst = True).dt.tz_localize(None)"
   ]
  },
  {
   "cell_type": "code",
   "execution_count": 12,
   "metadata": {},
   "outputs": [
    {
     "data": {
      "text/plain": [
       "0       2020-06-30\n",
       "1       2020-06-30\n",
       "2       2020-06-30\n",
       "3       2020-06-30\n",
       "4       2020-06-30\n",
       "           ...    \n",
       "37588   2020-06-30\n",
       "37589   2020-06-30\n",
       "37590   2020-06-30\n",
       "37591   2020-06-30\n",
       "37592   2020-06-30\n",
       "Name: data, Length: 37593, dtype: datetime64[ns]"
      ]
     },
     "execution_count": 12,
     "metadata": {},
     "output_type": "execute_result"
    }
   ],
   "source": [
    "news.data"
   ]
  },
  {
   "cell_type": "code",
   "execution_count": 14,
   "metadata": {},
   "outputs": [
    {
     "data": {
      "text/plain": [
       "0        2020-01-03 23:37:42+00:00\n",
       "1        2020-01-04 23:15:48+00:00\n",
       "2        2020-01-05 21:43:09+00:00\n",
       "3        2020-01-05 18:34:14+00:00\n",
       "4        2020-01-05 18:29:23+00:00\n",
       "                   ...            \n",
       "21135    2020-06-30 12:22:14+00:00\n",
       "21136    2020-06-30 11:58:18+00:00\n",
       "21137    2020-06-30 11:36:07+00:00\n",
       "21138    2020-06-30 10:43:00+00:00\n",
       "21139    2020-06-30 16:50:56+00:00\n",
       "Name: date, Length: 21140, dtype: object"
      ]
     },
     "execution_count": 14,
     "metadata": {},
     "output_type": "execute_result"
    }
   ],
   "source": [
    "tweets.date"
   ]
  },
  {
   "cell_type": "code",
   "execution_count": 22,
   "metadata": {},
   "outputs": [],
   "source": [
    "tweets[\"date\"] = pd.to_datetime(tweets[\"date\"], errors = \"coerce\", dayfirst = True).dt.tz_localize(None)"
   ]
  },
  {
   "cell_type": "code",
   "execution_count": 23,
   "metadata": {},
   "outputs": [
    {
     "data": {
      "text/plain": [
       "0       2020-01-03\n",
       "1       2020-01-04\n",
       "2       2020-01-05\n",
       "3       2020-01-05\n",
       "4       2020-01-05\n",
       "           ...    \n",
       "21135   2020-06-30\n",
       "21136   2020-06-30\n",
       "21137   2020-06-30\n",
       "21138   2020-06-30\n",
       "21139   2020-06-30\n",
       "Name: date, Length: 21140, dtype: datetime64[ns]"
      ]
     },
     "execution_count": 23,
     "metadata": {},
     "output_type": "execute_result"
    }
   ],
   "source": [
    "tweets[\"date\"]"
   ]
  },
  {
   "cell_type": "markdown",
   "metadata": {},
   "source": [
    "##### Date ranges are different for each dataset\n",
    "As a solution for this, will have to standardize."
   ]
  },
  {
   "cell_type": "code",
   "execution_count": 46,
   "metadata": {
    "scrolled": true
   },
   "outputs": [
    {
     "name": "stdout",
     "output_type": "stream",
     "text": [
      "News min date 2020-01-21 00:00:00\n",
      "News max date 2020-06-30 00:00:00\n",
      "Tweets min date 2020-01-03 00:00:00\n",
      "Tweets max date 2020-08-19 00:00:00\n"
     ]
    }
   ],
   "source": [
    "print(\"News min date\",news.data.min())\n",
    "print(\"News max date\",news.data.max())\n",
    "\n",
    "print(\"Tweets min date\",tweets.date.min())\n",
    "print(\"Tweets max date\",tweets.date.max())"
   ]
  },
  {
   "cell_type": "code",
   "execution_count": 63,
   "metadata": {},
   "outputs": [],
   "source": [
    "start_date = \"2020-01-21\"\n",
    "end_date = \"2020-06-30\"\n",
    "\n",
    "news_2 = news[(news[\"data\"]>= start_date) & (news[\"data\"]<= end_date)]\n",
    "tweets_2 = tweets[(tweets[\"date\"]>= start_date) & (tweets[\"date\"]<= end_date)]"
   ]
  },
  {
   "cell_type": "code",
   "execution_count": 75,
   "metadata": {},
   "outputs": [],
   "source": [
    "# changing name of column for plotting easily\n",
    "news_2[\"date\"] = news_2.data"
   ]
  },
  {
   "cell_type": "markdown",
   "metadata": {},
   "source": [
    "### News and Tweets Frequency over time"
   ]
  },
  {
   "cell_type": "code",
   "execution_count": 88,
   "metadata": {},
   "outputs": [
    {
     "data": {
      "image/png": "[encoded data removed]",
      "text/plain": [
       "<Figure size 720x432 with 1 Axes>"
      ]
     },
     "metadata": {
      "needs_background": "light"
     },
     "output_type": "display_data"
    }
   ],
   "source": [
    "fig = plt.figure(figsize=(10,6))\n",
    "\n",
    "\n",
    "for frame in [news_2,tweets_2]:\n",
    "    plt.plot(frame[\"date\"].value_counts().sort_index(), label=labels)\n",
    "\n",
    "plt.legend((\"news\",\"tweets\"))\n",
    "plt.show()"
   ]
  },
  {
   "cell_type": "markdown",
   "metadata": {},
   "source": [
    "### News and Tweets Sentiment over time"
   ]
  },
  {
   "cell_type": "code",
   "execution_count": null,
   "metadata": {},
   "outputs": [],
   "source": []
  }
 ],
 "metadata": {
  "kernelspec": {
   "display_name": "Python 3",
   "language": "python",
   "name": "python3"
  },
  "language_info": {
   "codemirror_mode": {
    "name": "ipython",
    "version": 3
   },
   "file_extension": ".py",
   "mimetype": "text/x-python",
   "name": "python",
   "nbconvert_exporter": "python",
   "pygments_lexer": "ipython3",
   "version": "3.7.2"
  }
 },
 "nbformat": 4,
 "nbformat_minor": 2
}
