{
 "cells": [
  {
   "cell_type": "markdown",
   "metadata": {},
   "source": [
    "# Final model - preprocessing and classification"
   ]
  },
  {
   "cell_type": "code",
   "execution_count": 1,
   "metadata": {},
   "outputs": [],
   "source": [
    "import pandas as pd\n",
    "import re\n",
    "import string\n",
    "import unicodedata\n",
    "\n",
    "from transformers import pipeline\n",
    "from nltk.tokenize import word_tokenize\n",
    "from googletrans import Translator\n",
    "\n",
    "pd.set_option('display.max_rows', None)\n",
    "pd.set_option('display.max_columns', None)\n",
    "pd.set_option('display.width', None)\n",
    "pd.set_option('display.max_colwidth', None)\n",
    "\n",
    "df = pd.read_csv(\"../notebooks/tweets_clean_en.csv\")"
   ]
  },
  {
   "cell_type": "markdown",
   "metadata": {},
   "source": [
    "## Preprocessing"
   ]
  },
  {
   "cell_type": "code",
   "execution_count": 2,
   "metadata": {},
   "outputs": [],
   "source": [
    "#remove canais de comunicação\n",
    "organizations = [\"TSFRadio\",\"observadorpt\", \"Lusa_noticias\", \"dntwit\",\n",
    "                      \"tvi24pt\",\"revistaSABADO\", \"Renascenca\", \"RTPNoticias\",\n",
    "                  \"SolOnline\",\"dinheirovivo\",\"Visao_pt\",\"tvi\",\"rtppt\",\"govpt\",\n",
    "                  \"RTP2\",\"RTP1\",\"ionline\",\"SICNoticias\", \"Publico\",\"JornalNoticias\",\n",
    "                  \"expresso\", \"ojeconimico\",\"tv124ultimas\",\"ojogo\",\"cmjornal\",\"Record_Portugal\",\n",
    "                  \"sapo\",\"RTPNoticias\", \"saude_pt\",\"SNS_Portugal\", \"DGSaude\",\"ainterna_pt\",\"antoniocostapm\"\n",
    "            ]\n",
    "\n",
    "df = df[~df['username'].isin(organizations)]"
   ]
  },
  {
   "cell_type": "code",
   "execution_count": 3,
   "metadata": {},
   "outputs": [],
   "source": [
    "stopwords = {\"coronavirus\",\"covid19\", \"covid19pt\",\"covid\",\"CoronaVirus\",\"FiqueEmCasa\", \"fiqueemcasa\", \"Covid19\",\"StayAtHome\",\n",
    "            \"Coronavirus.\",\"COVID2019\", \"COVID19\" \"Coronavirus\", \"STOPCOVID19\", \"ficaemcasa\"}\n",
    "\n",
    "# Function to clean Portuguese text and tokenize it\n",
    "def preProcessing(text):\n",
    "    #text = text.lower() # convert text to lower-case\n",
    "    text = re.sub('https?:\\/\\/\\S+', '', text) # Removing hyperlink\n",
    "    text = re.sub('@[A-Za-z0–9]+', '', text) #Removing @mentions\n",
    "    text = re.sub('RT[\\s]+', '', text) # Removing RT\n",
    "    text = re.sub(r'#([^\\s]+)', r'\\1', text) # remove the # in #hashtag\n",
    "    text = word_tokenize(text) # remove repeated characters\n",
    "    word_list = [word for word in text if word not in stopwords]\n",
    "    text = ' '.join(word_list)\n",
    "    return text\n",
    "\n",
    "translator = Translator()\n",
    "\n",
    "# Function to translate the current text to english\n",
    "def Translation(text):\n",
    "    if  translator.detect(text) != 'en':\n",
    "        traducao = translator.translate(text, dest='en')\n",
    "        return traducao.text\n",
    "    else:\n",
    "        return text"
   ]
  },
  {
   "cell_type": "code",
   "execution_count": 4,
   "metadata": {},
   "outputs": [
    {
     "data": {
      "text/html": [
       "<div>\n",
       "<style scoped>\n",
       "    .dataframe tbody tr th:only-of-type {\n",
       "        vertical-align: middle;\n",
       "    }\n",
       "\n",
       "    .dataframe tbody tr th {\n",
       "        vertical-align: top;\n",
       "    }\n",
       "\n",
       "    .dataframe thead th {\n",
       "        text-align: right;\n",
       "    }\n",
       "</style>\n",
       "<table border=\"1\" class=\"dataframe\">\n",
       "  <thead>\n",
       "    <tr style=\"text-align: right;\">\n",
       "      <th></th>\n",
       "      <th>id</th>\n",
       "      <th>date</th>\n",
       "      <th>username</th>\n",
       "      <th>text</th>\n",
       "      <th>hashtag</th>\n",
       "      <th>geo</th>\n",
       "    </tr>\n",
       "  </thead>\n",
       "  <tbody>\n",
       "    <tr>\n",
       "      <th>count</th>\n",
       "      <td>21140</td>\n",
       "      <td>21140</td>\n",
       "      <td>21140</td>\n",
       "      <td>21140</td>\n",
       "      <td>4830</td>\n",
       "      <td>1</td>\n",
       "    </tr>\n",
       "    <tr>\n",
       "      <th>unique</th>\n",
       "      <td>20852</td>\n",
       "      <td>20792</td>\n",
       "      <td>6524</td>\n",
       "      <td>21140</td>\n",
       "      <td>2985</td>\n",
       "      <td>1</td>\n",
       "    </tr>\n",
       "    <tr>\n",
       "      <th>top</th>\n",
       "      <td>1251971097593106432</td>\n",
       "      <td>2020-03-26 14:19:32+00:00</td>\n",
       "      <td>erassoci</td>\n",
       "      <td>Já to esperando junho do ano que vem pra curtir esse nos alive que o corona acabou com os planos dos amigos esse ano</td>\n",
       "      <td>#COVID19</td>\n",
       "      <td>geo</td>\n",
       "    </tr>\n",
       "    <tr>\n",
       "      <th>freq</th>\n",
       "      <td>2</td>\n",
       "      <td>3</td>\n",
       "      <td>164</td>\n",
       "      <td>1</td>\n",
       "      <td>299</td>\n",
       "      <td>1</td>\n",
       "    </tr>\n",
       "  </tbody>\n",
       "</table>\n",
       "</div>"
      ],
      "text/plain": [
       "                         id                       date  username  \\\n",
       "count                 21140                      21140     21140   \n",
       "unique                20852                      20792      6524   \n",
       "top     1251971097593106432  2020-03-26 14:19:32+00:00  erassoci   \n",
       "freq                      2                          3       164   \n",
       "\n",
       "                                                                                                                        text  \\\n",
       "count                                                                                                                  21140   \n",
       "unique                                                                                                                 21140   \n",
       "top     Já to esperando junho do ano que vem pra curtir esse nos alive que o corona acabou com os planos dos amigos esse ano   \n",
       "freq                                                                                                                       1   \n",
       "\n",
       "         hashtag  geo  \n",
       "count       4830    1  \n",
       "unique      2985    1  \n",
       "top     #COVID19  geo  \n",
       "freq         299    1  "
      ]
     },
     "execution_count": 4,
     "metadata": {},
     "output_type": "execute_result"
    }
   ],
   "source": [
    "df.describe()"
   ]
  },
  {
   "cell_type": "code",
   "execution_count": 5,
   "metadata": {},
   "outputs": [],
   "source": [
    "df['text_clean'] = df['text'].apply(preProcessing)"
   ]
  },
  {
   "cell_type": "code",
   "execution_count": 6,
   "metadata": {
    "scrolled": true
   },
   "outputs": [
    {
     "data": {
      "text/html": [
       "<div>\n",
       "<style scoped>\n",
       "    .dataframe tbody tr th:only-of-type {\n",
       "        vertical-align: middle;\n",
       "    }\n",
       "\n",
       "    .dataframe tbody tr th {\n",
       "        vertical-align: top;\n",
       "    }\n",
       "\n",
       "    .dataframe thead th {\n",
       "        text-align: right;\n",
       "    }\n",
       "</style>\n",
       "<table border=\"1\" class=\"dataframe\">\n",
       "  <thead>\n",
       "    <tr style=\"text-align: right;\">\n",
       "      <th></th>\n",
       "      <th>id</th>\n",
       "      <th>date</th>\n",
       "      <th>username</th>\n",
       "      <th>text</th>\n",
       "      <th>hashtag</th>\n",
       "      <th>geo</th>\n",
       "      <th>text_clean</th>\n",
       "    </tr>\n",
       "  </thead>\n",
       "  <tbody>\n",
       "    <tr>\n",
       "      <th>0</th>\n",
       "      <td>1213243065336582144</td>\n",
       "      <td>2020-01-03 23:37:42+00:00</td>\n",
       "      <td>adreciclarte</td>\n",
       "      <td>Olha que o Corona também está a ficar bonzinho. Se o deixarem jogar no seu lugar.</td>\n",
       "      <td>NaN</td>\n",
       "      <td>NaN</td>\n",
       "      <td>Olha que o Corona também está a ficar bonzinho . Se o deixarem jogar no seu lugar .</td>\n",
       "    </tr>\n",
       "    <tr>\n",
       "      <th>1</th>\n",
       "      <td>1213599942444539906</td>\n",
       "      <td>2020-01-04 23:15:48+00:00</td>\n",
       "      <td>food_i_do</td>\n",
       "      <td>Que escândalo! Parece que só agora é que o árbitro não foi ver as imagens. O golo do Porto que elimina o Santa clara é precedido de falta gritante do corona, nao assinalada, e o VAR nada, dolce fare niente. Mas só hoje é que o VAR FALHOU, não foi? Venha daí a BERRARIA.</td>\n",
       "      <td>NaN</td>\n",
       "      <td>NaN</td>\n",
       "      <td>Que escândalo ! Parece que só agora é que o árbitro não foi ver as imagens . O golo do Porto que elimina o Santa clara é precedido de falta gritante do corona , nao assinalada , e o VAR nada , dolce fare niente . Mas só hoje é que o VAR FALHOU , não foi ? Venha daí a BERRARIA .</td>\n",
       "    </tr>\n",
       "    <tr>\n",
       "      <th>2</th>\n",
       "      <td>1213939014488788992</td>\n",
       "      <td>2020-01-05 21:43:09+00:00</td>\n",
       "      <td>CRbeiro</td>\n",
       "      <td>Corona meu mexicanozinho tu és do caralho pa!! Te quiero</td>\n",
       "      <td>NaN</td>\n",
       "      <td>NaN</td>\n",
       "      <td>Corona meu mexicanozinho tu és do caralho pa ! ! Te quiero</td>\n",
       "    </tr>\n",
       "    <tr>\n",
       "      <th>3</th>\n",
       "      <td>1213891469771247621</td>\n",
       "      <td>2020-01-05 18:34:14+00:00</td>\n",
       "      <td>dudzs16</td>\n",
       "      <td>Não temos a jogar um caralho. A substituição do Pepe foi uma desgraça para nós. Odeio o Marcano. O Bruno Fernandes é um porco. Corona parte tantos rins que o querem partir a ele.</td>\n",
       "      <td>NaN</td>\n",
       "      <td>NaN</td>\n",
       "      <td>Não temos a jogar um caralho . A substituição do Pepe foi uma desgraça para nós . Odeio o Marcano . O Bruno Fernandes é um porco . Corona parte tantos rins que o querem partir a ele .</td>\n",
       "    </tr>\n",
       "    <tr>\n",
       "      <th>4</th>\n",
       "      <td>1213890252374466562</td>\n",
       "      <td>2020-01-05 18:29:23+00:00</td>\n",
       "      <td>luisgomes__10</td>\n",
       "      <td>Digo e volto a dizer, o Corona não pode jogar a lateral</td>\n",
       "      <td>NaN</td>\n",
       "      <td>NaN</td>\n",
       "      <td>Digo e volto a dizer , o Corona não pode jogar a lateral</td>\n",
       "    </tr>\n",
       "  </tbody>\n",
       "</table>\n",
       "</div>"
      ],
      "text/plain": [
       "                    id                       date       username  \\\n",
       "0  1213243065336582144  2020-01-03 23:37:42+00:00   adreciclarte   \n",
       "1  1213599942444539906  2020-01-04 23:15:48+00:00      food_i_do   \n",
       "2  1213939014488788992  2020-01-05 21:43:09+00:00        CRbeiro   \n",
       "3  1213891469771247621  2020-01-05 18:34:14+00:00        dudzs16   \n",
       "4  1213890252374466562  2020-01-05 18:29:23+00:00  luisgomes__10   \n",
       "\n",
       "                                                                                                                                                                                                                                                                            text  \\\n",
       "0                                                                                                                                                                                              Olha que o Corona também está a ficar bonzinho. Se o deixarem jogar no seu lugar.   \n",
       "1  Que escândalo! Parece que só agora é que o árbitro não foi ver as imagens. O golo do Porto que elimina o Santa clara é precedido de falta gritante do corona, nao assinalada, e o VAR nada, dolce fare niente. Mas só hoje é que o VAR FALHOU, não foi? Venha daí a BERRARIA.   \n",
       "2                                                                                                                                                                                                                      Corona meu mexicanozinho tu és do caralho pa!! Te quiero    \n",
       "3                                                                                             Não temos a jogar um caralho. A substituição do Pepe foi uma desgraça para nós. Odeio o Marcano. O Bruno Fernandes é um porco. Corona parte tantos rins que o querem partir a ele.   \n",
       "4                                                                                                                                                                                                                        Digo e volto a dizer, o Corona não pode jogar a lateral   \n",
       "\n",
       "  hashtag  geo  \\\n",
       "0     NaN  NaN   \n",
       "1     NaN  NaN   \n",
       "2     NaN  NaN   \n",
       "3     NaN  NaN   \n",
       "4     NaN  NaN   \n",
       "\n",
       "                                                                                                                                                                                                                                                                               text_clean  \n",
       "0                                                                                                                                                                                                     Olha que o Corona também está a ficar bonzinho . Se o deixarem jogar no seu lugar .  \n",
       "1  Que escândalo ! Parece que só agora é que o árbitro não foi ver as imagens . O golo do Porto que elimina o Santa clara é precedido de falta gritante do corona , nao assinalada , e o VAR nada , dolce fare niente . Mas só hoje é que o VAR FALHOU , não foi ? Venha daí a BERRARIA .  \n",
       "2                                                                                                                                                                                                                              Corona meu mexicanozinho tu és do caralho pa ! ! Te quiero  \n",
       "3                                                                                                 Não temos a jogar um caralho . A substituição do Pepe foi uma desgraça para nós . Odeio o Marcano . O Bruno Fernandes é um porco . Corona parte tantos rins que o querem partir a ele .  \n",
       "4                                                                                                                                                                                                                                Digo e volto a dizer , o Corona não pode jogar a lateral  "
      ]
     },
     "execution_count": 6,
     "metadata": {},
     "output_type": "execute_result"
    }
   ],
   "source": [
    "df.head()"
   ]
  },
  {
   "cell_type": "code",
   "execution_count": 22,
   "metadata": {},
   "outputs": [],
   "source": [
    "tweets = list(df[\"text_clean\"].to_numpy())\n",
    "\n",
    "translations = translator.translate(tweets, dest='en')"
   ]
  },
  {
   "cell_type": "code",
   "execution_count": 25,
   "metadata": {},
   "outputs": [],
   "source": [
    "translations_list = []\n",
    "\n",
    "for translation in translations:\n",
    "    translations_list.append(translation.text)"
   ]
  },
  {
   "cell_type": "code",
   "execution_count": null,
   "metadata": {},
   "outputs": [],
   "source": [
    "print(translations_list)"
   ]
  },
  {
   "cell_type": "code",
   "execution_count": 27,
   "metadata": {},
   "outputs": [],
   "source": [
    "df['text_en'] = translations_list"
   ]
  },
  {
   "cell_type": "markdown",
   "metadata": {},
   "source": [
    "## Classification"
   ]
  },
  {
   "cell_type": "code",
   "execution_count": 2,
   "metadata": {},
   "outputs": [
    {
     "data": {
      "application/vnd.jupyter.widget-view+json": {
       "model_id": "6b339a94d42a4b61bc62911a5c026003",
       "version_major": 2,
       "version_minor": 0
      },
      "text/plain": [
       "HBox(children=(FloatProgress(value=0.0, description='Downloading', max=629.0, style=ProgressStyle(description_…"
      ]
     },
     "metadata": {},
     "output_type": "display_data"
    },
    {
     "name": "stdout",
     "output_type": "stream",
     "text": [
      "\n"
     ]
    },
    {
     "data": {
      "application/vnd.jupyter.widget-view+json": {
       "model_id": "fdfcf5d758364691964828800c67f789",
       "version_major": 2,
       "version_minor": 0
      },
      "text/plain": [
       "HBox(children=(FloatProgress(value=0.0, description='Downloading', max=231508.0, style=ProgressStyle(descripti…"
      ]
     },
     "metadata": {},
     "output_type": "display_data"
    },
    {
     "name": "stdout",
     "output_type": "stream",
     "text": [
      "\n"
     ]
    },
    {
     "data": {
      "application/vnd.jupyter.widget-view+json": {
       "model_id": "262b5578374f41f4ba668597034aad50",
       "version_major": 2,
       "version_minor": 0
      },
      "text/plain": [
       "HBox(children=(FloatProgress(value=0.0, description='Downloading', max=230.0, style=ProgressStyle(description_…"
      ]
     },
     "metadata": {},
     "output_type": "display_data"
    },
    {
     "name": "stdout",
     "output_type": "stream",
     "text": [
      "\n"
     ]
    },
    {
     "data": {
      "application/vnd.jupyter.widget-view+json": {
       "model_id": "3c711e94f5574c35ac37245c4ced0b39",
       "version_major": 2,
       "version_minor": 0
      },
      "text/plain": [
       "HBox(children=(FloatProgress(value=0.0, description='Downloading', max=267949840.0, style=ProgressStyle(descri…"
      ]
     },
     "metadata": {},
     "output_type": "display_data"
    },
    {
     "name": "stdout",
     "output_type": "stream",
     "text": [
      "\n"
     ]
    },
    {
     "name": "stderr",
     "output_type": "stream",
     "text": [
      "All model checkpoint weights were used when initializing TFDistilBertForSequenceClassification.\n",
      "\n",
      "All the weights of TFDistilBertForSequenceClassification were initialized from the model checkpoint at distilbert-base-uncased-finetuned-sst-2-english.\n",
      "If your task is similar to the task the model of the checkpoint was trained on, you can already use TFDistilBertForSequenceClassification for predictions without further training.\n"
     ]
    }
   ],
   "source": [
    "# Allocate a pipeline for sentiment-analysis\n",
    "nlp = pipeline('sentiment-analysis')\n",
    "\n",
    "def getSentiment(sentence):\n",
    "  sentiment = nlp(sentence)[0]['label']\n",
    "  return sentiment\n",
    "\n",
    "def getScore(sentence):\n",
    "  score = nlp(sentence)[0]['score']\n",
    "  return score\n",
    "\n",
    "df['classification'] = df['text_en'].apply(getSentiment)\n",
    "df['score'] = df['text_en'].apply(getScore)"
   ]
  },
  {
   "cell_type": "code",
   "execution_count": 3,
   "metadata": {
    "scrolled": true
   },
   "outputs": [
    {
     "data": {
      "text/html": [
       "<div>\n",
       "<style scoped>\n",
       "    .dataframe tbody tr th:only-of-type {\n",
       "        vertical-align: middle;\n",
       "    }\n",
       "\n",
       "    .dataframe tbody tr th {\n",
       "        vertical-align: top;\n",
       "    }\n",
       "\n",
       "    .dataframe thead th {\n",
       "        text-align: right;\n",
       "    }\n",
       "</style>\n",
       "<table border=\"1\" class=\"dataframe\">\n",
       "  <thead>\n",
       "    <tr style=\"text-align: right;\">\n",
       "      <th></th>\n",
       "      <th>Unnamed: 0</th>\n",
       "      <th>id</th>\n",
       "      <th>date</th>\n",
       "      <th>username</th>\n",
       "      <th>text</th>\n",
       "      <th>hashtag</th>\n",
       "      <th>geo</th>\n",
       "      <th>text_clean</th>\n",
       "      <th>text_en</th>\n",
       "      <th>classification</th>\n",
       "      <th>score</th>\n",
       "    </tr>\n",
       "  </thead>\n",
       "  <tbody>\n",
       "    <tr>\n",
       "      <th>0</th>\n",
       "      <td>0</td>\n",
       "      <td>1213243065336582144</td>\n",
       "      <td>2020-01-03 23:37:42+00:00</td>\n",
       "      <td>adreciclarte</td>\n",
       "      <td>Olha que o Corona também está a ficar bonzinho. Se o deixarem jogar no seu lugar.</td>\n",
       "      <td>NaN</td>\n",
       "      <td>NaN</td>\n",
       "      <td>Olha que o Corona também está a ficar bonzinho . Se o deixarem jogar no seu lugar .</td>\n",
       "      <td>Look, Corona is also looking good. If they let you play in your place.</td>\n",
       "      <td>POSITIVE</td>\n",
       "      <td>0.999872</td>\n",
       "    </tr>\n",
       "    <tr>\n",
       "      <th>1</th>\n",
       "      <td>1</td>\n",
       "      <td>1213599942444539906</td>\n",
       "      <td>2020-01-04 23:15:48+00:00</td>\n",
       "      <td>food_i_do</td>\n",
       "      <td>Que escândalo! Parece que só agora é que o árbitro não foi ver as imagens. O golo do Porto que elimina o Santa clara é precedido de falta gritante do corona, nao assinalada, e o VAR nada, dolce fare niente. Mas só hoje é que o VAR FALHOU, não foi? Venha daí a BERRARIA.</td>\n",
       "      <td>NaN</td>\n",
       "      <td>NaN</td>\n",
       "      <td>Que escândalo ! Parece que só agora é que o árbitro não foi ver as imagens . O golo do Porto que elimina o Santa clara é precedido de falta gritante do corona , nao assinalada , e o VAR nada , dolce fare niente . Mas só hoje é que o VAR FALHOU , não foi ? Venha daí a BERRARIA .</td>\n",
       "      <td>What a scandal! It seems that it is only now that the referee has not gone to see the images. The Porto goal that eliminates Santa clara is preceded by a glaring corona foul, unmarked, and VAR nothing, dolce fare niente. But only today did VAR FAIL, wasn't it? Come from there to BERRARIA.</td>\n",
       "      <td>NEGATIVE</td>\n",
       "      <td>0.996998</td>\n",
       "    </tr>\n",
       "    <tr>\n",
       "      <th>2</th>\n",
       "      <td>2</td>\n",
       "      <td>1213939014488788992</td>\n",
       "      <td>2020-01-05 21:43:09+00:00</td>\n",
       "      <td>CRbeiro</td>\n",
       "      <td>Corona meu mexicanozinho tu és do caralho pa!! Te quiero</td>\n",
       "      <td>NaN</td>\n",
       "      <td>NaN</td>\n",
       "      <td>Corona meu mexicanozinho tu és do caralho pa ! ! Te quiero</td>\n",
       "      <td>Corona my little mexican you are fucking awesome! ! I want</td>\n",
       "      <td>POSITIVE</td>\n",
       "      <td>0.999818</td>\n",
       "    </tr>\n",
       "    <tr>\n",
       "      <th>3</th>\n",
       "      <td>3</td>\n",
       "      <td>1213891469771247621</td>\n",
       "      <td>2020-01-05 18:34:14+00:00</td>\n",
       "      <td>dudzs16</td>\n",
       "      <td>Não temos a jogar um caralho. A substituição do Pepe foi uma desgraça para nós. Odeio o Marcano. O Bruno Fernandes é um porco. Corona parte tantos rins que o querem partir a ele.</td>\n",
       "      <td>NaN</td>\n",
       "      <td>NaN</td>\n",
       "      <td>Não temos a jogar um caralho . A substituição do Pepe foi uma desgraça para nós . Odeio o Marcano . O Bruno Fernandes é um porco . Corona parte tantos rins que o querem partir a ele .</td>\n",
       "      <td>We don't have to play a fuck. Pepe's replacement was a disgrace for us. I hate Marcano. Bruno Fernandes is a pig. Corona breaks so many kidneys that they want to leave him.</td>\n",
       "      <td>NEGATIVE</td>\n",
       "      <td>0.998038</td>\n",
       "    </tr>\n",
       "    <tr>\n",
       "      <th>4</th>\n",
       "      <td>4</td>\n",
       "      <td>1213890252374466562</td>\n",
       "      <td>2020-01-05 18:29:23+00:00</td>\n",
       "      <td>luisgomes__10</td>\n",
       "      <td>Digo e volto a dizer, o Corona não pode jogar a lateral</td>\n",
       "      <td>NaN</td>\n",
       "      <td>NaN</td>\n",
       "      <td>Digo e volto a dizer , o Corona não pode jogar a lateral</td>\n",
       "      <td>I say and say again, Corona cannot play the side</td>\n",
       "      <td>NEGATIVE</td>\n",
       "      <td>0.997583</td>\n",
       "    </tr>\n",
       "  </tbody>\n",
       "</table>\n",
       "</div>"
      ],
      "text/plain": [
       "   Unnamed: 0                   id                       date       username  \\\n",
       "0           0  1213243065336582144  2020-01-03 23:37:42+00:00   adreciclarte   \n",
       "1           1  1213599942444539906  2020-01-04 23:15:48+00:00      food_i_do   \n",
       "2           2  1213939014488788992  2020-01-05 21:43:09+00:00        CRbeiro   \n",
       "3           3  1213891469771247621  2020-01-05 18:34:14+00:00        dudzs16   \n",
       "4           4  1213890252374466562  2020-01-05 18:29:23+00:00  luisgomes__10   \n",
       "\n",
       "                                                                                                                                                                                                                                                                            text  \\\n",
       "0                                                                                                                                                                                              Olha que o Corona também está a ficar bonzinho. Se o deixarem jogar no seu lugar.   \n",
       "1  Que escândalo! Parece que só agora é que o árbitro não foi ver as imagens. O golo do Porto que elimina o Santa clara é precedido de falta gritante do corona, nao assinalada, e o VAR nada, dolce fare niente. Mas só hoje é que o VAR FALHOU, não foi? Venha daí a BERRARIA.   \n",
       "2                                                                                                                                                                                                                      Corona meu mexicanozinho tu és do caralho pa!! Te quiero    \n",
       "3                                                                                             Não temos a jogar um caralho. A substituição do Pepe foi uma desgraça para nós. Odeio o Marcano. O Bruno Fernandes é um porco. Corona parte tantos rins que o querem partir a ele.   \n",
       "4                                                                                                                                                                                                                        Digo e volto a dizer, o Corona não pode jogar a lateral   \n",
       "\n",
       "  hashtag  geo  \\\n",
       "0     NaN  NaN   \n",
       "1     NaN  NaN   \n",
       "2     NaN  NaN   \n",
       "3     NaN  NaN   \n",
       "4     NaN  NaN   \n",
       "\n",
       "                                                                                                                                                                                                                                                                               text_clean  \\\n",
       "0                                                                                                                                                                                                     Olha que o Corona também está a ficar bonzinho . Se o deixarem jogar no seu lugar .   \n",
       "1  Que escândalo ! Parece que só agora é que o árbitro não foi ver as imagens . O golo do Porto que elimina o Santa clara é precedido de falta gritante do corona , nao assinalada , e o VAR nada , dolce fare niente . Mas só hoje é que o VAR FALHOU , não foi ? Venha daí a BERRARIA .   \n",
       "2                                                                                                                                                                                                                              Corona meu mexicanozinho tu és do caralho pa ! ! Te quiero   \n",
       "3                                                                                                 Não temos a jogar um caralho . A substituição do Pepe foi uma desgraça para nós . Odeio o Marcano . O Bruno Fernandes é um porco . Corona parte tantos rins que o querem partir a ele .   \n",
       "4                                                                                                                                                                                                                                Digo e volto a dizer , o Corona não pode jogar a lateral   \n",
       "\n",
       "                                                                                                                                                                                                                                                                                             text_en  \\\n",
       "0                                                                                                                                                                                                                             Look, Corona is also looking good. If they let you play in your place.   \n",
       "1  What a scandal! It seems that it is only now that the referee has not gone to see the images. The Porto goal that eliminates Santa clara is preceded by a glaring corona foul, unmarked, and VAR nothing, dolce fare niente. But only today did VAR FAIL, wasn't it? Come from there to BERRARIA.   \n",
       "2                                                                                                                                                                                                                                         Corona my little mexican you are fucking awesome! ! I want   \n",
       "3                                                                                                                       We don't have to play a fuck. Pepe's replacement was a disgrace for us. I hate Marcano. Bruno Fernandes is a pig. Corona breaks so many kidneys that they want to leave him.   \n",
       "4                                                                                                                                                                                                                                                   I say and say again, Corona cannot play the side   \n",
       "\n",
       "  classification     score  \n",
       "0       POSITIVE  0.999872  \n",
       "1       NEGATIVE  0.996998  \n",
       "2       POSITIVE  0.999818  \n",
       "3       NEGATIVE  0.998038  \n",
       "4       NEGATIVE  0.997583  "
      ]
     },
     "execution_count": 3,
     "metadata": {},
     "output_type": "execute_result"
    }
   ],
   "source": [
    "df.head()"
   ]
  },
  {
   "cell_type": "code",
   "execution_count": 4,
   "metadata": {},
   "outputs": [],
   "source": [
    "df.to_csv('tweets_en_classification.csv')"
   ]
  }
 ],
 "metadata": {
  "kernelspec": {
   "display_name": "Python 3",
   "language": "python",
   "name": "python3"
  },
  "language_info": {
   "codemirror_mode": {
    "name": "ipython",
    "version": 3
   },
   "file_extension": ".py",
   "mimetype": "text/x-python",
   "name": "python",
   "nbconvert_exporter": "python",
   "pygments_lexer": "ipython3",
   "version": "3.8.2"
  }
 },
 "nbformat": 4,
 "nbformat_minor": 4
}
