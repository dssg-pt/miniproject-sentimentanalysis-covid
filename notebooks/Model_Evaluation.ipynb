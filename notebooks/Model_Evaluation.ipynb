{
  "nbformat": 4,
  "nbformat_minor": 0,
  "metadata": {
    "colab": {
      "name": "Model Evaluation.ipynb",
      "provenance": [],
      "collapsed_sections": [],
      "toc_visible": true
    },
    "kernelspec": {
      "name": "python3",
      "display_name": "Python 3"
    }
  },
  "cells": [
    {
      "cell_type": "code",
      "metadata": {
        "id": "q03C9_-Et0xL",
        "colab_type": "code",
        "colab": {}
      },
      "source": [
        "import pandas as pd\n",
        "import numpy as np\n",
        "\n",
        "import sklearn.metrics\n",
        "\n",
        "pd.set_option('display.max_colwidth', None)"
      ],
      "execution_count": 1,
      "outputs": []
    },
    {
      "cell_type": "code",
      "metadata": {
        "id": "3DZEIZlruFne",
        "colab_type": "code",
        "colab": {}
      },
      "source": [
        "drive_path_classified = '/content/drive/Shared drives/DSSG - Twitter Sentiment Analysis on Pandemic Times/classified/'\n",
        "drive_path_annotations = '/content/drive/Shared drives/DSSG - Twitter Sentiment Analysis on Pandemic Times/annotations/'"
      ],
      "execution_count": 2,
      "outputs": []
    },
    {
      "cell_type": "markdown",
      "metadata": {
        "id": "4SXxDqTGuLvz",
        "colab_type": "text"
      },
      "source": [
        "# Deep Learning"
      ]
    },
    {
      "cell_type": "code",
      "metadata": {
        "id": "tys9JTRSuNiX",
        "colab_type": "code",
        "colab": {}
      },
      "source": [
        "# ------- march -------------\n",
        "tweets_march_1 = pd.read_csv(drive_path_classified + \"deep learning/01-15mar_classified.csv\")\n",
        "tweets_march_2 = pd.read_csv(drive_path_classified + \"deep learning/16-31mar_classified.csv\")\n",
        "\n",
        "tweets_march = pd.concat([tweets_march_1, tweets_march_2])\n",
        "tweets_march_annotations = pd.read_csv(drive_path_annotations + \"deep learning/march.csv\")\n",
        "tweets_march = tweets_march[['text', 'classification']]\n",
        "tweets_march = tweets_march.rename(columns={\"text\": \"tweet\"})\n",
        "tweets_march_annotations = tweets_march_annotations[['tweet', 'c']]\n",
        "tweets_march_annotations['c'] = tweets_march_annotations['c'].str.upper() \n",
        "tweets_march_annotations =tweets_march_annotations.rename(columns={\"c\": \"gt\"})\n",
        "\n",
        "tweets_march['gt'] = tweets_march_annotations['gt']\n",
        "\n",
        "\n",
        "# ---------- april -------------\n",
        "tweets_april_1 = pd.read_csv(drive_path_classified + \"deep learning/01-15abr_classified.csv\")\n",
        "tweets_april_2 = pd.read_csv(drive_path_classified + \"deep learning/16-30abr_classified.csv\")\n",
        "\n",
        "tweets_april = pd.concat([tweets_april_1, tweets_april_2])\n",
        "tweets_april_annotations = pd.read_csv(drive_path_annotations + \"deep learning/april.csv\")\n",
        "tweets_april = tweets_april[['text', 'classification']]\n",
        "tweets_april = tweets_april.rename(columns={\"text\": \"tweet\"})\n",
        "tweets_april_annotations = tweets_april_annotations[['Tweet', 'C']]\n",
        "tweets_april_annotations =tweets_april_annotations.rename(columns={\"Tweet\": \"tweet\"})\n",
        "tweets_april_annotations['C'] = tweets_april_annotations['C'].str.upper() \n",
        "tweets_april_annotations =tweets_april_annotations.rename(columns={\"C\": \"gt\"})\n",
        "\n",
        "tweets_april['gt'] = tweets_april_annotations['gt']\n",
        "\n",
        "\n",
        "\n",
        "# ---------- may -------------\n",
        "tweets_may_1 = pd.read_csv(drive_path_classified + \"deep learning/01-15mai_classified.csv\")\n",
        "tweets_may_2 = pd.read_csv(drive_path_classified + \"deep learning/16-31mai_classified.csv\")\n",
        "\n",
        "tweets_may = pd.concat([tweets_may_1, tweets_may_2])\n",
        "tweets_may_annotations = pd.read_csv(drive_path_annotations + \"deep learning/may.csv\")\n",
        "tweets_may = tweets_may[['text', 'classification']]\n",
        "tweets_may = tweets_may.rename(columns={\"text\": \"tweet\"})\n",
        "tweets_may_annotations = tweets_may_annotations[['tweet', 'c']]\n",
        "tweets_may_annotations['c'] = tweets_may_annotations['c'].str.upper() \n",
        "tweets_may_annotations =tweets_may_annotations.rename(columns={\"c\": \"gt\"})\n",
        "\n",
        "\n",
        "\n",
        "tweets_may['gt'] = tweets_may_annotations['gt']\n",
        "\n"
      ],
      "execution_count": 3,
      "outputs": []
    },
    {
      "cell_type": "code",
      "metadata": {
        "id": "F0OOArmCwHS8",
        "colab_type": "code",
        "colab": {
          "base_uri": "https://localhost:8080/",
          "height": 195
        },
        "outputId": "d4409365-8b35-4b04-906b-04d68b33503b"
      },
      "source": [
        "tweets_march_annotations.head()"
      ],
      "execution_count": 4,
      "outputs": [
        {
          "output_type": "execute_result",
          "data": {
            "text/html": [
              "<div>\n",
              "<style scoped>\n",
              "    .dataframe tbody tr th:only-of-type {\n",
              "        vertical-align: middle;\n",
              "    }\n",
              "\n",
              "    .dataframe tbody tr th {\n",
              "        vertical-align: top;\n",
              "    }\n",
              "\n",
              "    .dataframe thead th {\n",
              "        text-align: right;\n",
              "    }\n",
              "</style>\n",
              "<table border=\"1\" class=\"dataframe\">\n",
              "  <thead>\n",
              "    <tr style=\"text-align: right;\">\n",
              "      <th></th>\n",
              "      <th>tweet</th>\n",
              "      <th>gt</th>\n",
              "    </tr>\n",
              "  </thead>\n",
              "  <tbody>\n",
              "    <tr>\n",
              "      <th>0</th>\n",
              "      <td>Serviço público #coronavirus</td>\n",
              "      <td>POSITIVE</td>\n",
              "    </tr>\n",
              "    <tr>\n",
              "      <th>1</th>\n",
              "      <td>Imaginem quando o Éder for para foder o Corona vírus</td>\n",
              "      <td>POSITIVE</td>\n",
              "    </tr>\n",
              "    <tr>\n",
              "      <th>2</th>\n",
              "      <td>Daqui um ano vão fazer um filme baseado no coronavirus. \"Epidemia de covi-19 no mundo\"</td>\n",
              "      <td>POSITIVE</td>\n",
              "    </tr>\n",
              "    <tr>\n",
              "      <th>3</th>\n",
              "      <td>O JJ admitiu que perdeu uma pessoa em Portugal com coronavirus e vocês ainda acreditam que não há mortos????</td>\n",
              "      <td>NEGATIVE</td>\n",
              "    </tr>\n",
              "    <tr>\n",
              "      <th>4</th>\n",
              "      <td>França em lockdown dentro de 2 semanas. Imbecis. #coronavirus</td>\n",
              "      <td>NEGATIVE</td>\n",
              "    </tr>\n",
              "  </tbody>\n",
              "</table>\n",
              "</div>"
            ],
            "text/plain": [
              "                                                                                                          tweet        gt\n",
              "0                                                                                  Serviço público #coronavirus  POSITIVE\n",
              "1                                                          Imaginem quando o Éder for para foder o Corona vírus  POSITIVE\n",
              "2                        Daqui um ano vão fazer um filme baseado no coronavirus. \"Epidemia de covi-19 no mundo\"  POSITIVE\n",
              "3  O JJ admitiu que perdeu uma pessoa em Portugal com coronavirus e vocês ainda acreditam que não há mortos????  NEGATIVE\n",
              "4                                                 França em lockdown dentro de 2 semanas. Imbecis. #coronavirus  NEGATIVE"
            ]
          },
          "metadata": {
            "tags": []
          },
          "execution_count": 4
        }
      ]
    },
    {
      "cell_type": "code",
      "metadata": {
        "id": "D8XlTjJvvOog",
        "colab_type": "code",
        "colab": {
          "base_uri": "https://localhost:8080/",
          "height": 195
        },
        "outputId": "f2719d2d-eb39-40aa-b346-89b8f9664a08"
      },
      "source": [
        "tweets_march.head()"
      ],
      "execution_count": 5,
      "outputs": [
        {
          "output_type": "execute_result",
          "data": {
            "text/html": [
              "<div>\n",
              "<style scoped>\n",
              "    .dataframe tbody tr th:only-of-type {\n",
              "        vertical-align: middle;\n",
              "    }\n",
              "\n",
              "    .dataframe tbody tr th {\n",
              "        vertical-align: top;\n",
              "    }\n",
              "\n",
              "    .dataframe thead th {\n",
              "        text-align: right;\n",
              "    }\n",
              "</style>\n",
              "<table border=\"1\" class=\"dataframe\">\n",
              "  <thead>\n",
              "    <tr style=\"text-align: right;\">\n",
              "      <th></th>\n",
              "      <th>tweet</th>\n",
              "      <th>classification</th>\n",
              "      <th>gt</th>\n",
              "    </tr>\n",
              "  </thead>\n",
              "  <tbody>\n",
              "    <tr>\n",
              "      <th>0</th>\n",
              "      <td>Serviço público #coronavirus</td>\n",
              "      <td>POSITIVE</td>\n",
              "      <td>POSITIVE</td>\n",
              "    </tr>\n",
              "    <tr>\n",
              "      <th>1</th>\n",
              "      <td>Imaginem quando o Éder for para foder o Corona vírus</td>\n",
              "      <td>NEGATIVE</td>\n",
              "      <td>POSITIVE</td>\n",
              "    </tr>\n",
              "    <tr>\n",
              "      <th>2</th>\n",
              "      <td>Daqui um ano vão fazer um filme baseado no coronavirus. \"Epidemia de covi-19 no mundo\"</td>\n",
              "      <td>POSITIVE</td>\n",
              "      <td>POSITIVE</td>\n",
              "    </tr>\n",
              "    <tr>\n",
              "      <th>3</th>\n",
              "      <td>O JJ admitiu que perdeu uma pessoa em Portugal com coronavirus e vocês ainda acreditam que não há mortos????</td>\n",
              "      <td>NEGATIVE</td>\n",
              "      <td>NEGATIVE</td>\n",
              "    </tr>\n",
              "    <tr>\n",
              "      <th>4</th>\n",
              "      <td>França em lockdown dentro de 2 semanas. Imbecis. #coronavirus</td>\n",
              "      <td>NEGATIVE</td>\n",
              "      <td>NEGATIVE</td>\n",
              "    </tr>\n",
              "  </tbody>\n",
              "</table>\n",
              "</div>"
            ],
            "text/plain": [
              "                                                                                                          tweet  ...        gt\n",
              "0                                                                                 Serviço público #coronavirus   ...  POSITIVE\n",
              "1                                                         Imaginem quando o Éder for para foder o Corona vírus   ...  POSITIVE\n",
              "2                        Daqui um ano vão fazer um filme baseado no coronavirus. \"Epidemia de covi-19 no mundo\"  ...  POSITIVE\n",
              "3  O JJ admitiu que perdeu uma pessoa em Portugal com coronavirus e vocês ainda acreditam que não há mortos????  ...  NEGATIVE\n",
              "4                                                França em lockdown dentro de 2 semanas. Imbecis. #coronavirus   ...  NEGATIVE\n",
              "\n",
              "[5 rows x 3 columns]"
            ]
          },
          "metadata": {
            "tags": []
          },
          "execution_count": 5
        }
      ]
    },
    {
      "cell_type": "code",
      "metadata": {
        "id": "gw5A4sdHyIiH",
        "colab_type": "code",
        "colab": {}
      },
      "source": [
        "tweets_march['result'] = np.where((tweets_march['classification'] == tweets_march['gt']), 1, 0)\n",
        "tweets_may['result'] = np.where((tweets_may['classification'] == tweets_may['gt']), 1, 0)\n",
        "tweets_april['result'] = np.where((tweets_april['classification'] == tweets_april['gt']), 1, 0)"
      ],
      "execution_count": 6,
      "outputs": []
    },
    {
      "cell_type": "code",
      "metadata": {
        "id": "HtrWr07Iy1bT",
        "colab_type": "code",
        "colab": {
          "base_uri": "https://localhost:8080/",
          "height": 229
        },
        "outputId": "d2db7a09-6222-4dcd-d594-e7e26a6d550c"
      },
      "source": [
        "tweets_april.head()"
      ],
      "execution_count": 7,
      "outputs": [
        {
          "output_type": "execute_result",
          "data": {
            "text/html": [
              "<div>\n",
              "<style scoped>\n",
              "    .dataframe tbody tr th:only-of-type {\n",
              "        vertical-align: middle;\n",
              "    }\n",
              "\n",
              "    .dataframe tbody tr th {\n",
              "        vertical-align: top;\n",
              "    }\n",
              "\n",
              "    .dataframe thead th {\n",
              "        text-align: right;\n",
              "    }\n",
              "</style>\n",
              "<table border=\"1\" class=\"dataframe\">\n",
              "  <thead>\n",
              "    <tr style=\"text-align: right;\">\n",
              "      <th></th>\n",
              "      <th>tweet</th>\n",
              "      <th>classification</th>\n",
              "      <th>gt</th>\n",
              "      <th>result</th>\n",
              "    </tr>\n",
              "  </thead>\n",
              "  <tbody>\n",
              "    <tr>\n",
              "      <th>0</th>\n",
              "      <td>Flávia pavanelli com coronavirus eu to passada</td>\n",
              "      <td>POSITIVE</td>\n",
              "      <td>NEGATIVE</td>\n",
              "      <td>0</td>\n",
              "    </tr>\n",
              "    <tr>\n",
              "      <th>1</th>\n",
              "      <td>O Governador do RJ, Witzel pegou coronavirus. Espero que não queira usar cloroquina, nem hidroxicloroquina e o antibiótico azitromicina. Ou vai dizer que agora quer experimentar??? A dor ensina a gemer.... @jairbolsonaro @BolsonaroSP @CarlosBolsonaro</td>\n",
              "      <td>NEGATIVE</td>\n",
              "      <td>NEGATIVE</td>\n",
              "      <td>1</td>\n",
              "    </tr>\n",
              "    <tr>\n",
              "      <th>2</th>\n",
              "      <td>E assim surgiu o corona vírus</td>\n",
              "      <td>NEGATIVE</td>\n",
              "      <td>NEGATIVE</td>\n",
              "      <td>1</td>\n",
              "    </tr>\n",
              "    <tr>\n",
              "      <th>3</th>\n",
              "      <td>Corona Vírus ? Não? Kkkk tudo pelo abraço que se lixe a possível contaminação. Essa saudade vai vos matar</td>\n",
              "      <td>NEGATIVE</td>\n",
              "      <td>NEGATIVE</td>\n",
              "      <td>1</td>\n",
              "    </tr>\n",
              "    <tr>\n",
              "      <th>4</th>\n",
              "      <td>Eu já sei qual vai ser a palavra do ano: Coronavírus</td>\n",
              "      <td>NEGATIVE</td>\n",
              "      <td>POSITIVE</td>\n",
              "      <td>0</td>\n",
              "    </tr>\n",
              "  </tbody>\n",
              "</table>\n",
              "</div>"
            ],
            "text/plain": [
              "                                                                                                                                                                                                                                                        tweet  ... result\n",
              "0                                                                                                                                                                                                              Flávia pavanelli com coronavirus eu to passada  ...      0\n",
              "1  O Governador do RJ, Witzel pegou coronavirus. Espero que não queira usar cloroquina, nem hidroxicloroquina e o antibiótico azitromicina. Ou vai dizer que agora quer experimentar??? A dor ensina a gemer.... @jairbolsonaro @BolsonaroSP @CarlosBolsonaro  ...      1\n",
              "2                                                                                                                                                                                                                              E assim surgiu o corona vírus   ...      1\n",
              "3                                                                                                                                                  Corona Vírus ? Não? Kkkk tudo pelo abraço que se lixe a possível contaminação. Essa saudade vai vos matar   ...      1\n",
              "4                                                                                                                                                                                                        Eu já sei qual vai ser a palavra do ano: Coronavírus  ...      0\n",
              "\n",
              "[5 rows x 4 columns]"
            ]
          },
          "metadata": {
            "tags": []
          },
          "execution_count": 7
        }
      ]
    },
    {
      "cell_type": "code",
      "metadata": {
        "id": "qRZSkAc4y5NL",
        "colab_type": "code",
        "colab": {
          "base_uri": "https://localhost:8080/",
          "height": 406
        },
        "outputId": "12c0c2ce-3ced-45f0-ebdd-b65a4e573a54"
      },
      "source": [
        "tweets_march.describe(include='all')"
      ],
      "execution_count": 8,
      "outputs": [
        {
          "output_type": "execute_result",
          "data": {
            "text/html": [
              "<div>\n",
              "<style scoped>\n",
              "    .dataframe tbody tr th:only-of-type {\n",
              "        vertical-align: middle;\n",
              "    }\n",
              "\n",
              "    .dataframe tbody tr th {\n",
              "        vertical-align: top;\n",
              "    }\n",
              "\n",
              "    .dataframe thead th {\n",
              "        text-align: right;\n",
              "    }\n",
              "</style>\n",
              "<table border=\"1\" class=\"dataframe\">\n",
              "  <thead>\n",
              "    <tr style=\"text-align: right;\">\n",
              "      <th></th>\n",
              "      <th>tweet</th>\n",
              "      <th>classification</th>\n",
              "      <th>gt</th>\n",
              "      <th>result</th>\n",
              "    </tr>\n",
              "  </thead>\n",
              "  <tbody>\n",
              "    <tr>\n",
              "      <th>count</th>\n",
              "      <td>60</td>\n",
              "      <td>60</td>\n",
              "      <td>60</td>\n",
              "      <td>60.000000</td>\n",
              "    </tr>\n",
              "    <tr>\n",
              "      <th>unique</th>\n",
              "      <td>60</td>\n",
              "      <td>2</td>\n",
              "      <td>2</td>\n",
              "      <td>NaN</td>\n",
              "    </tr>\n",
              "    <tr>\n",
              "      <th>top</th>\n",
              "      <td>Não aguento ver pessoas da minha área minimizando o Coronavírus. Vou dar um desconto pq acho que as informações talvez não estejam chegando de forma adequada no Brasil. Tão comparando a Obesidade. Tipo conspiração da indústria farmacêutica e alimentar</td>\n",
              "      <td>NEGATIVE</td>\n",
              "      <td>NEGATIVE</td>\n",
              "      <td>NaN</td>\n",
              "    </tr>\n",
              "    <tr>\n",
              "      <th>freq</th>\n",
              "      <td>1</td>\n",
              "      <td>43</td>\n",
              "      <td>34</td>\n",
              "      <td>NaN</td>\n",
              "    </tr>\n",
              "    <tr>\n",
              "      <th>mean</th>\n",
              "      <td>NaN</td>\n",
              "      <td>NaN</td>\n",
              "      <td>NaN</td>\n",
              "      <td>0.650000</td>\n",
              "    </tr>\n",
              "    <tr>\n",
              "      <th>std</th>\n",
              "      <td>NaN</td>\n",
              "      <td>NaN</td>\n",
              "      <td>NaN</td>\n",
              "      <td>0.480995</td>\n",
              "    </tr>\n",
              "    <tr>\n",
              "      <th>min</th>\n",
              "      <td>NaN</td>\n",
              "      <td>NaN</td>\n",
              "      <td>NaN</td>\n",
              "      <td>0.000000</td>\n",
              "    </tr>\n",
              "    <tr>\n",
              "      <th>25%</th>\n",
              "      <td>NaN</td>\n",
              "      <td>NaN</td>\n",
              "      <td>NaN</td>\n",
              "      <td>0.000000</td>\n",
              "    </tr>\n",
              "    <tr>\n",
              "      <th>50%</th>\n",
              "      <td>NaN</td>\n",
              "      <td>NaN</td>\n",
              "      <td>NaN</td>\n",
              "      <td>1.000000</td>\n",
              "    </tr>\n",
              "    <tr>\n",
              "      <th>75%</th>\n",
              "      <td>NaN</td>\n",
              "      <td>NaN</td>\n",
              "      <td>NaN</td>\n",
              "      <td>1.000000</td>\n",
              "    </tr>\n",
              "    <tr>\n",
              "      <th>max</th>\n",
              "      <td>NaN</td>\n",
              "      <td>NaN</td>\n",
              "      <td>NaN</td>\n",
              "      <td>1.000000</td>\n",
              "    </tr>\n",
              "  </tbody>\n",
              "</table>\n",
              "</div>"
            ],
            "text/plain": [
              "                                                                                                                                                                                                                                                               tweet  ...     result\n",
              "count                                                                                                                                                                                                                                                             60  ...  60.000000\n",
              "unique                                                                                                                                                                                                                                                            60  ...        NaN\n",
              "top     Não aguento ver pessoas da minha área minimizando o Coronavírus. Vou dar um desconto pq acho que as informações talvez não estejam chegando de forma adequada no Brasil. Tão comparando a Obesidade. Tipo conspiração da indústria farmacêutica e alimentar   ...        NaN\n",
              "freq                                                                                                                                                                                                                                                               1  ...        NaN\n",
              "mean                                                                                                                                                                                                                                                             NaN  ...   0.650000\n",
              "std                                                                                                                                                                                                                                                              NaN  ...   0.480995\n",
              "min                                                                                                                                                                                                                                                              NaN  ...   0.000000\n",
              "25%                                                                                                                                                                                                                                                              NaN  ...   0.000000\n",
              "50%                                                                                                                                                                                                                                                              NaN  ...   1.000000\n",
              "75%                                                                                                                                                                                                                                                              NaN  ...   1.000000\n",
              "max                                                                                                                                                                                                                                                              NaN  ...   1.000000\n",
              "\n",
              "[11 rows x 4 columns]"
            ]
          },
          "metadata": {
            "tags": []
          },
          "execution_count": 8
        }
      ]
    },
    {
      "cell_type": "code",
      "metadata": {
        "id": "klIRZMJi3Hsq",
        "colab_type": "code",
        "colab": {
          "base_uri": "https://localhost:8080/",
          "height": 390
        },
        "outputId": "34200cf6-8a41-4f03-fac9-18780d31e031"
      },
      "source": [
        "tweets_may.describe(include='all')"
      ],
      "execution_count": 9,
      "outputs": [
        {
          "output_type": "execute_result",
          "data": {
            "text/html": [
              "<div>\n",
              "<style scoped>\n",
              "    .dataframe tbody tr th:only-of-type {\n",
              "        vertical-align: middle;\n",
              "    }\n",
              "\n",
              "    .dataframe tbody tr th {\n",
              "        vertical-align: top;\n",
              "    }\n",
              "\n",
              "    .dataframe thead th {\n",
              "        text-align: right;\n",
              "    }\n",
              "</style>\n",
              "<table border=\"1\" class=\"dataframe\">\n",
              "  <thead>\n",
              "    <tr style=\"text-align: right;\">\n",
              "      <th></th>\n",
              "      <th>tweet</th>\n",
              "      <th>classification</th>\n",
              "      <th>gt</th>\n",
              "      <th>result</th>\n",
              "    </tr>\n",
              "  </thead>\n",
              "  <tbody>\n",
              "    <tr>\n",
              "      <th>count</th>\n",
              "      <td>60</td>\n",
              "      <td>60</td>\n",
              "      <td>60</td>\n",
              "      <td>60.000000</td>\n",
              "    </tr>\n",
              "    <tr>\n",
              "      <th>unique</th>\n",
              "      <td>60</td>\n",
              "      <td>2</td>\n",
              "      <td>2</td>\n",
              "      <td>NaN</td>\n",
              "    </tr>\n",
              "    <tr>\n",
              "      <th>top</th>\n",
              "      <td>É, Fundamental mesmo Que “C” identififique o Monstro como Corona Vírus, porque nesse caso específico já não quem é mais monstruoso se o CH19 se Bolsonáro!!!</td>\n",
              "      <td>NEGATIVE</td>\n",
              "      <td>NEGATIVE</td>\n",
              "      <td>NaN</td>\n",
              "    </tr>\n",
              "    <tr>\n",
              "      <th>freq</th>\n",
              "      <td>1</td>\n",
              "      <td>36</td>\n",
              "      <td>30</td>\n",
              "      <td>NaN</td>\n",
              "    </tr>\n",
              "    <tr>\n",
              "      <th>mean</th>\n",
              "      <td>NaN</td>\n",
              "      <td>NaN</td>\n",
              "      <td>NaN</td>\n",
              "      <td>0.566667</td>\n",
              "    </tr>\n",
              "    <tr>\n",
              "      <th>std</th>\n",
              "      <td>NaN</td>\n",
              "      <td>NaN</td>\n",
              "      <td>NaN</td>\n",
              "      <td>0.499717</td>\n",
              "    </tr>\n",
              "    <tr>\n",
              "      <th>min</th>\n",
              "      <td>NaN</td>\n",
              "      <td>NaN</td>\n",
              "      <td>NaN</td>\n",
              "      <td>0.000000</td>\n",
              "    </tr>\n",
              "    <tr>\n",
              "      <th>25%</th>\n",
              "      <td>NaN</td>\n",
              "      <td>NaN</td>\n",
              "      <td>NaN</td>\n",
              "      <td>0.000000</td>\n",
              "    </tr>\n",
              "    <tr>\n",
              "      <th>50%</th>\n",
              "      <td>NaN</td>\n",
              "      <td>NaN</td>\n",
              "      <td>NaN</td>\n",
              "      <td>1.000000</td>\n",
              "    </tr>\n",
              "    <tr>\n",
              "      <th>75%</th>\n",
              "      <td>NaN</td>\n",
              "      <td>NaN</td>\n",
              "      <td>NaN</td>\n",
              "      <td>1.000000</td>\n",
              "    </tr>\n",
              "    <tr>\n",
              "      <th>max</th>\n",
              "      <td>NaN</td>\n",
              "      <td>NaN</td>\n",
              "      <td>NaN</td>\n",
              "      <td>1.000000</td>\n",
              "    </tr>\n",
              "  </tbody>\n",
              "</table>\n",
              "</div>"
            ],
            "text/plain": [
              "                                                                                                                                                               tweet  ...     result\n",
              "count                                                                                                                                                             60  ...  60.000000\n",
              "unique                                                                                                                                                            60  ...        NaN\n",
              "top     É, Fundamental mesmo Que “C” identififique o Monstro como Corona Vírus, porque nesse caso específico já não quem é mais monstruoso se o CH19 se Bolsonáro!!!  ...        NaN\n",
              "freq                                                                                                                                                               1  ...        NaN\n",
              "mean                                                                                                                                                             NaN  ...   0.566667\n",
              "std                                                                                                                                                              NaN  ...   0.499717\n",
              "min                                                                                                                                                              NaN  ...   0.000000\n",
              "25%                                                                                                                                                              NaN  ...   0.000000\n",
              "50%                                                                                                                                                              NaN  ...   1.000000\n",
              "75%                                                                                                                                                              NaN  ...   1.000000\n",
              "max                                                                                                                                                              NaN  ...   1.000000\n",
              "\n",
              "[11 rows x 4 columns]"
            ]
          },
          "metadata": {
            "tags": []
          },
          "execution_count": 9
        }
      ]
    },
    {
      "cell_type": "code",
      "metadata": {
        "id": "355dOZF5zc1-",
        "colab_type": "code",
        "colab": {
          "base_uri": "https://localhost:8080/",
          "height": 87
        },
        "outputId": "4f791435-5093-4491-c1a4-2fab4533afae"
      },
      "source": [
        "print(tweets_march['result'].sum())\n",
        "print(tweets_may['result'].sum())\n",
        "print(tweets_april['result'].sum())\n",
        "\n",
        "accuracy = (tweets_march['result'].sum() + tweets_may['result'].sum()+tweets_april['result'].sum())/(tweets_march.shape[0] + tweets_may.shape[0]+tweets_april.shape[0])\n",
        "print('Acurracy: ' +str(accuracy)+'%')"
      ],
      "execution_count": 10,
      "outputs": [
        {
          "output_type": "stream",
          "text": [
            "39\n",
            "34\n",
            "39\n",
            "Acurracy: 0.6222222222222222%\n"
          ],
          "name": "stdout"
        }
      ]
    },
    {
      "cell_type": "markdown",
      "metadata": {
        "id": "kCBKG_5LVjsu",
        "colab_type": "text"
      },
      "source": [
        "# Deep Learning Multilingual"
      ]
    },
    {
      "cell_type": "code",
      "metadata": {
        "id": "qdwaDRFIXBFl",
        "colab_type": "code",
        "colab": {}
      },
      "source": [
        "# ------- march -------------\n",
        "tweets_march_1_multi = pd.read_csv(drive_path_classified + \"deep learning multilingual/01-15mar_multi.csv\")\n",
        "tweets_march_2_multi = pd.read_csv(drive_path_classified + \"deep learning multilingual/16-31mar_multi.csv\")\n",
        "\n",
        "tweets_march_multi = pd.concat([tweets_march_1_multi, tweets_march_2_multi])\n",
        "tweets_march_multi = tweets_march_multi[['text', 'classification']]\n",
        "tweets_march_multi = tweets_march_multi.rename(columns={\"text\": \"tweet\"})\n",
        "\n",
        "tweets_march_multi['gt'] = tweets_march_annotations['gt']\n",
        "\n",
        "\n",
        "# ---------- april -------------\n",
        "tweets_april_1_multi = pd.read_csv(drive_path_classified + \"deep learning multilingual/01-15abr_multi.csv\")\n",
        "tweets_april_2_multi = pd.read_csv(drive_path_classified + \"deep learning multilingual/16-30abr_multi.csv\")\n",
        "\n",
        "tweets_april_multi = pd.concat([tweets_april_1_multi, tweets_april_2_multi])\n",
        "tweets_april_multi = tweets_april_multi[['text', 'classification']]\n",
        "tweets_april_multi = tweets_april_multi.rename(columns={\"text\": \"tweet\"})\n",
        "\n",
        "tweets_april_multi['gt'] = tweets_april_annotations['gt']\n",
        "\n",
        "\n",
        "\n",
        "# ---------- may -------------\n",
        "tweets_may_1_multi = pd.read_csv(drive_path_classified + \"deep learning multilingual/01-15mai_multi.csv\")\n",
        "tweets_may_2_multi = pd.read_csv(drive_path_classified + \"deep learning multilingual/16-31mai_multi.csv\")\n",
        "\n",
        "tweets_may_multi = pd.concat([tweets_may_1_multi, tweets_may_2_multi])\n",
        "tweets_may_multi = tweets_may_multi[['text', 'classification']]\n",
        "tweets_may_multi = tweets_may_multi.rename(columns={\"text\": \"tweet\"})\n",
        "\n",
        "tweets_may_multi['gt'] = tweets_may_annotations['gt']"
      ],
      "execution_count": 11,
      "outputs": []
    },
    {
      "cell_type": "code",
      "metadata": {
        "id": "xhlvURJQZhb1",
        "colab_type": "code",
        "colab": {}
      },
      "source": [
        "tweets_march_multi['result'] = np.where((tweets_march_multi['classification'] == tweets_march_multi['gt']), 1, 0)\n",
        "tweets_may_multi['result'] = np.where((tweets_may_multi['classification'] == tweets_may_multi['gt']), 1, 0)\n",
        "tweets_april_multi['result'] = np.where((tweets_april_multi['classification'] == tweets_april_multi['gt']), 1, 0)"
      ],
      "execution_count": 12,
      "outputs": []
    },
    {
      "cell_type": "code",
      "metadata": {
        "id": "0rCY7TzgZsSz",
        "colab_type": "code",
        "colab": {
          "base_uri": "https://localhost:8080/",
          "height": 87
        },
        "outputId": "4b817d89-9d9d-43bd-d0e7-7c262980ce67"
      },
      "source": [
        "print(tweets_march_multi['result'].sum())\n",
        "print(tweets_may_multi['result'].sum())\n",
        "print(tweets_april_multi['result'].sum())\n",
        "\n",
        "accuracy = (tweets_march_multi['result'].sum() + tweets_may_multi['result'].sum()+tweets_april_multi['result'].sum())/(tweets_march_multi.shape[0] + tweets_may_multi.shape[0]+tweets_april_multi.shape[0])\n",
        "print('Acurracy: ' +str(accuracy)+'%')"
      ],
      "execution_count": 13,
      "outputs": [
        {
          "output_type": "stream",
          "text": [
            "26\n",
            "26\n",
            "29\n",
            "Acurracy: 0.45%\n"
          ],
          "name": "stdout"
        }
      ]
    },
    {
      "cell_type": "markdown",
      "metadata": {
        "id": "G08Dy2FXaT3l",
        "colab_type": "text"
      },
      "source": [
        "# Lexicon"
      ]
    },
    {
      "cell_type": "code",
      "metadata": {
        "id": "-DEgDHvRaXey",
        "colab_type": "code",
        "colab": {}
      },
      "source": [
        "# ------- march -------------\n",
        "tweets_march_1_lexicon = pd.read_csv(drive_path_classified + \"lexicon based/01-15mar.csv\")\n",
        "tweets_march_2_lexicon = pd.read_csv(drive_path_classified + \"lexicon based/16-31mar.csv\")\n",
        "\n",
        "tweets_march_lexicon = pd.concat([tweets_march_1_lexicon, tweets_march_1_lexicon])\n",
        "tweets_march_lexicon = tweets_march_lexicon[['text', 'Classification']]\n",
        "tweets_march_lexicon = tweets_march_lexicon.rename(columns={\"text\": \"tweet\"})\n",
        "\n",
        "tweets_march_lexicon_annotations = pd.read_csv(drive_path_annotations + \"lexicon based/march.csv\")\n",
        "tweets_march_lexicon_annotations = tweets_march_lexicon_annotations[['Tweet', 'C']]\n",
        "tweets_march_lexicon_annotations =tweets_march_lexicon_annotations.rename(columns={\"C\": \"gt\"})\n",
        "tweets_march_lexicon_annotations =tweets_march_lexicon_annotations.rename(columns={\"Tweet\": \"tweet\"})\n",
        "\n",
        "tweets_march_lexicon['gt'] = tweets_march_lexicon_annotations['gt']\n"
      ],
      "execution_count": 14,
      "outputs": []
    },
    {
      "cell_type": "code",
      "metadata": {
        "id": "cbY2HcUnb7eM",
        "colab_type": "code",
        "colab": {
          "base_uri": "https://localhost:8080/",
          "height": 1000
        },
        "outputId": "64f09dab-772a-4c51-a39e-dcb773e8187b"
      },
      "source": [
        "tweets_march_lexicon"
      ],
      "execution_count": 15,
      "outputs": [
        {
          "output_type": "execute_result",
          "data": {
            "text/html": [
              "<div>\n",
              "<style scoped>\n",
              "    .dataframe tbody tr th:only-of-type {\n",
              "        vertical-align: middle;\n",
              "    }\n",
              "\n",
              "    .dataframe tbody tr th {\n",
              "        vertical-align: top;\n",
              "    }\n",
              "\n",
              "    .dataframe thead th {\n",
              "        text-align: right;\n",
              "    }\n",
              "</style>\n",
              "<table border=\"1\" class=\"dataframe\">\n",
              "  <thead>\n",
              "    <tr style=\"text-align: right;\">\n",
              "      <th></th>\n",
              "      <th>tweet</th>\n",
              "      <th>Classification</th>\n",
              "      <th>gt</th>\n",
              "    </tr>\n",
              "  </thead>\n",
              "  <tbody>\n",
              "    <tr>\n",
              "      <th>0</th>\n",
              "      <td>Serviço público #coronavirus</td>\n",
              "      <td>Neutral</td>\n",
              "      <td>Neutral</td>\n",
              "    </tr>\n",
              "    <tr>\n",
              "      <th>1</th>\n",
              "      <td>Imaginem quando o Éder for para foder o Corona vírus</td>\n",
              "      <td>Negative</td>\n",
              "      <td>Positive</td>\n",
              "    </tr>\n",
              "    <tr>\n",
              "      <th>2</th>\n",
              "      <td>Daqui um ano vão fazer um filme baseado no coronavirus. \"Epidemia de covi-19 no mundo\"</td>\n",
              "      <td>Neutral</td>\n",
              "      <td>Neutral</td>\n",
              "    </tr>\n",
              "    <tr>\n",
              "      <th>3</th>\n",
              "      <td>O JJ admitiu que perdeu uma pessoa em Portugal com coronavirus e vocês ainda acreditam que não há mortos????</td>\n",
              "      <td>Positive</td>\n",
              "      <td>Negative</td>\n",
              "    </tr>\n",
              "    <tr>\n",
              "      <th>4</th>\n",
              "      <td>França em lockdown dentro de 2 semanas. Imbecis. #coronavirus</td>\n",
              "      <td>Neutral</td>\n",
              "      <td>Negative</td>\n",
              "    </tr>\n",
              "    <tr>\n",
              "      <th>5</th>\n",
              "      <td>Pelo menos n havia coronavirus</td>\n",
              "      <td>Neutral</td>\n",
              "      <td>Negative</td>\n",
              "    </tr>\n",
              "    <tr>\n",
              "      <th>6</th>\n",
              "      <td>Isto é real. Todas estas fotografias foram tiradas em Lisboa durante esta semana. Façam um favor a vocês mesmo e aos que vos rodeiam e não saiam de casa. Sejamos responsáveis e a única maneira de ajudar é ficar em casa. Para o @observador #coronavirus #covid</td>\n",
              "      <td>Positive</td>\n",
              "      <td>Negative</td>\n",
              "    </tr>\n",
              "    <tr>\n",
              "      <th>7</th>\n",
              "      <td>Coronavirus nesse corpinho aqui não</td>\n",
              "      <td>Neutral</td>\n",
              "      <td>Negative</td>\n",
              "    </tr>\n",
              "    <tr>\n",
              "      <th>8</th>\n",
              "      <td>Esperemos que já não haja corona virus aí né</td>\n",
              "      <td>Positive</td>\n",
              "      <td>Negative</td>\n",
              "    </tr>\n",
              "    <tr>\n",
              "      <th>9</th>\n",
              "      <td>Coronavírus fdp</td>\n",
              "      <td>Neutral</td>\n",
              "      <td>Negative</td>\n",
              "    </tr>\n",
              "    <tr>\n",
              "      <th>10</th>\n",
              "      <td>CoronaVirus -Criado na China -Matou 3.000 pessoas na China, em 1.3 biliões de pessoas. -Alastrou-se por toda o mundo -Bolsas Nacionais desceram todas -Chineses, recuperados gastaram milhões nas bolsas europeias e norte americanas Quem ficou a não perder com isto foi a china!</td>\n",
              "      <td>Negative</td>\n",
              "      <td>Negative</td>\n",
              "    </tr>\n",
              "    <tr>\n",
              "      <th>11</th>\n",
              "      <td>“Você decide, a minha boca ou a do litrão???? Cêquer dançar comigo ou descer até o chão, sozinhaaaaa? “ essa musiquita é mutchooooo cagada mas não sai da m cabeça kkkk imagina.... boca do litrão nem pega corona vírus eu hein</td>\n",
              "      <td>Negative</td>\n",
              "      <td>Neutral</td>\n",
              "    </tr>\n",
              "    <tr>\n",
              "      <th>12</th>\n",
              "      <td>HOMENAGEM A TODOS OS PROFISSIONAIS DO SNS. Portugal #força #covid19 #CORONAVIRUS #coronavirus #snsd em Aldeia De Paio Pires, Setubal, Portugal https://www.instagram.com/p/B9uv25_pePC/?igshid=15qiauoovxyqg</td>\n",
              "      <td>Neutral</td>\n",
              "      <td>Positive</td>\n",
              "    </tr>\n",
              "    <tr>\n",
              "      <th>13</th>\n",
              "      <td>Na minha rua bateram palmas aos médicos que estão a cuidar dos infetados pelo corona virus. E na vossa?</td>\n",
              "      <td>Neutral</td>\n",
              "      <td>Positive</td>\n",
              "    </tr>\n",
              "    <tr>\n",
              "      <th>14</th>\n",
              "      <td>twitter agora é 85% coronavirus, e o pior é que dou rt em tudo</td>\n",
              "      <td>Negative</td>\n",
              "      <td>Neutral</td>\n",
              "    </tr>\n",
              "    <tr>\n",
              "      <th>15</th>\n",
              "      <td>#COVIDー19 duas mulheres em fuga do hospital (mãe e filha) suspeitas de estar infetadas com #coronavírus quem avança c/ esta pérola ? #cmtv</td>\n",
              "      <td>Negative</td>\n",
              "      <td>Negative</td>\n",
              "    </tr>\n",
              "    <tr>\n",
              "      <th>16</th>\n",
              "      <td>Corona vírus já fez mais pelo o ambiente do que a Greta</td>\n",
              "      <td>Neutral</td>\n",
              "      <td>Positive</td>\n",
              "    </tr>\n",
              "    <tr>\n",
              "      <th>17</th>\n",
              "      <td>Por conta da pandemia (Corona Vírus) estamos de quarentena! E agora! O que vai ser feito de nós profissionais cabeleireiros??? #cabeleireiros #coronavirus #portugal #quaretena #todosemcasa #karloswendell… https://www.instagram.com/p/B9uqCzBn4X2/?igshid=ufmt30qep78d</td>\n",
              "      <td>Neutral</td>\n",
              "      <td>Negative</td>\n",
              "    </tr>\n",
              "    <tr>\n",
              "      <th>18</th>\n",
              "      <td>uma coisa é certa: este isolamento social é ótimo p/ ñ levar com gente estúpida #coronavirus | #COVIDー19 | #FicaEmCasa |</td>\n",
              "      <td>Neutral</td>\n",
              "      <td>Positive</td>\n",
              "    </tr>\n",
              "    <tr>\n",
              "      <th>19</th>\n",
              "      <td>Ao contrário de \"vacina\" falsa de Cuba, instituto Israelense pretende testar vacina contra o Coronavírus em 90 dias (veja o vídeo)</td>\n",
              "      <td>Negative</td>\n",
              "      <td>Positive</td>\n",
              "    </tr>\n",
              "    <tr>\n",
              "      <th>20</th>\n",
              "      <td>Pegar o corona vírus passa a ser uma esperança</td>\n",
              "      <td>Positive</td>\n",
              "      <td>Neutral</td>\n",
              "    </tr>\n",
              "    <tr>\n",
              "      <th>21</th>\n",
              "      <td>Não é que um cota hoje me disse pretos não apanham coronavirus ,contas tão bue inocentes juro</td>\n",
              "      <td>Positive</td>\n",
              "      <td>Negative</td>\n",
              "    </tr>\n",
              "    <tr>\n",
              "      <th>22</th>\n",
              "      <td>Nossa amada @pretagil declarou agora nos storie que tá com corona vírus. Melhoras, Pretinha. Você é patrimônio afetivo do Brasil. Estamos todos aqui . Saúde, corazon. Cariño</td>\n",
              "      <td>Positive</td>\n",
              "      <td>Neutral</td>\n",
              "    </tr>\n",
              "    <tr>\n",
              "      <th>23</th>\n",
              "      <td>Não aguento ver pessoas da minha área minimizando o Coronavírus. Vou dar um desconto pq acho que as informações talvez não estejam chegando de forma adequada no Brasil. Tão comparando a Obesidade. Tipo conspiração da indústria farmacêutica e alimentar</td>\n",
              "      <td>Negative</td>\n",
              "      <td>Negative</td>\n",
              "    </tr>\n",
              "    <tr>\n",
              "      <th>24</th>\n",
              "      <td>#Pendurados #hanging #Coronavirus #oblige em Lisboa, Portugal - União Européia https://www.instagram.com/p/B9uMD88A00q/?igshid=1bro8a5bc60w9</td>\n",
              "      <td>Neutral</td>\n",
              "      <td>Neutral</td>\n",
              "    </tr>\n",
              "    <tr>\n",
              "      <th>25</th>\n",
              "      <td>Coronavirus é um conspiração das mulheres para os maridos ficarem a limpar a casa.</td>\n",
              "      <td>Negative</td>\n",
              "      <td>Neutral</td>\n",
              "    </tr>\n",
              "    <tr>\n",
              "      <th>26</th>\n",
              "      <td>Episódio de Hoje - O SUMIÇO DO PAPEL HIGIÊNICO #papelhigienico #vamuver #cadeopapelhigienico #covid19 #coronavirus em Portugal https://www.instagram.com/p/B9uEtDRJpzj/?igshid=1me41gsqnjdn2</td>\n",
              "      <td>Neutral</td>\n",
              "      <td>Neutral</td>\n",
              "    </tr>\n",
              "    <tr>\n",
              "      <th>27</th>\n",
              "      <td>Da maneira como a malta reage com o #coronavirus admiram-se que nunca ninguém admita que os OVNIs existem?</td>\n",
              "      <td>Neutral</td>\n",
              "      <td>Negative</td>\n",
              "    </tr>\n",
              "    <tr>\n",
              "      <th>28</th>\n",
              "      <td>Em meio ao coronavirus, acho que é um bom momento para incentivamos a saudação Wakanda como cumprimento universal.</td>\n",
              "      <td>Positive</td>\n",
              "      <td>Positive</td>\n",
              "    </tr>\n",
              "    <tr>\n",
              "      <th>29</th>\n",
              "      <td>o corona vírus que o que é que o que aconteceu no passado obscuro da pra gente conversar sobre isso</td>\n",
              "      <td>Neutral</td>\n",
              "      <td>Neutral</td>\n",
              "    </tr>\n",
              "    <tr>\n",
              "      <th>0</th>\n",
              "      <td>Serviço público #coronavirus</td>\n",
              "      <td>Neutral</td>\n",
              "      <td>Neutral</td>\n",
              "    </tr>\n",
              "    <tr>\n",
              "      <th>1</th>\n",
              "      <td>Imaginem quando o Éder for para foder o Corona vírus</td>\n",
              "      <td>Negative</td>\n",
              "      <td>Positive</td>\n",
              "    </tr>\n",
              "    <tr>\n",
              "      <th>2</th>\n",
              "      <td>Daqui um ano vão fazer um filme baseado no coronavirus. \"Epidemia de covi-19 no mundo\"</td>\n",
              "      <td>Neutral</td>\n",
              "      <td>Neutral</td>\n",
              "    </tr>\n",
              "    <tr>\n",
              "      <th>3</th>\n",
              "      <td>O JJ admitiu que perdeu uma pessoa em Portugal com coronavirus e vocês ainda acreditam que não há mortos????</td>\n",
              "      <td>Positive</td>\n",
              "      <td>Negative</td>\n",
              "    </tr>\n",
              "    <tr>\n",
              "      <th>4</th>\n",
              "      <td>França em lockdown dentro de 2 semanas. Imbecis. #coronavirus</td>\n",
              "      <td>Neutral</td>\n",
              "      <td>Negative</td>\n",
              "    </tr>\n",
              "    <tr>\n",
              "      <th>5</th>\n",
              "      <td>Pelo menos n havia coronavirus</td>\n",
              "      <td>Neutral</td>\n",
              "      <td>Negative</td>\n",
              "    </tr>\n",
              "    <tr>\n",
              "      <th>6</th>\n",
              "      <td>Isto é real. Todas estas fotografias foram tiradas em Lisboa durante esta semana. Façam um favor a vocês mesmo e aos que vos rodeiam e não saiam de casa. Sejamos responsáveis e a única maneira de ajudar é ficar em casa. Para o @observador #coronavirus #covid</td>\n",
              "      <td>Positive</td>\n",
              "      <td>Negative</td>\n",
              "    </tr>\n",
              "    <tr>\n",
              "      <th>7</th>\n",
              "      <td>Coronavirus nesse corpinho aqui não</td>\n",
              "      <td>Neutral</td>\n",
              "      <td>Negative</td>\n",
              "    </tr>\n",
              "    <tr>\n",
              "      <th>8</th>\n",
              "      <td>Esperemos que já não haja corona virus aí né</td>\n",
              "      <td>Positive</td>\n",
              "      <td>Negative</td>\n",
              "    </tr>\n",
              "    <tr>\n",
              "      <th>9</th>\n",
              "      <td>Coronavírus fdp</td>\n",
              "      <td>Neutral</td>\n",
              "      <td>Negative</td>\n",
              "    </tr>\n",
              "    <tr>\n",
              "      <th>10</th>\n",
              "      <td>CoronaVirus -Criado na China -Matou 3.000 pessoas na China, em 1.3 biliões de pessoas. -Alastrou-se por toda o mundo -Bolsas Nacionais desceram todas -Chineses, recuperados gastaram milhões nas bolsas europeias e norte americanas Quem ficou a não perder com isto foi a china!</td>\n",
              "      <td>Negative</td>\n",
              "      <td>Negative</td>\n",
              "    </tr>\n",
              "    <tr>\n",
              "      <th>11</th>\n",
              "      <td>“Você decide, a minha boca ou a do litrão???? Cêquer dançar comigo ou descer até o chão, sozinhaaaaa? “ essa musiquita é mutchooooo cagada mas não sai da m cabeça kkkk imagina.... boca do litrão nem pega corona vírus eu hein</td>\n",
              "      <td>Negative</td>\n",
              "      <td>Neutral</td>\n",
              "    </tr>\n",
              "    <tr>\n",
              "      <th>12</th>\n",
              "      <td>HOMENAGEM A TODOS OS PROFISSIONAIS DO SNS. Portugal #força #covid19 #CORONAVIRUS #coronavirus #snsd em Aldeia De Paio Pires, Setubal, Portugal https://www.instagram.com/p/B9uv25_pePC/?igshid=15qiauoovxyqg</td>\n",
              "      <td>Neutral</td>\n",
              "      <td>Positive</td>\n",
              "    </tr>\n",
              "    <tr>\n",
              "      <th>13</th>\n",
              "      <td>Na minha rua bateram palmas aos médicos que estão a cuidar dos infetados pelo corona virus. E na vossa?</td>\n",
              "      <td>Neutral</td>\n",
              "      <td>Positive</td>\n",
              "    </tr>\n",
              "    <tr>\n",
              "      <th>14</th>\n",
              "      <td>twitter agora é 85% coronavirus, e o pior é que dou rt em tudo</td>\n",
              "      <td>Negative</td>\n",
              "      <td>Neutral</td>\n",
              "    </tr>\n",
              "    <tr>\n",
              "      <th>15</th>\n",
              "      <td>#COVIDー19 duas mulheres em fuga do hospital (mãe e filha) suspeitas de estar infetadas com #coronavírus quem avança c/ esta pérola ? #cmtv</td>\n",
              "      <td>Negative</td>\n",
              "      <td>Negative</td>\n",
              "    </tr>\n",
              "    <tr>\n",
              "      <th>16</th>\n",
              "      <td>Corona vírus já fez mais pelo o ambiente do que a Greta</td>\n",
              "      <td>Neutral</td>\n",
              "      <td>Positive</td>\n",
              "    </tr>\n",
              "    <tr>\n",
              "      <th>17</th>\n",
              "      <td>Por conta da pandemia (Corona Vírus) estamos de quarentena! E agora! O que vai ser feito de nós profissionais cabeleireiros??? #cabeleireiros #coronavirus #portugal #quaretena #todosemcasa #karloswendell… https://www.instagram.com/p/B9uqCzBn4X2/?igshid=ufmt30qep78d</td>\n",
              "      <td>Neutral</td>\n",
              "      <td>Negative</td>\n",
              "    </tr>\n",
              "    <tr>\n",
              "      <th>18</th>\n",
              "      <td>uma coisa é certa: este isolamento social é ótimo p/ ñ levar com gente estúpida #coronavirus | #COVIDー19 | #FicaEmCasa |</td>\n",
              "      <td>Neutral</td>\n",
              "      <td>Positive</td>\n",
              "    </tr>\n",
              "    <tr>\n",
              "      <th>19</th>\n",
              "      <td>Ao contrário de \"vacina\" falsa de Cuba, instituto Israelense pretende testar vacina contra o Coronavírus em 90 dias (veja o vídeo)</td>\n",
              "      <td>Negative</td>\n",
              "      <td>Positive</td>\n",
              "    </tr>\n",
              "    <tr>\n",
              "      <th>20</th>\n",
              "      <td>Pegar o corona vírus passa a ser uma esperança</td>\n",
              "      <td>Positive</td>\n",
              "      <td>Neutral</td>\n",
              "    </tr>\n",
              "    <tr>\n",
              "      <th>21</th>\n",
              "      <td>Não é que um cota hoje me disse pretos não apanham coronavirus ,contas tão bue inocentes juro</td>\n",
              "      <td>Positive</td>\n",
              "      <td>Negative</td>\n",
              "    </tr>\n",
              "    <tr>\n",
              "      <th>22</th>\n",
              "      <td>Nossa amada @pretagil declarou agora nos storie que tá com corona vírus. Melhoras, Pretinha. Você é patrimônio afetivo do Brasil. Estamos todos aqui . Saúde, corazon. Cariño</td>\n",
              "      <td>Positive</td>\n",
              "      <td>Neutral</td>\n",
              "    </tr>\n",
              "    <tr>\n",
              "      <th>23</th>\n",
              "      <td>Não aguento ver pessoas da minha área minimizando o Coronavírus. Vou dar um desconto pq acho que as informações talvez não estejam chegando de forma adequada no Brasil. Tão comparando a Obesidade. Tipo conspiração da indústria farmacêutica e alimentar</td>\n",
              "      <td>Negative</td>\n",
              "      <td>Negative</td>\n",
              "    </tr>\n",
              "    <tr>\n",
              "      <th>24</th>\n",
              "      <td>#Pendurados #hanging #Coronavirus #oblige em Lisboa, Portugal - União Européia https://www.instagram.com/p/B9uMD88A00q/?igshid=1bro8a5bc60w9</td>\n",
              "      <td>Neutral</td>\n",
              "      <td>Neutral</td>\n",
              "    </tr>\n",
              "    <tr>\n",
              "      <th>25</th>\n",
              "      <td>Coronavirus é um conspiração das mulheres para os maridos ficarem a limpar a casa.</td>\n",
              "      <td>Negative</td>\n",
              "      <td>Neutral</td>\n",
              "    </tr>\n",
              "    <tr>\n",
              "      <th>26</th>\n",
              "      <td>Episódio de Hoje - O SUMIÇO DO PAPEL HIGIÊNICO #papelhigienico #vamuver #cadeopapelhigienico #covid19 #coronavirus em Portugal https://www.instagram.com/p/B9uEtDRJpzj/?igshid=1me41gsqnjdn2</td>\n",
              "      <td>Neutral</td>\n",
              "      <td>Neutral</td>\n",
              "    </tr>\n",
              "    <tr>\n",
              "      <th>27</th>\n",
              "      <td>Da maneira como a malta reage com o #coronavirus admiram-se que nunca ninguém admita que os OVNIs existem?</td>\n",
              "      <td>Neutral</td>\n",
              "      <td>Negative</td>\n",
              "    </tr>\n",
              "    <tr>\n",
              "      <th>28</th>\n",
              "      <td>Em meio ao coronavirus, acho que é um bom momento para incentivamos a saudação Wakanda como cumprimento universal.</td>\n",
              "      <td>Positive</td>\n",
              "      <td>Positive</td>\n",
              "    </tr>\n",
              "    <tr>\n",
              "      <th>29</th>\n",
              "      <td>o corona vírus que o que é que o que aconteceu no passado obscuro da pra gente conversar sobre isso</td>\n",
              "      <td>Neutral</td>\n",
              "      <td>Neutral</td>\n",
              "    </tr>\n",
              "  </tbody>\n",
              "</table>\n",
              "</div>"
            ],
            "text/plain": [
              "                                                                                                                                                                                                                                                                                  tweet  ...        gt\n",
              "0                                                                                                                                                                                                                                                         Serviço público #coronavirus   ...   Neutral\n",
              "1                                                                                                                                                                                                                                 Imaginem quando o Éder for para foder o Corona vírus   ...  Positive\n",
              "2                                                                                                                                                                                                Daqui um ano vão fazer um filme baseado no coronavirus. \"Epidemia de covi-19 no mundo\"  ...   Neutral\n",
              "3                                                                                                                                                                          O JJ admitiu que perdeu uma pessoa em Portugal com coronavirus e vocês ainda acreditam que não há mortos????  ...  Negative\n",
              "4                                                                                                                                                                                                                        França em lockdown dentro de 2 semanas. Imbecis. #coronavirus   ...  Negative\n",
              "5                                                                                                                                                                                                                                                       Pelo menos n havia coronavirus   ...  Negative\n",
              "6                    Isto é real. Todas estas fotografias foram tiradas em Lisboa durante esta semana. Façam um favor a vocês mesmo e aos que vos rodeiam e não saiam de casa. Sejamos responsáveis e a única maneira de ajudar é ficar em casa. Para o @observador #coronavirus #covid  ...  Negative\n",
              "7                                                                                                                                                                                                                                                  Coronavirus nesse corpinho aqui não   ...  Negative\n",
              "8                                                                                                                                                                                                                                          Esperemos que já não haja corona virus aí né  ...  Negative\n",
              "9                                                                                                                                                                                                                                                                       Coronavírus fdp  ...  Negative\n",
              "10  CoronaVirus -Criado na China -Matou 3.000 pessoas na China, em 1.3 biliões de pessoas. -Alastrou-se por toda o mundo -Bolsas Nacionais desceram todas -Chineses, recuperados gastaram milhões nas bolsas europeias e norte americanas Quem ficou a não perder com isto foi a china!  ...  Negative\n",
              "11                                                     “Você decide, a minha boca ou a do litrão???? Cêquer dançar comigo ou descer até o chão, sozinhaaaaa? “ essa musiquita é mutchooooo cagada mas não sai da m cabeça kkkk imagina.... boca do litrão nem pega corona vírus eu hein  ...   Neutral\n",
              "12                                                                         HOMENAGEM A TODOS OS PROFISSIONAIS DO SNS. Portugal #força #covid19 #CORONAVIRUS #coronavirus #snsd em Aldeia De Paio Pires, Setubal, Portugal https://www.instagram.com/p/B9uv25_pePC/?igshid=15qiauoovxyqg  ...  Positive\n",
              "13                                                                                                                                                                              Na minha rua bateram palmas aos médicos que estão a cuidar dos infetados pelo corona virus. E na vossa?  ...  Positive\n",
              "14                                                                                                                                                                                                                      twitter agora é 85% coronavirus, e o pior é que dou rt em tudo   ...   Neutral\n",
              "15                                                                                                                                           #COVIDー19 duas mulheres em fuga do hospital (mãe e filha) suspeitas de estar infetadas com #coronavírus quem avança c/ esta pérola ? #cmtv  ...  Negative\n",
              "16                                                                                                                                                                                                                              Corona vírus já fez mais pelo o ambiente do que a Greta  ...  Positive\n",
              "17            Por conta da pandemia (Corona Vírus) estamos de quarentena! E agora! O que vai ser feito de nós profissionais cabeleireiros??? #cabeleireiros #coronavirus #portugal #quaretena #todosemcasa #karloswendell… https://www.instagram.com/p/B9uqCzBn4X2/?igshid=ufmt30qep78d  ...  Negative\n",
              "18                                                                                                                                                             uma coisa é certa: este isolamento social é ótimo p/ ñ levar com gente estúpida #coronavirus | #COVIDー19 | #FicaEmCasa |  ...  Positive\n",
              "19                                                                                                                                                  Ao contrário de \"vacina\" falsa de Cuba, instituto Israelense pretende testar vacina contra o Coronavírus em 90 dias (veja o vídeo)   ...  Positive\n",
              "20                                                                                                                                                                                                                                       Pegar o corona vírus passa a ser uma esperança  ...   Neutral\n",
              "21                                                                                                                                                                                        Não é que um cota hoje me disse pretos não apanham coronavirus ,contas tão bue inocentes juro  ...  Negative\n",
              "22                                                                                                        Nossa amada @pretagil declarou agora nos storie que tá com corona vírus. Melhoras, Pretinha. Você é patrimônio afetivo do Brasil. Estamos todos aqui . Saúde, corazon. Cariño  ...   Neutral\n",
              "23                         Não aguento ver pessoas da minha área minimizando o Coronavírus. Vou dar um desconto pq acho que as informações talvez não estejam chegando de forma adequada no Brasil. Tão comparando a Obesidade. Tipo conspiração da indústria farmacêutica e alimentar   ...  Negative\n",
              "24                                                                                                                                         #Pendurados #hanging #Coronavirus #oblige em Lisboa, Portugal - União Européia https://www.instagram.com/p/B9uMD88A00q/?igshid=1bro8a5bc60w9  ...   Neutral\n",
              "25                                                                                                                                                                                                   Coronavirus é um conspiração das mulheres para os maridos ficarem a limpar a casa.  ...   Neutral\n",
              "26                                                                                         Episódio de Hoje - O SUMIÇO DO PAPEL HIGIÊNICO #papelhigienico #vamuver #cadeopapelhigienico #covid19 #coronavirus em Portugal https://www.instagram.com/p/B9uEtDRJpzj/?igshid=1me41gsqnjdn2  ...   Neutral\n",
              "27                                                                                                                                                                           Da maneira como a malta reage com o #coronavirus admiram-se que nunca ninguém admita que os OVNIs existem?  ...  Negative\n",
              "28                                                                                                                                                                  Em meio ao coronavirus, acho que é um bom momento para incentivamos a saudação Wakanda como cumprimento universal.   ...  Positive\n",
              "29                                                                                                                                                                                  o corona vírus que o que é que o que aconteceu no passado obscuro da pra gente conversar sobre isso  ...   Neutral\n",
              "0                                                                                                                                                                                                                                                         Serviço público #coronavirus   ...   Neutral\n",
              "1                                                                                                                                                                                                                                 Imaginem quando o Éder for para foder o Corona vírus   ...  Positive\n",
              "2                                                                                                                                                                                                Daqui um ano vão fazer um filme baseado no coronavirus. \"Epidemia de covi-19 no mundo\"  ...   Neutral\n",
              "3                                                                                                                                                                          O JJ admitiu que perdeu uma pessoa em Portugal com coronavirus e vocês ainda acreditam que não há mortos????  ...  Negative\n",
              "4                                                                                                                                                                                                                        França em lockdown dentro de 2 semanas. Imbecis. #coronavirus   ...  Negative\n",
              "5                                                                                                                                                                                                                                                       Pelo menos n havia coronavirus   ...  Negative\n",
              "6                    Isto é real. Todas estas fotografias foram tiradas em Lisboa durante esta semana. Façam um favor a vocês mesmo e aos que vos rodeiam e não saiam de casa. Sejamos responsáveis e a única maneira de ajudar é ficar em casa. Para o @observador #coronavirus #covid  ...  Negative\n",
              "7                                                                                                                                                                                                                                                  Coronavirus nesse corpinho aqui não   ...  Negative\n",
              "8                                                                                                                                                                                                                                          Esperemos que já não haja corona virus aí né  ...  Negative\n",
              "9                                                                                                                                                                                                                                                                       Coronavírus fdp  ...  Negative\n",
              "10  CoronaVirus -Criado na China -Matou 3.000 pessoas na China, em 1.3 biliões de pessoas. -Alastrou-se por toda o mundo -Bolsas Nacionais desceram todas -Chineses, recuperados gastaram milhões nas bolsas europeias e norte americanas Quem ficou a não perder com isto foi a china!  ...  Negative\n",
              "11                                                     “Você decide, a minha boca ou a do litrão???? Cêquer dançar comigo ou descer até o chão, sozinhaaaaa? “ essa musiquita é mutchooooo cagada mas não sai da m cabeça kkkk imagina.... boca do litrão nem pega corona vírus eu hein  ...   Neutral\n",
              "12                                                                         HOMENAGEM A TODOS OS PROFISSIONAIS DO SNS. Portugal #força #covid19 #CORONAVIRUS #coronavirus #snsd em Aldeia De Paio Pires, Setubal, Portugal https://www.instagram.com/p/B9uv25_pePC/?igshid=15qiauoovxyqg  ...  Positive\n",
              "13                                                                                                                                                                              Na minha rua bateram palmas aos médicos que estão a cuidar dos infetados pelo corona virus. E na vossa?  ...  Positive\n",
              "14                                                                                                                                                                                                                      twitter agora é 85% coronavirus, e o pior é que dou rt em tudo   ...   Neutral\n",
              "15                                                                                                                                           #COVIDー19 duas mulheres em fuga do hospital (mãe e filha) suspeitas de estar infetadas com #coronavírus quem avança c/ esta pérola ? #cmtv  ...  Negative\n",
              "16                                                                                                                                                                                                                              Corona vírus já fez mais pelo o ambiente do que a Greta  ...  Positive\n",
              "17            Por conta da pandemia (Corona Vírus) estamos de quarentena! E agora! O que vai ser feito de nós profissionais cabeleireiros??? #cabeleireiros #coronavirus #portugal #quaretena #todosemcasa #karloswendell… https://www.instagram.com/p/B9uqCzBn4X2/?igshid=ufmt30qep78d  ...  Negative\n",
              "18                                                                                                                                                             uma coisa é certa: este isolamento social é ótimo p/ ñ levar com gente estúpida #coronavirus | #COVIDー19 | #FicaEmCasa |  ...  Positive\n",
              "19                                                                                                                                                  Ao contrário de \"vacina\" falsa de Cuba, instituto Israelense pretende testar vacina contra o Coronavírus em 90 dias (veja o vídeo)   ...  Positive\n",
              "20                                                                                                                                                                                                                                       Pegar o corona vírus passa a ser uma esperança  ...   Neutral\n",
              "21                                                                                                                                                                                        Não é que um cota hoje me disse pretos não apanham coronavirus ,contas tão bue inocentes juro  ...  Negative\n",
              "22                                                                                                        Nossa amada @pretagil declarou agora nos storie que tá com corona vírus. Melhoras, Pretinha. Você é patrimônio afetivo do Brasil. Estamos todos aqui . Saúde, corazon. Cariño  ...   Neutral\n",
              "23                         Não aguento ver pessoas da minha área minimizando o Coronavírus. Vou dar um desconto pq acho que as informações talvez não estejam chegando de forma adequada no Brasil. Tão comparando a Obesidade. Tipo conspiração da indústria farmacêutica e alimentar   ...  Negative\n",
              "24                                                                                                                                         #Pendurados #hanging #Coronavirus #oblige em Lisboa, Portugal - União Européia https://www.instagram.com/p/B9uMD88A00q/?igshid=1bro8a5bc60w9  ...   Neutral\n",
              "25                                                                                                                                                                                                   Coronavirus é um conspiração das mulheres para os maridos ficarem a limpar a casa.  ...   Neutral\n",
              "26                                                                                         Episódio de Hoje - O SUMIÇO DO PAPEL HIGIÊNICO #papelhigienico #vamuver #cadeopapelhigienico #covid19 #coronavirus em Portugal https://www.instagram.com/p/B9uEtDRJpzj/?igshid=1me41gsqnjdn2  ...   Neutral\n",
              "27                                                                                                                                                                           Da maneira como a malta reage com o #coronavirus admiram-se que nunca ninguém admita que os OVNIs existem?  ...  Negative\n",
              "28                                                                                                                                                                  Em meio ao coronavirus, acho que é um bom momento para incentivamos a saudação Wakanda como cumprimento universal.   ...  Positive\n",
              "29                                                                                                                                                                                  o corona vírus que o que é que o que aconteceu no passado obscuro da pra gente conversar sobre isso  ...   Neutral\n",
              "\n",
              "[60 rows x 3 columns]"
            ]
          },
          "metadata": {
            "tags": []
          },
          "execution_count": 15
        }
      ]
    },
    {
      "cell_type": "code",
      "metadata": {
        "id": "mcQ_NDpncibu",
        "colab_type": "code",
        "colab": {}
      },
      "source": [
        "# ------- april -------------\n",
        "tweets_april_1_lexicon = pd.read_csv(drive_path_classified + \"lexicon based/01-15abr.csv\")\n",
        "tweets_april_2_lexicon = pd.read_csv(drive_path_classified + \"lexicon based/16-30abr.csv\")\n",
        "\n",
        "tweets_april_lexicon = pd.concat([tweets_april_1_lexicon, tweets_april_2_lexicon])\n",
        "tweets_april_lexicon = tweets_april_lexicon[['text', 'Classification']]\n",
        "tweets_april_lexicon = tweets_april_lexicon.rename(columns={\"text\": \"tweet\"})\n",
        "\n",
        "tweets_april_lexicon_annotations = pd.read_csv(drive_path_annotations + \"lexicon based/april.csv\")\n",
        "tweets_april_lexicon_annotations = tweets_april_lexicon_annotations[['tweet', 'c']]\n",
        "tweets_april_lexicon_annotations =tweets_april_lexicon_annotations.rename(columns={\"c\": \"gt\"})\n",
        "\n",
        "tweets_april_lexicon['gt'] = tweets_april_lexicon_annotations['gt']\n"
      ],
      "execution_count": 16,
      "outputs": []
    },
    {
      "cell_type": "code",
      "metadata": {
        "id": "39b6X2OxdNba",
        "colab_type": "code",
        "colab": {}
      },
      "source": [
        "# ------- may -------------\n",
        "tweets_may_1_lexicon = pd.read_csv(drive_path_classified + \"lexicon based/01-15mai.csv\")\n",
        "tweets_may_2_lexicon = pd.read_csv(drive_path_classified + \"lexicon based/16-31mai.csv\")\n",
        "\n",
        "tweets_may_lexicon = pd.concat([tweets_may_1_lexicon, tweets_may_2_lexicon])\n",
        "tweets_may_lexicon = tweets_may_lexicon[['text', 'Classification']]\n",
        "tweets_may_lexicon = tweets_may_lexicon.rename(columns={\"text\": \"tweet\"})\n",
        "\n",
        "tweets_may_lexicon_annotations = pd.read_csv(drive_path_annotations + \"lexicon based/may.csv\")\n",
        "tweets_may_lexicon_annotations = tweets_may_lexicon_annotations[['Tweet', 'c']]\n",
        "tweets_may_lexicon_annotations =tweets_may_lexicon_annotations.rename(columns={\"c\": \"gt\"})\n",
        "tweets_may_lexicon_annotations =tweets_may_lexicon_annotations.rename(columns={\"Tweet\": \"tweet\"})\n",
        "\n",
        "\n",
        "tweets_may_lexicon['gt'] = tweets_may_lexicon_annotations['gt']"
      ],
      "execution_count": 17,
      "outputs": []
    },
    {
      "cell_type": "code",
      "metadata": {
        "id": "HYHlSt0cd3bX",
        "colab_type": "code",
        "colab": {}
      },
      "source": [
        "tweets_march_lexicon['result'] = np.where((tweets_march_lexicon['Classification'] == tweets_march_lexicon['gt']), 1, 0)\n",
        "tweets_april_lexicon['result'] = np.where((tweets_april_lexicon['Classification'] == tweets_april_lexicon['gt']), 1, 0)\n",
        "tweets_may_lexicon['result'] = np.where((tweets_may_lexicon['Classification'] == tweets_may_lexicon['gt']), 1, 0)"
      ],
      "execution_count": 18,
      "outputs": []
    },
    {
      "cell_type": "code",
      "metadata": {
        "id": "kGNEoOAkdpyM",
        "colab_type": "code",
        "colab": {
          "base_uri": "https://localhost:8080/",
          "height": 87
        },
        "outputId": "8d45c61d-fbcc-4c1d-f220-bf24b4e5a647"
      },
      "source": [
        "print(tweets_march_lexicon['result'].sum())\n",
        "print(tweets_april_lexicon['result'].sum())\n",
        "print(tweets_may_lexicon['result'].sum())\n",
        "\n",
        "accuracy = (tweets_march_lexicon['result'].sum() + tweets_april_lexicon['result'].sum()+tweets_may_lexicon['result'].sum())/(tweets_march_lexicon.shape[0] + tweets_april_lexicon.shape[0]+tweets_may_lexicon.shape[0])\n",
        "print('Acurracy: ' +str(accuracy)+'%')"
      ],
      "execution_count": 19,
      "outputs": [
        {
          "output_type": "stream",
          "text": [
            "18\n",
            "27\n",
            "30\n",
            "Acurracy: 0.4166666666666667%\n"
          ],
          "name": "stdout"
        }
      ]
    },
    {
      "cell_type": "markdown",
      "metadata": {
        "id": "WOjDeQhNaU57",
        "colab_type": "text"
      },
      "source": [
        "# Metrics\n"
      ]
    },
    {
      "cell_type": "code",
      "metadata": {
        "id": "TrpnaxBHef_A",
        "colab_type": "code",
        "colab": {}
      },
      "source": [
        "# merge dataframes\n",
        "\n",
        "deeplearning = [tweets_march, tweets_april, tweets_may]\n",
        "deeplearning_multi = [tweets_march_multi, tweets_april_multi, tweets_may_multi]\n",
        "lexicon = [tweets_march_lexicon, tweets_april_lexicon, tweets_may_lexicon]\n",
        "\n",
        "results_deeplearning = pd.concat(deeplearning)\n",
        "results_deeplearning_multi = pd.concat(deeplearning_multi)\n",
        "results_lexicon = pd.concat(lexicon)\n",
        "\n"
      ],
      "execution_count": 20,
      "outputs": []
    },
    {
      "cell_type": "code",
      "metadata": {
        "id": "Ckfw4i5lftjs",
        "colab_type": "code",
        "colab": {
          "base_uri": "https://localhost:8080/",
          "height": 195
        },
        "outputId": "ec6f97ee-3ac6-4560-fa60-88bdfcf34e87"
      },
      "source": [
        "results_deeplearning.head()"
      ],
      "execution_count": 21,
      "outputs": [
        {
          "output_type": "execute_result",
          "data": {
            "text/html": [
              "<div>\n",
              "<style scoped>\n",
              "    .dataframe tbody tr th:only-of-type {\n",
              "        vertical-align: middle;\n",
              "    }\n",
              "\n",
              "    .dataframe tbody tr th {\n",
              "        vertical-align: top;\n",
              "    }\n",
              "\n",
              "    .dataframe thead th {\n",
              "        text-align: right;\n",
              "    }\n",
              "</style>\n",
              "<table border=\"1\" class=\"dataframe\">\n",
              "  <thead>\n",
              "    <tr style=\"text-align: right;\">\n",
              "      <th></th>\n",
              "      <th>tweet</th>\n",
              "      <th>classification</th>\n",
              "      <th>gt</th>\n",
              "      <th>result</th>\n",
              "    </tr>\n",
              "  </thead>\n",
              "  <tbody>\n",
              "    <tr>\n",
              "      <th>0</th>\n",
              "      <td>Serviço público #coronavirus</td>\n",
              "      <td>POSITIVE</td>\n",
              "      <td>POSITIVE</td>\n",
              "      <td>1</td>\n",
              "    </tr>\n",
              "    <tr>\n",
              "      <th>1</th>\n",
              "      <td>Imaginem quando o Éder for para foder o Corona vírus</td>\n",
              "      <td>NEGATIVE</td>\n",
              "      <td>POSITIVE</td>\n",
              "      <td>0</td>\n",
              "    </tr>\n",
              "    <tr>\n",
              "      <th>2</th>\n",
              "      <td>Daqui um ano vão fazer um filme baseado no coronavirus. \"Epidemia de covi-19 no mundo\"</td>\n",
              "      <td>POSITIVE</td>\n",
              "      <td>POSITIVE</td>\n",
              "      <td>1</td>\n",
              "    </tr>\n",
              "    <tr>\n",
              "      <th>3</th>\n",
              "      <td>O JJ admitiu que perdeu uma pessoa em Portugal com coronavirus e vocês ainda acreditam que não há mortos????</td>\n",
              "      <td>NEGATIVE</td>\n",
              "      <td>NEGATIVE</td>\n",
              "      <td>1</td>\n",
              "    </tr>\n",
              "    <tr>\n",
              "      <th>4</th>\n",
              "      <td>França em lockdown dentro de 2 semanas. Imbecis. #coronavirus</td>\n",
              "      <td>NEGATIVE</td>\n",
              "      <td>NEGATIVE</td>\n",
              "      <td>1</td>\n",
              "    </tr>\n",
              "  </tbody>\n",
              "</table>\n",
              "</div>"
            ],
            "text/plain": [
              "                                                                                                          tweet  ... result\n",
              "0                                                                                 Serviço público #coronavirus   ...      1\n",
              "1                                                         Imaginem quando o Éder for para foder o Corona vírus   ...      0\n",
              "2                        Daqui um ano vão fazer um filme baseado no coronavirus. \"Epidemia de covi-19 no mundo\"  ...      1\n",
              "3  O JJ admitiu que perdeu uma pessoa em Portugal com coronavirus e vocês ainda acreditam que não há mortos????  ...      1\n",
              "4                                                França em lockdown dentro de 2 semanas. Imbecis. #coronavirus   ...      1\n",
              "\n",
              "[5 rows x 4 columns]"
            ]
          },
          "metadata": {
            "tags": []
          },
          "execution_count": 21
        }
      ]
    },
    {
      "cell_type": "code",
      "metadata": {
        "id": "lsUF4n1ypr7C",
        "colab_type": "code",
        "colab": {
          "base_uri": "https://localhost:8080/",
          "height": 356
        },
        "outputId": "833e4f4e-f25c-4f45-9b47-6ac820ea4193"
      },
      "source": [
        "%matplotlib inline\n",
        "import seaborn as sns\n",
        "import matplotlib.pyplot as plt\n",
        "\n",
        "gt_count = results_deeplearning['gt'].value_counts()\n",
        "sns.set(style=\"darkgrid\")\n",
        "sns.barplot(gt_count.index, gt_count.values, alpha=0.9)\n",
        "plt.title('Frequency of Ground Truth values - Deep Learning')\n",
        "plt.ylabel('Number of Occurrences', fontsize=12)\n",
        "plt.xlabel('Given sentiment', fontsize=12)\n",
        "plt.show()\n"
      ],
      "execution_count": 22,
      "outputs": [
        {
          "output_type": "stream",
          "text": [
            "/usr/local/lib/python3.6/dist-packages/statsmodels/tools/_testing.py:19: FutureWarning: pandas.util.testing is deprecated. Use the functions in the public API at pandas.testing instead.\n",
            "  import pandas.util.testing as tm\n"
          ],
          "name": "stderr"
        },
        {
          "output_type": "display_data",
          "data": {
            "image/png": "[encoded data removed]",
            "text/plain": [
              "<Figure size 432x288 with 1 Axes>"
            ]
          },
          "metadata": {
            "tags": []
          }
        }
      ]
    },
    {
      "cell_type": "markdown",
      "metadata": {
        "id": "sc8hrucSrTo_",
        "colab_type": "text"
      },
      "source": [
        "Como não aparenta haver um não balanceamento muito expressivo entre classes, [deve-se usar a avg macro](https://datascience.stackexchange.com/questions/15989/micro-average-vs-macro-average-performance-in-a-multiclass-classification-settin/24051#24051)."
      ]
    },
    {
      "cell_type": "code",
      "metadata": {
        "id": "Df-PAtXWgyrv",
        "colab_type": "code",
        "colab": {}
      },
      "source": [
        "# one-hot encoding\n",
        "y_true_deeplearning = pd.get_dummies(results_deeplearning['gt'], sparse=True)\n",
        "y_pred_deeplearning = pd.get_dummies(results_deeplearning['classification'], sparse=True)"
      ],
      "execution_count": 23,
      "outputs": []
    },
    {
      "cell_type": "code",
      "metadata": {
        "id": "m8k030bd9pVF",
        "colab_type": "code",
        "colab": {
          "base_uri": "https://localhost:8080/",
          "height": 263
        },
        "outputId": "7c62fd27-9011-4e80-833c-01950d696b8a"
      },
      "source": [
        "print(pd.get_dummies(results_deeplearning['gt'], sparse=True))"
      ],
      "execution_count": 77,
      "outputs": [
        {
          "output_type": "stream",
          "text": [
            "    NEGATIVE  POSITIVE\n",
            "0          0         1\n",
            "1          0         1\n",
            "2          0         1\n",
            "3          1         0\n",
            "4          1         0\n",
            "..       ...       ...\n",
            "25         0         1\n",
            "26         0         1\n",
            "27         1         0\n",
            "28         0         1\n",
            "29         0         1\n",
            "\n",
            "[180 rows x 2 columns]\n"
          ],
          "name": "stdout"
        }
      ]
    },
    {
      "cell_type": "code",
      "metadata": {
        "id": "-QCGY9xJhBcM",
        "colab_type": "code",
        "colab": {}
      },
      "source": [
        "y_true_deeplearning = y_true_deeplearning.to_numpy()\n",
        "y_pred_deeplearning = y_pred_deeplearning.to_numpy()"
      ],
      "execution_count": 24,
      "outputs": []
    },
    {
      "cell_type": "code",
      "metadata": {
        "id": "GBQvPPPskONT",
        "colab_type": "code",
        "colab": {
          "base_uri": "https://localhost:8080/",
          "height": 1000
        },
        "outputId": "a580182c-ad2f-4fa9-98e8-7972fafb9bac"
      },
      "source": [
        "print(y_true_deeplearning)\n",
        "print(y_pred_deeplearning)"
      ],
      "execution_count": 25,
      "outputs": [
        {
          "output_type": "stream",
          "text": [
            "[[0 1]\n",
            " [0 1]\n",
            " [0 1]\n",
            " [1 0]\n",
            " [1 0]\n",
            " [0 1]\n",
            " [1 0]\n",
            " [1 0]\n",
            " [0 1]\n",
            " [1 0]\n",
            " [1 0]\n",
            " [0 1]\n",
            " [0 1]\n",
            " [0 1]\n",
            " [1 0]\n",
            " [1 0]\n",
            " [0 1]\n",
            " [1 0]\n",
            " [1 0]\n",
            " [0 1]\n",
            " [1 0]\n",
            " [1 0]\n",
            " [1 0]\n",
            " [1 0]\n",
            " [1 0]\n",
            " [0 1]\n",
            " [0 1]\n",
            " [1 0]\n",
            " [0 1]\n",
            " [1 0]\n",
            " [0 1]\n",
            " [0 1]\n",
            " [0 1]\n",
            " [1 0]\n",
            " [1 0]\n",
            " [0 1]\n",
            " [1 0]\n",
            " [1 0]\n",
            " [0 1]\n",
            " [1 0]\n",
            " [1 0]\n",
            " [0 1]\n",
            " [0 1]\n",
            " [0 1]\n",
            " [1 0]\n",
            " [1 0]\n",
            " [0 1]\n",
            " [1 0]\n",
            " [1 0]\n",
            " [0 1]\n",
            " [1 0]\n",
            " [1 0]\n",
            " [1 0]\n",
            " [1 0]\n",
            " [1 0]\n",
            " [0 1]\n",
            " [0 1]\n",
            " [1 0]\n",
            " [0 1]\n",
            " [1 0]\n",
            " [1 0]\n",
            " [1 0]\n",
            " [1 0]\n",
            " [1 0]\n",
            " [0 1]\n",
            " [1 0]\n",
            " [1 0]\n",
            " [0 1]\n",
            " [1 0]\n",
            " [0 1]\n",
            " [0 1]\n",
            " [1 0]\n",
            " [0 1]\n",
            " [0 1]\n",
            " [1 0]\n",
            " [1 0]\n",
            " [0 1]\n",
            " [1 0]\n",
            " [1 0]\n",
            " [0 1]\n",
            " [1 0]\n",
            " [1 0]\n",
            " [1 0]\n",
            " [0 1]\n",
            " [1 0]\n",
            " [1 0]\n",
            " [1 0]\n",
            " [1 0]\n",
            " [0 1]\n",
            " [1 0]\n",
            " [1 0]\n",
            " [1 0]\n",
            " [1 0]\n",
            " [1 0]\n",
            " [0 1]\n",
            " [1 0]\n",
            " [1 0]\n",
            " [0 1]\n",
            " [1 0]\n",
            " [0 1]\n",
            " [0 1]\n",
            " [1 0]\n",
            " [0 1]\n",
            " [0 1]\n",
            " [1 0]\n",
            " [1 0]\n",
            " [0 1]\n",
            " [1 0]\n",
            " [1 0]\n",
            " [0 1]\n",
            " [1 0]\n",
            " [1 0]\n",
            " [1 0]\n",
            " [0 1]\n",
            " [1 0]\n",
            " [1 0]\n",
            " [1 0]\n",
            " [1 0]\n",
            " [0 1]\n",
            " [1 0]\n",
            " [0 1]\n",
            " [1 0]\n",
            " [1 0]\n",
            " [1 0]\n",
            " [0 1]\n",
            " [1 0]\n",
            " [1 0]\n",
            " [0 1]\n",
            " [0 1]\n",
            " [0 1]\n",
            " [0 1]\n",
            " [1 0]\n",
            " [0 1]\n",
            " [0 1]\n",
            " [1 0]\n",
            " [0 1]\n",
            " [1 0]\n",
            " [1 0]\n",
            " [0 1]\n",
            " [1 0]\n",
            " [0 1]\n",
            " [1 0]\n",
            " [1 0]\n",
            " [1 0]\n",
            " [1 0]\n",
            " [0 1]\n",
            " [0 1]\n",
            " [1 0]\n",
            " [0 1]\n",
            " [0 1]\n",
            " [0 1]\n",
            " [1 0]\n",
            " [1 0]\n",
            " [1 0]\n",
            " [0 1]\n",
            " [1 0]\n",
            " [1 0]\n",
            " [0 1]\n",
            " [0 1]\n",
            " [0 1]\n",
            " [0 1]\n",
            " [1 0]\n",
            " [0 1]\n",
            " [0 1]\n",
            " [1 0]\n",
            " [0 1]\n",
            " [1 0]\n",
            " [1 0]\n",
            " [0 1]\n",
            " [1 0]\n",
            " [0 1]\n",
            " [1 0]\n",
            " [1 0]\n",
            " [1 0]\n",
            " [1 0]\n",
            " [0 1]\n",
            " [0 1]\n",
            " [1 0]\n",
            " [0 1]\n",
            " [0 1]]\n",
            "[[0 1]\n",
            " [1 0]\n",
            " [0 1]\n",
            " [1 0]\n",
            " [1 0]\n",
            " [0 1]\n",
            " [0 1]\n",
            " [1 0]\n",
            " [1 0]\n",
            " [1 0]\n",
            " [1 0]\n",
            " [1 0]\n",
            " [0 1]\n",
            " [0 1]\n",
            " [1 0]\n",
            " [1 0]\n",
            " [0 1]\n",
            " [1 0]\n",
            " [1 0]\n",
            " [1 0]\n",
            " [0 1]\n",
            " [1 0]\n",
            " [0 1]\n",
            " [1 0]\n",
            " [1 0]\n",
            " [1 0]\n",
            " [1 0]\n",
            " [0 1]\n",
            " [0 1]\n",
            " [1 0]\n",
            " [0 1]\n",
            " [1 0]\n",
            " [1 0]\n",
            " [1 0]\n",
            " [1 0]\n",
            " [0 1]\n",
            " [1 0]\n",
            " [1 0]\n",
            " [1 0]\n",
            " [1 0]\n",
            " [1 0]\n",
            " [1 0]\n",
            " [0 1]\n",
            " [1 0]\n",
            " [1 0]\n",
            " [1 0]\n",
            " [1 0]\n",
            " [1 0]\n",
            " [1 0]\n",
            " [1 0]\n",
            " [1 0]\n",
            " [1 0]\n",
            " [0 1]\n",
            " [0 1]\n",
            " [1 0]\n",
            " [1 0]\n",
            " [0 1]\n",
            " [1 0]\n",
            " [1 0]\n",
            " [1 0]\n",
            " [0 1]\n",
            " [1 0]\n",
            " [1 0]\n",
            " [1 0]\n",
            " [1 0]\n",
            " [1 0]\n",
            " [1 0]\n",
            " [1 0]\n",
            " [1 0]\n",
            " [0 1]\n",
            " [0 1]\n",
            " [1 0]\n",
            " [0 1]\n",
            " [1 0]\n",
            " [1 0]\n",
            " [0 1]\n",
            " [0 1]\n",
            " [1 0]\n",
            " [0 1]\n",
            " [0 1]\n",
            " [1 0]\n",
            " [1 0]\n",
            " [1 0]\n",
            " [1 0]\n",
            " [1 0]\n",
            " [1 0]\n",
            " [0 1]\n",
            " [0 1]\n",
            " [1 0]\n",
            " [1 0]\n",
            " [1 0]\n",
            " [1 0]\n",
            " [1 0]\n",
            " [0 1]\n",
            " [0 1]\n",
            " [1 0]\n",
            " [1 0]\n",
            " [1 0]\n",
            " [1 0]\n",
            " [1 0]\n",
            " [0 1]\n",
            " [0 1]\n",
            " [1 0]\n",
            " [1 0]\n",
            " [1 0]\n",
            " [1 0]\n",
            " [0 1]\n",
            " [1 0]\n",
            " [1 0]\n",
            " [1 0]\n",
            " [0 1]\n",
            " [1 0]\n",
            " [0 1]\n",
            " [0 1]\n",
            " [0 1]\n",
            " [1 0]\n",
            " [1 0]\n",
            " [1 0]\n",
            " [0 1]\n",
            " [0 1]\n",
            " [1 0]\n",
            " [1 0]\n",
            " [0 1]\n",
            " [1 0]\n",
            " [1 0]\n",
            " [0 1]\n",
            " [1 0]\n",
            " [0 1]\n",
            " [1 0]\n",
            " [0 1]\n",
            " [1 0]\n",
            " [1 0]\n",
            " [0 1]\n",
            " [0 1]\n",
            " [1 0]\n",
            " [0 1]\n",
            " [1 0]\n",
            " [1 0]\n",
            " [0 1]\n",
            " [0 1]\n",
            " [1 0]\n",
            " [1 0]\n",
            " [1 0]\n",
            " [0 1]\n",
            " [0 1]\n",
            " [0 1]\n",
            " [0 1]\n",
            " [1 0]\n",
            " [0 1]\n",
            " [1 0]\n",
            " [0 1]\n",
            " [1 0]\n",
            " [1 0]\n",
            " [1 0]\n",
            " [1 0]\n",
            " [1 0]\n",
            " [0 1]\n",
            " [0 1]\n",
            " [0 1]\n",
            " [1 0]\n",
            " [0 1]\n",
            " [1 0]\n",
            " [1 0]\n",
            " [1 0]\n",
            " [0 1]\n",
            " [1 0]\n",
            " [1 0]\n",
            " [0 1]\n",
            " [1 0]\n",
            " [0 1]\n",
            " [1 0]\n",
            " [1 0]\n",
            " [1 0]\n",
            " [1 0]\n",
            " [0 1]\n",
            " [1 0]\n",
            " [0 1]\n",
            " [1 0]\n",
            " [1 0]\n",
            " [1 0]]\n"
          ],
          "name": "stdout"
        }
      ]
    },
    {
      "cell_type": "code",
      "metadata": {
        "id": "aO0D1aIGhluP",
        "colab_type": "code",
        "colab": {
          "base_uri": "https://localhost:8080/",
          "height": 210
        },
        "outputId": "20bc1fa8-a0ff-44bd-ee01-4d41f354ca24"
      },
      "source": [
        "print('Exact Match Ratio: {0}'.format(sklearn.metrics.accuracy_score(y_true_deeplearning, y_pred_deeplearning, normalize=True, sample_weight=None)))\n",
        "print('Hamming loss: {0}'.format(sklearn.metrics.hamming_loss(y_true_deeplearning, y_pred_deeplearning))) \n",
        "print('micro-Recall: {0}'.format(sklearn.metrics.precision_score(y_true=y_true_deeplearning, y_pred=y_pred_deeplearning, average='micro'))) \n",
        "print('micro-Precision: {0}'.format(sklearn.metrics.recall_score(y_true=y_true_deeplearning, y_pred=y_pred_deeplearning, average='micro')))\n",
        "print('micro-F1 Measure: {0}'.format(sklearn.metrics.f1_score(y_true=y_true_deeplearning, y_pred=y_pred_deeplearning, average='micro'))) \n",
        "print('macro-Recall: {0}'.format(sklearn.metrics.precision_score(y_true=y_true_deeplearning, y_pred=y_pred_deeplearning, average='macro'))) \n",
        "print('macro-Precision: {0}'.format(sklearn.metrics.recall_score(y_true=y_true_deeplearning, y_pred=y_pred_deeplearning, average='macro')))\n",
        "print('macro-F1 Measure: {0}'.format(sklearn.metrics.f1_score(y_true=y_true_deeplearning, y_pred=y_pred_deeplearning, average='macro'))) \n",
        "print('weighted-Recall: {0}'.format(sklearn.metrics.precision_score(y_true=y_true_deeplearning, y_pred=y_pred_deeplearning, average='weighted'))) \n",
        "print('weighted-Precision: {0}'.format(sklearn.metrics.recall_score(y_true=y_true_deeplearning, y_pred=y_pred_deeplearning, average='weighted')))\n",
        "print('weigthed-F1 Measure: {0}'.format(sklearn.metrics.f1_score(y_true=y_true_deeplearning, y_pred=y_pred_deeplearning, average='weighted'))) "
      ],
      "execution_count": 34,
      "outputs": [
        {
          "output_type": "stream",
          "text": [
            "Exact Match Ratio: 0.6222222222222222\n",
            "Hamming loss: 0.37777777777777777\n",
            "micro-Recall: 0.6222222222222222\n",
            "micro-Precision: 0.6222222222222222\n",
            "micro-F1 Measure: 0.6222222222222222\n",
            "macro-Recall: 0.608529250956807\n",
            "macro-Precision: 0.6004554655870445\n",
            "macro-F1 Measure: 0.600470035252644\n",
            "weighted-Recall: 0.6153757365895147\n",
            "weighted-Precision: 0.6222222222222222\n",
            "weigthed-F1 Measure: 0.6149714932323628\n"
          ],
          "name": "stdout"
        }
      ]
    },
    {
      "cell_type": "code",
      "metadata": {
        "id": "5YoTANJ7zMWU",
        "colab_type": "code",
        "colab": {
          "base_uri": "https://localhost:8080/",
          "height": 450
        },
        "outputId": "963d0bbb-7583-4e8e-b8c2-48540a0cef5b"
      },
      "source": [
        "from sklearn.metrics import classification_report\n",
        "\n",
        "\n",
        "labels_dl = ['Negative', 'Positive']\n",
        "\n",
        "cm = sklearn.metrics.confusion_matrix(y_true_deeplearning.argmax(axis=1), y_pred_deeplearning.argmax(axis=1), sample_weight=None, normalize=None)\n",
        "\n",
        "fig = plt.figure()\n",
        "ax = fig.add_subplot(111)\n",
        "cax = ax.matshow(cm)\n",
        "plt.title('Confusion matrix of the classifier')\n",
        "fig.colorbar(cax)\n",
        "ax.set_xticklabels([''] + labels_dl)\n",
        "ax.set_yticklabels([''] + labels_dl)\n",
        "plt.xlabel('Predicted')\n",
        "plt.ylabel('True')\n",
        "plt.set_cmap('Blues')\n",
        "plt.show()\n",
        "\n",
        "print(classification_report(y_true_deeplearning.argmax(axis=1), y_pred_deeplearning.argmax(axis=1), target_names=labels_dl))"
      ],
      "execution_count": 78,
      "outputs": [
        {
          "output_type": "display_data",
          "data": {
            "image/png": "[encoded data removed]",
            "text/plain": [
              "<Figure size 432x288 with 2 Axes>"
            ]
          },
          "metadata": {
            "tags": []
          }
        },
        {
          "output_type": "stream",
          "text": [
            "              precision    recall  f1-score   support\n",
            "\n",
            "    Negative       0.65      0.74      0.69       104\n",
            "    Positive       0.56      0.46      0.51        76\n",
            "\n",
            "    accuracy                           0.62       180\n",
            "   macro avg       0.61      0.60      0.60       180\n",
            "weighted avg       0.62      0.62      0.61       180\n",
            "\n"
          ],
          "name": "stdout"
        }
      ]
    },
    {
      "cell_type": "markdown",
      "metadata": {
        "id": "4qME9XZHrj1P",
        "colab_type": "text"
      },
      "source": [
        "## Results - Deep Learning MultiLingual"
      ]
    },
    {
      "cell_type": "code",
      "metadata": {
        "id": "uQB2_jpvr0JS",
        "colab_type": "code",
        "colab": {}
      },
      "source": [
        "# one-hot encoding\n",
        "y_true_deeplearning_multi = pd.get_dummies(results_deeplearning_multi['gt'], sparse=True)\n",
        "y_pred_deeplearning_multi = pd.get_dummies(results_deeplearning_multi['classification'], sparse=True)"
      ],
      "execution_count": 27,
      "outputs": []
    },
    {
      "cell_type": "code",
      "metadata": {
        "id": "337eyDBb9jTH",
        "colab_type": "code",
        "colab": {
          "base_uri": "https://localhost:8080/",
          "height": 263
        },
        "outputId": "f4384105-46cf-497a-cb3c-273a09c1b6e9"
      },
      "source": [
        "print(pd.get_dummies(results_deeplearning_multi['gt'], sparse=True))"
      ],
      "execution_count": 76,
      "outputs": [
        {
          "output_type": "stream",
          "text": [
            "    NEGATIVE  POSITIVE\n",
            "0          0         1\n",
            "1          0         1\n",
            "2          0         1\n",
            "3          1         0\n",
            "4          1         0\n",
            "..       ...       ...\n",
            "25         0         1\n",
            "26         0         1\n",
            "27         1         0\n",
            "28         0         1\n",
            "29         0         1\n",
            "\n",
            "[180 rows x 2 columns]\n"
          ],
          "name": "stdout"
        }
      ]
    },
    {
      "cell_type": "code",
      "metadata": {
        "id": "iag8U6P9sAJU",
        "colab_type": "code",
        "colab": {}
      },
      "source": [
        "y_true_deeplearning_multi = y_true_deeplearning_multi.to_numpy()\n",
        "y_pred_deeplearning_multi = y_pred_deeplearning_multi.to_numpy()"
      ],
      "execution_count": 28,
      "outputs": []
    },
    {
      "cell_type": "code",
      "metadata": {
        "id": "3sMG5vL-sPSU",
        "colab_type": "code",
        "colab": {
          "base_uri": "https://localhost:8080/",
          "height": 210
        },
        "outputId": "5a110677-3333-4ead-8b71-ffc08677aa13"
      },
      "source": [
        "print('Exact Match Ratio: {0}'.format(sklearn.metrics.accuracy_score(y_true_deeplearning_multi, y_pred_deeplearning_multi, normalize=True, sample_weight=None)))\n",
        "print('Hamming loss: {0}'.format(sklearn.metrics.hamming_loss(y_true_deeplearning_multi, y_pred_deeplearning_multi))) \n",
        "print('micro-Recall: {0}'.format(sklearn.metrics.precision_score(y_true=y_true_deeplearning_multi, y_pred=y_pred_deeplearning_multi, average='micro'))) \n",
        "print('micro-Precision: {0}'.format(sklearn.metrics.recall_score(y_true=y_true_deeplearning_multi, y_pred=y_pred_deeplearning_multi, average='micro')))\n",
        "print('micro-F1 Measure: {0}'.format(sklearn.metrics.f1_score(y_true=y_true_deeplearning_multi, y_pred=y_pred_deeplearning_multi, average='micro'))) \n",
        "print('macro-Recall: {0}'.format(sklearn.metrics.precision_score(y_true=y_true_deeplearning_multi, y_pred=y_pred_deeplearning_multi, average='macro'))) \n",
        "print('macro-Precision: {0}'.format(sklearn.metrics.recall_score(y_true=y_true_deeplearning_multi, y_pred=y_pred_deeplearning_multi, average='macro')))\n",
        "print('macro-F1 Measure: {0}'.format(sklearn.metrics.f1_score(y_true=y_true_deeplearning_multi, y_pred=y_pred_deeplearning_multi, average='macro'))) \n",
        "print('weighted-Recall: {0}'.format(sklearn.metrics.precision_score(y_true=y_true_deeplearning_multi, y_pred=y_pred_deeplearning_multi, average='weighted'))) \n",
        "print('weighted-Precision: {0}'.format(sklearn.metrics.recall_score(y_true=y_true_deeplearning_multi, y_pred=y_pred_deeplearning_multi, average='weighted')))\n",
        "print('weighted-F1 Measure: {0}'.format(sklearn.metrics.f1_score(y_true=y_true_deeplearning_multi, y_pred=y_pred_deeplearning_multi, average='weighted'))) "
      ],
      "execution_count": 35,
      "outputs": [
        {
          "output_type": "stream",
          "text": [
            "Exact Match Ratio: 0.45\n",
            "Hamming loss: 0.55\n",
            "micro-Recall: 0.45\n",
            "micro-Precision: 0.45\n",
            "micro-F1 Measure: 0.45\n",
            "macro-Recall: 0.46777176066569803\n",
            "macro-Precision: 0.4691295546558704\n",
            "macro-F1 Measure: 0.44862155388471175\n",
            "weighted-Recall: 0.47858935411438386\n",
            "weighted-Precision: 0.45\n",
            "weighted-F1 Measure: 0.44433305485937064\n"
          ],
          "name": "stdout"
        }
      ]
    },
    {
      "cell_type": "code",
      "metadata": {
        "id": "QPvAG9SJy1xy",
        "colab_type": "code",
        "colab": {
          "base_uri": "https://localhost:8080/",
          "height": 450
        },
        "outputId": "c703b36a-4899-45b1-de83-1cc3b71064b6"
      },
      "source": [
        "labels_multi = ['Negative', 'Positive']\n",
        "\n",
        "cm = sklearn.metrics.confusion_matrix(y_true_deeplearning_multi.argmax(axis=1), y_pred_deeplearning_multi.argmax(axis=1), sample_weight=None, normalize=None)\n",
        "\n",
        "fig = plt.figure()\n",
        "ax = fig.add_subplot(111)\n",
        "cax = ax.matshow(cm)\n",
        "plt.title('Confusion matrix of the classifier')\n",
        "fig.colorbar(cax)\n",
        "ax.set_xticklabels([''] + labels_multi)\n",
        "ax.set_yticklabels([''] + labels_multi)\n",
        "plt.xlabel('Predicted')\n",
        "plt.ylabel('True')\n",
        "plt.set_cmap('Blues')\n",
        "plt.show()\n",
        "\n",
        "print(classification_report(y_true_deeplearning_multi.argmax(axis=1), y_pred_deeplearning_multi.argmax(axis=1), target_names=labels_multi))"
      ],
      "execution_count": 79,
      "outputs": [
        {
          "output_type": "display_data",
          "data": {
            "image/png": "[encoded data removed]",
            "text/plain": [
              "<Figure size 432x288 with 2 Axes>"
            ]
          },
          "metadata": {
            "tags": []
          }
        },
        {
          "output_type": "stream",
          "text": [
            "              precision    recall  f1-score   support\n",
            "\n",
            "    Negative       0.54      0.35      0.42       104\n",
            "    Positive       0.40      0.59      0.48        76\n",
            "\n",
            "    accuracy                           0.45       180\n",
            "   macro avg       0.47      0.47      0.45       180\n",
            "weighted avg       0.48      0.45      0.44       180\n",
            "\n"
          ],
          "name": "stdout"
        }
      ]
    },
    {
      "cell_type": "markdown",
      "metadata": {
        "id": "VyMUFqUtroGx",
        "colab_type": "text"
      },
      "source": [
        "## Results - Lexicon"
      ]
    },
    {
      "cell_type": "code",
      "metadata": {
        "id": "EEgfWXZgspwo",
        "colab_type": "code",
        "colab": {
          "base_uri": "https://localhost:8080/",
          "height": 301
        },
        "outputId": "8c9b3cc2-065a-4237-ff8a-4f015d3a945c"
      },
      "source": [
        "gt_count_lexicon = results_lexicon['gt'].value_counts()\n",
        "sns.set(style=\"darkgrid\")\n",
        "sns.barplot(gt_count_lexicon.index, gt_count_lexicon.values, alpha=0.9)\n",
        "plt.title('Frequency of Ground Truth values - Lexicon')\n",
        "plt.ylabel('Number of Occurrences', fontsize=12)\n",
        "plt.xlabel('Given sentiment', fontsize=12)\n",
        "plt.show()\n",
        "\n",
        "#nao balanceado, usar micro"
      ],
      "execution_count": 30,
      "outputs": [
        {
          "output_type": "display_data",
          "data": {
            "image/png": "[encoded data removed]",
            "text/plain": [
              "<Figure size 432x288 with 1 Axes>"
            ]
          },
          "metadata": {
            "tags": []
          }
        }
      ]
    },
    {
      "cell_type": "code",
      "metadata": {
        "id": "scJODsvKsoDh",
        "colab_type": "code",
        "colab": {}
      },
      "source": [
        "y_true_lexicon = pd.get_dummies(results_lexicon['gt'], sparse=True)\n",
        "y_pred_lexicon = pd.get_dummies(results_lexicon['Classification'], sparse=True)"
      ],
      "execution_count": 31,
      "outputs": []
    },
    {
      "cell_type": "code",
      "metadata": {
        "id": "kn5vNjOT9IAV",
        "colab_type": "code",
        "colab": {
          "base_uri": "https://localhost:8080/",
          "height": 263
        },
        "outputId": "8d913004-b578-481e-deb0-02d38be5ea93"
      },
      "source": [
        "print(pd.get_dummies(results_lexicon['gt'], sparse=True))"
      ],
      "execution_count": 75,
      "outputs": [
        {
          "output_type": "stream",
          "text": [
            "    Negative  Neutral  Positive\n",
            "0          0        1         0\n",
            "1          0        0         1\n",
            "2          0        1         0\n",
            "3          1        0         0\n",
            "4          1        0         0\n",
            "..       ...      ...       ...\n",
            "25         0        0         1\n",
            "26         1        0         0\n",
            "27         0        1         0\n",
            "28         0        1         0\n",
            "29         0        1         0\n",
            "\n",
            "[180 rows x 3 columns]\n"
          ],
          "name": "stdout"
        }
      ]
    },
    {
      "cell_type": "code",
      "metadata": {
        "id": "FQ6Ldrhbsn_T",
        "colab_type": "code",
        "colab": {}
      },
      "source": [
        "y_true_lexicon = y_true_lexicon.to_numpy()\n",
        "y_pred_lexicon = y_pred_lexicon.to_numpy()"
      ],
      "execution_count": 32,
      "outputs": []
    },
    {
      "cell_type": "code",
      "metadata": {
        "id": "3HDXmwHou7to",
        "colab_type": "code",
        "colab": {
          "base_uri": "https://localhost:8080/",
          "height": 210
        },
        "outputId": "def30299-8657-4986-b083-3a5d5d476779"
      },
      "source": [
        "print('Exact Match Ratio: {0}'.format(sklearn.metrics.accuracy_score(y_true_lexicon, y_pred_lexicon, normalize=True, sample_weight=None)))\n",
        "print('Hamming loss: {0}'.format(sklearn.metrics.hamming_loss(y_true_lexicon, y_pred_lexicon))) \n",
        "print('micro-Recall: {0}'.format(sklearn.metrics.precision_score(y_true=y_true_lexicon, y_pred=y_pred_lexicon, average='micro'))) \n",
        "print('micro-Precision: {0}'.format(sklearn.metrics.recall_score(y_true=y_true_lexicon, y_pred=y_pred_lexicon, average='micro')))\n",
        "print('micro-F1 Measure: {0}'.format(sklearn.metrics.f1_score(y_true=y_true_lexicon, y_pred=y_pred_lexicon, average='micro'))) \n",
        "print('macro-Recall: {0}'.format(sklearn.metrics.precision_score(y_true=y_true_lexicon, y_pred=y_pred_lexicon, average='macro'))) \n",
        "print('macro-Precision: {0}'.format(sklearn.metrics.recall_score(y_true=y_true_lexicon, y_pred=y_pred_lexicon, average='macro')))\n",
        "print('macro-F1 Measure: {0}'.format(sklearn.metrics.f1_score(y_true=y_true_lexicon, y_pred=y_pred_lexicon, average='macro'))) \n",
        "print('weighted-Recall: {0}'.format(sklearn.metrics.precision_score(y_true=y_true_lexicon, y_pred=y_pred_lexicon, average='weighted'))) \n",
        "print('weighted-Precision: {0}'.format(sklearn.metrics.recall_score(y_true=y_true_lexicon, y_pred=y_pred_lexicon, average='weighted')))\n",
        "print('weighted-F1 Measure: {0}'.format(sklearn.metrics.f1_score(y_true=y_true_lexicon, y_pred=y_pred_lexicon, average='weighted'))) "
      ],
      "execution_count": 36,
      "outputs": [
        {
          "output_type": "stream",
          "text": [
            "Exact Match Ratio: 0.4166666666666667\n",
            "Hamming loss: 0.3888888888888889\n",
            "micro-Recall: 0.4166666666666667\n",
            "micro-Precision: 0.4166666666666667\n",
            "micro-F1 Measure: 0.4166666666666667\n",
            "macro-Recall: 0.4135037929744156\n",
            "macro-Precision: 0.4151315789473684\n",
            "macro-F1 Measure: 0.4089653653954956\n",
            "weighted-Recall: 0.437523593342013\n",
            "weighted-Precision: 0.4166666666666667\n",
            "weighted-F1 Measure: 0.4224137850946991\n"
          ],
          "name": "stdout"
        }
      ]
    },
    {
      "cell_type": "code",
      "metadata": {
        "id": "GT1iL2k7vy_R",
        "colab_type": "code",
        "colab": {
          "base_uri": "https://localhost:8080/",
          "height": 468
        },
        "outputId": "902f8562-a4de-4867-955c-6ea835319847"
      },
      "source": [
        "from sklearn.metrics import classification_report\n",
        "\n",
        "labels = ['Negative', 'Neutral', 'Positive']\n",
        "\n",
        "cm = sklearn.metrics.confusion_matrix(y_true_lexicon.argmax(axis=1), y_pred_lexicon.argmax(axis=1), sample_weight=None, normalize=None)\n",
        "\n",
        "fig = plt.figure()\n",
        "ax = fig.add_subplot(111)\n",
        "cax = ax.matshow(cm)\n",
        "plt.title('Confusion matrix of the classifier')\n",
        "fig.colorbar(cax)\n",
        "ax.set_xticklabels([''] + labels)\n",
        "ax.set_yticklabels([''] + labels)\n",
        "plt.xlabel('Predicted')\n",
        "plt.ylabel('True')\n",
        "plt.set_cmap('Blues')\n",
        "plt.show()\n",
        "\n",
        "print(classification_report(y_true_lexicon.argmax(axis=1), y_pred_lexicon.argmax(axis=1), target_names=labels))"
      ],
      "execution_count": 74,
      "outputs": [
        {
          "output_type": "display_data",
          "data": {
            "image/png": "[encoded data removed]",
            "text/plain": [
              "<Figure size 432x288 with 2 Axes>"
            ]
          },
          "metadata": {
            "tags": []
          }
        },
        {
          "output_type": "stream",
          "text": [
            "              precision    recall  f1-score   support\n",
            "\n",
            "    Negative       0.51      0.41      0.45        76\n",
            "     Neutral       0.45      0.44      0.44        64\n",
            "    Positive       0.28      0.40      0.33        40\n",
            "\n",
            "    accuracy                           0.42       180\n",
            "   macro avg       0.41      0.42      0.41       180\n",
            "weighted avg       0.44      0.42      0.42       180\n",
            "\n"
          ],
          "name": "stdout"
        }
      ]
    },
    {
      "cell_type": "markdown",
      "metadata": {
        "id": "7OgI32b9wT6S",
        "colab_type": "text"
      },
      "source": [
        "## Summary"
      ]
    },
    {
      "cell_type": "markdown",
      "metadata": {
        "id": "hiP-OsMawTbs",
        "colab_type": "text"
      },
      "source": [
        "|       Model      | Accuracy  | Hamming Loss | micro-R | micro-P | micro-F1 | macro-R | macro-P | macro-F1 |  weighted-R | weighted-P | weighted-F1 |\n",
        "|:----------------:|:---------:|:------------:|:-------:|:-------:|:--------:|:-------:|:-------:|:--------:|:-------:|:-------:|:--------:|\n",
        "| **Deep Learning EN** |   62.2%   |     37.8%    |  62.2%  |  62.2%  |   62.2%  |  60.9%  |  60.0%  |   60.0%  | 61.5% | 62.2% | 61.5% |\n",
        "| **Deep Learning PT** |   45.0%   |     55.0%    |   45%   |   45%   |    45%   |  46.8%  |  46.9%  |   44.9%  | 47.9% | 45% | 44.4% |\n",
        "|      **Lexicon**     |   41.7%   |     38.9%    |  41.7%  |  41.7%  |   41.7%  |  41.4%  |  41.5%  |   40.9%  | 43.8% | 41.7% | 42.2% |\n",
        "\n"
      ]
    }
  ]
}