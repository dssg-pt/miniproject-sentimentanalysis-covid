{
 "cells": [
  {
   "cell_type": "code",
   "execution_count": 1,
   "metadata": {},
   "outputs": [],
   "source": [
    "import nltk\n",
    "import numpy as np\n",
    "import pandas as pd\n",
    "import matplotlib.pyplot as plt\n",
    "import seaborn as sns"
   ]
  },
  {
   "cell_type": "code",
   "execution_count": 2,
   "metadata": {},
   "outputs": [],
   "source": [
    "data_path = '../extra/notícias/dataset_cleaned.csv'"
   ]
  },
  {
   "cell_type": "code",
   "execution_count": 6,
   "metadata": {},
   "outputs": [],
   "source": [
    "df_original = pd.read_csv(data_path, index_col=0)"
   ]
  },
  {
   "cell_type": "code",
   "execution_count": 7,
   "metadata": {},
   "outputs": [
    {
     "data": {
      "text/html": [
       "<div>\n",
       "<style scoped>\n",
       "    .dataframe tbody tr th:only-of-type {\n",
       "        vertical-align: middle;\n",
       "    }\n",
       "\n",
       "    .dataframe tbody tr th {\n",
       "        vertical-align: top;\n",
       "    }\n",
       "\n",
       "    .dataframe thead th {\n",
       "        text-align: right;\n",
       "    }\n",
       "</style>\n",
       "<table border=\"1\" class=\"dataframe\">\n",
       "  <thead>\n",
       "    <tr style=\"text-align: right;\">\n",
       "      <th></th>\n",
       "      <th>titulo</th>\n",
       "      <th>descricao</th>\n",
       "      <th>subtitulo</th>\n",
       "      <th>rubrica</th>\n",
       "      <th>tipo</th>\n",
       "      <th>tipoLayout</th>\n",
       "      <th>isOpinion</th>\n",
       "      <th>prioridade</th>\n",
       "      <th>aoMinuto</th>\n",
       "      <th>dataActualizacao</th>\n",
       "      <th>...</th>\n",
       "      <th>isItemOpinion</th>\n",
       "      <th>isMultipleRubric</th>\n",
       "      <th>socialTitle</th>\n",
       "      <th>isLongForm</th>\n",
       "      <th>wordCount</th>\n",
       "      <th>extra4</th>\n",
       "      <th>day</th>\n",
       "      <th>hms</th>\n",
       "      <th>title_tokenized</th>\n",
       "      <th>title_length</th>\n",
       "    </tr>\n",
       "  </thead>\n",
       "  <tbody>\n",
       "    <tr>\n",
       "      <th>0</th>\n",
       "      <td>Linha de mil milhões para micro e pequenas emp...</td>\n",
       "      <td>Ministério da Economia diz que a formalização ...</td>\n",
       "      <td>NaN</td>\n",
       "      <td>Covid-19</td>\n",
       "      <td>NOTICIA</td>\n",
       "      <td>MULTIMEDIA_NORMAL</td>\n",
       "      <td>False</td>\n",
       "      <td>3.0</td>\n",
       "      <td>False</td>\n",
       "      <td>NaN</td>\n",
       "      <td>...</td>\n",
       "      <td>False</td>\n",
       "      <td>False</td>\n",
       "      <td>Covid-19. Linha de mil milhões para micro e pe...</td>\n",
       "      <td>False</td>\n",
       "      <td>349</td>\n",
       "      <td>NaN</td>\n",
       "      <td>2020-07-28</td>\n",
       "      <td>17:16:49</td>\n",
       "      <td>['Linha', 'de', 'mil', 'milhões', 'para', 'mic...</td>\n",
       "      <td>12</td>\n",
       "    </tr>\n",
       "    <tr>\n",
       "      <th>1</th>\n",
       "      <td>Covid-19: Twitter retira vídeo e mensagens de ...</td>\n",
       "      <td>Segundo o jornal &lt;i&gt;The Washington Post&lt;/i&gt;, o...</td>\n",
       "      <td>NaN</td>\n",
       "      <td>Coronavírus</td>\n",
       "      <td>NOTICIA</td>\n",
       "      <td>MULTIMEDIA_NORMAL</td>\n",
       "      <td>False</td>\n",
       "      <td>3.0</td>\n",
       "      <td>False</td>\n",
       "      <td>NaN</td>\n",
       "      <td>...</td>\n",
       "      <td>False</td>\n",
       "      <td>False</td>\n",
       "      <td>Coronavírus. Covid-19: Twitter retira vídeo e ...</td>\n",
       "      <td>False</td>\n",
       "      <td>358</td>\n",
       "      <td>NaN</td>\n",
       "      <td>2020-07-28</td>\n",
       "      <td>17:05:16</td>\n",
       "      <td>['Covid-19', ':', 'Twitter', 'retira', 'vídeo'...</td>\n",
       "      <td>14</td>\n",
       "    </tr>\n",
       "    <tr>\n",
       "      <th>2</th>\n",
       "      <td>Tecnologia portuguesa elimina o novo coronavír...</td>\n",
       "      <td>A tecnologia pioneira AT MicroProtect, desenvo...</td>\n",
       "      <td>NaN</td>\n",
       "      <td>Coronavírus</td>\n",
       "      <td>NOTICIA</td>\n",
       "      <td>MULTIMEDIA_NORMAL</td>\n",
       "      <td>False</td>\n",
       "      <td>3.0</td>\n",
       "      <td>False</td>\n",
       "      <td>NaN</td>\n",
       "      <td>...</td>\n",
       "      <td>False</td>\n",
       "      <td>False</td>\n",
       "      <td>Coronavírus. Tecnologia portuguesa elimina o n...</td>\n",
       "      <td>False</td>\n",
       "      <td>740</td>\n",
       "      <td>NaN</td>\n",
       "      <td>2020-07-28</td>\n",
       "      <td>16:32:15</td>\n",
       "      <td>['Tecnologia', 'portuguesa', 'elimina', 'o', '...</td>\n",
       "      <td>11</td>\n",
       "    </tr>\n",
       "    <tr>\n",
       "      <th>3</th>\n",
       "      <td>“Não somos super-homens, somos humanos”: os re...</td>\n",
       "      <td>Há de tudo: a algumas pessoas a covid-19 não p...</td>\n",
       "      <td>NaN</td>\n",
       "      <td>Coronavírus</td>\n",
       "      <td>NOTICIA</td>\n",
       "      <td>LONGFORM_NORMAL</td>\n",
       "      <td>False</td>\n",
       "      <td>3.0</td>\n",
       "      <td>False</td>\n",
       "      <td>NaN</td>\n",
       "      <td>...</td>\n",
       "      <td>False</td>\n",
       "      <td>False</td>\n",
       "      <td>Coronavírus. “Não somos super-homens, somos hu...</td>\n",
       "      <td>True</td>\n",
       "      <td>2108</td>\n",
       "      <td>NOTIFIED</td>\n",
       "      <td>2020-07-28</td>\n",
       "      <td>16:10:41</td>\n",
       "      <td>['“', 'Não', 'somos', 'super-homens', ',', 'so...</td>\n",
       "      <td>16</td>\n",
       "    </tr>\n",
       "    <tr>\n",
       "      <th>4</th>\n",
       "      <td>Dez milhões de euros para as instituições part...</td>\n",
       "      <td>Da aquisição de máscaras, luvas e viseiras à c...</td>\n",
       "      <td>NaN</td>\n",
       "      <td>Covid-19</td>\n",
       "      <td>NOTICIA</td>\n",
       "      <td>MULTIMEDIA_NORMAL</td>\n",
       "      <td>False</td>\n",
       "      <td>3.0</td>\n",
       "      <td>False</td>\n",
       "      <td>NaN</td>\n",
       "      <td>...</td>\n",
       "      <td>False</td>\n",
       "      <td>False</td>\n",
       "      <td>Covid-19. Dez milhões de euros para as institu...</td>\n",
       "      <td>False</td>\n",
       "      <td>330</td>\n",
       "      <td>NaN</td>\n",
       "      <td>2020-07-28</td>\n",
       "      <td>15:18:03</td>\n",
       "      <td>['Dez', 'milhões', 'de', 'euros', 'para', 'as'...</td>\n",
       "      <td>13</td>\n",
       "    </tr>\n",
       "  </tbody>\n",
       "</table>\n",
       "<p>5 rows × 37 columns</p>\n",
       "</div>"
      ],
      "text/plain": [
       "                                              titulo  \\\n",
       "0  Linha de mil milhões para micro e pequenas emp...   \n",
       "1  Covid-19: Twitter retira vídeo e mensagens de ...   \n",
       "2  Tecnologia portuguesa elimina o novo coronavír...   \n",
       "3  “Não somos super-homens, somos humanos”: os re...   \n",
       "4  Dez milhões de euros para as instituições part...   \n",
       "\n",
       "                                           descricao subtitulo      rubrica  \\\n",
       "0  Ministério da Economia diz que a formalização ...       NaN     Covid-19   \n",
       "1  Segundo o jornal <i>The Washington Post</i>, o...       NaN  Coronavírus   \n",
       "2  A tecnologia pioneira AT MicroProtect, desenvo...       NaN  Coronavírus   \n",
       "3  Há de tudo: a algumas pessoas a covid-19 não p...       NaN  Coronavírus   \n",
       "4  Da aquisição de máscaras, luvas e viseiras à c...       NaN     Covid-19   \n",
       "\n",
       "      tipo         tipoLayout  isOpinion  prioridade  aoMinuto  \\\n",
       "0  NOTICIA  MULTIMEDIA_NORMAL      False         3.0     False   \n",
       "1  NOTICIA  MULTIMEDIA_NORMAL      False         3.0     False   \n",
       "2  NOTICIA  MULTIMEDIA_NORMAL      False         3.0     False   \n",
       "3  NOTICIA    LONGFORM_NORMAL      False         3.0     False   \n",
       "4  NOTICIA  MULTIMEDIA_NORMAL      False         3.0     False   \n",
       "\n",
       "  dataActualizacao  ... isItemOpinion isMultipleRubric  \\\n",
       "0              NaN  ...         False            False   \n",
       "1              NaN  ...         False            False   \n",
       "2              NaN  ...         False            False   \n",
       "3              NaN  ...         False            False   \n",
       "4              NaN  ...         False            False   \n",
       "\n",
       "                                         socialTitle isLongForm wordCount  \\\n",
       "0  Covid-19. Linha de mil milhões para micro e pe...      False       349   \n",
       "1  Coronavírus. Covid-19: Twitter retira vídeo e ...      False       358   \n",
       "2  Coronavírus. Tecnologia portuguesa elimina o n...      False       740   \n",
       "3  Coronavírus. “Não somos super-homens, somos hu...       True      2108   \n",
       "4  Covid-19. Dez milhões de euros para as institu...      False       330   \n",
       "\n",
       "     extra4         day       hms  \\\n",
       "0       NaN  2020-07-28  17:16:49   \n",
       "1       NaN  2020-07-28  17:05:16   \n",
       "2       NaN  2020-07-28  16:32:15   \n",
       "3  NOTIFIED  2020-07-28  16:10:41   \n",
       "4       NaN  2020-07-28  15:18:03   \n",
       "\n",
       "                                     title_tokenized title_length  \n",
       "0  ['Linha', 'de', 'mil', 'milhões', 'para', 'mic...           12  \n",
       "1  ['Covid-19', ':', 'Twitter', 'retira', 'vídeo'...           14  \n",
       "2  ['Tecnologia', 'portuguesa', 'elimina', 'o', '...           11  \n",
       "3  ['“', 'Não', 'somos', 'super-homens', ',', 'so...           16  \n",
       "4  ['Dez', 'milhões', 'de', 'euros', 'para', 'as'...           13  \n",
       "\n",
       "[5 rows x 37 columns]"
      ]
     },
     "execution_count": 7,
     "metadata": {},
     "output_type": "execute_result"
    }
   ],
   "source": [
    "df_original.head()"
   ]
  },
  {
   "cell_type": "code",
   "execution_count": 11,
   "metadata": {},
   "outputs": [
    {
     "data": {
      "text/plain": [
       "Index(['titulo', 'descricao', 'subtitulo', 'rubrica', 'tipo', 'tipoLayout',\n",
       "       'isOpinion', 'prioridade', 'aoMinuto', 'dataActualizacao', 'data',\n",
       "       'autores_id', 'autores_nome', 'autores_localizacao',\n",
       "       'autores_profissaoActual', 'autores_profissaoNaAltura',\n",
       "       'autores_isExternal', 'autores_contribuicao', 'autores_tipo', 'tags_id',\n",
       "       'tags_nome', 'tags_isPrincipal', 'tags_isTimeLine',\n",
       "       'tags_forcaConteudoAberto', 'tags_isForForuns', 'tags_isUsedInForuns',\n",
       "       'isClubeP', 'isItemOpinion', 'isMultipleRubric', 'socialTitle',\n",
       "       'isLongForm', 'wordCount', 'extra4', 'day', 'hms', 'title_tokenized',\n",
       "       'title_length'],\n",
       "      dtype='object')"
      ]
     },
     "execution_count": 11,
     "metadata": {},
     "output_type": "execute_result"
    }
   ],
   "source": [
    "df_original.columns"
   ]
  },
  {
   "cell_type": "code",
   "execution_count": 12,
   "metadata": {},
   "outputs": [
    {
     "data": {
      "text/plain": [
       "Coronavírus               5007\n",
       "Opinião                   1261\n",
       "Covid-19                   653\n",
       "Megafone                   187\n",
       "Reportagem                 132\n",
       "                          ... \n",
       "Portos                       1\n",
       "Óbitos                       1\n",
       "Pós-pandemia                 1\n",
       "Autarquias                   1\n",
       "Comissões de protecção       1\n",
       "Name: rubrica, Length: 490, dtype: int64"
      ]
     },
     "execution_count": 12,
     "metadata": {},
     "output_type": "execute_result"
    }
   ],
   "source": [
    "df_original['rubrica'].value_counts()"
   ]
  },
  {
   "cell_type": "code",
   "execution_count": 14,
   "metadata": {},
   "outputs": [
    {
     "data": {
      "text/plain": [
       "['Sociedade', 'Coronavírus']                                                                                                  18\n",
       "['Sociedade', 'Coronavírus', 'Covid-19']                                                                                      18\n",
       "['Economia', 'Coronavírus']                                                                                                   18\n",
       "['Música', 'Multimédia', 'Vídeo', 'Cultura', 'P3', 'Coronavírus', 'A Música Portuguesa a Gostar Dela Própria']                12\n",
       "['Política', 'Coronavírus']                                                                                                   10\n",
       "                                                                                                                              ..\n",
       "['Opinião', 'Coronavírus', 'Covid-19', 'Artes', 'Teatro', 'Questões sociais']                                                  1\n",
       "['Sociedade', 'Opinião', 'Religião', 'Igreja Católica', 'Papa Francisco', 'Páscoa', 'Coronavírus']                             1\n",
       "['Opinião', 'Covid-19', 'Coronavírus', 'Desconfinamento', 'Comportamentos']                                                    1\n",
       "['Economia', 'Segurança Social', 'Covid-19', 'Recibos verdes', 'Coronavírus', 'Governo', 'Trabalho e emprego', 'Trabalho']     1\n",
       "['Política', 'Covid-19', 'Coronavírus', 'Lisboa']                                                                              1\n",
       "Name: tags_nome, Length: 9329, dtype: int64"
      ]
     },
     "execution_count": 14,
     "metadata": {},
     "output_type": "execute_result"
    }
   ],
   "source": [
    "df_original['tags_nome'].value_counts()"
   ]
  },
  {
   "cell_type": "code",
   "execution_count": 9,
   "metadata": {},
   "outputs": [
    {
     "data": {
      "text/plain": [
       "NOTICIA       9390\n",
       "EXTERNOS        23\n",
       "INFOGRAFIA      13\n",
       "QUIZZ            2\n",
       "Name: tipo, dtype: int64"
      ]
     },
     "execution_count": 9,
     "metadata": {},
     "output_type": "execute_result"
    }
   ],
   "source": [
    "df_original['tipo'].value_counts()"
   ]
  },
  {
   "cell_type": "code",
   "execution_count": 10,
   "metadata": {},
   "outputs": [
    {
     "data": {
      "text/plain": [
       "False    7823\n",
       "True     1847\n",
       "Name: isOpinion, dtype: int64"
      ]
     },
     "execution_count": 10,
     "metadata": {},
     "output_type": "execute_result"
    }
   ],
   "source": [
    "df_original['isOpinion'].value_counts()"
   ]
  },
  {
   "cell_type": "code",
   "execution_count": 15,
   "metadata": {},
   "outputs": [
    {
     "data": {
      "text/plain": [
       "False    7817\n",
       "True     1853\n",
       "Name: isItemOpinion, dtype: int64"
      ]
     },
     "execution_count": 15,
     "metadata": {},
     "output_type": "execute_result"
    }
   ],
   "source": [
    "df_original['isItemOpinion'].value_counts()"
   ]
  },
  {
   "cell_type": "code",
   "execution_count": 18,
   "metadata": {},
   "outputs": [],
   "source": [
    "isOpinion_true_index = df_original[df_original['isOpinion'] == True].index"
   ]
  },
  {
   "cell_type": "code",
   "execution_count": 19,
   "metadata": {},
   "outputs": [],
   "source": [
    "isItemOpinion_true_index = df_original[df_original['isItemOpinion'] == True].index"
   ]
  },
  {
   "cell_type": "code",
   "execution_count": 20,
   "metadata": {},
   "outputs": [
    {
     "data": {
      "text/plain": [
       "False"
      ]
     },
     "execution_count": 20,
     "metadata": {},
     "output_type": "execute_result"
    }
   ],
   "source": [
    "len(isOpinion_true_index) > len(isItemOpinion_true_index)"
   ]
  },
  {
   "cell_type": "code",
   "execution_count": 22,
   "metadata": {},
   "outputs": [],
   "source": [
    "iio_true_io_false = isItemOpinion_true_index.difference(isOpinion_true_index)"
   ]
  },
  {
   "cell_type": "code",
   "execution_count": 25,
   "metadata": {},
   "outputs": [
    {
     "ename": "KeyError",
     "evalue": "'isSponserContent'",
     "output_type": "error",
     "traceback": [
      "\u001b[0;31m---------------------------------------------------------------------------\u001b[0m",
      "\u001b[0;31mKeyError\u001b[0m                                  Traceback (most recent call last)",
      "\u001b[0;32m~/projects/miniproject-sentimentanalysis-covid/env/lib/python3.8/site-packages/pandas/core/indexes/base.py\u001b[0m in \u001b[0;36mget_loc\u001b[0;34m(self, key, method, tolerance)\u001b[0m\n\u001b[1;32m   2645\u001b[0m             \u001b[0;32mtry\u001b[0m\u001b[0;34m:\u001b[0m\u001b[0;34m\u001b[0m\u001b[0;34m\u001b[0m\u001b[0m\n\u001b[0;32m-> 2646\u001b[0;31m                 \u001b[0;32mreturn\u001b[0m \u001b[0mself\u001b[0m\u001b[0;34m.\u001b[0m\u001b[0m_engine\u001b[0m\u001b[0;34m.\u001b[0m\u001b[0mget_loc\u001b[0m\u001b[0;34m(\u001b[0m\u001b[0mkey\u001b[0m\u001b[0;34m)\u001b[0m\u001b[0;34m\u001b[0m\u001b[0;34m\u001b[0m\u001b[0m\n\u001b[0m\u001b[1;32m   2647\u001b[0m             \u001b[0;32mexcept\u001b[0m \u001b[0mKeyError\u001b[0m\u001b[0;34m:\u001b[0m\u001b[0;34m\u001b[0m\u001b[0;34m\u001b[0m\u001b[0m\n",
      "\u001b[0;32mpandas/_libs/index.pyx\u001b[0m in \u001b[0;36mpandas._libs.index.IndexEngine.get_loc\u001b[0;34m()\u001b[0m\n",
      "\u001b[0;32mpandas/_libs/index.pyx\u001b[0m in \u001b[0;36mpandas._libs.index.IndexEngine.get_loc\u001b[0;34m()\u001b[0m\n",
      "\u001b[0;32mpandas/_libs/hashtable_class_helper.pxi\u001b[0m in \u001b[0;36mpandas._libs.hashtable.PyObjectHashTable.get_item\u001b[0;34m()\u001b[0m\n",
      "\u001b[0;32mpandas/_libs/hashtable_class_helper.pxi\u001b[0m in \u001b[0;36mpandas._libs.hashtable.PyObjectHashTable.get_item\u001b[0;34m()\u001b[0m\n",
      "\u001b[0;31mKeyError\u001b[0m: 'isSponserContent'",
      "\nDuring handling of the above exception, another exception occurred:\n",
      "\u001b[0;31mKeyError\u001b[0m                                  Traceback (most recent call last)",
      "\u001b[0;32m<ipython-input-25-8d9ae9b30128>\u001b[0m in \u001b[0;36m<module>\u001b[0;34m\u001b[0m\n\u001b[0;32m----> 1\u001b[0;31m \u001b[0mdf_original\u001b[0m\u001b[0;34m[\u001b[0m\u001b[0;34m'isSponserContent'\u001b[0m\u001b[0;34m]\u001b[0m\u001b[0;34m.\u001b[0m\u001b[0mvalue_counts\u001b[0m\u001b[0;34m(\u001b[0m\u001b[0;34m)\u001b[0m\u001b[0;34m\u001b[0m\u001b[0;34m\u001b[0m\u001b[0m\n\u001b[0m",
      "\u001b[0;32m~/projects/miniproject-sentimentanalysis-covid/env/lib/python3.8/site-packages/pandas/core/frame.py\u001b[0m in \u001b[0;36m__getitem__\u001b[0;34m(self, key)\u001b[0m\n\u001b[1;32m   2798\u001b[0m             \u001b[0;32mif\u001b[0m \u001b[0mself\u001b[0m\u001b[0;34m.\u001b[0m\u001b[0mcolumns\u001b[0m\u001b[0;34m.\u001b[0m\u001b[0mnlevels\u001b[0m \u001b[0;34m>\u001b[0m \u001b[0;36m1\u001b[0m\u001b[0;34m:\u001b[0m\u001b[0;34m\u001b[0m\u001b[0;34m\u001b[0m\u001b[0m\n\u001b[1;32m   2799\u001b[0m                 \u001b[0;32mreturn\u001b[0m \u001b[0mself\u001b[0m\u001b[0;34m.\u001b[0m\u001b[0m_getitem_multilevel\u001b[0m\u001b[0;34m(\u001b[0m\u001b[0mkey\u001b[0m\u001b[0;34m)\u001b[0m\u001b[0;34m\u001b[0m\u001b[0;34m\u001b[0m\u001b[0m\n\u001b[0;32m-> 2800\u001b[0;31m             \u001b[0mindexer\u001b[0m \u001b[0;34m=\u001b[0m \u001b[0mself\u001b[0m\u001b[0;34m.\u001b[0m\u001b[0mcolumns\u001b[0m\u001b[0;34m.\u001b[0m\u001b[0mget_loc\u001b[0m\u001b[0;34m(\u001b[0m\u001b[0mkey\u001b[0m\u001b[0;34m)\u001b[0m\u001b[0;34m\u001b[0m\u001b[0;34m\u001b[0m\u001b[0m\n\u001b[0m\u001b[1;32m   2801\u001b[0m             \u001b[0;32mif\u001b[0m \u001b[0mis_integer\u001b[0m\u001b[0;34m(\u001b[0m\u001b[0mindexer\u001b[0m\u001b[0;34m)\u001b[0m\u001b[0;34m:\u001b[0m\u001b[0;34m\u001b[0m\u001b[0;34m\u001b[0m\u001b[0m\n\u001b[1;32m   2802\u001b[0m                 \u001b[0mindexer\u001b[0m \u001b[0;34m=\u001b[0m \u001b[0;34m[\u001b[0m\u001b[0mindexer\u001b[0m\u001b[0;34m]\u001b[0m\u001b[0;34m\u001b[0m\u001b[0;34m\u001b[0m\u001b[0m\n",
      "\u001b[0;32m~/projects/miniproject-sentimentanalysis-covid/env/lib/python3.8/site-packages/pandas/core/indexes/base.py\u001b[0m in \u001b[0;36mget_loc\u001b[0;34m(self, key, method, tolerance)\u001b[0m\n\u001b[1;32m   2646\u001b[0m                 \u001b[0;32mreturn\u001b[0m \u001b[0mself\u001b[0m\u001b[0;34m.\u001b[0m\u001b[0m_engine\u001b[0m\u001b[0;34m.\u001b[0m\u001b[0mget_loc\u001b[0m\u001b[0;34m(\u001b[0m\u001b[0mkey\u001b[0m\u001b[0;34m)\u001b[0m\u001b[0;34m\u001b[0m\u001b[0;34m\u001b[0m\u001b[0m\n\u001b[1;32m   2647\u001b[0m             \u001b[0;32mexcept\u001b[0m \u001b[0mKeyError\u001b[0m\u001b[0;34m:\u001b[0m\u001b[0;34m\u001b[0m\u001b[0;34m\u001b[0m\u001b[0m\n\u001b[0;32m-> 2648\u001b[0;31m                 \u001b[0;32mreturn\u001b[0m \u001b[0mself\u001b[0m\u001b[0;34m.\u001b[0m\u001b[0m_engine\u001b[0m\u001b[0;34m.\u001b[0m\u001b[0mget_loc\u001b[0m\u001b[0;34m(\u001b[0m\u001b[0mself\u001b[0m\u001b[0;34m.\u001b[0m\u001b[0m_maybe_cast_indexer\u001b[0m\u001b[0;34m(\u001b[0m\u001b[0mkey\u001b[0m\u001b[0;34m)\u001b[0m\u001b[0;34m)\u001b[0m\u001b[0;34m\u001b[0m\u001b[0;34m\u001b[0m\u001b[0m\n\u001b[0m\u001b[1;32m   2649\u001b[0m         \u001b[0mindexer\u001b[0m \u001b[0;34m=\u001b[0m \u001b[0mself\u001b[0m\u001b[0;34m.\u001b[0m\u001b[0mget_indexer\u001b[0m\u001b[0;34m(\u001b[0m\u001b[0;34m[\u001b[0m\u001b[0mkey\u001b[0m\u001b[0;34m]\u001b[0m\u001b[0;34m,\u001b[0m \u001b[0mmethod\u001b[0m\u001b[0;34m=\u001b[0m\u001b[0mmethod\u001b[0m\u001b[0;34m,\u001b[0m \u001b[0mtolerance\u001b[0m\u001b[0;34m=\u001b[0m\u001b[0mtolerance\u001b[0m\u001b[0;34m)\u001b[0m\u001b[0;34m\u001b[0m\u001b[0;34m\u001b[0m\u001b[0m\n\u001b[1;32m   2650\u001b[0m         \u001b[0;32mif\u001b[0m \u001b[0mindexer\u001b[0m\u001b[0;34m.\u001b[0m\u001b[0mndim\u001b[0m \u001b[0;34m>\u001b[0m \u001b[0;36m1\u001b[0m \u001b[0;32mor\u001b[0m \u001b[0mindexer\u001b[0m\u001b[0;34m.\u001b[0m\u001b[0msize\u001b[0m \u001b[0;34m>\u001b[0m \u001b[0;36m1\u001b[0m\u001b[0;34m:\u001b[0m\u001b[0;34m\u001b[0m\u001b[0;34m\u001b[0m\u001b[0m\n",
      "\u001b[0;32mpandas/_libs/index.pyx\u001b[0m in \u001b[0;36mpandas._libs.index.IndexEngine.get_loc\u001b[0;34m()\u001b[0m\n",
      "\u001b[0;32mpandas/_libs/index.pyx\u001b[0m in \u001b[0;36mpandas._libs.index.IndexEngine.get_loc\u001b[0;34m()\u001b[0m\n",
      "\u001b[0;32mpandas/_libs/hashtable_class_helper.pxi\u001b[0m in \u001b[0;36mpandas._libs.hashtable.PyObjectHashTable.get_item\u001b[0;34m()\u001b[0m\n",
      "\u001b[0;32mpandas/_libs/hashtable_class_helper.pxi\u001b[0m in \u001b[0;36mpandas._libs.hashtable.PyObjectHashTable.get_item\u001b[0;34m()\u001b[0m\n",
      "\u001b[0;31mKeyError\u001b[0m: 'isSponserContent'"
     ]
    }
   ],
   "source": [
    "df_original['isSponserContent'].value_counts()"
   ]
  },
  {
   "cell_type": "code",
   "execution_count": null,
   "metadata": {},
   "outputs": [],
   "source": []
  }
 ],
 "metadata": {
  "kernelspec": {
   "display_name": "Python 3",
   "language": "python",
   "name": "python3"
  },
  "language_info": {
   "codemirror_mode": {
    "name": "ipython",
    "version": 3
   },
   "file_extension": ".py",
   "mimetype": "text/x-python",
   "name": "python",
   "nbconvert_exporter": "python",
   "pygments_lexer": "ipython3",
   "version": "3.8.3"
  }
 },
 "nbformat": 4,
 "nbformat_minor": 4
}
