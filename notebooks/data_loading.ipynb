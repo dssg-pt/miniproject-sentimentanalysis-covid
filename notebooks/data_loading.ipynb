{
 "cells": [
  {
   "cell_type": "markdown",
   "metadata": {},
   "source": [
    "# Imports"
   ]
  },
  {
   "cell_type": "code",
   "execution_count": 1,
   "metadata": {
    "collapsed": true
   },
   "outputs": [],
   "source": [
    "%matplotlib inline\n",
    "from pathlib import Path\n",
    "import pandas as pd"
   ]
  },
  {
   "cell_type": "markdown",
   "metadata": {},
   "source": [
    "# Constants"
   ]
  },
  {
   "cell_type": "code",
   "execution_count": 2,
   "metadata": {
    "collapsed": true
   },
   "outputs": [],
   "source": [
    "DATA_FILEPATH = Path.cwd() / '..' / 'data.csv'"
   ]
  },
  {
   "cell_type": "markdown",
   "metadata": {},
   "source": [
    "---"
   ]
  },
  {
   "cell_type": "markdown",
   "metadata": {},
   "source": [
    "# Reading the data"
   ]
  },
  {
   "cell_type": "markdown",
   "metadata": {},
   "source": [
    "Let's fill all NaN values with 0 (_under the naïve assumption that the lack of data means absence of cases_)."
   ]
  },
  {
   "cell_type": "code",
   "execution_count": 3,
   "metadata": {},
   "outputs": [
    {
     "data": {
      "text/html": [
       "<div>\n",
       "<style scoped>\n",
       "    .dataframe tbody tr th:only-of-type {\n",
       "        vertical-align: middle;\n",
       "    }\n",
       "\n",
       "    .dataframe tbody tr th {\n",
       "        vertical-align: top;\n",
       "    }\n",
       "\n",
       "    .dataframe thead th {\n",
       "        text-align: right;\n",
       "    }\n",
       "</style>\n",
       "<table border=\"1\" class=\"dataframe\">\n",
       "  <thead>\n",
       "    <tr style=\"text-align: right;\">\n",
       "      <th></th>\n",
       "      <th>data_dados</th>\n",
       "      <th>confirmados</th>\n",
       "      <th>confirmados_arsnorte</th>\n",
       "      <th>confirmados_arscentro</th>\n",
       "      <th>confirmados_arslvt</th>\n",
       "      <th>confirmados_arsalentejo</th>\n",
       "      <th>confirmados_arsalgarve</th>\n",
       "      <th>confirmados_acores</th>\n",
       "      <th>confirmados_madeira</th>\n",
       "      <th>confirmados_estrangeiro</th>\n",
       "      <th>...</th>\n",
       "      <th>confirmados_70_79_f</th>\n",
       "      <th>confirmados_70_79_m</th>\n",
       "      <th>confirmados_80_plus_f</th>\n",
       "      <th>confirmados_80_plus_m</th>\n",
       "      <th>sintomas_tosse</th>\n",
       "      <th>sintomas_febre</th>\n",
       "      <th>sintomas_dificuldade_respiratoria</th>\n",
       "      <th>sintomas_cefaleia</th>\n",
       "      <th>sintomas_dores_musculares</th>\n",
       "      <th>sintomas_fraqueza_generalizada</th>\n",
       "    </tr>\n",
       "    <tr>\n",
       "      <th>data</th>\n",
       "      <th></th>\n",
       "      <th></th>\n",
       "      <th></th>\n",
       "      <th></th>\n",
       "      <th></th>\n",
       "      <th></th>\n",
       "      <th></th>\n",
       "      <th></th>\n",
       "      <th></th>\n",
       "      <th></th>\n",
       "      <th></th>\n",
       "      <th></th>\n",
       "      <th></th>\n",
       "      <th></th>\n",
       "      <th></th>\n",
       "      <th></th>\n",
       "      <th></th>\n",
       "      <th></th>\n",
       "      <th></th>\n",
       "      <th></th>\n",
       "      <th></th>\n",
       "    </tr>\n",
       "  </thead>\n",
       "  <tbody>\n",
       "    <tr>\n",
       "      <td>2020-02-26</td>\n",
       "      <td>26-02-2020 00:00</td>\n",
       "      <td>0</td>\n",
       "      <td>0</td>\n",
       "      <td>0</td>\n",
       "      <td>0</td>\n",
       "      <td>0</td>\n",
       "      <td>0</td>\n",
       "      <td>0</td>\n",
       "      <td>0</td>\n",
       "      <td>0.0</td>\n",
       "      <td>...</td>\n",
       "      <td>0.0</td>\n",
       "      <td>0.0</td>\n",
       "      <td>0.0</td>\n",
       "      <td>0.0</td>\n",
       "      <td>0.0</td>\n",
       "      <td>0.0</td>\n",
       "      <td>0.0</td>\n",
       "      <td>0.0</td>\n",
       "      <td>0.0</td>\n",
       "      <td>0.0</td>\n",
       "    </tr>\n",
       "    <tr>\n",
       "      <td>2020-02-27</td>\n",
       "      <td>27-02-2020 00:00</td>\n",
       "      <td>0</td>\n",
       "      <td>0</td>\n",
       "      <td>0</td>\n",
       "      <td>0</td>\n",
       "      <td>0</td>\n",
       "      <td>0</td>\n",
       "      <td>0</td>\n",
       "      <td>0</td>\n",
       "      <td>0.0</td>\n",
       "      <td>...</td>\n",
       "      <td>0.0</td>\n",
       "      <td>0.0</td>\n",
       "      <td>0.0</td>\n",
       "      <td>0.0</td>\n",
       "      <td>0.0</td>\n",
       "      <td>0.0</td>\n",
       "      <td>0.0</td>\n",
       "      <td>0.0</td>\n",
       "      <td>0.0</td>\n",
       "      <td>0.0</td>\n",
       "    </tr>\n",
       "    <tr>\n",
       "      <td>2020-02-28</td>\n",
       "      <td>28-02-2020 00:00</td>\n",
       "      <td>0</td>\n",
       "      <td>0</td>\n",
       "      <td>0</td>\n",
       "      <td>0</td>\n",
       "      <td>0</td>\n",
       "      <td>0</td>\n",
       "      <td>0</td>\n",
       "      <td>0</td>\n",
       "      <td>0.0</td>\n",
       "      <td>...</td>\n",
       "      <td>0.0</td>\n",
       "      <td>0.0</td>\n",
       "      <td>0.0</td>\n",
       "      <td>0.0</td>\n",
       "      <td>0.0</td>\n",
       "      <td>0.0</td>\n",
       "      <td>0.0</td>\n",
       "      <td>0.0</td>\n",
       "      <td>0.0</td>\n",
       "      <td>0.0</td>\n",
       "    </tr>\n",
       "    <tr>\n",
       "      <td>2020-02-29</td>\n",
       "      <td>29-02-2020 00:00</td>\n",
       "      <td>0</td>\n",
       "      <td>0</td>\n",
       "      <td>0</td>\n",
       "      <td>0</td>\n",
       "      <td>0</td>\n",
       "      <td>0</td>\n",
       "      <td>0</td>\n",
       "      <td>0</td>\n",
       "      <td>0.0</td>\n",
       "      <td>...</td>\n",
       "      <td>0.0</td>\n",
       "      <td>0.0</td>\n",
       "      <td>0.0</td>\n",
       "      <td>0.0</td>\n",
       "      <td>0.0</td>\n",
       "      <td>0.0</td>\n",
       "      <td>0.0</td>\n",
       "      <td>0.0</td>\n",
       "      <td>0.0</td>\n",
       "      <td>0.0</td>\n",
       "    </tr>\n",
       "    <tr>\n",
       "      <td>2020-03-01</td>\n",
       "      <td>01-03-2020 00:00</td>\n",
       "      <td>0</td>\n",
       "      <td>0</td>\n",
       "      <td>0</td>\n",
       "      <td>0</td>\n",
       "      <td>0</td>\n",
       "      <td>0</td>\n",
       "      <td>0</td>\n",
       "      <td>0</td>\n",
       "      <td>0.0</td>\n",
       "      <td>...</td>\n",
       "      <td>0.0</td>\n",
       "      <td>0.0</td>\n",
       "      <td>0.0</td>\n",
       "      <td>0.0</td>\n",
       "      <td>0.0</td>\n",
       "      <td>0.0</td>\n",
       "      <td>0.0</td>\n",
       "      <td>0.0</td>\n",
       "      <td>0.0</td>\n",
       "      <td>0.0</td>\n",
       "    </tr>\n",
       "  </tbody>\n",
       "</table>\n",
       "<p>5 rows × 45 columns</p>\n",
       "</div>"
      ],
      "text/plain": [
       "                  data_dados  confirmados  confirmados_arsnorte  \\\n",
       "data                                                              \n",
       "2020-02-26  26-02-2020 00:00            0                     0   \n",
       "2020-02-27  27-02-2020 00:00            0                     0   \n",
       "2020-02-28  28-02-2020 00:00            0                     0   \n",
       "2020-02-29  29-02-2020 00:00            0                     0   \n",
       "2020-03-01  01-03-2020 00:00            0                     0   \n",
       "\n",
       "            confirmados_arscentro  confirmados_arslvt  \\\n",
       "data                                                    \n",
       "2020-02-26                      0                   0   \n",
       "2020-02-27                      0                   0   \n",
       "2020-02-28                      0                   0   \n",
       "2020-02-29                      0                   0   \n",
       "2020-03-01                      0                   0   \n",
       "\n",
       "            confirmados_arsalentejo  confirmados_arsalgarve  \\\n",
       "data                                                          \n",
       "2020-02-26                        0                       0   \n",
       "2020-02-27                        0                       0   \n",
       "2020-02-28                        0                       0   \n",
       "2020-02-29                        0                       0   \n",
       "2020-03-01                        0                       0   \n",
       "\n",
       "            confirmados_acores  confirmados_madeira  confirmados_estrangeiro  \\\n",
       "data                                                                           \n",
       "2020-02-26                   0                    0                      0.0   \n",
       "2020-02-27                   0                    0                      0.0   \n",
       "2020-02-28                   0                    0                      0.0   \n",
       "2020-02-29                   0                    0                      0.0   \n",
       "2020-03-01                   0                    0                      0.0   \n",
       "\n",
       "            ...  confirmados_70_79_f  confirmados_70_79_m  \\\n",
       "data        ...                                             \n",
       "2020-02-26  ...                  0.0                  0.0   \n",
       "2020-02-27  ...                  0.0                  0.0   \n",
       "2020-02-28  ...                  0.0                  0.0   \n",
       "2020-02-29  ...                  0.0                  0.0   \n",
       "2020-03-01  ...                  0.0                  0.0   \n",
       "\n",
       "            confirmados_80_plus_f  confirmados_80_plus_m  sintomas_tosse  \\\n",
       "data                                                                       \n",
       "2020-02-26                    0.0                    0.0             0.0   \n",
       "2020-02-27                    0.0                    0.0             0.0   \n",
       "2020-02-28                    0.0                    0.0             0.0   \n",
       "2020-02-29                    0.0                    0.0             0.0   \n",
       "2020-03-01                    0.0                    0.0             0.0   \n",
       "\n",
       "            sintomas_febre  sintomas_dificuldade_respiratoria  \\\n",
       "data                                                            \n",
       "2020-02-26             0.0                                0.0   \n",
       "2020-02-27             0.0                                0.0   \n",
       "2020-02-28             0.0                                0.0   \n",
       "2020-02-29             0.0                                0.0   \n",
       "2020-03-01             0.0                                0.0   \n",
       "\n",
       "            sintomas_cefaleia  sintomas_dores_musculares  \\\n",
       "data                                                       \n",
       "2020-02-26                0.0                        0.0   \n",
       "2020-02-27                0.0                        0.0   \n",
       "2020-02-28                0.0                        0.0   \n",
       "2020-02-29                0.0                        0.0   \n",
       "2020-03-01                0.0                        0.0   \n",
       "\n",
       "            sintomas_fraqueza_generalizada  \n",
       "data                                        \n",
       "2020-02-26                             0.0  \n",
       "2020-02-27                             0.0  \n",
       "2020-02-28                             0.0  \n",
       "2020-02-29                             0.0  \n",
       "2020-03-01                             0.0  \n",
       "\n",
       "[5 rows x 45 columns]"
      ]
     },
     "execution_count": 3,
     "metadata": {},
     "output_type": "execute_result"
    }
   ],
   "source": [
    "data = pd.read_csv(DATA_FILEPATH, parse_dates=[0], index_col=[0], infer_datetime_format=True)\n",
    "data.fillna(value=0).head(5)"
   ]
  },
  {
   "cell_type": "markdown",
   "metadata": {},
   "source": [
    "# Inspecting the growth curves in ARS Norte and ARS Lisboa e Vale do Tejo"
   ]
  },
  {
   "cell_type": "markdown",
   "metadata": {},
   "source": [
    "Looking at the numbers per region, we see that the growth in new cases in the _Lisboa e Vale do Tejo_ region has picked up in the last few days, after a rather slow start when compared to the Norte region, the main propagation cluster in the country in the first days. Let's confirm visually: "
   ]
  },
  {
   "cell_type": "code",
   "execution_count": 4,
   "metadata": {},
   "outputs": [
    {
     "data": {
      "text/plain": [
       "<matplotlib.axes._subplots.AxesSubplot at 0x7f7262ae2ad0>"
      ]
     },
     "execution_count": 4,
     "metadata": {},
     "output_type": "execute_result"
    },
    {
     "data": {
      "image/png": "[encoded data removed]",
      "text/plain": [
       "<Figure size 432x288 with 1 Axes>"
      ]
     },
     "metadata": {
      "needs_background": "light"
     },
     "output_type": "display_data"
    }
   ],
   "source": [
    "data[['confirmados_arsnorte', 'confirmados_arslvt']].plot(kind='line', title='Cases in ARS Norte and ARS Lisboa e Vale do Tejo', linestyle='--', marker='o', rot=45, fontsize=8)"
   ]
  },
  {
   "cell_type": "markdown",
   "metadata": {},
   "source": [
    "Indeed, a steep growth."
   ]
  }
 ],
 "metadata": {
  "kernelspec": {
   "display_name": "Python 3",
   "language": "python",
   "name": "python3"
  },
  "language_info": {
   "codemirror_mode": {
    "name": "ipython",
    "version": 3
   },
   "file_extension": ".py",
   "mimetype": "text/x-python",
   "name": "python",
   "nbconvert_exporter": "python",
   "pygments_lexer": "ipython3",
   "version": "3.6.3"
  }
 },
 "nbformat": 4,
 "nbformat_minor": 4
}
