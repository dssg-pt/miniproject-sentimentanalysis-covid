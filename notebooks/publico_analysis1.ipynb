{
 "cells": [
  {
   "cell_type": "markdown",
   "metadata": {},
   "source": [
    "# 1. Setup"
   ]
  },
  {
   "cell_type": "markdown",
   "metadata": {},
   "source": [
    "## 1.1. Python imports"
   ]
  },
  {
   "cell_type": "code",
   "execution_count": 1,
   "metadata": {},
   "outputs": [],
   "source": [
    "import nltk\n",
    "import numpy as np\n",
    "import pandas as pd\n",
    "import matplotlib.pyplot as plt\n",
    "import seaborn as sns"
   ]
  },
  {
   "cell_type": "markdown",
   "metadata": {},
   "source": [
    "## 1.2. NLTK downloads"
   ]
  },
  {
   "cell_type": "markdown",
   "metadata": {},
   "source": [
    "Only run if needed, on new environment, or if the files have been deleted."
   ]
  },
  {
   "cell_type": "code",
   "execution_count": 2,
   "metadata": {},
   "outputs": [],
   "source": [
    "#nltk.download('punkt')\n",
    "#nltk.download('stopwords')"
   ]
  },
  {
   "cell_type": "markdown",
   "metadata": {},
   "source": [
    "# 2. Data setup"
   ]
  },
  {
   "cell_type": "markdown",
   "metadata": {},
   "source": [
    "## 2.1. Get data from csv"
   ]
  },
  {
   "cell_type": "code",
   "execution_count": 2,
   "metadata": {},
   "outputs": [],
   "source": [
    "publico_path = '../extra/notícias/news_sample_1to1000_updated.csv'"
   ]
  },
  {
   "cell_type": "code",
   "execution_count": 39,
   "metadata": {},
   "outputs": [],
   "source": [
    "df_publico = pd.read_csv(publico_path, index_col='Unnamed: 0') #index_col = \"Unnamed: 0\""
   ]
  },
  {
   "cell_type": "code",
   "execution_count": 4,
   "metadata": {},
   "outputs": [],
   "source": [
    "df_publico_shape = df_publico.shape"
   ]
  },
  {
   "cell_type": "code",
   "execution_count": 5,
   "metadata": {},
   "outputs": [
    {
     "data": {
      "text/plain": [
       "(9670, 42)"
      ]
     },
     "execution_count": 5,
     "metadata": {},
     "output_type": "execute_result"
    }
   ],
   "source": [
    "df_publico_shape\n",
    "#22/07/2020 -> (8849, 5)\n",
    "#28/07/2020 -> (9670, 42)"
   ]
  },
  {
   "cell_type": "code",
   "execution_count": 6,
   "metadata": {},
   "outputs": [
    {
     "data": {
      "text/plain": [
       "Index(['titulo', 'descricao', 'titulo_Mobile', 'subtitulo', 'rubricTag',\n",
       "       'rubrica', 'tipo', 'palavraChave', 'tipoLayout', 'isOpinion',\n",
       "       'prioridade', 'isPreview', 'aoMinuto', 'isFeature', 'dataActualizacao',\n",
       "       'data', 'autores_id', 'autores_nome', 'autores_localizacao',\n",
       "       'autores_profissaoActual', 'autores_profissaoNaAltura',\n",
       "       'autores_isExternal', 'autores_contribuicao', 'autores_tipo', 'tags_id',\n",
       "       'tags_nome', 'tags_isPrincipal', 'tags_isTimeLine',\n",
       "       'tags_forcaConteudoAberto', 'tags_isForForuns', 'tags_isUsedInForuns',\n",
       "       'isSponsorContent', 'isClubeP', 'isItemOpinion', 'isMultipleRubric',\n",
       "       'socialTitle', 'isLongForm', 'isHeadline', 'wordCount', 'extra4',\n",
       "       'partners', 'props'],\n",
       "      dtype='object')"
      ]
     },
     "execution_count": 6,
     "metadata": {},
     "output_type": "execute_result"
    }
   ],
   "source": [
    "df_publico.columns \n",
    "\n",
    "#22/07/2020 -> ['Data', 'Titulo', 'Descricao', 'Rubrica', 'URL']\n",
    "#28/07/2020 -> ['titulo', 'descricao', 'titulo_Mobile', 'subtitulo', 'rubricTag',\n",
    "#               'rubrica', 'tipo', 'palavraChave', 'tipoLayout', 'isOpinion',\n",
    "#               'prioridade', 'isPreview', 'aoMinuto', 'isFeature', 'dataActualizacao',\n",
    "#               'data', 'autores_id', 'autores_nome', 'autores_localizacao',\n",
    "#               'autores_profissaoActual', 'autores_profissaoNaAltura',\n",
    "#               'autores_isExternal', 'autores_contribuicao', 'autores_tipo', 'tags_id',\n",
    "#               'tags_nome', 'tags_isPrincipal', 'tags_isTimeLine',\n",
    "#               'tags_forcaConteudoAberto', 'tags_isForForuns', 'tags_isUsedInForuns',\n",
    "#               'isSponsorContent', 'isClubeP', 'isItemOpinion', 'isMultipleRubric',\n",
    "#               'socialTitle', 'isLongForm', 'isHeadline', 'wordCount', 'extra4',\n",
    "#               'partners', 'props']"
   ]
  },
  {
   "cell_type": "markdown",
   "metadata": {},
   "source": [
    "## 2.2. Clean data"
   ]
  },
  {
   "cell_type": "code",
   "execution_count": 41,
   "metadata": {},
   "outputs": [],
   "source": [
    "num_nulls = df_publico.isnull().sum()"
   ]
  },
  {
   "cell_type": "code",
   "execution_count": 42,
   "metadata": {},
   "outputs": [],
   "source": [
    "empty_cols = list()\n",
    "for col in df_publico:\n",
    "    if num_nulls[col] == df_publico_shape[0]:\n",
    "        df_publico.drop(columns=[col], inplace=True)\n",
    "        empty_cols.append(col)"
   ]
  },
  {
   "cell_type": "code",
   "execution_count": 43,
   "metadata": {},
   "outputs": [
    {
     "name": "stdout",
     "output_type": "stream",
     "text": [
      "['titulo_Mobile', 'palavraChave', 'partners', 'props']\n"
     ]
    }
   ],
   "source": [
    "print(empty_cols)"
   ]
  },
  {
   "cell_type": "code",
   "execution_count": 44,
   "metadata": {},
   "outputs": [
    {
     "data": {
      "text/plain": [
       "38"
      ]
     },
     "execution_count": 44,
     "metadata": {},
     "output_type": "execute_result"
    }
   ],
   "source": [
    "len(df_publico.columns)"
   ]
  },
  {
   "cell_type": "code",
   "execution_count": 45,
   "metadata": {},
   "outputs": [
    {
     "name": "stdout",
     "output_type": "stream",
     "text": [
      "isSponsorContent\n"
     ]
    },
    {
     "data": {
      "text/plain": [
       "False    9670\n",
       "Name: isSponsorContent, dtype: int64"
      ]
     },
     "execution_count": 45,
     "metadata": {},
     "output_type": "execute_result"
    }
   ],
   "source": [
    "i = 29\n",
    "print(df_publico.columns[i])\n",
    "df_publico[df_publico.columns[i]].value_counts()"
   ]
  },
  {
   "cell_type": "code",
   "execution_count": 12,
   "metadata": {},
   "outputs": [
    {
     "data": {
      "text/plain": [
       "0          Covid-19\n",
       "1       Coronavírus\n",
       "2       Coronavírus\n",
       "3       Coronavírus\n",
       "4          Covid-19\n",
       "           ...     \n",
       "9665          Vírus\n",
       "9666          Vírus\n",
       "9667          China\n",
       "9668          Vírus\n",
       "9669          Vírus\n",
       "Name: rubrica, Length: 9670, dtype: object"
      ]
     },
     "execution_count": 12,
     "metadata": {},
     "output_type": "execute_result"
    }
   ],
   "source": [
    "df_publico[df_publico.columns[4]]"
   ]
  },
  {
   "cell_type": "markdown",
   "metadata": {},
   "source": [
    "After manually checking the number of values in each column, as well as the values themselves, the following columns were considered useless:"
   ]
  },
  {
   "cell_type": "code",
   "execution_count": 13,
   "metadata": {},
   "outputs": [
    {
     "name": "stdout",
     "output_type": "stream",
     "text": [
      "['rubricTag', 'isPreview', 'isFeature', 'isSponsorContent', 'isHeadline']\n"
     ]
    }
   ],
   "source": [
    "useless_cols_index = [3, 9, 11, 29, 35]\n",
    "useless_cols = [df_publico.columns[col] for col in useless_cols_index]\n",
    "print(useless_cols)"
   ]
  },
  {
   "cell_type": "code",
   "execution_count": 14,
   "metadata": {},
   "outputs": [],
   "source": [
    "df_publico.drop(columns=useless_cols, inplace=True)"
   ]
  },
  {
   "cell_type": "code",
   "execution_count": 15,
   "metadata": {},
   "outputs": [
    {
     "data": {
      "text/plain": [
       "33"
      ]
     },
     "execution_count": 15,
     "metadata": {},
     "output_type": "execute_result"
    }
   ],
   "source": [
    "len(df_publico.columns)"
   ]
  },
  {
   "cell_type": "code",
   "execution_count": 16,
   "metadata": {},
   "outputs": [
    {
     "data": {
      "text/html": [
       "<div>\n",
       "<style scoped>\n",
       "    .dataframe tbody tr th:only-of-type {\n",
       "        vertical-align: middle;\n",
       "    }\n",
       "\n",
       "    .dataframe tbody tr th {\n",
       "        vertical-align: top;\n",
       "    }\n",
       "\n",
       "    .dataframe thead th {\n",
       "        text-align: right;\n",
       "    }\n",
       "</style>\n",
       "<table border=\"1\" class=\"dataframe\">\n",
       "  <thead>\n",
       "    <tr style=\"text-align: right;\">\n",
       "      <th></th>\n",
       "      <th>titulo</th>\n",
       "      <th>descricao</th>\n",
       "      <th>subtitulo</th>\n",
       "      <th>rubrica</th>\n",
       "      <th>tipo</th>\n",
       "      <th>tipoLayout</th>\n",
       "      <th>isOpinion</th>\n",
       "      <th>prioridade</th>\n",
       "      <th>aoMinuto</th>\n",
       "      <th>dataActualizacao</th>\n",
       "      <th>...</th>\n",
       "      <th>tags_forcaConteudoAberto</th>\n",
       "      <th>tags_isForForuns</th>\n",
       "      <th>tags_isUsedInForuns</th>\n",
       "      <th>isClubeP</th>\n",
       "      <th>isItemOpinion</th>\n",
       "      <th>isMultipleRubric</th>\n",
       "      <th>socialTitle</th>\n",
       "      <th>isLongForm</th>\n",
       "      <th>wordCount</th>\n",
       "      <th>extra4</th>\n",
       "    </tr>\n",
       "  </thead>\n",
       "  <tbody>\n",
       "    <tr>\n",
       "      <th>0</th>\n",
       "      <td>Linha de mil milhões para micro e pequenas emp...</td>\n",
       "      <td>Ministério da Economia diz que a formalização ...</td>\n",
       "      <td>NaN</td>\n",
       "      <td>Covid-19</td>\n",
       "      <td>NOTICIA</td>\n",
       "      <td>MULTIMEDIA_NORMAL</td>\n",
       "      <td>False</td>\n",
       "      <td>3.0</td>\n",
       "      <td>False</td>\n",
       "      <td>NaN</td>\n",
       "      <td>...</td>\n",
       "      <td>[False, False, False, False, False, False, Fal...</td>\n",
       "      <td>[False, False, False, False, False, False, Fal...</td>\n",
       "      <td>[False, False, False, False, False, False, Fal...</td>\n",
       "      <td>False</td>\n",
       "      <td>False</td>\n",
       "      <td>False</td>\n",
       "      <td>Covid-19. Linha de mil milhões para micro e pe...</td>\n",
       "      <td>False</td>\n",
       "      <td>349</td>\n",
       "      <td>NaN</td>\n",
       "    </tr>\n",
       "    <tr>\n",
       "      <th>1</th>\n",
       "      <td>Covid-19: Twitter retira vídeo e mensagens de ...</td>\n",
       "      <td>Segundo o jornal &lt;i&gt;The Washington Post&lt;/i&gt;, o...</td>\n",
       "      <td>NaN</td>\n",
       "      <td>Coronavírus</td>\n",
       "      <td>NOTICIA</td>\n",
       "      <td>MULTIMEDIA_NORMAL</td>\n",
       "      <td>False</td>\n",
       "      <td>3.0</td>\n",
       "      <td>False</td>\n",
       "      <td>NaN</td>\n",
       "      <td>...</td>\n",
       "      <td>[False, False, False, False, False, False, False]</td>\n",
       "      <td>[False, False, False, False, False, False, False]</td>\n",
       "      <td>[False, False, False, False, False, False, False]</td>\n",
       "      <td>False</td>\n",
       "      <td>False</td>\n",
       "      <td>False</td>\n",
       "      <td>Coronavírus. Covid-19: Twitter retira vídeo e ...</td>\n",
       "      <td>False</td>\n",
       "      <td>358</td>\n",
       "      <td>NaN</td>\n",
       "    </tr>\n",
       "    <tr>\n",
       "      <th>2</th>\n",
       "      <td>Tecnologia portuguesa elimina o novo coronavír...</td>\n",
       "      <td>A tecnologia pioneira AT MicroProtect, desenvo...</td>\n",
       "      <td>NaN</td>\n",
       "      <td>Coronavírus</td>\n",
       "      <td>NOTICIA</td>\n",
       "      <td>MULTIMEDIA_NORMAL</td>\n",
       "      <td>False</td>\n",
       "      <td>3.0</td>\n",
       "      <td>False</td>\n",
       "      <td>NaN</td>\n",
       "      <td>...</td>\n",
       "      <td>[False, False, False, False, False]</td>\n",
       "      <td>[False, False, False, False, False]</td>\n",
       "      <td>[False, False, False, False, False]</td>\n",
       "      <td>False</td>\n",
       "      <td>False</td>\n",
       "      <td>False</td>\n",
       "      <td>Coronavírus. Tecnologia portuguesa elimina o n...</td>\n",
       "      <td>False</td>\n",
       "      <td>740</td>\n",
       "      <td>NaN</td>\n",
       "    </tr>\n",
       "    <tr>\n",
       "      <th>3</th>\n",
       "      <td>“Não somos super-homens, somos humanos”: os re...</td>\n",
       "      <td>Há de tudo: a algumas pessoas a covid-19 não p...</td>\n",
       "      <td>NaN</td>\n",
       "      <td>Coronavírus</td>\n",
       "      <td>NOTICIA</td>\n",
       "      <td>LONGFORM_NORMAL</td>\n",
       "      <td>False</td>\n",
       "      <td>3.0</td>\n",
       "      <td>False</td>\n",
       "      <td>NaN</td>\n",
       "      <td>...</td>\n",
       "      <td>[False, False, False, False, False, False, False]</td>\n",
       "      <td>[False, False, False, False, False, False, False]</td>\n",
       "      <td>[False, False, False, False, False, False, False]</td>\n",
       "      <td>False</td>\n",
       "      <td>False</td>\n",
       "      <td>False</td>\n",
       "      <td>Coronavírus. “Não somos super-homens, somos hu...</td>\n",
       "      <td>True</td>\n",
       "      <td>2108</td>\n",
       "      <td>NOTIFIED</td>\n",
       "    </tr>\n",
       "    <tr>\n",
       "      <th>4</th>\n",
       "      <td>Dez milhões de euros para as instituições part...</td>\n",
       "      <td>Da aquisição de máscaras, luvas e viseiras à c...</td>\n",
       "      <td>NaN</td>\n",
       "      <td>Covid-19</td>\n",
       "      <td>NOTICIA</td>\n",
       "      <td>MULTIMEDIA_NORMAL</td>\n",
       "      <td>False</td>\n",
       "      <td>3.0</td>\n",
       "      <td>False</td>\n",
       "      <td>NaN</td>\n",
       "      <td>...</td>\n",
       "      <td>[False, False, False, False, False, False]</td>\n",
       "      <td>[False, False, False, False, False, False]</td>\n",
       "      <td>[False, False, False, False, False, False]</td>\n",
       "      <td>False</td>\n",
       "      <td>False</td>\n",
       "      <td>False</td>\n",
       "      <td>Covid-19. Dez milhões de euros para as institu...</td>\n",
       "      <td>False</td>\n",
       "      <td>330</td>\n",
       "      <td>NaN</td>\n",
       "    </tr>\n",
       "  </tbody>\n",
       "</table>\n",
       "<p>5 rows × 33 columns</p>\n",
       "</div>"
      ],
      "text/plain": [
       "                                              titulo  \\\n",
       "0  Linha de mil milhões para micro e pequenas emp...   \n",
       "1  Covid-19: Twitter retira vídeo e mensagens de ...   \n",
       "2  Tecnologia portuguesa elimina o novo coronavír...   \n",
       "3  “Não somos super-homens, somos humanos”: os re...   \n",
       "4  Dez milhões de euros para as instituições part...   \n",
       "\n",
       "                                           descricao subtitulo      rubrica  \\\n",
       "0  Ministério da Economia diz que a formalização ...       NaN     Covid-19   \n",
       "1  Segundo o jornal <i>The Washington Post</i>, o...       NaN  Coronavírus   \n",
       "2  A tecnologia pioneira AT MicroProtect, desenvo...       NaN  Coronavírus   \n",
       "3  Há de tudo: a algumas pessoas a covid-19 não p...       NaN  Coronavírus   \n",
       "4  Da aquisição de máscaras, luvas e viseiras à c...       NaN     Covid-19   \n",
       "\n",
       "      tipo         tipoLayout  isOpinion  prioridade  aoMinuto  \\\n",
       "0  NOTICIA  MULTIMEDIA_NORMAL      False         3.0     False   \n",
       "1  NOTICIA  MULTIMEDIA_NORMAL      False         3.0     False   \n",
       "2  NOTICIA  MULTIMEDIA_NORMAL      False         3.0     False   \n",
       "3  NOTICIA    LONGFORM_NORMAL      False         3.0     False   \n",
       "4  NOTICIA  MULTIMEDIA_NORMAL      False         3.0     False   \n",
       "\n",
       "  dataActualizacao  ...                           tags_forcaConteudoAberto  \\\n",
       "0              NaN  ...  [False, False, False, False, False, False, Fal...   \n",
       "1              NaN  ...  [False, False, False, False, False, False, False]   \n",
       "2              NaN  ...                [False, False, False, False, False]   \n",
       "3              NaN  ...  [False, False, False, False, False, False, False]   \n",
       "4              NaN  ...         [False, False, False, False, False, False]   \n",
       "\n",
       "                                    tags_isForForuns  \\\n",
       "0  [False, False, False, False, False, False, Fal...   \n",
       "1  [False, False, False, False, False, False, False]   \n",
       "2                [False, False, False, False, False]   \n",
       "3  [False, False, False, False, False, False, False]   \n",
       "4         [False, False, False, False, False, False]   \n",
       "\n",
       "                                 tags_isUsedInForuns isClubeP isItemOpinion  \\\n",
       "0  [False, False, False, False, False, False, Fal...    False         False   \n",
       "1  [False, False, False, False, False, False, False]    False         False   \n",
       "2                [False, False, False, False, False]    False         False   \n",
       "3  [False, False, False, False, False, False, False]    False         False   \n",
       "4         [False, False, False, False, False, False]    False         False   \n",
       "\n",
       "  isMultipleRubric                                        socialTitle  \\\n",
       "0            False  Covid-19. Linha de mil milhões para micro e pe...   \n",
       "1            False  Coronavírus. Covid-19: Twitter retira vídeo e ...   \n",
       "2            False  Coronavírus. Tecnologia portuguesa elimina o n...   \n",
       "3            False  Coronavírus. “Não somos super-homens, somos hu...   \n",
       "4            False  Covid-19. Dez milhões de euros para as institu...   \n",
       "\n",
       "  isLongForm wordCount    extra4  \n",
       "0      False       349       NaN  \n",
       "1      False       358       NaN  \n",
       "2      False       740       NaN  \n",
       "3       True      2108  NOTIFIED  \n",
       "4      False       330       NaN  \n",
       "\n",
       "[5 rows x 33 columns]"
      ]
     },
     "execution_count": 16,
     "metadata": {},
     "output_type": "execute_result"
    }
   ],
   "source": [
    "df_publico.head()"
   ]
  },
  {
   "cell_type": "code",
   "execution_count": 17,
   "metadata": {},
   "outputs": [
    {
     "data": {
      "text/plain": [
       "Index(['titulo', 'descricao', 'subtitulo', 'rubrica', 'tipo', 'tipoLayout',\n",
       "       'isOpinion', 'prioridade', 'aoMinuto', 'dataActualizacao', 'data',\n",
       "       'autores_id', 'autores_nome', 'autores_localizacao',\n",
       "       'autores_profissaoActual', 'autores_profissaoNaAltura',\n",
       "       'autores_isExternal', 'autores_contribuicao', 'autores_tipo', 'tags_id',\n",
       "       'tags_nome', 'tags_isPrincipal', 'tags_isTimeLine',\n",
       "       'tags_forcaConteudoAberto', 'tags_isForForuns', 'tags_isUsedInForuns',\n",
       "       'isClubeP', 'isItemOpinion', 'isMultipleRubric', 'socialTitle',\n",
       "       'isLongForm', 'wordCount', 'extra4'],\n",
       "      dtype='object')"
      ]
     },
     "execution_count": 17,
     "metadata": {},
     "output_type": "execute_result"
    }
   ],
   "source": [
    "df_publico.columns"
   ]
  },
  {
   "cell_type": "markdown",
   "metadata": {},
   "source": [
    "## 2.3. Separate data column"
   ]
  },
  {
   "cell_type": "code",
   "execution_count": 18,
   "metadata": {},
   "outputs": [],
   "source": [
    "#split data column into day and hour columns\n",
    "temp_cols = df_publico['data'].str.split('T', expand = True)\n",
    "\n",
    "df_publico['day'] = temp_cols[0]\n",
    "df_publico['hms'] = temp_cols[1]\n",
    "#df_publico.drop(columns='Data', inplace=True)\n",
    "\n",
    "#split day column into year, month and day columns\n",
    "#temp_cols = df_publico['day'].str.split('-', expand = True)\n",
    "\n",
    "#df_publico['year'] = temp_cols[0]\n",
    "#df_publico['month'] = temp_cols[1]\n",
    "#f_publico['day'] = temp_cols[2]\n",
    "\n",
    "#order columns\n",
    "#df_publico = df_publico[['Data','Ano', 'Mes', 'Dia', 'Hora', 'Titulo', 'Descricao', 'Rubrica', 'URL']]"
   ]
  },
  {
   "cell_type": "code",
   "execution_count": 31,
   "metadata": {},
   "outputs": [],
   "source": [
    "df_publico = df_publico.assign(day = lambda df_publico: df_publico.day.map(pd.to_datetime))"
   ]
  },
  {
   "cell_type": "code",
   "execution_count": 32,
   "metadata": {},
   "outputs": [
    {
     "data": {
      "text/html": [
       "<div>\n",
       "<style scoped>\n",
       "    .dataframe tbody tr th:only-of-type {\n",
       "        vertical-align: middle;\n",
       "    }\n",
       "\n",
       "    .dataframe tbody tr th {\n",
       "        vertical-align: top;\n",
       "    }\n",
       "\n",
       "    .dataframe thead th {\n",
       "        text-align: right;\n",
       "    }\n",
       "</style>\n",
       "<table border=\"1\" class=\"dataframe\">\n",
       "  <thead>\n",
       "    <tr style=\"text-align: right;\">\n",
       "      <th></th>\n",
       "      <th>data</th>\n",
       "      <th>day</th>\n",
       "      <th>hms</th>\n",
       "    </tr>\n",
       "  </thead>\n",
       "  <tbody>\n",
       "    <tr>\n",
       "      <th>0</th>\n",
       "      <td>2020-07-28T17:16:49</td>\n",
       "      <td>2020-07-28</td>\n",
       "      <td>17:16:49</td>\n",
       "    </tr>\n",
       "    <tr>\n",
       "      <th>1</th>\n",
       "      <td>2020-07-28T17:05:16</td>\n",
       "      <td>2020-07-28</td>\n",
       "      <td>17:05:16</td>\n",
       "    </tr>\n",
       "    <tr>\n",
       "      <th>2</th>\n",
       "      <td>2020-07-28T16:32:15</td>\n",
       "      <td>2020-07-28</td>\n",
       "      <td>16:32:15</td>\n",
       "    </tr>\n",
       "    <tr>\n",
       "      <th>3</th>\n",
       "      <td>2020-07-28T16:10:41</td>\n",
       "      <td>2020-07-28</td>\n",
       "      <td>16:10:41</td>\n",
       "    </tr>\n",
       "    <tr>\n",
       "      <th>4</th>\n",
       "      <td>2020-07-28T15:18:03</td>\n",
       "      <td>2020-07-28</td>\n",
       "      <td>15:18:03</td>\n",
       "    </tr>\n",
       "    <tr>\n",
       "      <th>...</th>\n",
       "      <td>...</td>\n",
       "      <td>...</td>\n",
       "      <td>...</td>\n",
       "    </tr>\n",
       "    <tr>\n",
       "      <th>9665</th>\n",
       "      <td>2020-01-22T17:22:42</td>\n",
       "      <td>2020-01-22</td>\n",
       "      <td>17:22:42</td>\n",
       "    </tr>\n",
       "    <tr>\n",
       "      <th>9666</th>\n",
       "      <td>2020-01-22T17:15:01</td>\n",
       "      <td>2020-01-22</td>\n",
       "      <td>17:15:01</td>\n",
       "    </tr>\n",
       "    <tr>\n",
       "      <th>9667</th>\n",
       "      <td>2020-01-22T08:22:39</td>\n",
       "      <td>2020-01-22</td>\n",
       "      <td>08:22:39</td>\n",
       "    </tr>\n",
       "    <tr>\n",
       "      <th>9668</th>\n",
       "      <td>2020-01-21T19:05:03</td>\n",
       "      <td>2020-01-21</td>\n",
       "      <td>19:05:03</td>\n",
       "    </tr>\n",
       "    <tr>\n",
       "      <th>9669</th>\n",
       "      <td>2020-01-21T09:58:20</td>\n",
       "      <td>2020-01-21</td>\n",
       "      <td>09:58:20</td>\n",
       "    </tr>\n",
       "  </tbody>\n",
       "</table>\n",
       "<p>9670 rows × 3 columns</p>\n",
       "</div>"
      ],
      "text/plain": [
       "                     data        day       hms\n",
       "0     2020-07-28T17:16:49 2020-07-28  17:16:49\n",
       "1     2020-07-28T17:05:16 2020-07-28  17:05:16\n",
       "2     2020-07-28T16:32:15 2020-07-28  16:32:15\n",
       "3     2020-07-28T16:10:41 2020-07-28  16:10:41\n",
       "4     2020-07-28T15:18:03 2020-07-28  15:18:03\n",
       "...                   ...        ...       ...\n",
       "9665  2020-01-22T17:22:42 2020-01-22  17:22:42\n",
       "9666  2020-01-22T17:15:01 2020-01-22  17:15:01\n",
       "9667  2020-01-22T08:22:39 2020-01-22  08:22:39\n",
       "9668  2020-01-21T19:05:03 2020-01-21  19:05:03\n",
       "9669  2020-01-21T09:58:20 2020-01-21  09:58:20\n",
       "\n",
       "[9670 rows x 3 columns]"
      ]
     },
     "execution_count": 32,
     "metadata": {},
     "output_type": "execute_result"
    }
   ],
   "source": [
    "df_publico[['data', 'day', 'hms']]"
   ]
  },
  {
   "cell_type": "code",
   "execution_count": 33,
   "metadata": {},
   "outputs": [
    {
     "data": {
      "text/plain": [
       "0      2020-07-28\n",
       "1      2020-07-28\n",
       "2      2020-07-28\n",
       "3      2020-07-28\n",
       "4      2020-07-28\n",
       "          ...    \n",
       "9665   2020-01-22\n",
       "9666   2020-01-22\n",
       "9667   2020-01-22\n",
       "9668   2020-01-21\n",
       "9669   2020-01-21\n",
       "Name: day, Length: 9670, dtype: datetime64[ns]"
      ]
     },
     "execution_count": 33,
     "metadata": {},
     "output_type": "execute_result"
    }
   ],
   "source": [
    "df_publico.day"
   ]
  },
  {
   "cell_type": "code",
   "execution_count": 38,
   "metadata": {},
   "outputs": [],
   "source": [
    "df_publico.to_csv('../extra/notícias/dataset_cleaned.csv')"
   ]
  },
  {
   "cell_type": "markdown",
   "metadata": {},
   "source": [
    "# 3. Data preprocessing"
   ]
  },
  {
   "cell_type": "markdown",
   "metadata": {},
   "source": [
    "## 3.1. Tokenize news titles"
   ]
  },
  {
   "cell_type": "code",
   "execution_count": 22,
   "metadata": {},
   "outputs": [],
   "source": [
    "df_publico['title_tokenized'] = df_publico.apply(lambda row: nltk.word_tokenize(row['titulo']), axis=1)"
   ]
  },
  {
   "cell_type": "markdown",
   "metadata": {},
   "source": [
    "## 3.2. Create column with word length"
   ]
  },
  {
   "cell_type": "code",
   "execution_count": 23,
   "metadata": {},
   "outputs": [],
   "source": [
    "df_publico['title_length'] = df_publico['title_tokenized'].apply(len)"
   ]
  },
  {
   "cell_type": "code",
   "execution_count": 24,
   "metadata": {},
   "outputs": [],
   "source": [
    "s_publico_describe = df_publico['title_length'].describe()"
   ]
  },
  {
   "cell_type": "code",
   "execution_count": 25,
   "metadata": {},
   "outputs": [
    {
     "data": {
      "text/plain": [
       "count    9670.000000\n",
       "mean       12.131231\n",
       "std         4.304263\n",
       "min         1.000000\n",
       "25%         9.000000\n",
       "50%        12.000000\n",
       "75%        15.000000\n",
       "max        42.000000\n",
       "Name: title_length, dtype: float64"
      ]
     },
     "execution_count": 25,
     "metadata": {},
     "output_type": "execute_result"
    }
   ],
   "source": [
    "s_publico_describe"
   ]
  },
  {
   "cell_type": "markdown",
   "metadata": {},
   "source": [
    "- 22/07/2020\n",
    "    - Uma média de 12 palavras, com um desvio padrão de 4.3, dando um intervalo de comprimento entre 8 e 16 palavras.\n",
    "    - A média corresponde mais ou menos à mediana.\n",
    "    - Um mínimo de comprimento de 1 palavra apenas.\n",
    "    - Um máximo, por outro lado, de 42 palavras\n",
    "- 29/07/2020\n",
    "    - Igual a 22/07/2020"
   ]
  },
  {
   "cell_type": "markdown",
   "metadata": {},
   "source": [
    "# 4. Data analysis"
   ]
  },
  {
   "cell_type": "markdown",
   "metadata": {},
   "source": [
    "## 4.1. Find news with min and max word length"
   ]
  },
  {
   "cell_type": "code",
   "execution_count": 26,
   "metadata": {},
   "outputs": [],
   "source": [
    "min_index = (df_publico[df_publico['title_length'] == s_publico_describe.loc['min']]).index\n",
    "max_index = (df_publico[df_publico['title_length'] == s_publico_describe.loc['max']]).index"
   ]
  },
  {
   "cell_type": "code",
   "execution_count": 27,
   "metadata": {},
   "outputs": [
    {
     "name": "stdout",
     "output_type": "stream",
     "text": [
      "Notícias com número de palavras igual a 1.0 (min)\n",
      "\n",
      "249 Metamorfose\n",
      "932 Desconfinacalma\n",
      "1427 Desconfinamedo\n",
      "4171 Sudoku\n",
      "4272 Falhei\n",
      "4286 Regressar\n",
      "4931 Mães-mãe\n",
      "5074 Purificação\n",
      "5290 PanDemocracia\n",
      "\n",
      "7431 Ilhas\n",
      "7492 Fuga\n",
      "7990 Medo\n"
     ]
    }
   ],
   "source": [
    "print('Notícias com número de palavras igual a {} (min)'.format(s_publico_describe.loc['min']))\n",
    "print('')\n",
    "for idx in min_index:\n",
    "    print(idx, df_publico['titulo'].iloc[idx])"
   ]
  },
  {
   "cell_type": "code",
   "execution_count": 28,
   "metadata": {},
   "outputs": [
    {
     "name": "stdout",
     "output_type": "stream",
     "text": [
      "Notícias com número de palavras igual a 42.0 (max)\n",
      "\n",
      "7499 Da tv para o mundo real: <i>Anatomia de Grey</i>, <i>The Good Doctor</i> ou <i>Station 19</i> doam materiais para travar o novo coronavírus\n"
     ]
    }
   ],
   "source": [
    "print('Notícias com número de palavras igual a {} (max)'.format(s_publico_describe.loc['max']))\n",
    "print('')\n",
    "for idx in max_index:\n",
    "    print(idx, df_publico['titulo'].iloc[idx])"
   ]
  },
  {
   "cell_type": "markdown",
   "metadata": {},
   "source": [
    "## 4.2. Title length distribution"
   ]
  },
  {
   "cell_type": "code",
   "execution_count": 29,
   "metadata": {},
   "outputs": [
    {
     "data": {
      "text/plain": [
       "<matplotlib.axes._subplots.AxesSubplot at 0x7f5a3ae77760>"
      ]
     },
     "execution_count": 29,
     "metadata": {},
     "output_type": "execute_result"
    },
    {
     "data": {
      "image/png": "[encoded data removed]",
      "text/plain": [
       "<Figure size 432x288 with 1 Axes>"
      ]
     },
     "metadata": {
      "needs_background": "light"
     },
     "output_type": "display_data"
    }
   ],
   "source": [
    "sns.distplot(df_publico['title_length'].values)"
   ]
  },
  {
   "cell_type": "markdown",
   "metadata": {},
   "source": [
    "## 4.3. Amount of news"
   ]
  },
  {
   "cell_type": "code",
   "execution_count": 34,
   "metadata": {},
   "outputs": [
    {
     "data": {
      "text/plain": [
       "<matplotlib.axes._subplots.AxesSubplot at 0x7f5a39e49df0>"
      ]
     },
     "execution_count": 34,
     "metadata": {},
     "output_type": "execute_result"
    },
    {
     "data": {
      "image/png": "[encoded data removed]",
      "text/plain": [
       "<Figure size 432x288 with 1 Axes>"
      ]
     },
     "metadata": {
      "needs_background": "light"
     },
     "output_type": "display_data"
    }
   ],
   "source": [
    "df_publico.groupby(df_publico['day'].dt.month)['titulo'].count().plot(kind='bar')"
   ]
  },
  {
   "cell_type": "code",
   "execution_count": 36,
   "metadata": {},
   "outputs": [
    {
     "data": {
      "image/png": "[encoded data removed]",
      "text/plain": [
       "<Figure size 1080x360 with 1 Axes>"
      ]
     },
     "metadata": {
      "needs_background": "light"
     },
     "output_type": "display_data"
    }
   ],
   "source": [
    "ax = df_publico.groupby(df_publico['day']).count()['titulo'].plot(figsize=(15,5), marker='.')"
   ]
  },
  {
   "cell_type": "markdown",
   "metadata": {},
   "source": [
    "## 4.4. Medidas governamentais"
   ]
  },
  {
   "cell_type": "code",
   "execution_count": 75,
   "metadata": {},
   "outputs": [],
   "source": [
    "medidas_path = '../extra/medidas_governamentais/medidas_governamentais.csv'"
   ]
  },
  {
   "cell_type": "code",
   "execution_count": 76,
   "metadata": {},
   "outputs": [],
   "source": [
    "df_medidas = pd.read_csv(medidas_path, header=None)"
   ]
  },
  {
   "cell_type": "code",
   "execution_count": 77,
   "metadata": {},
   "outputs": [],
   "source": [
    "df_medidas.columns = ['data', 'region', 'type', 'description']"
   ]
  },
  {
   "cell_type": "code",
   "execution_count": 78,
   "metadata": {},
   "outputs": [
    {
     "data": {
      "text/plain": [
       "Medidas            57\n",
       "Desconfinamento    47\n",
       "Calamidade         10\n",
       "Emergência          3\n",
       "Alerta              2\n",
       "Contigência         1\n",
       "Name: type, dtype: int64"
      ]
     },
     "execution_count": 78,
     "metadata": {},
     "output_type": "execute_result"
    }
   ],
   "source": [
    "df_medidas['type'].value_counts()"
   ]
  },
  {
   "cell_type": "code",
   "execution_count": 79,
   "metadata": {},
   "outputs": [],
   "source": [
    "df_medidas_estados = df_medidas[(df_medidas['type']=='Calamidade') |\n",
    "                                (df_medidas['type']=='Emergência') |\n",
    "                                (df_medidas['type']=='Alerta') |\n",
    "                                (df_medidas['type']=='Contigência')]"
   ]
  },
  {
   "cell_type": "code",
   "execution_count": 80,
   "metadata": {},
   "outputs": [
    {
     "data": {
      "text/html": [
       "<div>\n",
       "<style scoped>\n",
       "    .dataframe tbody tr th:only-of-type {\n",
       "        vertical-align: middle;\n",
       "    }\n",
       "\n",
       "    .dataframe tbody tr th {\n",
       "        vertical-align: top;\n",
       "    }\n",
       "\n",
       "    .dataframe thead th {\n",
       "        text-align: right;\n",
       "    }\n",
       "</style>\n",
       "<table border=\"1\" class=\"dataframe\">\n",
       "  <thead>\n",
       "    <tr style=\"text-align: right;\">\n",
       "      <th></th>\n",
       "      <th>data</th>\n",
       "      <th>region</th>\n",
       "      <th>type</th>\n",
       "      <th>description</th>\n",
       "    </tr>\n",
       "  </thead>\n",
       "  <tbody>\n",
       "    <tr>\n",
       "      <th>5</th>\n",
       "      <td>13-03-2020</td>\n",
       "      <td>Portugal</td>\n",
       "      <td>Alerta</td>\n",
       "      <td>Decretado o Estado de Alerta</td>\n",
       "    </tr>\n",
       "    <tr>\n",
       "      <th>21</th>\n",
       "      <td>18-03-2020</td>\n",
       "      <td>Portugal</td>\n",
       "      <td>Emergência</td>\n",
       "      <td>Decretado o estado de emergência em Portugal</td>\n",
       "    </tr>\n",
       "    <tr>\n",
       "      <th>37</th>\n",
       "      <td>03-04-2020</td>\n",
       "      <td>Portugal</td>\n",
       "      <td>Emergência</td>\n",
       "      <td>Prorrogação do Estado de Emergência</td>\n",
       "    </tr>\n",
       "    <tr>\n",
       "      <th>47</th>\n",
       "      <td>17-04-2020</td>\n",
       "      <td>Portugal</td>\n",
       "      <td>Emergência</td>\n",
       "      <td>Prorrogação do Estado de Emergência</td>\n",
       "    </tr>\n",
       "    <tr>\n",
       "      <th>50</th>\n",
       "      <td>03-05-2020</td>\n",
       "      <td>Portugal</td>\n",
       "      <td>Calamidade</td>\n",
       "      <td>Decretado Estado de Calamidade</td>\n",
       "    </tr>\n",
       "    <tr>\n",
       "      <th>73</th>\n",
       "      <td>15-05-2020</td>\n",
       "      <td>Portugal</td>\n",
       "      <td>Calamidade</td>\n",
       "      <td>Prorrogação do estado de Calamidade</td>\n",
       "    </tr>\n",
       "    <tr>\n",
       "      <th>96</th>\n",
       "      <td>09-06-2020</td>\n",
       "      <td>Portugal</td>\n",
       "      <td>Calamidade</td>\n",
       "      <td>Prorrogação da Situação de Calamidade até 28-0...</td>\n",
       "    </tr>\n",
       "    <tr>\n",
       "      <th>107</th>\n",
       "      <td>01-07-2020</td>\n",
       "      <td>Portugal</td>\n",
       "      <td>Alerta</td>\n",
       "      <td>Decretada situação de Alerta em todo o país ex...</td>\n",
       "    </tr>\n",
       "  </tbody>\n",
       "</table>\n",
       "</div>"
      ],
      "text/plain": [
       "           data    region        type  \\\n",
       "5    13-03-2020  Portugal      Alerta   \n",
       "21   18-03-2020  Portugal  Emergência   \n",
       "37   03-04-2020  Portugal  Emergência   \n",
       "47   17-04-2020  Portugal  Emergência   \n",
       "50   03-05-2020  Portugal  Calamidade   \n",
       "73   15-05-2020  Portugal  Calamidade   \n",
       "96   09-06-2020  Portugal  Calamidade   \n",
       "107  01-07-2020  Portugal      Alerta   \n",
       "\n",
       "                                           description  \n",
       "5                         Decretado o Estado de Alerta  \n",
       "21        Decretado o estado de emergência em Portugal  \n",
       "37                 Prorrogação do Estado de Emergência  \n",
       "47                 Prorrogação do Estado de Emergência  \n",
       "50                      Decretado Estado de Calamidade  \n",
       "73                 Prorrogação do estado de Calamidade  \n",
       "96   Prorrogação da Situação de Calamidade até 28-0...  \n",
       "107  Decretada situação de Alerta em todo o país ex...  "
      ]
     },
     "execution_count": 80,
     "metadata": {},
     "output_type": "execute_result"
    }
   ],
   "source": [
    "df_medidas_estados[df_medidas_estados['region']=='Portugal']"
   ]
  },
  {
   "cell_type": "code",
   "execution_count": 83,
   "metadata": {},
   "outputs": [
    {
     "data": {
      "text/html": [
       "<div>\n",
       "<style scoped>\n",
       "    .dataframe tbody tr th:only-of-type {\n",
       "        vertical-align: middle;\n",
       "    }\n",
       "\n",
       "    .dataframe tbody tr th {\n",
       "        vertical-align: top;\n",
       "    }\n",
       "\n",
       "    .dataframe thead th {\n",
       "        text-align: right;\n",
       "    }\n",
       "</style>\n",
       "<table border=\"1\" class=\"dataframe\">\n",
       "  <thead>\n",
       "    <tr style=\"text-align: right;\">\n",
       "      <th></th>\n",
       "      <th>data</th>\n",
       "      <th>region</th>\n",
       "      <th>type</th>\n",
       "      <th>description</th>\n",
       "    </tr>\n",
       "  </thead>\n",
       "  <tbody>\n",
       "    <tr>\n",
       "      <th>5</th>\n",
       "      <td>2020-03-13</td>\n",
       "      <td>Portugal</td>\n",
       "      <td>Alerta</td>\n",
       "      <td>Decretado o Estado de Alerta</td>\n",
       "    </tr>\n",
       "    <tr>\n",
       "      <th>18</th>\n",
       "      <td>2020-03-17</td>\n",
       "      <td>Norte</td>\n",
       "      <td>Calamidade</td>\n",
       "      <td>Governo declara situação de calamidade no muni...</td>\n",
       "    </tr>\n",
       "    <tr>\n",
       "      <th>21</th>\n",
       "      <td>2020-03-18</td>\n",
       "      <td>Portugal</td>\n",
       "      <td>Emergência</td>\n",
       "      <td>Decretado o estado de emergência em Portugal</td>\n",
       "    </tr>\n",
       "    <tr>\n",
       "      <th>34</th>\n",
       "      <td>2020-02-04</td>\n",
       "      <td>Norte</td>\n",
       "      <td>Calamidade</td>\n",
       "      <td>Prorrogação da situação de calamidade em Ovar</td>\n",
       "    </tr>\n",
       "    <tr>\n",
       "      <th>37</th>\n",
       "      <td>2020-03-04</td>\n",
       "      <td>Portugal</td>\n",
       "      <td>Emergência</td>\n",
       "      <td>Prorrogação do Estado de Emergência</td>\n",
       "    </tr>\n",
       "    <tr>\n",
       "      <th>47</th>\n",
       "      <td>2020-04-17</td>\n",
       "      <td>Portugal</td>\n",
       "      <td>Emergência</td>\n",
       "      <td>Prorrogação do Estado de Emergência</td>\n",
       "    </tr>\n",
       "    <tr>\n",
       "      <th>50</th>\n",
       "      <td>2020-03-05</td>\n",
       "      <td>Portugal</td>\n",
       "      <td>Calamidade</td>\n",
       "      <td>Decretado Estado de Calamidade</td>\n",
       "    </tr>\n",
       "    <tr>\n",
       "      <th>73</th>\n",
       "      <td>2020-05-15</td>\n",
       "      <td>Portugal</td>\n",
       "      <td>Calamidade</td>\n",
       "      <td>Prorrogação do estado de Calamidade</td>\n",
       "    </tr>\n",
       "    <tr>\n",
       "      <th>96</th>\n",
       "      <td>2020-09-06</td>\n",
       "      <td>Portugal</td>\n",
       "      <td>Calamidade</td>\n",
       "      <td>Prorrogação da Situação de Calamidade até 28-0...</td>\n",
       "    </tr>\n",
       "    <tr>\n",
       "      <th>107</th>\n",
       "      <td>2020-01-07</td>\n",
       "      <td>Portugal</td>\n",
       "      <td>Alerta</td>\n",
       "      <td>Decretada situação de Alerta em todo o país ex...</td>\n",
       "    </tr>\n",
       "    <tr>\n",
       "      <th>108</th>\n",
       "      <td>2020-01-07</td>\n",
       "      <td>AML</td>\n",
       "      <td>Contigência</td>\n",
       "      <td>Situação de Contigência na AML excepto em 19 f...</td>\n",
       "    </tr>\n",
       "    <tr>\n",
       "      <th>109</th>\n",
       "      <td>2020-01-07</td>\n",
       "      <td>AML</td>\n",
       "      <td>Calamidade</td>\n",
       "      <td>Situação de Calamidade em todas as freguesias ...</td>\n",
       "    </tr>\n",
       "    <tr>\n",
       "      <th>110</th>\n",
       "      <td>2020-01-07</td>\n",
       "      <td>AML</td>\n",
       "      <td>Calamidade</td>\n",
       "      <td>Situação de Calamidade em todas as freguesias ...</td>\n",
       "    </tr>\n",
       "    <tr>\n",
       "      <th>111</th>\n",
       "      <td>2020-01-07</td>\n",
       "      <td>AML</td>\n",
       "      <td>Calamidade</td>\n",
       "      <td>Situação de Calamidade em seis das onze fregue...</td>\n",
       "    </tr>\n",
       "    <tr>\n",
       "      <th>112</th>\n",
       "      <td>2020-01-07</td>\n",
       "      <td>AML</td>\n",
       "      <td>Calamidade</td>\n",
       "      <td>Situação de Calamidade em duas das dez fregues...</td>\n",
       "    </tr>\n",
       "    <tr>\n",
       "      <th>113</th>\n",
       "      <td>2020-01-07</td>\n",
       "      <td>AML</td>\n",
       "      <td>Calamidade</td>\n",
       "      <td>Situação de Calamidade numa das vinte e quatro...</td>\n",
       "    </tr>\n",
       "  </tbody>\n",
       "</table>\n",
       "</div>"
      ],
      "text/plain": [
       "          data    region         type  \\\n",
       "5   2020-03-13  Portugal       Alerta   \n",
       "18  2020-03-17     Norte   Calamidade   \n",
       "21  2020-03-18  Portugal   Emergência   \n",
       "34  2020-02-04     Norte   Calamidade   \n",
       "37  2020-03-04  Portugal   Emergência   \n",
       "47  2020-04-17  Portugal   Emergência   \n",
       "50  2020-03-05  Portugal   Calamidade   \n",
       "73  2020-05-15  Portugal   Calamidade   \n",
       "96  2020-09-06  Portugal   Calamidade   \n",
       "107 2020-01-07  Portugal       Alerta   \n",
       "108 2020-01-07       AML  Contigência   \n",
       "109 2020-01-07       AML   Calamidade   \n",
       "110 2020-01-07       AML   Calamidade   \n",
       "111 2020-01-07       AML   Calamidade   \n",
       "112 2020-01-07       AML   Calamidade   \n",
       "113 2020-01-07       AML   Calamidade   \n",
       "\n",
       "                                           description  \n",
       "5                         Decretado o Estado de Alerta  \n",
       "18   Governo declara situação de calamidade no muni...  \n",
       "21        Decretado o estado de emergência em Portugal  \n",
       "34       Prorrogação da situação de calamidade em Ovar  \n",
       "37                 Prorrogação do Estado de Emergência  \n",
       "47                 Prorrogação do Estado de Emergência  \n",
       "50                      Decretado Estado de Calamidade  \n",
       "73                 Prorrogação do estado de Calamidade  \n",
       "96   Prorrogação da Situação de Calamidade até 28-0...  \n",
       "107  Decretada situação de Alerta em todo o país ex...  \n",
       "108  Situação de Contigência na AML excepto em 19 f...  \n",
       "109  Situação de Calamidade em todas as freguesias ...  \n",
       "110  Situação de Calamidade em todas as freguesias ...  \n",
       "111  Situação de Calamidade em seis das onze fregue...  \n",
       "112  Situação de Calamidade em duas das dez fregues...  \n",
       "113  Situação de Calamidade numa das vinte e quatro...  "
      ]
     },
     "execution_count": 83,
     "metadata": {},
     "output_type": "execute_result"
    }
   ],
   "source": [
    "df_medidas_estados.assign(data = lambda df_medidas_estados: df_medidas_estados.data.map(pd.to_datetime))"
   ]
  },
  {
   "cell_type": "code",
   "execution_count": 84,
   "metadata": {},
   "outputs": [
    {
     "data": {
      "text/plain": [
       "5     2020-03-13\n",
       "18    2020-03-17\n",
       "21    2020-03-18\n",
       "34    2020-02-04\n",
       "37    2020-03-04\n",
       "47    2020-04-17\n",
       "50    2020-03-05\n",
       "73    2020-05-15\n",
       "96    2020-09-06\n",
       "107   2020-01-07\n",
       "108   2020-01-07\n",
       "109   2020-01-07\n",
       "110   2020-01-07\n",
       "111   2020-01-07\n",
       "112   2020-01-07\n",
       "113   2020-01-07\n",
       "Name: data, dtype: datetime64[ns]"
      ]
     },
     "execution_count": 84,
     "metadata": {},
     "output_type": "execute_result"
    }
   ],
   "source": [
    "df_medidas_estados['data']"
   ]
  },
  {
   "cell_type": "code",
   "execution_count": 90,
   "metadata": {},
   "outputs": [
    {
     "data": {
      "text/plain": [
       "0       28\n",
       "1       28\n",
       "2       28\n",
       "3       28\n",
       "4       28\n",
       "        ..\n",
       "9665    22\n",
       "9666    22\n",
       "9667    22\n",
       "9668    21\n",
       "9669    21\n",
       "Name: day, Length: 9670, dtype: object"
      ]
     },
     "execution_count": 90,
     "metadata": {},
     "output_type": "execute_result"
    }
   ],
   "source": [
    "df_publico['day']"
   ]
  },
  {
   "cell_type": "code",
   "execution_count": 217,
   "metadata": {},
   "outputs": [
    {
     "data": {
      "text/plain": [
       "<matplotlib.lines.Line2D at 0x7fb16dff63d0>"
      ]
     },
     "execution_count": 217,
     "metadata": {},
     "output_type": "execute_result"
    },
    {
     "data": {
      "image/png": "[encoded data removed]",
      "text/plain": [
       "<Figure size 1080x360 with 1 Axes>"
      ]
     },
     "metadata": {
      "needs_background": "light"
     },
     "output_type": "display_data"
    }
   ],
   "source": [
    "ax = df_publico.groupby(['month', 'day']).count()['titulo'].plot(figsize=(15,5), marker='.')\n",
    "ax.axvline(x=, color='red')"
   ]
  },
  {
   "cell_type": "markdown",
   "metadata": {},
   "source": [
    "## 4.4. Stopwords"
   ]
  },
  {
   "cell_type": "markdown",
   "metadata": {},
   "source": [
    "Probably should remove stopwords..."
   ]
  },
  {
   "cell_type": "code",
   "execution_count": 158,
   "metadata": {},
   "outputs": [],
   "source": [
    "stopwords = nltk.corpus.stopwords.words('portuguese')"
   ]
  },
  {
   "cell_type": "markdown",
   "metadata": {},
   "source": [
    "Should have a better way to remove punctuation, but...\n",
    "¯\\\\_(ツ)_/¯"
   ]
  },
  {
   "cell_type": "code",
   "execution_count": 159,
   "metadata": {},
   "outputs": [],
   "source": [
    "punctuation = [\"\\\\\", \"|\", \"!\", \"\\\"\", \"#\", \"$\", \"%\",\n",
    "               \"&\", \"/\", \"(\", \")\", \"=\", \"?\", \",\", \";\",\n",
    "               \".\", \":\", \"“\", \"<\", \">\"]"
   ]
  },
  {
   "cell_type": "code",
   "execution_count": 169,
   "metadata": {},
   "outputs": [],
   "source": [
    "for item in punctuation:\n",
    "    stopwords.append(item)"
   ]
  },
  {
   "cell_type": "code",
   "execution_count": 170,
   "metadata": {},
   "outputs": [],
   "source": [
    "full_corpus = [item for sublist in df_publico['title_tokenized'].values.tolist() for item in sublist]"
   ]
  },
  {
   "cell_type": "code",
   "execution_count": 171,
   "metadata": {},
   "outputs": [],
   "source": [
    "filtered_corpus = [w for w in full_corpus if not w in stopwords]"
   ]
  },
  {
   "cell_type": "code",
   "execution_count": 172,
   "metadata": {},
   "outputs": [],
   "source": [
    "for item in filtered_corpus:\n",
    "    if len(item) < 2:\n",
    "        filtered_corpus = [word for word in filtered_corpus if word != item]"
   ]
  }
 ],
 "metadata": {
  "kernelspec": {
   "display_name": "Python 3",
   "language": "python",
   "name": "python3"
  },
  "language_info": {
   "codemirror_mode": {
    "name": "ipython",
    "version": 3
   },
   "file_extension": ".py",
   "mimetype": "text/x-python",
   "name": "python",
   "nbconvert_exporter": "python",
   "pygments_lexer": "ipython3",
   "version": "3.8.3"
  }
 },
 "nbformat": 4,
 "nbformat_minor": 4
}
