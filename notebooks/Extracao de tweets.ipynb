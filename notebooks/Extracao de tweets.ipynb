{
 "cells": [
  {
   "cell_type": "code",
   "execution_count": 2,
   "metadata": {},
   "outputs": [],
   "source": [
    "import GetOldTweets3 as got\n",
    "import csv\n",
    "import pendulum\n",
    "import pandas as pd\n",
    "\n",
    "%matplotlib inline\n",
    "import seaborn as sns\n",
    "import matplotlib.pyplot as plt"
   ]
  },
  {
   "cell_type": "code",
   "execution_count": null,
   "metadata": {},
   "outputs": [],
   "source": [
    "def get_tweets_by_month(first_date, end_date):    \n",
    "    # Open/create a file to append data to\n",
    "    csvFile = open('result5.csv', 'a')\n",
    "\n",
    "    #columns' names\n",
    "    columns = [\"id\",\"date\",\"username\",\"text\",\"hashtag\",\"geo\"]\n",
    "\n",
    "    tags = [\"coronavirus\", \"covid19\", \"covid-19\", \"covid\", \"corona\", \"covid19pt\", \"pandemia\", \"covid_19\", \"sarscov2\"]\n",
    "\n",
    "    #Use csv writer\n",
    "    csvWriter = csv.writer(csvFile)\n",
    "    csvWriter.writerow(columns)\n",
    "    \n",
    "    for day in pendulum.period(first_date, end_date).range('days'):\n",
    "        \n",
    "        date = day.to_date_string()\n",
    "        date_after = day.add(days=1).to_date_string()\n",
    "            \n",
    "        for tag in tags:\n",
    "            tweetCriteria = got.manager.TweetCriteria().setQuerySearch(tag)\\\n",
    "                                           .setSince(date)\\\n",
    "                                           .setUntil(date_after)\\\n",
    "                                           .setNear(\"39.700865, -8.127222\")\\\n",
    "                                           .setWithin(\"600mi\")\\\n",
    "                                           .setLang(\"pt\")\\\n",
    "                                           .setMaxTweets(1000)\n",
    "            tweet = got.manager.TweetManager.getTweets(tweetCriteria)\n",
    "        \n",
    "            for i in tweet:\n",
    "                csvWriter.writerow([i.id, i.date, i.username, i.text,i.hashtags, i.geo])\n",
    "            \n",
    "            print(\"Search for \" + tag + \" between \" + date + \" and \" + date_after + \" done.\") \n",
    "\n",
    "    csvFile.close()\n",
    "\n",
    "    return (\"Search completed.\") "
   ]
  },
  {
   "cell_type": "code",
   "execution_count": null,
   "metadata": {
    "scrolled": true
   },
   "outputs": [],
   "source": [
    "first_date = pendulum.datetime(2020, 1, 1)\n",
    "end_date = pendulum.datetime(2020, 6, 30)\n",
    "\n",
    "get_tweets_between_dates(first_date,end_date)"
   ]
  },
  {
   "cell_type": "code",
   "execution_count": 10,
   "metadata": {},
   "outputs": [],
   "source": [
    "df = pd.read_csv('tweets_clean.csv')"
   ]
  },
  {
   "cell_type": "code",
   "execution_count": 11,
   "metadata": {},
   "outputs": [
    {
     "data": {
      "text/html": [
       "<div>\n",
       "<style scoped>\n",
       "    .dataframe tbody tr th:only-of-type {\n",
       "        vertical-align: middle;\n",
       "    }\n",
       "\n",
       "    .dataframe tbody tr th {\n",
       "        vertical-align: top;\n",
       "    }\n",
       "\n",
       "    .dataframe thead th {\n",
       "        text-align: right;\n",
       "    }\n",
       "</style>\n",
       "<table border=\"1\" class=\"dataframe\">\n",
       "  <thead>\n",
       "    <tr style=\"text-align: right;\">\n",
       "      <th></th>\n",
       "      <th>id</th>\n",
       "      <th>date</th>\n",
       "      <th>username</th>\n",
       "      <th>text</th>\n",
       "      <th>hashtag</th>\n",
       "      <th>geo</th>\n",
       "    </tr>\n",
       "  </thead>\n",
       "  <tbody>\n",
       "    <tr>\n",
       "      <th>count</th>\n",
       "      <td>23070</td>\n",
       "      <td>23070</td>\n",
       "      <td>23070</td>\n",
       "      <td>23070</td>\n",
       "      <td>4831</td>\n",
       "      <td>1</td>\n",
       "    </tr>\n",
       "    <tr>\n",
       "      <th>unique</th>\n",
       "      <td>22782</td>\n",
       "      <td>22704</td>\n",
       "      <td>6526</td>\n",
       "      <td>23070</td>\n",
       "      <td>2986</td>\n",
       "      <td>1</td>\n",
       "    </tr>\n",
       "    <tr>\n",
       "      <th>top</th>\n",
       "      <td>1245312992499073025</td>\n",
       "      <td>2020-03-26 14:19:32+00:00</td>\n",
       "      <td>TSFRadio</td>\n",
       "      <td>Covid-19 já fez 1497 mortes em Portugal. Grand...</td>\n",
       "      <td>#COVID19</td>\n",
       "      <td>geo</td>\n",
       "    </tr>\n",
       "    <tr>\n",
       "      <th>freq</th>\n",
       "      <td>2</td>\n",
       "      <td>3</td>\n",
       "      <td>1920</td>\n",
       "      <td>1</td>\n",
       "      <td>299</td>\n",
       "      <td>1</td>\n",
       "    </tr>\n",
       "  </tbody>\n",
       "</table>\n",
       "</div>"
      ],
      "text/plain": [
       "                         id                       date  username  \\\n",
       "count                 23070                      23070     23070   \n",
       "unique                22782                      22704      6526   \n",
       "top     1245312992499073025  2020-03-26 14:19:32+00:00  TSFRadio   \n",
       "freq                      2                          3      1920   \n",
       "\n",
       "                                                     text   hashtag  geo  \n",
       "count                                               23070      4831    1  \n",
       "unique                                              23070      2986    1  \n",
       "top     Covid-19 já fez 1497 mortes em Portugal. Grand...  #COVID19  geo  \n",
       "freq                                                    1       299    1  "
      ]
     },
     "execution_count": 11,
     "metadata": {},
     "output_type": "execute_result"
    }
   ],
   "source": [
    "df.describe()"
   ]
  },
  {
   "cell_type": "code",
   "execution_count": 13,
   "metadata": {},
   "outputs": [],
   "source": [
    "def date_ymd(date):\n",
    "  date_ymd = date[0:10]\n",
    "  return date_ymd\n",
    "\n",
    "df['date_ymd'] = df['date'].apply(date_ymd)"
   ]
  },
  {
   "cell_type": "code",
   "execution_count": 14,
   "metadata": {},
   "outputs": [
    {
     "data": {
      "text/html": [
       "<div>\n",
       "<style scoped>\n",
       "    .dataframe tbody tr th:only-of-type {\n",
       "        vertical-align: middle;\n",
       "    }\n",
       "\n",
       "    .dataframe tbody tr th {\n",
       "        vertical-align: top;\n",
       "    }\n",
       "\n",
       "    .dataframe thead th {\n",
       "        text-align: right;\n",
       "    }\n",
       "</style>\n",
       "<table border=\"1\" class=\"dataframe\">\n",
       "  <thead>\n",
       "    <tr style=\"text-align: right;\">\n",
       "      <th></th>\n",
       "      <th>id</th>\n",
       "      <th>date</th>\n",
       "      <th>username</th>\n",
       "      <th>text</th>\n",
       "      <th>hashtag</th>\n",
       "      <th>geo</th>\n",
       "      <th>date_ymd</th>\n",
       "    </tr>\n",
       "  </thead>\n",
       "  <tbody>\n",
       "    <tr>\n",
       "      <th>0</th>\n",
       "      <td>1213243065336582144</td>\n",
       "      <td>2020-01-03 23:37:42+00:00</td>\n",
       "      <td>adreciclarte</td>\n",
       "      <td>Olha que o Corona também está a ficar bonzinho...</td>\n",
       "      <td>NaN</td>\n",
       "      <td>NaN</td>\n",
       "      <td>2020-01-03</td>\n",
       "    </tr>\n",
       "    <tr>\n",
       "      <th>1</th>\n",
       "      <td>1213599942444539906</td>\n",
       "      <td>2020-01-04 23:15:48+00:00</td>\n",
       "      <td>food_i_do</td>\n",
       "      <td>Que escândalo! Parece que só agora é que o árb...</td>\n",
       "      <td>NaN</td>\n",
       "      <td>NaN</td>\n",
       "      <td>2020-01-04</td>\n",
       "    </tr>\n",
       "    <tr>\n",
       "      <th>2</th>\n",
       "      <td>1213939014488788992</td>\n",
       "      <td>2020-01-05 21:43:09+00:00</td>\n",
       "      <td>CRbeiro</td>\n",
       "      <td>Corona meu mexicanozinho tu és do caralho pa!!...</td>\n",
       "      <td>NaN</td>\n",
       "      <td>NaN</td>\n",
       "      <td>2020-01-05</td>\n",
       "    </tr>\n",
       "    <tr>\n",
       "      <th>3</th>\n",
       "      <td>1213891469771247621</td>\n",
       "      <td>2020-01-05 18:34:14+00:00</td>\n",
       "      <td>dudzs16</td>\n",
       "      <td>Não temos a jogar um caralho. A substituição d...</td>\n",
       "      <td>NaN</td>\n",
       "      <td>NaN</td>\n",
       "      <td>2020-01-05</td>\n",
       "    </tr>\n",
       "    <tr>\n",
       "      <th>4</th>\n",
       "      <td>1213890252374466562</td>\n",
       "      <td>2020-01-05 18:29:23+00:00</td>\n",
       "      <td>luisgomes__10</td>\n",
       "      <td>Digo e volto a dizer, o Corona não pode jogar ...</td>\n",
       "      <td>NaN</td>\n",
       "      <td>NaN</td>\n",
       "      <td>2020-01-05</td>\n",
       "    </tr>\n",
       "  </tbody>\n",
       "</table>\n",
       "</div>"
      ],
      "text/plain": [
       "                    id                       date       username  \\\n",
       "0  1213243065336582144  2020-01-03 23:37:42+00:00   adreciclarte   \n",
       "1  1213599942444539906  2020-01-04 23:15:48+00:00      food_i_do   \n",
       "2  1213939014488788992  2020-01-05 21:43:09+00:00        CRbeiro   \n",
       "3  1213891469771247621  2020-01-05 18:34:14+00:00        dudzs16   \n",
       "4  1213890252374466562  2020-01-05 18:29:23+00:00  luisgomes__10   \n",
       "\n",
       "                                                text hashtag  geo    date_ymd  \n",
       "0  Olha que o Corona também está a ficar bonzinho...     NaN  NaN  2020-01-03  \n",
       "1  Que escândalo! Parece que só agora é que o árb...     NaN  NaN  2020-01-04  \n",
       "2  Corona meu mexicanozinho tu és do caralho pa!!...     NaN  NaN  2020-01-05  \n",
       "3  Não temos a jogar um caralho. A substituição d...     NaN  NaN  2020-01-05  \n",
       "4  Digo e volto a dizer, o Corona não pode jogar ...     NaN  NaN  2020-01-05  "
      ]
     },
     "execution_count": 14,
     "metadata": {},
     "output_type": "execute_result"
    }
   ],
   "source": [
    "df.head()"
   ]
  },
  {
   "cell_type": "code",
   "execution_count": 15,
   "metadata": {},
   "outputs": [],
   "source": [
    "df['date_ymd'] = pd.to_datetime(df['date_ymd'], errors='coerce', format='%Y-%m-%d')"
   ]
  },
  {
   "cell_type": "code",
   "execution_count": 16,
   "metadata": {},
   "outputs": [
    {
     "data": {
      "text/plain": [
       "<AxesSubplot:xlabel='date_ymd'>"
      ]
     },
     "execution_count": 16,
     "metadata": {},
     "output_type": "execute_result"
    },
    {
     "data": {
      "image/png": "[encoded data removed]",
      "text/plain": [
       "<Figure size 432x288 with 1 Axes>"
      ]
     },
     "metadata": {
      "needs_background": "light"
     },
     "output_type": "display_data"
    }
   ],
   "source": [
    "df.groupby(df[\"date_ymd\"].dt.month).count().plot(kind=\"bar\")"
   ]
  }
 ],
 "metadata": {
  "kernelspec": {
   "display_name": "Python 3",
   "language": "python",
   "name": "python3"
  },
  "language_info": {
   "codemirror_mode": {
    "name": "ipython",
    "version": 3
   },
   "file_extension": ".py",
   "mimetype": "text/x-python",
   "name": "python",
   "nbconvert_exporter": "python",
   "pygments_lexer": "ipython3",
   "version": "3.6.8"
  }
 },
 "nbformat": 4,
 "nbformat_minor": 4
}
