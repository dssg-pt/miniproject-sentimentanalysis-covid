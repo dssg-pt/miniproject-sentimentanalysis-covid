{
 "cells": [
  {
   "cell_type": "code",
   "execution_count": 2,
   "metadata": {},
   "outputs": [],
   "source": [
    "import GetOldTweets3 as got\n",
    "import csv\n",
    "import pendulum\n",
    "import pandas as pd\n",
    "\n",
    "%matplotlib inline\n",
    "import seaborn as sns\n",
    "import matplotlib.pyplot as plt"
   ]
  },
  {
   "cell_type": "code",
   "execution_count": null,
   "metadata": {},
   "outputs": [],
   "source": [
    "def get_tweets_by_month(first_date, end_date):    \n",
    "    # Open/create a file to append data to\n",
    "    csvFile = open('result5.csv', 'a')\n",
    "\n",
    "    #columns' names\n",
    "    columns = [\"id\",\"date\",\"username\",\"text\",\"hashtag\",\"geo\"]\n",
    "\n",
    "    tags = [\"coronavirus\", \"covid19\", \"covid-19\", \"covid\", \"corona\", \"covid19pt\", \"pandemia\", \"covid_19\", \"sarscov2\"]\n",
    "\n",
    "    #Use csv writer\n",
    "    csvWriter = csv.writer(csvFile)\n",
    "    csvWriter.writerow(columns)\n",
    "    \n",
    "    for day in pendulum.period(first_date, end_date).range('days'):\n",
    "        \n",
    "        date = day.to_date_string()\n",
    "        date_after = day.add(days=1).to_date_string()\n",
    "            \n",
    "        for tag in tags:\n",
    "            tweetCriteria = got.manager.TweetCriteria().setQuerySearch(tag)\\\n",
    "                                           .setSince(date)\\\n",
    "                                           .setUntil(date_after)\\\n",
    "                                           .setNear(\"39.700865, -8.127222\")\\\n",
    "                                           .setWithin(\"600mi\")\\\n",
    "                                           .setLang(\"pt\")\\\n",
    "                                           .setMaxTweets(1000)\n",
    "            tweet = got.manager.TweetManager.getTweets(tweetCriteria)\n",
    "        \n",
    "            for i in tweet:\n",
    "                csvWriter.writerow([i.id, i.date, i.username, i.text,i.hashtags, i.geo])\n",
    "            \n",
    "            print(\"Search for \" + tag + \" between \" + date + \" and \" + date_after + \" done.\") \n",
    "\n",
    "    csvFile.close()\n",
    "\n",
    "    return (\"Search completed.\") "
   ]
  },
  {
   "cell_type": "code",
   "execution_count": null,
   "metadata": {
    "scrolled": true
   },
   "outputs": [],
   "source": [
    "first_date = pendulum.datetime(2020, 1, 1)\n",
    "end_date = pendulum.datetime(2020, 6, 30)\n",
    "\n",
    "get_tweets_between_dates(first_date,end_date)"
   ]
  },
  {
   "cell_type": "code",
   "execution_count": 3,
   "metadata": {},
   "outputs": [],
   "source": [
    "df = read_csv('twe')"
   ]
  },
  {
   "cell_type": "code",
   "execution_count": 4,
   "metadata": {},
   "outputs": [
    {
     "data": {
      "text/html": [
       "<div>\n",
       "<style scoped>\n",
       "    .dataframe tbody tr th:only-of-type {\n",
       "        vertical-align: middle;\n",
       "    }\n",
       "\n",
       "    .dataframe tbody tr th {\n",
       "        vertical-align: top;\n",
       "    }\n",
       "\n",
       "    .dataframe thead th {\n",
       "        text-align: right;\n",
       "    }\n",
       "</style>\n",
       "<table border=\"1\" class=\"dataframe\">\n",
       "  <thead>\n",
       "    <tr style=\"text-align: right;\">\n",
       "      <th></th>\n",
       "      <th>id</th>\n",
       "      <th>date</th>\n",
       "      <th>username</th>\n",
       "      <th>text</th>\n",
       "      <th>hashtag</th>\n",
       "      <th>geo</th>\n",
       "    </tr>\n",
       "  </thead>\n",
       "  <tbody>\n",
       "    <tr>\n",
       "      <th>count</th>\n",
       "      <td>40337</td>\n",
       "      <td>40337</td>\n",
       "      <td>40337</td>\n",
       "      <td>40337</td>\n",
       "      <td>11622</td>\n",
       "      <td>4</td>\n",
       "    </tr>\n",
       "    <tr>\n",
       "      <th>unique</th>\n",
       "      <td>23021</td>\n",
       "      <td>22825</td>\n",
       "      <td>6550</td>\n",
       "      <td>23070</td>\n",
       "      <td>2987</td>\n",
       "      <td>1</td>\n",
       "    </tr>\n",
       "    <tr>\n",
       "      <th>top</th>\n",
       "      <td>1245856385922813952</td>\n",
       "      <td>2020-04-02 23:31:23+00:00</td>\n",
       "      <td>TSFRadio</td>\n",
       "      <td>Free Excel tutorial: https://www.excel-easy.com</td>\n",
       "      <td>#COVID19</td>\n",
       "      <td>geo</td>\n",
       "    </tr>\n",
       "    <tr>\n",
       "      <th>freq</th>\n",
       "      <td>11</td>\n",
       "      <td>11</td>\n",
       "      <td>4311</td>\n",
       "      <td>27</td>\n",
       "      <td>922</td>\n",
       "      <td>4</td>\n",
       "    </tr>\n",
       "  </tbody>\n",
       "</table>\n",
       "</div>"
      ],
      "text/plain": [
       "                         id                       date  username  \\\n",
       "count                 40337                      40337     40337   \n",
       "unique                23021                      22825      6550   \n",
       "top     1245856385922813952  2020-04-02 23:31:23+00:00  TSFRadio   \n",
       "freq                     11                         11      4311   \n",
       "\n",
       "                                                   text   hashtag  geo  \n",
       "count                                             40337     11622    4  \n",
       "unique                                            23070      2987    1  \n",
       "top     Free Excel tutorial: https://www.excel-easy.com  #COVID19  geo  \n",
       "freq                                                 27       922    4  "
      ]
     },
     "execution_count": 4,
     "metadata": {},
     "output_type": "execute_result"
    }
   ],
   "source": [
    "df.describe()"
   ]
  },
  {
   "cell_type": "code",
   "execution_count": 5,
   "metadata": {
    "scrolled": true
   },
   "outputs": [],
   "source": [
    "df = df.drop_duplicates(subset='text', keep=\"first\")"
   ]
  },
  {
   "cell_type": "code",
   "execution_count": 8,
   "metadata": {
    "scrolled": true
   },
   "outputs": [],
   "source": [
    "df.describe()\n",
    "\n",
    "df.to_csv('tweets_clean.csv', index=False)"
   ]
  },
  {
   "cell_type": "code",
   "execution_count": null,
   "metadata": {},
   "outputs": [],
   "source": [
    "def date_ymd(date):\n",
    "  date_ymd = date[0:10]\n",
    "  return date_ymd\n",
    "\n",
    "df1['date_ymd'] = df['date'].apply(date_ymd)"
   ]
  },
  {
   "cell_type": "code",
   "execution_count": null,
   "metadata": {},
   "outputs": [],
   "source": [
    "df1.head()"
   ]
  },
  {
   "cell_type": "code",
   "execution_count": null,
   "metadata": {},
   "outputs": [],
   "source": [
    "df1['date_ymd'] = pd.to_datetime(df1['date_ymd'], errors='coerce', format='%Y-%m-%d')"
   ]
  },
  {
   "cell_type": "code",
   "execution_count": null,
   "metadata": {},
   "outputs": [],
   "source": [
    "df1.groupby(df1[\"date_ymd\"].dt.month).count().plot(kind=\"bar\")"
   ]
  },
  {
   "cell_type": "code",
   "execution_count": null,
   "metadata": {},
   "outputs": [],
   "source": []
  }
 ],
 "metadata": {
  "kernelspec": {
   "display_name": "Python 3",
   "language": "python",
   "name": "python3"
  },
  "language_info": {
   "codemirror_mode": {
    "name": "ipython",
    "version": 3
   },
   "file_extension": ".py",
   "mimetype": "text/x-python",
   "name": "python",
   "nbconvert_exporter": "python",
   "pygments_lexer": "ipython3",
   "version": "3.6.8"
  }
 },
 "nbformat": 4,
 "nbformat_minor": 4
}
