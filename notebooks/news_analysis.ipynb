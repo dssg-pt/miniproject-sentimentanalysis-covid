{
 "cells": [
  {
   "cell_type": "markdown",
   "metadata": {},
   "source": [
    "# 1. Setup"
   ]
  },
  {
   "cell_type": "markdown",
   "metadata": {},
   "source": [
    "## 1.1. Python imports"
   ]
  },
  {
   "cell_type": "code",
   "execution_count": 1,
   "metadata": {},
   "outputs": [],
   "source": [
    "import nltk\n",
    "import numpy as np\n",
    "import pandas as pd\n",
    "import matplotlib.pyplot as plt\n",
    "import seaborn as sns"
   ]
  },
  {
   "cell_type": "markdown",
   "metadata": {},
   "source": [
    "## 1.2. NLTK downloads"
   ]
  },
  {
   "cell_type": "markdown",
   "metadata": {},
   "source": [
    "Only run if needed, on new environment, or if the files have been deleted."
   ]
  },
  {
   "cell_type": "code",
   "execution_count": 2,
   "metadata": {},
   "outputs": [],
   "source": [
    "#nltk.download('punkt')\n",
    "#nltk.download('stopwords')"
   ]
  },
  {
   "cell_type": "markdown",
   "metadata": {},
   "source": [
    "# 2. Data setup"
   ]
  },
  {
   "cell_type": "markdown",
   "metadata": {},
   "source": [
    "## 2.1. Get data from csv"
   ]
  },
  {
   "cell_type": "code",
   "execution_count": 2,
   "metadata": {},
   "outputs": [],
   "source": [
    "publico_path = '../extra/notícias/news_sample_1to1000_updated.csv'"
   ]
  },
  {
   "cell_type": "code",
   "execution_count": 138,
   "metadata": {},
   "outputs": [],
   "source": [
    "df_publico = pd.read_csv(publico_path, index_col='Unnamed: 0') #index_col = \"Unnamed: 0\""
   ]
  },
  {
   "cell_type": "code",
   "execution_count": 4,
   "metadata": {},
   "outputs": [],
   "source": [
    "df_publico_shape = df_publico.shape"
   ]
  },
  {
   "cell_type": "code",
   "execution_count": 5,
   "metadata": {},
   "outputs": [
    {
     "data": {
      "text/plain": [
       "(9670, 42)"
      ]
     },
     "execution_count": 5,
     "metadata": {},
     "output_type": "execute_result"
    }
   ],
   "source": [
    "df_publico_shape\n",
    "#22/07/2020 -> (8849, 5)\n",
    "#28/07/2020 -> (9670, 42)"
   ]
  },
  {
   "cell_type": "code",
   "execution_count": 6,
   "metadata": {},
   "outputs": [
    {
     "data": {
      "text/plain": [
       "Index(['titulo', 'descricao', 'titulo_Mobile', 'subtitulo', 'rubricTag',\n",
       "       'rubrica', 'tipo', 'palavraChave', 'tipoLayout', 'isOpinion',\n",
       "       'prioridade', 'isPreview', 'aoMinuto', 'isFeature', 'dataActualizacao',\n",
       "       'data', 'autores_id', 'autores_nome', 'autores_localizacao',\n",
       "       'autores_profissaoActual', 'autores_profissaoNaAltura',\n",
       "       'autores_isExternal', 'autores_contribuicao', 'autores_tipo', 'tags_id',\n",
       "       'tags_nome', 'tags_isPrincipal', 'tags_isTimeLine',\n",
       "       'tags_forcaConteudoAberto', 'tags_isForForuns', 'tags_isUsedInForuns',\n",
       "       'isSponsorContent', 'isClubeP', 'isItemOpinion', 'isMultipleRubric',\n",
       "       'socialTitle', 'isLongForm', 'isHeadline', 'wordCount', 'extra4',\n",
       "       'partners', 'props'],\n",
       "      dtype='object')"
      ]
     },
     "execution_count": 6,
     "metadata": {},
     "output_type": "execute_result"
    }
   ],
   "source": [
    "df_publico.columns \n",
    "\n",
    "#22/07/2020 -> ['Data', 'Titulo', 'Descricao', 'Rubrica', 'URL']\n",
    "#28/07/2020 -> ['titulo', 'descricao', 'titulo_Mobile', 'subtitulo', 'rubricTag',\n",
    "#               'rubrica', 'tipo', 'palavraChave', 'tipoLayout', 'isOpinion',\n",
    "#               'prioridade', 'isPreview', 'aoMinuto', 'isFeature', 'dataActualizacao',\n",
    "#               'data', 'autores_id', 'autores_nome', 'autores_localizacao',\n",
    "#               'autores_profissaoActual', 'autores_profissaoNaAltura',\n",
    "#               'autores_isExternal', 'autores_contribuicao', 'autores_tipo', 'tags_id',\n",
    "#               'tags_nome', 'tags_isPrincipal', 'tags_isTimeLine',\n",
    "#               'tags_forcaConteudoAberto', 'tags_isForForuns', 'tags_isUsedInForuns',\n",
    "#               'isSponsorContent', 'isClubeP', 'isItemOpinion', 'isMultipleRubric',\n",
    "#               'socialTitle', 'isLongForm', 'isHeadline', 'wordCount', 'extra4',\n",
    "#               'partners', 'props']"
   ]
  },
  {
   "cell_type": "markdown",
   "metadata": {},
   "source": [
    "## 2.2. Clean data"
   ]
  },
  {
   "cell_type": "code",
   "execution_count": 133,
   "metadata": {},
   "outputs": [],
   "source": [
    "num_nulls = df_publico.isnull().sum()"
   ]
  },
  {
   "cell_type": "code",
   "execution_count": 139,
   "metadata": {},
   "outputs": [],
   "source": [
    "empty_cols = list()\n",
    "for col in df_publico:\n",
    "    if num_nulls[col] == df_publico_shape[0]:\n",
    "        df_publico.drop(columns=[col], inplace=True)\n",
    "        empty_cols.append(col)"
   ]
  },
  {
   "cell_type": "code",
   "execution_count": 123,
   "metadata": {},
   "outputs": [
    {
     "name": "stdout",
     "output_type": "stream",
     "text": [
      "['titulo_Mobile', 'palavraChave', 'partners', 'props']\n"
     ]
    }
   ],
   "source": [
    "print(empty_cols)"
   ]
  },
  {
   "cell_type": "code",
   "execution_count": 120,
   "metadata": {},
   "outputs": [
    {
     "data": {
      "text/plain": [
       "38"
      ]
     },
     "execution_count": 120,
     "metadata": {},
     "output_type": "execute_result"
    }
   ],
   "source": [
    "len(df_publico.columns)"
   ]
  },
  {
   "cell_type": "code",
   "execution_count": 113,
   "metadata": {},
   "outputs": [
    {
     "name": "stdout",
     "output_type": "stream",
     "text": [
      "extra4\n"
     ]
    },
    {
     "data": {
      "text/plain": [
       "NOTIFIED    1631\n",
       "Name: extra4, dtype: int64"
      ]
     },
     "execution_count": 113,
     "metadata": {},
     "output_type": "execute_result"
    }
   ],
   "source": [
    "i = 37\n",
    "print(df_publico.columns[i])\n",
    "df_publico[df_publico.columns[i]].value_counts()"
   ]
  },
  {
   "cell_type": "code",
   "execution_count": 69,
   "metadata": {},
   "outputs": [
    {
     "data": {
      "text/plain": [
       "0          Covid-19\n",
       "1       Coronavírus\n",
       "2       Coronavírus\n",
       "3       Coronavírus\n",
       "4          Covid-19\n",
       "           ...     \n",
       "9665          Vírus\n",
       "9666          Vírus\n",
       "9667          China\n",
       "9668          Vírus\n",
       "9669          Vírus\n",
       "Name: rubrica, Length: 9670, dtype: object"
      ]
     },
     "execution_count": 69,
     "metadata": {},
     "output_type": "execute_result"
    }
   ],
   "source": [
    "df_publico[df_publico.columns[4]]"
   ]
  },
  {
   "cell_type": "markdown",
   "metadata": {},
   "source": [
    "After manually checking the number of values in each column, as well as the values themselves, the following columns were considered useless:"
   ]
  },
  {
   "cell_type": "code",
   "execution_count": 122,
   "metadata": {},
   "outputs": [
    {
     "name": "stdout",
     "output_type": "stream",
     "text": [
      "['rubricTag', 'isPreview', 'isFeature', 'isSponsorContent', 'isHeadline']\n"
     ]
    }
   ],
   "source": [
    "useless_cols_index = [3, 9, 11, 29, 35]\n",
    "useless_cols = [df_publico.columns[col] for col in useless_cols_index]\n",
    "print(useless_cols)"
   ]
  },
  {
   "cell_type": "code",
   "execution_count": 140,
   "metadata": {},
   "outputs": [],
   "source": [
    "df_publico.drop(columns=useless_cols, inplace=True)"
   ]
  },
  {
   "cell_type": "code",
   "execution_count": 126,
   "metadata": {},
   "outputs": [
    {
     "data": {
      "text/plain": [
       "33"
      ]
     },
     "execution_count": 126,
     "metadata": {},
     "output_type": "execute_result"
    }
   ],
   "source": [
    "len(df_publico.columns)"
   ]
  },
  {
   "cell_type": "code",
   "execution_count": 128,
   "metadata": {},
   "outputs": [
    {
     "data": {
      "text/html": [
       "<div>\n",
       "<style scoped>\n",
       "    .dataframe tbody tr th:only-of-type {\n",
       "        vertical-align: middle;\n",
       "    }\n",
       "\n",
       "    .dataframe tbody tr th {\n",
       "        vertical-align: top;\n",
       "    }\n",
       "\n",
       "    .dataframe thead th {\n",
       "        text-align: right;\n",
       "    }\n",
       "</style>\n",
       "<table border=\"1\" class=\"dataframe\">\n",
       "  <thead>\n",
       "    <tr style=\"text-align: right;\">\n",
       "      <th></th>\n",
       "      <th>titulo</th>\n",
       "      <th>descricao</th>\n",
       "      <th>subtitulo</th>\n",
       "      <th>rubrica</th>\n",
       "      <th>tipo</th>\n",
       "      <th>tipoLayout</th>\n",
       "      <th>isOpinion</th>\n",
       "      <th>prioridade</th>\n",
       "      <th>aoMinuto</th>\n",
       "      <th>dataActualizacao</th>\n",
       "      <th>...</th>\n",
       "      <th>tags_forcaConteudoAberto</th>\n",
       "      <th>tags_isForForuns</th>\n",
       "      <th>tags_isUsedInForuns</th>\n",
       "      <th>isClubeP</th>\n",
       "      <th>isItemOpinion</th>\n",
       "      <th>isMultipleRubric</th>\n",
       "      <th>socialTitle</th>\n",
       "      <th>isLongForm</th>\n",
       "      <th>wordCount</th>\n",
       "      <th>extra4</th>\n",
       "    </tr>\n",
       "  </thead>\n",
       "  <tbody>\n",
       "    <tr>\n",
       "      <th>0</th>\n",
       "      <td>Linha de mil milhões para micro e pequenas emp...</td>\n",
       "      <td>Ministério da Economia diz que a formalização ...</td>\n",
       "      <td>NaN</td>\n",
       "      <td>Covid-19</td>\n",
       "      <td>NOTICIA</td>\n",
       "      <td>MULTIMEDIA_NORMAL</td>\n",
       "      <td>False</td>\n",
       "      <td>3.0</td>\n",
       "      <td>False</td>\n",
       "      <td>NaN</td>\n",
       "      <td>...</td>\n",
       "      <td>[False, False, False, False, False, False, Fal...</td>\n",
       "      <td>[False, False, False, False, False, False, Fal...</td>\n",
       "      <td>[False, False, False, False, False, False, Fal...</td>\n",
       "      <td>False</td>\n",
       "      <td>False</td>\n",
       "      <td>False</td>\n",
       "      <td>Covid-19. Linha de mil milhões para micro e pe...</td>\n",
       "      <td>False</td>\n",
       "      <td>349</td>\n",
       "      <td>NaN</td>\n",
       "    </tr>\n",
       "    <tr>\n",
       "      <th>1</th>\n",
       "      <td>Covid-19: Twitter retira vídeo e mensagens de ...</td>\n",
       "      <td>Segundo o jornal &lt;i&gt;The Washington Post&lt;/i&gt;, o...</td>\n",
       "      <td>NaN</td>\n",
       "      <td>Coronavírus</td>\n",
       "      <td>NOTICIA</td>\n",
       "      <td>MULTIMEDIA_NORMAL</td>\n",
       "      <td>False</td>\n",
       "      <td>3.0</td>\n",
       "      <td>False</td>\n",
       "      <td>NaN</td>\n",
       "      <td>...</td>\n",
       "      <td>[False, False, False, False, False, False, False]</td>\n",
       "      <td>[False, False, False, False, False, False, False]</td>\n",
       "      <td>[False, False, False, False, False, False, False]</td>\n",
       "      <td>False</td>\n",
       "      <td>False</td>\n",
       "      <td>False</td>\n",
       "      <td>Coronavírus. Covid-19: Twitter retira vídeo e ...</td>\n",
       "      <td>False</td>\n",
       "      <td>358</td>\n",
       "      <td>NaN</td>\n",
       "    </tr>\n",
       "    <tr>\n",
       "      <th>2</th>\n",
       "      <td>Tecnologia portuguesa elimina o novo coronavír...</td>\n",
       "      <td>A tecnologia pioneira AT MicroProtect, desenvo...</td>\n",
       "      <td>NaN</td>\n",
       "      <td>Coronavírus</td>\n",
       "      <td>NOTICIA</td>\n",
       "      <td>MULTIMEDIA_NORMAL</td>\n",
       "      <td>False</td>\n",
       "      <td>3.0</td>\n",
       "      <td>False</td>\n",
       "      <td>NaN</td>\n",
       "      <td>...</td>\n",
       "      <td>[False, False, False, False, False]</td>\n",
       "      <td>[False, False, False, False, False]</td>\n",
       "      <td>[False, False, False, False, False]</td>\n",
       "      <td>False</td>\n",
       "      <td>False</td>\n",
       "      <td>False</td>\n",
       "      <td>Coronavírus. Tecnologia portuguesa elimina o n...</td>\n",
       "      <td>False</td>\n",
       "      <td>740</td>\n",
       "      <td>NaN</td>\n",
       "    </tr>\n",
       "    <tr>\n",
       "      <th>3</th>\n",
       "      <td>“Não somos super-homens, somos humanos”: os re...</td>\n",
       "      <td>Há de tudo: a algumas pessoas a covid-19 não p...</td>\n",
       "      <td>NaN</td>\n",
       "      <td>Coronavírus</td>\n",
       "      <td>NOTICIA</td>\n",
       "      <td>LONGFORM_NORMAL</td>\n",
       "      <td>False</td>\n",
       "      <td>3.0</td>\n",
       "      <td>False</td>\n",
       "      <td>NaN</td>\n",
       "      <td>...</td>\n",
       "      <td>[False, False, False, False, False, False, False]</td>\n",
       "      <td>[False, False, False, False, False, False, False]</td>\n",
       "      <td>[False, False, False, False, False, False, False]</td>\n",
       "      <td>False</td>\n",
       "      <td>False</td>\n",
       "      <td>False</td>\n",
       "      <td>Coronavírus. “Não somos super-homens, somos hu...</td>\n",
       "      <td>True</td>\n",
       "      <td>2108</td>\n",
       "      <td>NOTIFIED</td>\n",
       "    </tr>\n",
       "    <tr>\n",
       "      <th>4</th>\n",
       "      <td>Dez milhões de euros para as instituições part...</td>\n",
       "      <td>Da aquisição de máscaras, luvas e viseiras à c...</td>\n",
       "      <td>NaN</td>\n",
       "      <td>Covid-19</td>\n",
       "      <td>NOTICIA</td>\n",
       "      <td>MULTIMEDIA_NORMAL</td>\n",
       "      <td>False</td>\n",
       "      <td>3.0</td>\n",
       "      <td>False</td>\n",
       "      <td>NaN</td>\n",
       "      <td>...</td>\n",
       "      <td>[False, False, False, False, False, False]</td>\n",
       "      <td>[False, False, False, False, False, False]</td>\n",
       "      <td>[False, False, False, False, False, False]</td>\n",
       "      <td>False</td>\n",
       "      <td>False</td>\n",
       "      <td>False</td>\n",
       "      <td>Covid-19. Dez milhões de euros para as institu...</td>\n",
       "      <td>False</td>\n",
       "      <td>330</td>\n",
       "      <td>NaN</td>\n",
       "    </tr>\n",
       "  </tbody>\n",
       "</table>\n",
       "<p>5 rows × 33 columns</p>\n",
       "</div>"
      ],
      "text/plain": [
       "                                              titulo  \\\n",
       "0  Linha de mil milhões para micro e pequenas emp...   \n",
       "1  Covid-19: Twitter retira vídeo e mensagens de ...   \n",
       "2  Tecnologia portuguesa elimina o novo coronavír...   \n",
       "3  “Não somos super-homens, somos humanos”: os re...   \n",
       "4  Dez milhões de euros para as instituições part...   \n",
       "\n",
       "                                           descricao subtitulo      rubrica  \\\n",
       "0  Ministério da Economia diz que a formalização ...       NaN     Covid-19   \n",
       "1  Segundo o jornal <i>The Washington Post</i>, o...       NaN  Coronavírus   \n",
       "2  A tecnologia pioneira AT MicroProtect, desenvo...       NaN  Coronavírus   \n",
       "3  Há de tudo: a algumas pessoas a covid-19 não p...       NaN  Coronavírus   \n",
       "4  Da aquisição de máscaras, luvas e viseiras à c...       NaN     Covid-19   \n",
       "\n",
       "      tipo         tipoLayout  isOpinion  prioridade  aoMinuto  \\\n",
       "0  NOTICIA  MULTIMEDIA_NORMAL      False         3.0     False   \n",
       "1  NOTICIA  MULTIMEDIA_NORMAL      False         3.0     False   \n",
       "2  NOTICIA  MULTIMEDIA_NORMAL      False         3.0     False   \n",
       "3  NOTICIA    LONGFORM_NORMAL      False         3.0     False   \n",
       "4  NOTICIA  MULTIMEDIA_NORMAL      False         3.0     False   \n",
       "\n",
       "  dataActualizacao  ...                           tags_forcaConteudoAberto  \\\n",
       "0              NaN  ...  [False, False, False, False, False, False, Fal...   \n",
       "1              NaN  ...  [False, False, False, False, False, False, False]   \n",
       "2              NaN  ...                [False, False, False, False, False]   \n",
       "3              NaN  ...  [False, False, False, False, False, False, False]   \n",
       "4              NaN  ...         [False, False, False, False, False, False]   \n",
       "\n",
       "                                    tags_isForForuns  \\\n",
       "0  [False, False, False, False, False, False, Fal...   \n",
       "1  [False, False, False, False, False, False, False]   \n",
       "2                [False, False, False, False, False]   \n",
       "3  [False, False, False, False, False, False, False]   \n",
       "4         [False, False, False, False, False, False]   \n",
       "\n",
       "                                 tags_isUsedInForuns isClubeP isItemOpinion  \\\n",
       "0  [False, False, False, False, False, False, Fal...    False         False   \n",
       "1  [False, False, False, False, False, False, False]    False         False   \n",
       "2                [False, False, False, False, False]    False         False   \n",
       "3  [False, False, False, False, False, False, False]    False         False   \n",
       "4         [False, False, False, False, False, False]    False         False   \n",
       "\n",
       "  isMultipleRubric                                        socialTitle  \\\n",
       "0            False  Covid-19. Linha de mil milhões para micro e pe...   \n",
       "1            False  Coronavírus. Covid-19: Twitter retira vídeo e ...   \n",
       "2            False  Coronavírus. Tecnologia portuguesa elimina o n...   \n",
       "3            False  Coronavírus. “Não somos super-homens, somos hu...   \n",
       "4            False  Covid-19. Dez milhões de euros para as institu...   \n",
       "\n",
       "  isLongForm wordCount    extra4  \n",
       "0      False       349       NaN  \n",
       "1      False       358       NaN  \n",
       "2      False       740       NaN  \n",
       "3       True      2108  NOTIFIED  \n",
       "4      False       330       NaN  \n",
       "\n",
       "[5 rows x 33 columns]"
      ]
     },
     "execution_count": 128,
     "metadata": {},
     "output_type": "execute_result"
    }
   ],
   "source": [
    "df_publico.head()"
   ]
  },
  {
   "cell_type": "markdown",
   "metadata": {},
   "source": [
    "## 2.3. Separate data column"
   ]
  },
  {
   "cell_type": "code",
   "execution_count": 143,
   "metadata": {},
   "outputs": [],
   "source": [
    "#split data column into day and hour columns\n",
    "temp_cols = df_publico['data'].str.split('T', expand = True)\n",
    "\n",
    "df_publico['day'] = temp_cols[0]\n",
    "df_publico['hms'] = temp_cols[1]\n",
    "#df_publico.drop(columns='Data', inplace=True)\n",
    "\n",
    "#split day column into year, month and day columns\n",
    "temp_cols = df_publico['day'].str.split('-', expand = True)\n",
    "\n",
    "df_publico['year'] = temp_cols[0]\n",
    "df_publico['month'] = temp_cols[1]\n",
    "df_publico['day'] = temp_cols[2]\n",
    "\n",
    "#order columns\n",
    "#df_publico = df_publico[['Data','Ano', 'Mes', 'Dia', 'Hora', 'Titulo', 'Descricao', 'Rubrica', 'URL']]"
   ]
  },
  {
   "cell_type": "code",
   "execution_count": 144,
   "metadata": {},
   "outputs": [
    {
     "data": {
      "text/html": [
       "<div>\n",
       "<style scoped>\n",
       "    .dataframe tbody tr th:only-of-type {\n",
       "        vertical-align: middle;\n",
       "    }\n",
       "\n",
       "    .dataframe tbody tr th {\n",
       "        vertical-align: top;\n",
       "    }\n",
       "\n",
       "    .dataframe thead th {\n",
       "        text-align: right;\n",
       "    }\n",
       "</style>\n",
       "<table border=\"1\" class=\"dataframe\">\n",
       "  <thead>\n",
       "    <tr style=\"text-align: right;\">\n",
       "      <th></th>\n",
       "      <th>data</th>\n",
       "      <th>year</th>\n",
       "      <th>month</th>\n",
       "      <th>day</th>\n",
       "      <th>hms</th>\n",
       "    </tr>\n",
       "  </thead>\n",
       "  <tbody>\n",
       "    <tr>\n",
       "      <th>0</th>\n",
       "      <td>2020-07-28T17:16:49</td>\n",
       "      <td>2020</td>\n",
       "      <td>07</td>\n",
       "      <td>28</td>\n",
       "      <td>17:16:49</td>\n",
       "    </tr>\n",
       "    <tr>\n",
       "      <th>1</th>\n",
       "      <td>2020-07-28T17:05:16</td>\n",
       "      <td>2020</td>\n",
       "      <td>07</td>\n",
       "      <td>28</td>\n",
       "      <td>17:05:16</td>\n",
       "    </tr>\n",
       "    <tr>\n",
       "      <th>2</th>\n",
       "      <td>2020-07-28T16:32:15</td>\n",
       "      <td>2020</td>\n",
       "      <td>07</td>\n",
       "      <td>28</td>\n",
       "      <td>16:32:15</td>\n",
       "    </tr>\n",
       "    <tr>\n",
       "      <th>3</th>\n",
       "      <td>2020-07-28T16:10:41</td>\n",
       "      <td>2020</td>\n",
       "      <td>07</td>\n",
       "      <td>28</td>\n",
       "      <td>16:10:41</td>\n",
       "    </tr>\n",
       "    <tr>\n",
       "      <th>4</th>\n",
       "      <td>2020-07-28T15:18:03</td>\n",
       "      <td>2020</td>\n",
       "      <td>07</td>\n",
       "      <td>28</td>\n",
       "      <td>15:18:03</td>\n",
       "    </tr>\n",
       "    <tr>\n",
       "      <th>...</th>\n",
       "      <td>...</td>\n",
       "      <td>...</td>\n",
       "      <td>...</td>\n",
       "      <td>...</td>\n",
       "      <td>...</td>\n",
       "    </tr>\n",
       "    <tr>\n",
       "      <th>9665</th>\n",
       "      <td>2020-01-22T17:22:42</td>\n",
       "      <td>2020</td>\n",
       "      <td>01</td>\n",
       "      <td>22</td>\n",
       "      <td>17:22:42</td>\n",
       "    </tr>\n",
       "    <tr>\n",
       "      <th>9666</th>\n",
       "      <td>2020-01-22T17:15:01</td>\n",
       "      <td>2020</td>\n",
       "      <td>01</td>\n",
       "      <td>22</td>\n",
       "      <td>17:15:01</td>\n",
       "    </tr>\n",
       "    <tr>\n",
       "      <th>9667</th>\n",
       "      <td>2020-01-22T08:22:39</td>\n",
       "      <td>2020</td>\n",
       "      <td>01</td>\n",
       "      <td>22</td>\n",
       "      <td>08:22:39</td>\n",
       "    </tr>\n",
       "    <tr>\n",
       "      <th>9668</th>\n",
       "      <td>2020-01-21T19:05:03</td>\n",
       "      <td>2020</td>\n",
       "      <td>01</td>\n",
       "      <td>21</td>\n",
       "      <td>19:05:03</td>\n",
       "    </tr>\n",
       "    <tr>\n",
       "      <th>9669</th>\n",
       "      <td>2020-01-21T09:58:20</td>\n",
       "      <td>2020</td>\n",
       "      <td>01</td>\n",
       "      <td>21</td>\n",
       "      <td>09:58:20</td>\n",
       "    </tr>\n",
       "  </tbody>\n",
       "</table>\n",
       "<p>9670 rows × 5 columns</p>\n",
       "</div>"
      ],
      "text/plain": [
       "                     data  year month day       hms\n",
       "0     2020-07-28T17:16:49  2020    07  28  17:16:49\n",
       "1     2020-07-28T17:05:16  2020    07  28  17:05:16\n",
       "2     2020-07-28T16:32:15  2020    07  28  16:32:15\n",
       "3     2020-07-28T16:10:41  2020    07  28  16:10:41\n",
       "4     2020-07-28T15:18:03  2020    07  28  15:18:03\n",
       "...                   ...   ...   ...  ..       ...\n",
       "9665  2020-01-22T17:22:42  2020    01  22  17:22:42\n",
       "9666  2020-01-22T17:15:01  2020    01  22  17:15:01\n",
       "9667  2020-01-22T08:22:39  2020    01  22  08:22:39\n",
       "9668  2020-01-21T19:05:03  2020    01  21  19:05:03\n",
       "9669  2020-01-21T09:58:20  2020    01  21  09:58:20\n",
       "\n",
       "[9670 rows x 5 columns]"
      ]
     },
     "execution_count": 144,
     "metadata": {},
     "output_type": "execute_result"
    }
   ],
   "source": [
    "df_publico[['data', 'year', 'month', 'day', 'hms']]"
   ]
  },
  {
   "cell_type": "markdown",
   "metadata": {},
   "source": [
    "# 3. Data preprocessing"
   ]
  },
  {
   "cell_type": "markdown",
   "metadata": {},
   "source": [
    "## 3.1. Tokenize news titles"
   ]
  },
  {
   "cell_type": "code",
   "execution_count": 145,
   "metadata": {},
   "outputs": [],
   "source": [
    "df_publico['title_tokenized'] = df_publico.apply(lambda row: nltk.word_tokenize(row['titulo']), axis=1)"
   ]
  },
  {
   "cell_type": "markdown",
   "metadata": {},
   "source": [
    "## 3.2. Create column with word length"
   ]
  },
  {
   "cell_type": "code",
   "execution_count": 146,
   "metadata": {},
   "outputs": [],
   "source": [
    "df_publico['title_length'] = df_publico['title_tokenized'].apply(len)"
   ]
  },
  {
   "cell_type": "code",
   "execution_count": 147,
   "metadata": {},
   "outputs": [],
   "source": [
    "s_publico_describe = df_publico['title_length'].describe()"
   ]
  },
  {
   "cell_type": "code",
   "execution_count": 148,
   "metadata": {},
   "outputs": [
    {
     "data": {
      "text/plain": [
       "count    9670.000000\n",
       "mean       12.131231\n",
       "std         4.304263\n",
       "min         1.000000\n",
       "25%         9.000000\n",
       "50%        12.000000\n",
       "75%        15.000000\n",
       "max        42.000000\n",
       "Name: title_length, dtype: float64"
      ]
     },
     "execution_count": 148,
     "metadata": {},
     "output_type": "execute_result"
    }
   ],
   "source": [
    "s_publico_describe"
   ]
  },
  {
   "cell_type": "markdown",
   "metadata": {},
   "source": [
    "- 22/07/2020\n",
    "    - Uma média de 12 palavras, com um desvio padrão de 4.3, dando um intervalo de comprimento entre 8 e 16 palavras.\n",
    "    - A média corresponde mais ou menos à mediana.\n",
    "    - Um mínimo de comprimento de 1 palavra apenas.\n",
    "    - Um máximo, por outro lado, de 42 palavras\n",
    "- 29/07/2020\n",
    "    - Igual a 22/07/2020"
   ]
  },
  {
   "cell_type": "markdown",
   "metadata": {},
   "source": [
    "# 4. Data analysis"
   ]
  },
  {
   "cell_type": "markdown",
   "metadata": {},
   "source": [
    "## 4.1. Find news with min and max word length"
   ]
  },
  {
   "cell_type": "code",
   "execution_count": 151,
   "metadata": {},
   "outputs": [],
   "source": [
    "min_index = (df_publico[df_publico['title_length'] == s_publico_describe.loc['min']]).index\n",
    "max_index = (df_publico[df_publico['title_length'] == s_publico_describe.loc['max']]).index"
   ]
  },
  {
   "cell_type": "code",
   "execution_count": 167,
   "metadata": {},
   "outputs": [
    {
     "name": "stdout",
     "output_type": "stream",
     "text": [
      "Notícias com número de palavras igual a 1.0 (min)\n",
      "\n",
      "249 Metamorfose\n",
      "932 Desconfinacalma\n",
      "1427 Desconfinamedo\n",
      "4171 Sudoku\n",
      "4272 Falhei\n",
      "4286 Regressar\n",
      "4931 Mães-mãe\n",
      "5074 Purificação\n",
      "5290 PanDemocracia\n",
      "\n",
      "7431 Ilhas\n",
      "7492 Fuga\n",
      "7990 Medo\n"
     ]
    }
   ],
   "source": [
    "print('Notícias com número de palavras igual a {} (min)'.format(s_publico_describe.loc['min']))\n",
    "print('')\n",
    "for idx in min_index:\n",
    "    print(idx, df_publico['titulo'].iloc[idx])"
   ]
  },
  {
   "cell_type": "code",
   "execution_count": 168,
   "metadata": {},
   "outputs": [
    {
     "name": "stdout",
     "output_type": "stream",
     "text": [
      "Notícias com número de palavras igual a 42.0 (max)\n",
      "\n",
      "7499 Da tv para o mundo real: <i>Anatomia de Grey</i>, <i>The Good Doctor</i> ou <i>Station 19</i> doam materiais para travar o novo coronavírus\n"
     ]
    }
   ],
   "source": [
    "print('Notícias com número de palavras igual a {} (max)'.format(s_publico_describe.loc['max']))\n",
    "print('')\n",
    "for idx in max_index:\n",
    "    print(idx, df_publico['titulo'].iloc[idx])"
   ]
  },
  {
   "cell_type": "markdown",
   "metadata": {},
   "source": [
    "## 4.2. Title length distribution"
   ]
  },
  {
   "cell_type": "code",
   "execution_count": 157,
   "metadata": {},
   "outputs": [
    {
     "data": {
      "text/plain": [
       "<matplotlib.axes._subplots.AxesSubplot at 0x7fb172dfb760>"
      ]
     },
     "execution_count": 157,
     "metadata": {},
     "output_type": "execute_result"
    },
    {
     "data": {
      "image/png": "[encoded data removed]",
      "text/plain": [
       "<Figure size 432x288 with 1 Axes>"
      ]
     },
     "metadata": {
      "needs_background": "light"
     },
     "output_type": "display_data"
    }
   ],
   "source": [
    "sns.distplot(df_publico['title_length'].values)"
   ]
  },
  {
   "cell_type": "markdown",
   "metadata": {},
   "source": [
    "## 4.3. Amount of news"
   ]
  },
  {
   "cell_type": "code",
   "execution_count": 181,
   "metadata": {},
   "outputs": [
    {
     "data": {
      "text/plain": [
       "<matplotlib.axes._subplots.AxesSubplot at 0x7fb173691ac0>"
      ]
     },
     "execution_count": 181,
     "metadata": {},
     "output_type": "execute_result"
    },
    {
     "data": {
      "image/png": "[encoded data removed]",
      "text/plain": [
       "<Figure size 432x288 with 1 Axes>"
      ]
     },
     "metadata": {
      "needs_background": "light"
     },
     "output_type": "display_data"
    }
   ],
   "source": [
    "df_publico.groupby(['month']).count()['titulo'].plot(kind='bar')"
   ]
  },
  {
   "cell_type": "code",
   "execution_count": 190,
   "metadata": {},
   "outputs": [
    {
     "data": {
      "text/plain": [
       "<matplotlib.axes._subplots.AxesSubplot at 0x7fb16dcbfb20>"
      ]
     },
     "execution_count": 190,
     "metadata": {},
     "output_type": "execute_result"
    },
    {
     "data": {
      "image/png": "[encoded data removed]",
      "text/plain": [
       "<Figure size 1080x720 with 1 Axes>"
      ]
     },
     "metadata": {
      "needs_background": "light"
     },
     "output_type": "display_data"
    }
   ],
   "source": [
    "df_publico.groupby(['month', 'day']).count()['titulo'].plot(figsize=(15,10), marker='.')"
   ]
  },
  {
   "cell_type": "markdown",
   "metadata": {},
   "source": [
    "## 4.4. Stopwords"
   ]
  },
  {
   "cell_type": "markdown",
   "metadata": {},
   "source": [
    "Probably should remove stopwords..."
   ]
  },
  {
   "cell_type": "code",
   "execution_count": 158,
   "metadata": {},
   "outputs": [],
   "source": [
    "stopwords = nltk.corpus.stopwords.words('portuguese')"
   ]
  },
  {
   "cell_type": "markdown",
   "metadata": {},
   "source": [
    "Should have a better way to remove punctuation, but...\n",
    "¯\\\\_(ツ)_/¯"
   ]
  },
  {
   "cell_type": "code",
   "execution_count": 159,
   "metadata": {},
   "outputs": [],
   "source": [
    "punctuation = [\"\\\\\", \"|\", \"!\", \"\\\"\", \"#\", \"$\", \"%\",\n",
    "               \"&\", \"/\", \"(\", \")\", \"=\", \"?\", \",\", \";\",\n",
    "               \".\", \":\", \"“\", \"<\", \">\"]"
   ]
  },
  {
   "cell_type": "code",
   "execution_count": 169,
   "metadata": {},
   "outputs": [],
   "source": [
    "for item in punctuation:\n",
    "    stopwords.append(item)"
   ]
  },
  {
   "cell_type": "code",
   "execution_count": 170,
   "metadata": {},
   "outputs": [],
   "source": [
    "full_corpus = [item for sublist in df_publico['title_tokenized'].values.tolist() for item in sublist]"
   ]
  },
  {
   "cell_type": "code",
   "execution_count": 171,
   "metadata": {},
   "outputs": [],
   "source": [
    "filtered_corpus = [w for w in full_corpus if not w in stopwords]"
   ]
  },
  {
   "cell_type": "code",
   "execution_count": 172,
   "metadata": {},
   "outputs": [],
   "source": [
    "for item in filtered_corpus:\n",
    "    if len(item) < 2:\n",
    "        filtered_corpus = [word for word in filtered_corpus if word != item]"
   ]
  },
  {
   "cell_type": "code",
   "execution_count": 173,
   "metadata": {},
   "outputs": [],
   "source": [
    "freq_dist = nltk.FreqDist(filtered_corpus)"
   ]
  },
  {
   "cell_type": "code",
   "execution_count": 174,
   "metadata": {},
   "outputs": [
    {
     "data": {
      "text/plain": [
       "68816"
      ]
     },
     "execution_count": 174,
     "metadata": {},
     "output_type": "execute_result"
    }
   ],
   "source": [
    "freq_dist.N()"
   ]
  },
  {
   "cell_type": "code",
   "execution_count": 166,
   "metadata": {},
   "outputs": [
    {
     "data": {
      "image/png": "[encoded data removed]",
      "text/plain": [
       "<Figure size 432x288 with 1 Axes>"
      ]
     },
     "metadata": {
      "needs_background": "light"
     },
     "output_type": "display_data"
    },
    {
     "data": {
      "text/plain": [
       "<matplotlib.axes._subplots.AxesSubplot at 0x7fb17397cac0>"
      ]
     },
     "execution_count": 166,
     "metadata": {},
     "output_type": "execute_result"
    }
   ],
   "source": [
    "freq_dist.plot(20)"
   ]
  },
  {
   "cell_type": "code",
   "execution_count": 128,
   "metadata": {},
   "outputs": [],
   "source": [
    "counts = df_publico.groupby(['Mes', 'Dia']).count()"
   ]
  },
  {
   "cell_type": "code",
   "execution_count": 129,
   "metadata": {},
   "outputs": [
    {
     "data": {
      "text/plain": [
       "<matplotlib.axes._subplots.AxesSubplot at 0x7fe1624e9f40>"
      ]
     },
     "execution_count": 129,
     "metadata": {},
     "output_type": "execute_result"
    },
    {
     "data": {
      "image/png": "[encoded data removed]",
      "text/plain": [
       "<Figure size 1080x360 with 1 Axes>"
      ]
     },
     "metadata": {
      "needs_background": "light"
     },
     "output_type": "display_data"
    }
   ],
   "source": [
    "counts['Ano'].plot(kind='bar', figsize=(15,5))"
   ]
  },
  {
   "cell_type": "code",
   "execution_count": 130,
   "metadata": {},
   "outputs": [],
   "source": [
    "counts_medidas = df_publico_medidas.groupby(['Mes', 'Dia']).count()"
   ]
  },
  {
   "cell_type": "code",
   "execution_count": 131,
   "metadata": {},
   "outputs": [
    {
     "data": {
      "text/plain": [
       "<matplotlib.axes._subplots.AxesSubplot at 0x7fe161ccaf40>"
      ]
     },
     "execution_count": 131,
     "metadata": {},
     "output_type": "execute_result"
    },
    {
     "data": {
      "image/png": "[encoded data removed]",
      "text/plain": [
       "<Figure size 1080x360 with 1 Axes>"
      ]
     },
     "metadata": {
      "needs_background": "light"
     },
     "output_type": "display_data"
    }
   ],
   "source": [
    "counts_medidas['Ano'].plot(kind='bar',figsize=(15,5))"
   ]
  },
  {
   "cell_type": "code",
   "execution_count": 132,
   "metadata": {},
   "outputs": [
    {
     "data": {
      "text/html": [
       "<div>\n",
       "<style scoped>\n",
       "    .dataframe tbody tr th:only-of-type {\n",
       "        vertical-align: middle;\n",
       "    }\n",
       "\n",
       "    .dataframe tbody tr th {\n",
       "        vertical-align: top;\n",
       "    }\n",
       "\n",
       "    .dataframe thead th {\n",
       "        text-align: right;\n",
       "    }\n",
       "</style>\n",
       "<table border=\"1\" class=\"dataframe\">\n",
       "  <thead>\n",
       "    <tr style=\"text-align: right;\">\n",
       "      <th></th>\n",
       "      <th>Data</th>\n",
       "      <th>Ano</th>\n",
       "      <th>Mes</th>\n",
       "      <th>Dia</th>\n",
       "      <th>Hora</th>\n",
       "      <th>Titulo</th>\n",
       "      <th>Descricao</th>\n",
       "      <th>Rubrica</th>\n",
       "      <th>URL</th>\n",
       "    </tr>\n",
       "    <tr>\n",
       "      <th>&lt;built-in function id&gt;</th>\n",
       "      <th></th>\n",
       "      <th></th>\n",
       "      <th></th>\n",
       "      <th></th>\n",
       "      <th></th>\n",
       "      <th></th>\n",
       "      <th></th>\n",
       "      <th></th>\n",
       "      <th></th>\n",
       "    </tr>\n",
       "  </thead>\n",
       "  <tbody>\n",
       "    <tr>\n",
       "      <th>32</th>\n",
       "      <td>2020-06-30T00:03:46</td>\n",
       "      <td>2020</td>\n",
       "      <td>06</td>\n",
       "      <td>30</td>\n",
       "      <td>00:03:46</td>\n",
       "      <td>BE diz que já tem acordo para aprovar duas med...</td>\n",
       "      <td>O anúncio foi feito esta noite pela coordenado...</td>\n",
       "      <td>Orçamento Suplementar</td>\n",
       "      <td>/2020/06/30/politica/noticia/be-ja-acordo-apro...</td>\n",
       "    </tr>\n",
       "    <tr>\n",
       "      <th>138</th>\n",
       "      <td>2020-06-26T16:41:40</td>\n",
       "      <td>2020</td>\n",
       "      <td>06</td>\n",
       "      <td>26</td>\n",
       "      <td>16:41:40</td>\n",
       "      <td>Oposição aprova medidas do PCP de apoio às mic...</td>\n",
       "      <td>Socialistas ficaram isolados. Projecto do PCP ...</td>\n",
       "      <td>Covid-19</td>\n",
       "      <td>/2020/06/26/economia/noticia/oposicao-aprova-m...</td>\n",
       "    </tr>\n",
       "    <tr>\n",
       "      <th>210</th>\n",
       "      <td>2020-06-25T07:57:25</td>\n",
       "      <td>2020</td>\n",
       "      <td>06</td>\n",
       "      <td>25</td>\n",
       "      <td>07:57:25</td>\n",
       "      <td>Área Metropolitana de Lisboa em estado de cont...</td>\n",
       "      <td>Mais seis mortes e 311 casos de covid-19 em Po...</td>\n",
       "      <td>Coronavírus</td>\n",
       "      <td>/2020/06/25/sociedade/noticia/covid19-milhao-n...</td>\n",
       "    </tr>\n",
       "    <tr>\n",
       "      <th>238</th>\n",
       "      <td>2020-06-24T10:59:16</td>\n",
       "      <td>2020</td>\n",
       "      <td>06</td>\n",
       "      <td>24</td>\n",
       "      <td>10:59:16</td>\n",
       "      <td>Diabéticos e hipertensos voltam a estar incluí...</td>\n",
       "      <td>Depois de terem sido excluídos do regime excep...</td>\n",
       "      <td>Covid-19</td>\n",
       "      <td>/2020/06/24/politica/noticia/diabeticos-hipert...</td>\n",
       "    </tr>\n",
       "    <tr>\n",
       "      <th>268</th>\n",
       "      <td>2020-06-23T17:55:37</td>\n",
       "      <td>2020</td>\n",
       "      <td>06</td>\n",
       "      <td>23</td>\n",
       "      <td>17:55:37</td>\n",
       "      <td>Covid-19: com o aumento de casos, vários paíse...</td>\n",
       "      <td>Espanha, Alemanha, Coreia do Sul e China são a...</td>\n",
       "      <td>Coronavírus</td>\n",
       "      <td>/2020/06/23/mundo/noticia/covid19-aumento-caso...</td>\n",
       "    </tr>\n",
       "    <tr>\n",
       "      <th>...</th>\n",
       "      <td>...</td>\n",
       "      <td>...</td>\n",
       "      <td>...</td>\n",
       "      <td>...</td>\n",
       "      <td>...</td>\n",
       "      <td>...</td>\n",
       "      <td>...</td>\n",
       "      <td>...</td>\n",
       "      <td>...</td>\n",
       "    </tr>\n",
       "    <tr>\n",
       "      <th>8517</th>\n",
       "      <td>2020-03-02T13:20:54</td>\n",
       "      <td>2020</td>\n",
       "      <td>03</td>\n",
       "      <td>02</td>\n",
       "      <td>13:20:54</td>\n",
       "      <td>Risco de contágio na UE sobe para elevado. Com...</td>\n",
       "      <td>Presidente da Comissão, Ursula von der Leyen, ...</td>\n",
       "      <td>Saúde</td>\n",
       "      <td>/2020/03/02/mundo/noticia/risco-contagio-ue-so...</td>\n",
       "    </tr>\n",
       "    <tr>\n",
       "      <th>8525</th>\n",
       "      <td>2020-03-01T18:51:31</td>\n",
       "      <td>2020</td>\n",
       "      <td>03</td>\n",
       "      <td>01</td>\n",
       "      <td>18:51:31</td>\n",
       "      <td>Federação dos médicos exige “medidas sérias” p...</td>\n",
       "      <td>FNAM teve conhecimento de insuficiências em un...</td>\n",
       "      <td>Coronavírus</td>\n",
       "      <td>/2020/03/01/sociedade/noticia/federacao-medico...</td>\n",
       "    </tr>\n",
       "    <tr>\n",
       "      <th>8527</th>\n",
       "      <td>2020-03-01T10:16:53</td>\n",
       "      <td>2020</td>\n",
       "      <td>03</td>\n",
       "      <td>01</td>\n",
       "      <td>10:16:53</td>\n",
       "      <td>Número de casos dispara em Itália. Medidas de ...</td>\n",
       "      <td>A Organização Mundial da Saúde conta 2980 mort...</td>\n",
       "      <td>Ao Minuto</td>\n",
       "      <td>/2020/03/01/mundo/noticia/china-coreia-sul-reg...</td>\n",
       "    </tr>\n",
       "    <tr>\n",
       "      <th>8534</th>\n",
       "      <td>2020-02-29T17:25:06</td>\n",
       "      <td>2020</td>\n",
       "      <td>02</td>\n",
       "      <td>29</td>\n",
       "      <td>17:25:06</td>\n",
       "      <td>Costa apela à população para reforçar medidas ...</td>\n",
       "      <td>O primeiro-ministro considera que a prevenção ...</td>\n",
       "      <td>Coronavírus</td>\n",
       "      <td>/2020/02/29/sociedade/noticia/costa-apela-popu...</td>\n",
       "    </tr>\n",
       "    <tr>\n",
       "      <th>8806</th>\n",
       "      <td>2020-01-29T06:24:00</td>\n",
       "      <td>2020</td>\n",
       "      <td>01</td>\n",
       "      <td>29</td>\n",
       "      <td>06:24:00</td>\n",
       "      <td>Portugueses retirados de Wuhan vão “cumprir vo...</td>\n",
       "      <td>Ricardo Mexia, presidente da Associação de Méd...</td>\n",
       "      <td>Entrevista</td>\n",
       "      <td>/2020/01/29/ciencia/entrevista/portugueses-ret...</td>\n",
       "    </tr>\n",
       "  </tbody>\n",
       "</table>\n",
       "<p>123 rows × 9 columns</p>\n",
       "</div>"
      ],
      "text/plain": [
       "                                       Data   Ano Mes Dia      Hora  \\\n",
       "<built-in function id>                                                \n",
       "32                      2020-06-30T00:03:46  2020  06  30  00:03:46   \n",
       "138                     2020-06-26T16:41:40  2020  06  26  16:41:40   \n",
       "210                     2020-06-25T07:57:25  2020  06  25  07:57:25   \n",
       "238                     2020-06-24T10:59:16  2020  06  24  10:59:16   \n",
       "268                     2020-06-23T17:55:37  2020  06  23  17:55:37   \n",
       "...                                     ...   ...  ..  ..       ...   \n",
       "8517                    2020-03-02T13:20:54  2020  03  02  13:20:54   \n",
       "8525                    2020-03-01T18:51:31  2020  03  01  18:51:31   \n",
       "8527                    2020-03-01T10:16:53  2020  03  01  10:16:53   \n",
       "8534                    2020-02-29T17:25:06  2020  02  29  17:25:06   \n",
       "8806                    2020-01-29T06:24:00  2020  01  29  06:24:00   \n",
       "\n",
       "                                                                   Titulo  \\\n",
       "<built-in function id>                                                      \n",
       "32                      BE diz que já tem acordo para aprovar duas med...   \n",
       "138                     Oposição aprova medidas do PCP de apoio às mic...   \n",
       "210                     Área Metropolitana de Lisboa em estado de cont...   \n",
       "238                     Diabéticos e hipertensos voltam a estar incluí...   \n",
       "268                     Covid-19: com o aumento de casos, vários paíse...   \n",
       "...                                                                   ...   \n",
       "8517                    Risco de contágio na UE sobe para elevado. Com...   \n",
       "8525                    Federação dos médicos exige “medidas sérias” p...   \n",
       "8527                    Número de casos dispara em Itália. Medidas de ...   \n",
       "8534                    Costa apela à população para reforçar medidas ...   \n",
       "8806                    Portugueses retirados de Wuhan vão “cumprir vo...   \n",
       "\n",
       "                                                                Descricao  \\\n",
       "<built-in function id>                                                      \n",
       "32                      O anúncio foi feito esta noite pela coordenado...   \n",
       "138                     Socialistas ficaram isolados. Projecto do PCP ...   \n",
       "210                     Mais seis mortes e 311 casos de covid-19 em Po...   \n",
       "238                     Depois de terem sido excluídos do regime excep...   \n",
       "268                     Espanha, Alemanha, Coreia do Sul e China são a...   \n",
       "...                                                                   ...   \n",
       "8517                    Presidente da Comissão, Ursula von der Leyen, ...   \n",
       "8525                    FNAM teve conhecimento de insuficiências em un...   \n",
       "8527                    A Organização Mundial da Saúde conta 2980 mort...   \n",
       "8534                    O primeiro-ministro considera que a prevenção ...   \n",
       "8806                    Ricardo Mexia, presidente da Associação de Méd...   \n",
       "\n",
       "                                      Rubrica  \\\n",
       "<built-in function id>                          \n",
       "32                      Orçamento Suplementar   \n",
       "138                                  Covid-19   \n",
       "210                               Coronavírus   \n",
       "238                                  Covid-19   \n",
       "268                               Coronavírus   \n",
       "...                                       ...   \n",
       "8517                                    Saúde   \n",
       "8525                              Coronavírus   \n",
       "8527                                Ao Minuto   \n",
       "8534                              Coronavírus   \n",
       "8806                               Entrevista   \n",
       "\n",
       "                                                                      URL  \n",
       "<built-in function id>                                                     \n",
       "32                      /2020/06/30/politica/noticia/be-ja-acordo-apro...  \n",
       "138                     /2020/06/26/economia/noticia/oposicao-aprova-m...  \n",
       "210                     /2020/06/25/sociedade/noticia/covid19-milhao-n...  \n",
       "238                     /2020/06/24/politica/noticia/diabeticos-hipert...  \n",
       "268                     /2020/06/23/mundo/noticia/covid19-aumento-caso...  \n",
       "...                                                                   ...  \n",
       "8517                    /2020/03/02/mundo/noticia/risco-contagio-ue-so...  \n",
       "8525                    /2020/03/01/sociedade/noticia/federacao-medico...  \n",
       "8527                    /2020/03/01/mundo/noticia/china-coreia-sul-reg...  \n",
       "8534                    /2020/02/29/sociedade/noticia/costa-apela-popu...  \n",
       "8806                    /2020/01/29/ciencia/entrevista/portugueses-ret...  \n",
       "\n",
       "[123 rows x 9 columns]"
      ]
     },
     "execution_count": 132,
     "metadata": {},
     "output_type": "execute_result"
    }
   ],
   "source": [
    "df_publico_medidas"
   ]
  },
  {
   "cell_type": "code",
   "execution_count": 133,
   "metadata": {},
   "outputs": [
    {
     "data": {
      "text/html": [
       "<div>\n",
       "<style scoped>\n",
       "    .dataframe tbody tr th:only-of-type {\n",
       "        vertical-align: middle;\n",
       "    }\n",
       "\n",
       "    .dataframe tbody tr th {\n",
       "        vertical-align: top;\n",
       "    }\n",
       "\n",
       "    .dataframe thead th {\n",
       "        text-align: right;\n",
       "    }\n",
       "</style>\n",
       "<table border=\"1\" class=\"dataframe\">\n",
       "  <thead>\n",
       "    <tr style=\"text-align: right;\">\n",
       "      <th></th>\n",
       "      <th>Data</th>\n",
       "      <th>Ano</th>\n",
       "      <th>Mes</th>\n",
       "      <th>Dia</th>\n",
       "      <th>Hora</th>\n",
       "      <th>Titulo</th>\n",
       "      <th>Descricao</th>\n",
       "      <th>Rubrica</th>\n",
       "      <th>URL</th>\n",
       "    </tr>\n",
       "    <tr>\n",
       "      <th>&lt;built-in function id&gt;</th>\n",
       "      <th></th>\n",
       "      <th></th>\n",
       "      <th></th>\n",
       "      <th></th>\n",
       "      <th></th>\n",
       "      <th></th>\n",
       "      <th></th>\n",
       "      <th></th>\n",
       "      <th></th>\n",
       "    </tr>\n",
       "  </thead>\n",
       "  <tbody>\n",
       "    <tr>\n",
       "      <th>0</th>\n",
       "      <td>2020-06-30T19:10:18</td>\n",
       "      <td>2020</td>\n",
       "      <td>06</td>\n",
       "      <td>30</td>\n",
       "      <td>19:10:18</td>\n",
       "      <td>Quebra de 45% nas encomendas em carteira são m...</td>\n",
       "      <td>Inquérito às empresas mostra que, no início de...</td>\n",
       "      <td>Coronavírus</td>\n",
       "      <td>/2020/06/30/economia/noticia/quebra-45-encomen...</td>\n",
       "    </tr>\n",
       "    <tr>\n",
       "      <th>1</th>\n",
       "      <td>2020-06-30T18:59:49</td>\n",
       "      <td>2020</td>\n",
       "      <td>06</td>\n",
       "      <td>30</td>\n",
       "      <td>18:59:49</td>\n",
       "      <td>PSD Lisboa pede demissão de Medina, PS fala em...</td>\n",
       "      <td>PSD diz que o autarca de Lisboa é uma das chef...</td>\n",
       "      <td>Covid-19</td>\n",
       "      <td>/2020/06/30/local/noticia/psd-lisboa-pede-demi...</td>\n",
       "    </tr>\n",
       "    <tr>\n",
       "      <th>2</th>\n",
       "      <td>2020-06-30T18:38:19</td>\n",
       "      <td>2020</td>\n",
       "      <td>06</td>\n",
       "      <td>30</td>\n",
       "      <td>18:38:19</td>\n",
       "      <td>Com rendas para pagar, comerciantes dos mercad...</td>\n",
       "      <td>Pedido de reunião com a autarquia ainda não te...</td>\n",
       "      <td>Lisboa</td>\n",
       "      <td>/2020/06/30/local/noticia/rendas-pagar-comerci...</td>\n",
       "    </tr>\n",
       "    <tr>\n",
       "      <th>3</th>\n",
       "      <td>2020-06-30T17:39:52</td>\n",
       "      <td>2020</td>\n",
       "      <td>06</td>\n",
       "      <td>30</td>\n",
       "      <td>17:39:52</td>\n",
       "      <td>Há mais um partido em Portugal: é o 25.º e cha...</td>\n",
       "      <td>Assinaturas para a formalização do partido for...</td>\n",
       "      <td>Partidos políticos</td>\n",
       "      <td>/2020/06/30/politica/noticia/ha-partido-portug...</td>\n",
       "    </tr>\n",
       "    <tr>\n",
       "      <th>4</th>\n",
       "      <td>2020-06-30T17:18:01</td>\n",
       "      <td>2020</td>\n",
       "      <td>06</td>\n",
       "      <td>30</td>\n",
       "      <td>17:18:01</td>\n",
       "      <td>Salas dos Cinemas NOS reabrem a 2 de Julho</td>\n",
       "      <td>Bilhetes serão mais baratos do que o normal at...</td>\n",
       "      <td>Cinema</td>\n",
       "      <td>/2020/06/30/culturaipsilon/noticia/salas-cinem...</td>\n",
       "    </tr>\n",
       "    <tr>\n",
       "      <th>...</th>\n",
       "      <td>...</td>\n",
       "      <td>...</td>\n",
       "      <td>...</td>\n",
       "      <td>...</td>\n",
       "      <td>...</td>\n",
       "      <td>...</td>\n",
       "      <td>...</td>\n",
       "      <td>...</td>\n",
       "      <td>...</td>\n",
       "    </tr>\n",
       "    <tr>\n",
       "      <th>8844</th>\n",
       "      <td>2020-01-22T17:22:42</td>\n",
       "      <td>2020</td>\n",
       "      <td>01</td>\n",
       "      <td>22</td>\n",
       "      <td>17:22:42</td>\n",
       "      <td>É a pior altura do ano para lidar com um vírus...</td>\n",
       "      <td>É obrigatório usar uma máscara na maior migraç...</td>\n",
       "      <td>Vírus</td>\n",
       "      <td>/2020/01/22/ciencia/noticia/pior-altura-ano-li...</td>\n",
       "    </tr>\n",
       "    <tr>\n",
       "      <th>8845</th>\n",
       "      <td>2020-01-22T17:15:01</td>\n",
       "      <td>2020</td>\n",
       "      <td>01</td>\n",
       "      <td>22</td>\n",
       "      <td>17:15:01</td>\n",
       "      <td>Novo coronavírus: 20 perguntas sobre o que se ...</td>\n",
       "      <td>O novo coronavírus foi identificado a 7 de Jan...</td>\n",
       "      <td>Vírus</td>\n",
       "      <td>/2020/01/22/ciencia/noticia/novo-coronavirus-1...</td>\n",
       "    </tr>\n",
       "    <tr>\n",
       "      <th>8846</th>\n",
       "      <td>2020-01-22T08:22:39</td>\n",
       "      <td>2020</td>\n",
       "      <td>01</td>\n",
       "      <td>22</td>\n",
       "      <td>08:22:39</td>\n",
       "      <td>Número de mortes causadas pelo novo coronavíru...</td>\n",
       "      <td>Macau confirma um caso. Brasil investiga suspe...</td>\n",
       "      <td>China</td>\n",
       "      <td>/2020/01/22/ciencia/noticia/china-anuncia-nove...</td>\n",
       "    </tr>\n",
       "    <tr>\n",
       "      <th>8847</th>\n",
       "      <td>2020-01-21T19:05:03</td>\n",
       "      <td>2020</td>\n",
       "      <td>01</td>\n",
       "      <td>21</td>\n",
       "      <td>19:05:03</td>\n",
       "      <td>Novo vírus da pneumonia que está a afectar a C...</td>\n",
       "      <td>Washington registou caso de cidadão infectado ...</td>\n",
       "      <td>Vírus</td>\n",
       "      <td>/2020/01/21/ciencia/noticia/novo-virus-pneumon...</td>\n",
       "    </tr>\n",
       "    <tr>\n",
       "      <th>8848</th>\n",
       "      <td>2020-01-21T09:58:20</td>\n",
       "      <td>2020</td>\n",
       "      <td>01</td>\n",
       "      <td>21</td>\n",
       "      <td>09:58:20</td>\n",
       "      <td>Novo tipo de pneumonia na China mata pelo meno...</td>\n",
       "      <td>Pelo menos 15 membros das equipas médicas fora...</td>\n",
       "      <td>Vírus</td>\n",
       "      <td>/2020/01/21/ciencia/noticia/novo-tipo-pneumoni...</td>\n",
       "    </tr>\n",
       "  </tbody>\n",
       "</table>\n",
       "<p>8849 rows × 9 columns</p>\n",
       "</div>"
      ],
      "text/plain": [
       "                                       Data   Ano Mes Dia      Hora  \\\n",
       "<built-in function id>                                                \n",
       "0                       2020-06-30T19:10:18  2020  06  30  19:10:18   \n",
       "1                       2020-06-30T18:59:49  2020  06  30  18:59:49   \n",
       "2                       2020-06-30T18:38:19  2020  06  30  18:38:19   \n",
       "3                       2020-06-30T17:39:52  2020  06  30  17:39:52   \n",
       "4                       2020-06-30T17:18:01  2020  06  30  17:18:01   \n",
       "...                                     ...   ...  ..  ..       ...   \n",
       "8844                    2020-01-22T17:22:42  2020  01  22  17:22:42   \n",
       "8845                    2020-01-22T17:15:01  2020  01  22  17:15:01   \n",
       "8846                    2020-01-22T08:22:39  2020  01  22  08:22:39   \n",
       "8847                    2020-01-21T19:05:03  2020  01  21  19:05:03   \n",
       "8848                    2020-01-21T09:58:20  2020  01  21  09:58:20   \n",
       "\n",
       "                                                                   Titulo  \\\n",
       "<built-in function id>                                                      \n",
       "0                       Quebra de 45% nas encomendas em carteira são m...   \n",
       "1                       PSD Lisboa pede demissão de Medina, PS fala em...   \n",
       "2                       Com rendas para pagar, comerciantes dos mercad...   \n",
       "3                       Há mais um partido em Portugal: é o 25.º e cha...   \n",
       "4                              Salas dos Cinemas NOS reabrem a 2 de Julho   \n",
       "...                                                                   ...   \n",
       "8844                    É a pior altura do ano para lidar com um vírus...   \n",
       "8845                    Novo coronavírus: 20 perguntas sobre o que se ...   \n",
       "8846                    Número de mortes causadas pelo novo coronavíru...   \n",
       "8847                    Novo vírus da pneumonia que está a afectar a C...   \n",
       "8848                    Novo tipo de pneumonia na China mata pelo meno...   \n",
       "\n",
       "                                                                Descricao  \\\n",
       "<built-in function id>                                                      \n",
       "0                       Inquérito às empresas mostra que, no início de...   \n",
       "1                       PSD diz que o autarca de Lisboa é uma das chef...   \n",
       "2                       Pedido de reunião com a autarquia ainda não te...   \n",
       "3                       Assinaturas para a formalização do partido for...   \n",
       "4                       Bilhetes serão mais baratos do que o normal at...   \n",
       "...                                                                   ...   \n",
       "8844                    É obrigatório usar uma máscara na maior migraç...   \n",
       "8845                    O novo coronavírus foi identificado a 7 de Jan...   \n",
       "8846                    Macau confirma um caso. Brasil investiga suspe...   \n",
       "8847                    Washington registou caso de cidadão infectado ...   \n",
       "8848                    Pelo menos 15 membros das equipas médicas fora...   \n",
       "\n",
       "                                   Rubrica  \\\n",
       "<built-in function id>                       \n",
       "0                              Coronavírus   \n",
       "1                                 Covid-19   \n",
       "2                                   Lisboa   \n",
       "3                       Partidos políticos   \n",
       "4                                   Cinema   \n",
       "...                                    ...   \n",
       "8844                                 Vírus   \n",
       "8845                                 Vírus   \n",
       "8846                                 China   \n",
       "8847                                 Vírus   \n",
       "8848                                 Vírus   \n",
       "\n",
       "                                                                      URL  \n",
       "<built-in function id>                                                     \n",
       "0                       /2020/06/30/economia/noticia/quebra-45-encomen...  \n",
       "1                       /2020/06/30/local/noticia/psd-lisboa-pede-demi...  \n",
       "2                       /2020/06/30/local/noticia/rendas-pagar-comerci...  \n",
       "3                       /2020/06/30/politica/noticia/ha-partido-portug...  \n",
       "4                       /2020/06/30/culturaipsilon/noticia/salas-cinem...  \n",
       "...                                                                   ...  \n",
       "8844                    /2020/01/22/ciencia/noticia/pior-altura-ano-li...  \n",
       "8845                    /2020/01/22/ciencia/noticia/novo-coronavirus-1...  \n",
       "8846                    /2020/01/22/ciencia/noticia/china-anuncia-nove...  \n",
       "8847                    /2020/01/21/ciencia/noticia/novo-virus-pneumon...  \n",
       "8848                    /2020/01/21/ciencia/noticia/novo-tipo-pneumoni...  \n",
       "\n",
       "[8849 rows x 9 columns]"
      ]
     },
     "execution_count": 133,
     "metadata": {},
     "output_type": "execute_result"
    }
   ],
   "source": [
    "df_publico"
   ]
  },
  {
   "cell_type": "code",
   "execution_count": null,
   "metadata": {},
   "outputs": [],
   "source": []
  }
 ],
 "metadata": {
  "kernelspec": {
   "display_name": "Python 3",
   "language": "python",
   "name": "python3"
  },
  "language_info": {
   "codemirror_mode": {
    "name": "ipython",
    "version": 3
   },
   "file_extension": ".py",
   "mimetype": "text/x-python",
   "name": "python",
   "nbconvert_exporter": "python",
   "pygments_lexer": "ipython3",
   "version": "3.8.3"
  }
 },
 "nbformat": 4,
 "nbformat_minor": 4
}
