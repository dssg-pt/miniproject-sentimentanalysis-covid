{
 "cells": [
  {
   "cell_type": "markdown",
   "metadata": {},
   "source": [
    "# Alternativa a wordclouds por grupo (ao longo do tempo, por região, etc)"
   ]
  },
  {
   "cell_type": "markdown",
   "metadata": {},
   "source": [
    "Baseado em: [nytimes](http://archive.nytimes.com/www.nytimes.com/interactive/2011/06/10/education/commencement-speeches-graphic.html)"
   ]
  },
  {
   "cell_type": "code",
   "execution_count": 1,
   "metadata": {},
   "outputs": [],
   "source": [
    "import os\n",
    "import numpy as np\n",
    "import pandas as pd\n",
    "import matplotlib.pyplot as plt\n",
    "import seaborn as sns\n",
    "from collections import Counter\n",
    "import re\n",
    "from nltk.corpus import stopwords\n",
    "from nltk.tokenize import word_tokenize\n",
    "import string\n",
    "import math"
   ]
  },
  {
   "cell_type": "code",
   "execution_count": 2,
   "metadata": {},
   "outputs": [],
   "source": [
    "def tokleanize(doc_list, stopwords):\n",
    "    # tokenize docs\n",
    "    doc_tokenized = [word_tokenize(doc) for doc in doc_list]\n",
    "    # flatten to list of all tokens\n",
    "    vocab_list = [y for x in doc_tokenized for y in x]\n",
    "    # turn lowercase and remove anything that is not a word\n",
    "    tokens_only_words = [word.lower() for word in vocab_list if word.isalpha()]\n",
    "    # remove stopwords\n",
    "    tokens_clean = [word for word in tokens_only_words if not word in stopwords]\n",
    "    return tokens_clean"
   ]
  },
  {
   "cell_type": "code",
   "execution_count": 3,
   "metadata": {},
   "outputs": [],
   "source": [
    "root_path = os.path.abspath('..')\n",
    "data_path = os.path.join(root_path, 'notebooks')"
   ]
  },
  {
   "cell_type": "code",
   "execution_count": 4,
   "metadata": {},
   "outputs": [],
   "source": [
    "tweets_filename = 'tweets_en_classification.csv'"
   ]
  },
  {
   "cell_type": "code",
   "execution_count": 5,
   "metadata": {},
   "outputs": [],
   "source": [
    "tweets_path = os.path.join(data_path, tweets_filename)"
   ]
  },
  {
   "cell_type": "code",
   "execution_count": 6,
   "metadata": {},
   "outputs": [],
   "source": [
    "tweets = pd.read_csv(tweets_path, index_col='Unnamed: 0').drop(columns='Unnamed: 0.1')"
   ]
  },
  {
   "cell_type": "code",
   "execution_count": 7,
   "metadata": {},
   "outputs": [],
   "source": [
    "tweets = tweets.drop(columns=['hashtag', 'geo'])"
   ]
  },
  {
   "cell_type": "code",
   "execution_count": 8,
   "metadata": {},
   "outputs": [],
   "source": [
    "map_dict = {'NEGATIVE': -1, 'POSITIVE': 1}"
   ]
  },
  {
   "cell_type": "code",
   "execution_count": 9,
   "metadata": {},
   "outputs": [],
   "source": [
    "tweets.loc[:, 'classification'] = tweets.classification.map(map_dict)"
   ]
  },
  {
   "cell_type": "code",
   "execution_count": 10,
   "metadata": {},
   "outputs": [],
   "source": [
    "tweets['date'] = pd.to_datetime(tweets['date'], errors= \"coerce\").dt.tz_localize(None)"
   ]
  },
  {
   "cell_type": "code",
   "execution_count": 11,
   "metadata": {},
   "outputs": [],
   "source": [
    "tweets['weighted_classification'] = tweets.classification * tweets.score"
   ]
  },
  {
   "cell_type": "code",
   "execution_count": 12,
   "metadata": {},
   "outputs": [],
   "source": [
    "months = [int(month) for month in sorted(tweets.date.dt.month.unique()[:-1]) if month < 7]"
   ]
  },
  {
   "cell_type": "code",
   "execution_count": 13,
   "metadata": {},
   "outputs": [],
   "source": [
    "month_names = ['Janeiro', 'Fevereiro', 'Março', 'Abril', 'Maio', 'Junho',\n",
    "               'Julho', 'Agosto', 'Setembro', 'Outubro', 'Novembro', 'Dezembro']"
   ]
  },
  {
   "cell_type": "code",
   "execution_count": 14,
   "metadata": {},
   "outputs": [],
   "source": [
    "pt_stp_words = stopwords.words('portuguese')"
   ]
  },
  {
   "cell_type": "code",
   "execution_count": 23,
   "metadata": {},
   "outputs": [],
   "source": [
    "custom_stp_words = ['portugal', 'vai', 'ser', 'q', 'agora', 'todos', 'pra', 'ter', 'dia', 'fazer',\n",
    "                                 'tudo', 'sobre', 'ainda', 'hoje', 'vou', 'aqui', 'bem', 'ver', 'ir', 'brasil',\n",
    "                                 'pode', 'porque', 'tá', 'n', 'assim', 'dias', 'vamos', 'nada', 'ficar', 'vão',\n",
    "                                 'lá', 'merda', 'corona', 'estar', 'ano', 'anos', 'todo']\n",
    "                    #, 'vírus', 'virus', 'coronavirus', 'coronavírus', 'covid', 'pandemia']\n",
    "\n",
    "pt_stp_words.extend(custom_stp_words)"
   ]
  },
  {
   "cell_type": "code",
   "execution_count": 24,
   "metadata": {},
   "outputs": [],
   "source": [
    "tokens_by_month = dict()\n",
    "for month in months:\n",
    "    df_month = tweets[tweets.date.dt.month == month]\n",
    "    docs_month = df_month.text_clean.values.tolist()\n",
    "    tokens_by_month[month] = tokleanize(docs_month, pt_stp_words)"
   ]
  },
  {
   "cell_type": "code",
   "execution_count": 25,
   "metadata": {},
   "outputs": [],
   "source": [
    "count_by_month = {month: Counter(tokens) for month, tokens in tokens_by_month.items()}"
   ]
  },
  {
   "cell_type": "code",
   "execution_count": 26,
   "metadata": {},
   "outputs": [],
   "source": [
    "most_common_month = {month: counter.most_common(10) for month, counter in count_by_month.items()}"
   ]
  },
  {
   "cell_type": "code",
   "execution_count": 27,
   "metadata": {},
   "outputs": [],
   "source": [
    "count_all = count_by_month[1] + count_by_month[2] + count_by_month[3] + count_by_month[4] + count_by_month[5] + count_by_month[6]"
   ]
  },
  {
   "cell_type": "code",
   "execution_count": 28,
   "metadata": {},
   "outputs": [
    {
     "data": {
      "text/plain": [
       "[('casa', 1035),\n",
       " ('pessoas', 1023),\n",
       " ('casos', 749),\n",
       " ('causa', 668),\n",
       " ('quarentena', 623),\n",
       " ('mundo', 610),\n",
       " ('saúde', 588),\n",
       " ('gente', 540),\n",
       " ('lisboa', 414),\n",
       " ('vida', 413),\n",
       " ('tempo', 410),\n",
       " ('país', 407),\n",
       " ('p', 376),\n",
       " ('quero', 371),\n",
       " ('apanhar', 363)]"
      ]
     },
     "execution_count": 28,
     "metadata": {},
     "output_type": "execute_result"
    }
   ],
   "source": [
    "count_all.most_common(15)"
   ]
  },
  {
   "cell_type": "code",
   "execution_count": 29,
   "metadata": {},
   "outputs": [
    {
     "data": {
      "text/plain": [
       "[('china', 24),\n",
       " ('porto', 17),\n",
       " ('casa', 13),\n",
       " ('mundo', 11),\n",
       " ('jogar', 10),\n",
       " ('chegou', 10),\n",
       " ('dizer', 9),\n",
       " ('braga', 9),\n",
       " ('caso', 9),\n",
       " ('medo', 9)]"
      ]
     },
     "execution_count": 29,
     "metadata": {},
     "output_type": "execute_result"
    }
   ],
   "source": [
    "most_common_month[1]"
   ]
  },
  {
   "cell_type": "code",
   "execution_count": 30,
   "metadata": {},
   "outputs": [],
   "source": [
    "all_most_common_words = list(set([tup[0] for counter in most_common_month.values() for tup in counter]))"
   ]
  },
  {
   "cell_type": "code",
   "execution_count": 31,
   "metadata": {},
   "outputs": [
    {
     "data": {
      "text/plain": [
       "['casa',\n",
       " 'itália',\n",
       " 'braga',\n",
       " 'd',\n",
       " 'jogar',\n",
       " 'lisboa',\n",
       " 'quero',\n",
       " 'meio',\n",
       " 'mortes',\n",
       " 'china',\n",
       " 'governo',\n",
       " 'medo',\n",
       " 'dizer',\n",
       " 'casos',\n",
       " 'abril',\n",
       " 'europa',\n",
       " 'pessoas',\n",
       " 'rafa',\n",
       " 'p',\n",
       " 'porto',\n",
       " 'saúde',\n",
       " 'país',\n",
       " 'chegou',\n",
       " 'quarentena',\n",
       " 'apanhar',\n",
       " 'caso',\n",
       " 'tempo',\n",
       " 'causa',\n",
       " 'ficaemcasa',\n",
       " 'gente',\n",
       " 'mundo']"
      ]
     },
     "execution_count": 31,
     "metadata": {},
     "output_type": "execute_result"
    }
   ],
   "source": [
    "all_most_common_words"
   ]
  },
  {
   "cell_type": "code",
   "execution_count": 32,
   "metadata": {},
   "outputs": [],
   "source": [
    "most_common_all = [tup[0] for tup in count_all.most_common(15)]"
   ]
  },
  {
   "cell_type": "code",
   "execution_count": 33,
   "metadata": {},
   "outputs": [
    {
     "data": {
      "text/plain": [
       "['casa',\n",
       " 'pessoas',\n",
       " 'casos',\n",
       " 'causa',\n",
       " 'quarentena',\n",
       " 'mundo',\n",
       " 'saúde',\n",
       " 'gente',\n",
       " 'lisboa',\n",
       " 'vida',\n",
       " 'tempo',\n",
       " 'país',\n",
       " 'p',\n",
       " 'quero',\n",
       " 'apanhar']"
      ]
     },
     "execution_count": 33,
     "metadata": {},
     "output_type": "execute_result"
    }
   ],
   "source": [
    "most_common_all"
   ]
  },
  {
   "cell_type": "code",
   "execution_count": 34,
   "metadata": {},
   "outputs": [],
   "source": [
    "n_words = 15"
   ]
  },
  {
   "cell_type": "code",
   "execution_count": 35,
   "metadata": {},
   "outputs": [],
   "source": [
    "count_for_plot = dict()\n",
    "for month, counter in count_by_month.items():\n",
    "    count_for_plot[month] = dict()\n",
    "    for word in most_common_all:\n",
    "        count_for_plot[month][word] = counter[word]"
   ]
  },
  {
   "cell_type": "code",
   "execution_count": 36,
   "metadata": {},
   "outputs": [],
   "source": [
    "count_list = list()\n",
    "for dicty in count_for_plot.values():\n",
    "    count_list.extend(list(dicty.values()))"
   ]
  },
  {
   "cell_type": "code",
   "execution_count": 37,
   "metadata": {},
   "outputs": [
    {
     "data": {
      "text/plain": [
       "[('china', 24),\n",
       " ('porto', 17),\n",
       " ('casa', 13),\n",
       " ('mundo', 11),\n",
       " ('jogar', 10),\n",
       " ('chegou', 10),\n",
       " ('dizer', 9),\n",
       " ('braga', 9),\n",
       " ('caso', 9),\n",
       " ('medo', 9)]"
      ]
     },
     "execution_count": 37,
     "metadata": {},
     "output_type": "execute_result"
    }
   ],
   "source": [
    "most_common_month[1]"
   ]
  },
  {
   "cell_type": "code",
   "execution_count": 38,
   "metadata": {},
   "outputs": [],
   "source": [
    "word_list = list(range(1, n_words + 1)) * len(months)\n",
    "month_list = list(range(1, len(months) + 1)) * n_words\n",
    "marker_list = [(count/9)**2 for count in count_list]"
   ]
  },
  {
   "cell_type": "code",
   "execution_count": 39,
   "metadata": {},
   "outputs": [
    {
     "data": {
      "text/plain": [
       "[(-0.5, 8.0), (0.0, 16.0)]"
      ]
     },
     "execution_count": 39,
     "metadata": {},
     "output_type": "execute_result"
    },
    {
     "data": {
      "image/png": "[encoded data removed]",
      "text/plain": [
       "<Figure size 880x960 with 1 Axes>"
      ]
     },
     "metadata": {
      "needs_background": "light"
     },
     "output_type": "display_data"
    }
   ],
   "source": [
    "fig, ax = plt.subplots(1,1,figsize=(11,12), dpi= 80)\n",
    "\n",
    "ax.scatter(sorted(month_list), word_list, marker_list, alpha=0.5)\n",
    "\n",
    "plt.axis('off')\n",
    "\n",
    "ax.vlines(x=0, ymin=0.5, ymax=n_words + 0.5, color='black', alpha=0.7, linewidth=1, linestyles='dotted')\n",
    "\n",
    "for month in months:\n",
    "    ax.text(month, n_words + 0.75, month_names[month-1], horizontalalignment='center', verticalalignment='center', fontdict={'size':15, 'weight':700})\n",
    "    #ax.vlines(x=month+0.5, ymin=0.5, ymax=21, color='black', alpha=0.7, linewidth=1, linestyles='dotted')\n",
    "        \n",
    "for i, word in enumerate(most_common_all):\n",
    "    ax.text(-0.25, i + 1, str(word), horizontalalignment='right', verticalalignment='center', fontdict={'size':13, 'weight':700})\n",
    "    ax.hlines(y=i+1, xmin=-0.1, xmax=len(months) + 0.5, color='black', alpha=0.7, linewidth=1, linestyles='dotted')\n",
    "\n",
    "ax.set(xlim=(-0.5, len(months) + 2), ylim=(0, n_words + 1))"
   ]
  },
  {
   "cell_type": "code",
   "execution_count": 188,
   "metadata": {},
   "outputs": [
    {
     "data": {
      "text/plain": [
       "593"
      ]
     },
     "execution_count": 188,
     "metadata": {},
     "output_type": "execute_result"
    }
   ],
   "source": [
    "max(count_list)"
   ]
  },
  {
   "cell_type": "code",
   "execution_count": 150,
   "metadata": {},
   "outputs": [],
   "source": [
    "pt_stp_words2 = stopwords.words('portuguese')\n",
    "custom_stp_words2 = ['portugal', 'vai', 'ser', 'q', 'agora', 'todos', 'pra', 'ter', 'dia', 'fazer',\n",
    "                    'tudo', 'sobre', 'ainda', 'hoje', 'vou', 'aqui', 'bem', 'ver', 'ir', 'brasil',\n",
    "                    'pode', 'porque', 'tá', 'n', 'assim', 'dias', 'vamos', 'nada', 'ficar', 'vão',\n",
    "                    'lá', 'merda', 'estar']\n",
    "\n",
    "pt_stp_words2.extend(custom_stp_words2)"
   ]
  },
  {
   "cell_type": "code",
   "execution_count": 163,
   "metadata": {},
   "outputs": [],
   "source": [
    "virus_related = [['vírus', 'virus'], 'corona', ['coronavírus', 'coronavirus'], 'covid', 'pandemia']"
   ]
  },
  {
   "cell_type": "code",
   "execution_count": 153,
   "metadata": {},
   "outputs": [],
   "source": [
    "all_docs = tweets.text_clean.values.tolist()\n",
    "all_tokens = tokleanize(all_docs, pt_stp_words2)\n",
    "all_counter = Counter(all_tokens)"
   ]
  },
  {
   "cell_type": "code",
   "execution_count": 164,
   "metadata": {},
   "outputs": [
    {
     "name": "stdout",
     "output_type": "stream",
     "text": [
      "virus 512\n",
      "corona 6683\n",
      "coronavírus 1374\n",
      "covid 1275\n",
      "pandemia 3105\n"
     ]
    }
   ],
   "source": [
    "for word in virus_related:\n",
    "    if type(word) is list:\n",
    "        real_count = sum([all_counter[word_word] for word_word in word])\n",
    "        print(word, real_count)\n",
    "    else:\n",
    "        print(word, all_counter[word])"
   ]
  },
  {
   "cell_type": "code",
   "execution_count": 165,
   "metadata": {},
   "outputs": [],
   "source": [
    "covid_related_month = dict()\n",
    "for month in months:\n",
    "    df_month = tweets[tweets.date.dt.month == month]\n",
    "    docs_covid_month = df_month.text_clean.values.tolist()\n",
    "    covid_related_month[month] = tokleanize(docs_covid_month, pt_stp_words2)\n",
    "counter_covid_month = {month: Counter(tokens) for month, tokens in covid_related_month.items()}"
   ]
  },
  {
   "cell_type": "code",
   "execution_count": 167,
   "metadata": {},
   "outputs": [],
   "source": [
    "words_are_hard = dict()\n",
    "for word in virus_related:\n",
    "    words_are_hard[word] = list()\n",
    "    for month in months:\n",
    "        if type(word) is list:\n",
    "            real_count = sum([counter_covid_month[month][word_word] for word_word in word])\n",
    "            words_are_hard[word].append(real_count)\n",
    "        else:\n",
    "            words_are_hard[word].append(counter_covid_month[month][word])"
   ]
  },
  {
   "cell_type": "code",
   "execution_count": 168,
   "metadata": {},
   "outputs": [
    {
     "data": {
      "text/plain": [
       "{'virus': [13, 66, 299, 56, 43, 35],\n",
       " 'corona': [146, 478, 4138, 893, 523, 505],\n",
       " 'coronavírus': [49, 150, 835, 199, 96, 45],\n",
       " 'covid': [0, 4, 252, 327, 328, 364],\n",
       " 'pandemia': [3, 17, 904, 883, 663, 635]}"
      ]
     },
     "execution_count": 168,
     "metadata": {},
     "output_type": "execute_result"
    }
   ],
   "source": [
    "words_are_hard"
   ]
  },
  {
   "cell_type": "code",
   "execution_count": 186,
   "metadata": {},
   "outputs": [
    {
     "data": {
      "text/plain": [
       "<matplotlib.legend.Legend at 0x12a03a460>"
      ]
     },
     "execution_count": 186,
     "metadata": {},
     "output_type": "execute_result"
    },
    {
     "data": {
      "image/png": "[encoded data removed]",
      "text/plain": [
       "<Figure size 1080x576 with 1 Axes>"
      ]
     },
     "metadata": {
      "needs_background": "light"
     },
     "output_type": "display_data"
    }
   ],
   "source": [
    "fig, ax = plt.subplots(figsize=(15, 8))\n",
    "x = np.arange(1, len(months)+1)\n",
    "\n",
    "# Define bar width. We'll use this to offset the second bar.\n",
    "bar_width = 0.15\n",
    "\n",
    "for i, (word, values) in zip(x, words_are_hard.items()):\n",
    "    # Note we add the `width` parameter now which sets the width of each bar.\n",
    "    b1 = sns.lineplot(x, values, label=word)\n",
    "\n",
    "plt.legend()"
   ]
  },
  {
   "cell_type": "code",
   "execution_count": null,
   "metadata": {},
   "outputs": [],
   "source": []
  }
 ],
 "metadata": {
  "kernelspec": {
   "display_name": "Python 3",
   "language": "python",
   "name": "python3"
  },
  "language_info": {
   "codemirror_mode": {
    "name": "ipython",
    "version": 3
   },
   "file_extension": ".py",
   "mimetype": "text/x-python",
   "name": "python",
   "nbconvert_exporter": "python",
   "pygments_lexer": "ipython3",
   "version": "3.8.2"
  }
 },
 "nbformat": 4,
 "nbformat_minor": 4
}
