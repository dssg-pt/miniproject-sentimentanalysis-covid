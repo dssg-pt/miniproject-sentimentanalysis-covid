{
 "cells": [
  {
   "cell_type": "code",
   "execution_count": 1,
   "metadata": {},
   "outputs": [],
   "source": [
    "import requests\n",
    "import pandas as pd\n",
    "from bs4 import BeautifulSoup\n",
    "from datetime import timedelta\n",
    "import datetime"
   ]
  },
  {
   "cell_type": "code",
   "execution_count": 2,
   "metadata": {},
   "outputs": [],
   "source": [
    "headers = {\n",
    "    'User-Agent': 'Mozilla/5.0 (Windows NT 6.1) AppleWebKit/537.36 (KHTML, like Gecko) Chrome/41.0.2228.0 Safari/537.3'\n",
    "}\n",
    "#https://medium.com/@speedforcerun/python-crawler-http-error-403-forbidden-1623ae9ba0f\n",
    "    \n"
   ]
  },
  {
   "cell_type": "code",
   "execution_count": 6,
   "metadata": {},
   "outputs": [],
   "source": [
    "#insert dates here in this format: Year,M,D\n",
    "start_date = datetime.date(2020,5,1) #news from this date\n",
    "end_date = datetime.date(2020,6,1) #to this date\n",
    "one_day_increment = datetime.timedelta(days=1)"
   ]
  },
  {
   "cell_type": "code",
   "execution_count": null,
   "metadata": {},
   "outputs": [],
   "source": [
    "corona_virus_category = \"47748\"\n",
    "dates = []\n",
    "titles = []\n",
    "descs = []\n",
    "links = []\n",
    "\n",
    "for day in range((end_date - start_date).days):\n",
    "    date = start_date + day * one_day_increment\n",
    "    #change format\n",
    "    offset = date.strftime(\"%Y%m%d\")\n",
    "    url = f\"https://observador.pt/wp-json/obs_api/v4/grids/filter/category/{corona_virus_category}?offset={offset}\"\n",
    "    corona_news_json = requests.get(url, headers=headers).json()\n",
    "    news_data = corona_news_json[\"rendered\"][\"modules\"]\n",
    "    soup = BeautifulSoup(news_data, 'html.parser')\n",
    "    for h1 in soup.find_all(\"h1\"):\n",
    "        titles.append(h1.text)\n",
    "        links.append(h1.a.get(\"href\"))\n",
    "    for desc in soup.find_all(\"div\",{\"class\":\"lead\"}):\n",
    "        descs.append(desc.text)\n",
    "        dates.append(date)"
   ]
  },
  {
   "cell_type": "code",
   "execution_count": null,
   "metadata": {},
   "outputs": [],
   "source": [
    "# Converter listas para DataFrame\n",
    "\n",
    "lists = list(zip(dates,titles,descs,links))\n",
    "colnames= [\"Data\",\"Titulo\",\"Desc\",\"Links\"]\n",
    "\n",
    "news_dataset = pd.DataFrame(lists, columns =colnames)\n",
    "news_dataset.head()"
   ]
  },
  {
   "cell_type": "code",
   "execution_count": 48,
   "metadata": {},
   "outputs": [],
   "source": [
    "#save in csv\n",
    "#news_dataset.to_csv(\"observador_news_june.csv\")"
   ]
  },
  {
   "cell_type": "code",
   "execution_count": null,
   "metadata": {},
   "outputs": [],
   "source": []
  }
 ],
 "metadata": {
  "kernelspec": {
   "display_name": "Python 3",
   "language": "python",
   "name": "python3"
  },
  "language_info": {
   "codemirror_mode": {
    "name": "ipython",
    "version": 3
   },
   "file_extension": ".py",
   "mimetype": "text/x-python",
   "name": "python",
   "nbconvert_exporter": "python",
   "pygments_lexer": "ipython3",
   "version": "3.7.2"
  }
 },
 "nbformat": 4,
 "nbformat_minor": 2
}
