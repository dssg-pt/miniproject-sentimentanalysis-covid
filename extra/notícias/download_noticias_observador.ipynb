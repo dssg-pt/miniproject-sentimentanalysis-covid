{
 "cells": [
  {
   "cell_type": "code",
   "execution_count": 1,
   "metadata": {},
   "outputs": [],
   "source": [
    "import requests\n",
    "import pandas as pd"
   ]
  },
  {
   "cell_type": "code",
   "execution_count": 10,
   "metadata": {},
   "outputs": [],
   "source": [
    "headers = {\n",
    "    'User-Agent': 'Mozilla/5.0 (Windows NT 6.1) AppleWebKit/537.36 (KHTML, like Gecko) Chrome/41.0.2228.0 Safari/537.3'\n",
    "}\n",
    "#https://medium.com/@speedforcerun/python-crawler-http-error-403-forbidden-1623ae9ba0f\n",
    "    \n"
   ]
  },
  {
   "cell_type": "code",
   "execution_count": 41,
   "metadata": {},
   "outputs": [],
   "source": [
    "page = 100\n",
    "url = 'https://observador.pt/wp-json/wp/v2/posts?categories=47748&page={}'.format(page)\n",
    "json_news = requests.get(url, headers=headers).json()\n",
    "\n",
    "# Documentação em https://observador.pt/wp-json/wp/v2/ "
   ]
  },
  {
   "cell_type": "code",
   "execution_count": 42,
   "metadata": {},
   "outputs": [
    {
     "data": {
      "text/plain": [
       "dict"
      ]
     },
     "execution_count": 42,
     "metadata": {},
     "output_type": "execute_result"
    }
   ],
   "source": [
    "type(json_news)"
   ]
  },
  {
   "cell_type": "code",
   "execution_count": 43,
   "metadata": {
    "scrolled": false
   },
   "outputs": [],
   "source": [
    "filtered_article = {}\n",
    "filtered_news = {}\n",
    "\n",
    "page = 1\n",
    "url = 'https://observador.pt/wp-json/wp/v2/posts?categories=47748&page={}'.format(page)\n",
    "json_news = requests.get(url, headers=headers).json()\n",
    "\n",
    "dates = []\n",
    "titles = []\n",
    "descs = []\n",
    "links = []\n",
    "rubricas = []\n",
    "\n",
    "while isinstance(json_news, list):\n",
    "    \n",
    "    for article in json_news:\n",
    "        dates.append(article['date'])\n",
    "        titles.append(article['title']['rendered'])\n",
    "        descs.append(article['content']['rendered'])\n",
    "        links.append(article['link'])\n",
    "        rubricas.append(article['excerpt']['rendered'])\n",
    "        # Há mais atributos na API: Podem abrir o link para uma dada página.\n",
    "        \n",
    "    page+=1\n",
    "    url = 'https://observador.pt/wp-json/wp/v2/posts?categories=47748&page={}'.format(page)\n",
    "    json_news = requests.get(url, headers=headers).json()"
   ]
  },
  {
   "cell_type": "code",
   "execution_count": 44,
   "metadata": {},
   "outputs": [],
   "source": [
    "# Converter listas para DataFrame\n",
    "\n",
    "lists = list(zip(dates, titles, descs, rubricas, links))\n",
    "colnames = ['Data', 'Titulo', 'Descricao', 'Rubrica', 'URL']\n",
    "\n",
    "news_dataset = pd.DataFrame(lists, columns = colnames)"
   ]
  },
  {
   "cell_type": "code",
   "execution_count": 45,
   "metadata": {},
   "outputs": [
    {
     "data": {
      "text/html": [
       "<div>\n",
       "<style scoped>\n",
       "    .dataframe tbody tr th:only-of-type {\n",
       "        vertical-align: middle;\n",
       "    }\n",
       "\n",
       "    .dataframe tbody tr th {\n",
       "        vertical-align: top;\n",
       "    }\n",
       "\n",
       "    .dataframe thead th {\n",
       "        text-align: right;\n",
       "    }\n",
       "</style>\n",
       "<table border=\"1\" class=\"dataframe\">\n",
       "  <thead>\n",
       "    <tr style=\"text-align: right;\">\n",
       "      <th></th>\n",
       "      <th>Data</th>\n",
       "      <th>Titulo</th>\n",
       "      <th>Descricao</th>\n",
       "      <th>Rubrica</th>\n",
       "      <th>URL</th>\n",
       "    </tr>\n",
       "  </thead>\n",
       "  <tbody>\n",
       "    <tr>\n",
       "      <th>0</th>\n",
       "      <td>2020-03-24T23:24:06</td>\n",
       "      <td>Portway deixa de renovar contratos a termo apó...</td>\n",
       "      <td>&lt;p&gt;A Portway registou, nos últimos dias, uma q...</td>\n",
       "      <td>&lt;p&gt;A Portway registou, nos últimos dias, uma q...</td>\n",
       "      <td>https://observador.pt/2020/03/24/portway-deixa...</td>\n",
       "    </tr>\n",
       "    <tr>\n",
       "      <th>1</th>\n",
       "      <td>2020-03-24T23:23:38</td>\n",
       "      <td>Médicos Sem Fronteiras manifestam &amp;#8220;incom...</td>\n",
       "      <td>&lt;p&gt;Os Médicos Sem Fronteiras (MSF) manifestara...</td>\n",
       "      <td>&lt;p&gt;Os Médicos Sem Fronteiras (MSF) manifestara...</td>\n",
       "      <td>https://observador.pt/2020/03/24/medicos-sem-f...</td>\n",
       "    </tr>\n",
       "    <tr>\n",
       "      <th>2</th>\n",
       "      <td>2020-03-24T23:20:24</td>\n",
       "      <td>Costa reuniu-se com bancada do PS e ficou o av...</td>\n",
       "      <td>&lt;p&gt;O secretário-geral do PS explicou esta terç...</td>\n",
       "      <td>&lt;p&gt;O secretário-geral do PS explicou esta terç...</td>\n",
       "      <td>https://observador.pt/2020/03/24/costa-reuniu-...</td>\n",
       "    </tr>\n",
       "    <tr>\n",
       "      <th>3</th>\n",
       "      <td>2020-03-24T23:18:58</td>\n",
       "      <td>Universitários vão continuar a receber bolsas ...</td>\n",
       "      <td>&lt;p&gt;O Governo vai manter o pagamento das bolsas...</td>\n",
       "      <td>&lt;p&gt;O Governo vai manter o pagamento das bolsas...</td>\n",
       "      <td>https://observador.pt/2020/03/24/universitario...</td>\n",
       "    </tr>\n",
       "    <tr>\n",
       "      <th>4</th>\n",
       "      <td>2020-03-24T23:15:44</td>\n",
       "      <td>Hospitais privados prontos a receber e tratar ...</td>\n",
       "      <td>&lt;p&gt;Os hospitais privados adiantaram esta terça...</td>\n",
       "      <td>&lt;p&gt;Os hospitais privados adiantaram esta terça...</td>\n",
       "      <td>https://observador.pt/2020/03/24/hospitais-pri...</td>\n",
       "    </tr>\n",
       "  </tbody>\n",
       "</table>\n",
       "</div>"
      ],
      "text/plain": [
       "                  Data                                             Titulo  \\\n",
       "0  2020-03-24T23:24:06  Portway deixa de renovar contratos a termo apó...   \n",
       "1  2020-03-24T23:23:38  Médicos Sem Fronteiras manifestam &#8220;incom...   \n",
       "2  2020-03-24T23:20:24  Costa reuniu-se com bancada do PS e ficou o av...   \n",
       "3  2020-03-24T23:18:58  Universitários vão continuar a receber bolsas ...   \n",
       "4  2020-03-24T23:15:44  Hospitais privados prontos a receber e tratar ...   \n",
       "\n",
       "                                           Descricao  \\\n",
       "0  <p>A Portway registou, nos últimos dias, uma q...   \n",
       "1  <p>Os Médicos Sem Fronteiras (MSF) manifestara...   \n",
       "2  <p>O secretário-geral do PS explicou esta terç...   \n",
       "3  <p>O Governo vai manter o pagamento das bolsas...   \n",
       "4  <p>Os hospitais privados adiantaram esta terça...   \n",
       "\n",
       "                                             Rubrica  \\\n",
       "0  <p>A Portway registou, nos últimos dias, uma q...   \n",
       "1  <p>Os Médicos Sem Fronteiras (MSF) manifestara...   \n",
       "2  <p>O secretário-geral do PS explicou esta terç...   \n",
       "3  <p>O Governo vai manter o pagamento das bolsas...   \n",
       "4  <p>Os hospitais privados adiantaram esta terça...   \n",
       "\n",
       "                                                 URL  \n",
       "0  https://observador.pt/2020/03/24/portway-deixa...  \n",
       "1  https://observador.pt/2020/03/24/medicos-sem-f...  \n",
       "2  https://observador.pt/2020/03/24/costa-reuniu-...  \n",
       "3  https://observador.pt/2020/03/24/universitario...  \n",
       "4  https://observador.pt/2020/03/24/hospitais-pri...  "
      ]
     },
     "execution_count": 45,
     "metadata": {},
     "output_type": "execute_result"
    }
   ],
   "source": [
    "news_dataset.head()"
   ]
  },
  {
   "cell_type": "code",
   "execution_count": 46,
   "metadata": {},
   "outputs": [
    {
     "data": {
      "text/plain": [
       "978"
      ]
     },
     "execution_count": 46,
     "metadata": {},
     "output_type": "execute_result"
    }
   ],
   "source": [
    "len(news_dataset)"
   ]
  },
  {
   "cell_type": "code",
   "execution_count": 48,
   "metadata": {},
   "outputs": [],
   "source": [
    "news_dataset.to_csv('news_sample_observador.csv')"
   ]
  },
  {
   "cell_type": "code",
   "execution_count": 47,
   "metadata": {},
   "outputs": [
    {
     "data": {
      "text/plain": [
       "'2020-01-23T08:43:38'"
      ]
     },
     "execution_count": 47,
     "metadata": {},
     "output_type": "execute_result"
    }
   ],
   "source": [
    "news_dataset['Data'].min()"
   ]
  },
  {
   "cell_type": "code",
   "execution_count": null,
   "metadata": {},
   "outputs": [],
   "source": []
  }
 ],
 "metadata": {
  "kernelspec": {
   "display_name": "Python 3",
   "language": "python",
   "name": "python3"
  },
  "language_info": {
   "codemirror_mode": {
    "name": "ipython",
    "version": 3
   },
   "file_extension": ".py",
   "mimetype": "text/x-python",
   "name": "python",
   "nbconvert_exporter": "python",
   "pygments_lexer": "ipython3",
   "version": "3.7.3"
  }
 },
 "nbformat": 4,
 "nbformat_minor": 2
}
