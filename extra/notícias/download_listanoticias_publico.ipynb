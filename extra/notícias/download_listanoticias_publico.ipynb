{
 "cells": [
  {
   "cell_type": "code",
   "execution_count": 82,
   "metadata": {},
   "outputs": [],
   "source": [
    "import requests\n",
    "import pandas as pd\n",
    "import time\n",
    "import matplotlib.pyplot as plt"
   ]
  },
  {
   "cell_type": "code",
   "execution_count": 122,
   "metadata": {},
   "outputs": [],
   "source": [
    "colnames = ['Data', 'Titulo', 'Descricao', 'Rubrica', 'URL']\n",
    "\n",
    "page = 1\n",
    "\n",
    "start = time.time()\n",
    "for max_pages in range(1000,100001,1000):#range(100,1000000,100)\n",
    "    dates = []\n",
    "    titles = []\n",
    "    descs = []\n",
    "    links = []\n",
    "    rubricas = []\n",
    "    json_news = requests.get('https://www.publico.pt/api/list/coronavirus?page={}'.format(page)).json()\n",
    "    page_min = page\n",
    "    page_max = max_pages\n",
    "    while (len(json_news) != 0) and (page < page_max+1):\n",
    "    # Não encontrei maneira de saber o número total de páginas\n",
    "        for article in json_news:\n",
    "            dates.append(article['data'])\n",
    "            titles.append(article['tituloNoticia'])\n",
    "            descs.append(article['descricao'])\n",
    "            links.append(article['url'])\n",
    "            rubricas.append(article['rubrica'])\n",
    "            # Há mais atributos na API: Podem abrir o link para uma dada página.\n",
    "            # TODO: Ver que atributos podem ser úteis\n",
    "        page+=1\n",
    "        json_news = requests.get('https://www.publico.pt/api/list/coronavirus?page={}'.format(page)).json()\n",
    "    # Converter listas para DataFrame\n",
    "    lists = list(zip(dates, titles, descs, rubricas, links))\n",
    "    news_dataset = pd.DataFrame(lists, columns = colnames)\n",
    "    news_dataset.to_csv('news_sample_{}to{}.csv'.format(page_min, page_max))\n",
    "end = time.time()"
   ]
  },
  {
   "cell_type": "code",
   "execution_count": 112,
   "metadata": {},
   "outputs": [
    {
     "data": {
      "text/plain": [
       "7.8979573249816895"
      ]
     },
     "execution_count": 112,
     "metadata": {},
     "output_type": "execute_result"
    }
   ],
   "source": [
    "end-start"
   ]
  },
  {
   "cell_type": "code",
   "execution_count": 115,
   "metadata": {},
   "outputs": [
    {
     "data": {
      "text/plain": [
       "71.16102743148804"
      ]
     },
     "execution_count": 115,
     "metadata": {},
     "output_type": "execute_result"
    }
   ],
   "source": [
    "end-start"
   ]
  },
  {
   "cell_type": "code",
   "execution_count": 85,
   "metadata": {},
   "outputs": [],
   "source": [
    "# Converter listas para DataFrame\n",
    "\n",
    "lists = list(zip(dates, titles, descs, rubricas, links))\n",
    "colnames = ['Data', 'Titulo', 'Descricao', 'Rubrica', 'URL']\n",
    "\n",
    "news_dataset = pd.DataFrame(lists, columns = colnames)"
   ]
  },
  {
   "cell_type": "code",
   "execution_count": 118,
   "metadata": {},
   "outputs": [
    {
     "data": {
      "text/html": [
       "<div>\n",
       "<style scoped>\n",
       "    .dataframe tbody tr th:only-of-type {\n",
       "        vertical-align: middle;\n",
       "    }\n",
       "\n",
       "    .dataframe tbody tr th {\n",
       "        vertical-align: top;\n",
       "    }\n",
       "\n",
       "    .dataframe thead th {\n",
       "        text-align: right;\n",
       "    }\n",
       "</style>\n",
       "<table border=\"1\" class=\"dataframe\">\n",
       "  <thead>\n",
       "    <tr style=\"text-align: right;\">\n",
       "      <th></th>\n",
       "      <th>Data</th>\n",
       "      <th>Titulo</th>\n",
       "      <th>Descricao</th>\n",
       "      <th>Rubrica</th>\n",
       "      <th>URL</th>\n",
       "    </tr>\n",
       "  </thead>\n",
       "  <tbody>\n",
       "    <tr>\n",
       "      <th>0</th>\n",
       "      <td>2020-06-04T12:31:57</td>\n",
       "      <td>Só o comboio suburbano escapou à queda de pass...</td>\n",
       "      <td>Queda de passageiros foi transversal a todos o...</td>\n",
       "      <td>Coronavírus</td>\n",
       "      <td>/2020/06/04/economia/noticia/so-comboio-suburb...</td>\n",
       "    </tr>\n",
       "    <tr>\n",
       "      <th>1</th>\n",
       "      <td>2020-06-04T11:59:00</td>\n",
       "      <td>Regresso aos restaurantes: o Porto em três sab...</td>\n",
       "      <td>Fomos revisitar o clássico Ernesto, conhecer o...</td>\n",
       "      <td>Coronavírus</td>\n",
       "      <td>/2020/06/04/fugas/noticia/regresso-restaurante...</td>\n",
       "    </tr>\n",
       "    <tr>\n",
       "      <th>2</th>\n",
       "      <td>2020-06-04T10:46:29</td>\n",
       "      <td>Madrid rectifica: fronteiras com Portugal abre...</td>\n",
       "      <td>A mudança de posição de Espanha surge depois d...</td>\n",
       "      <td>Coronavírus</td>\n",
       "      <td>/2020/06/04/mundo/noticia/espanha-reabre-front...</td>\n",
       "    </tr>\n",
       "    <tr>\n",
       "      <th>3</th>\n",
       "      <td>2020-06-04T10:38:00</td>\n",
       "      <td>Dia 57: diz-me que lugar ocupas na fratria e d...</td>\n",
       "      <td>Uma mãe/avó e uma filha/mãe falam de educação....</td>\n",
       "      <td>CARTAS DE MÃE E FILHA EM TEMPOS DE QUARENTENA</td>\n",
       "      <td>/2020/06/04/impar/cronica/dia-57-dizme-lugar-o...</td>\n",
       "    </tr>\n",
       "    <tr>\n",
       "      <th>4</th>\n",
       "      <td>2020-06-04T10:11:00</td>\n",
       "      <td>Repensar as escolas</td>\n",
       "      <td>Certamente que o digital passará a fazer parte...</td>\n",
       "      <td>Opinião</td>\n",
       "      <td>/2020/06/04/impar/opiniao/repensar-escolas-191...</td>\n",
       "    </tr>\n",
       "  </tbody>\n",
       "</table>\n",
       "</div>"
      ],
      "text/plain": [
       "                  Data                                             Titulo  \\\n",
       "0  2020-06-04T12:31:57  Só o comboio suburbano escapou à queda de pass...   \n",
       "1  2020-06-04T11:59:00  Regresso aos restaurantes: o Porto em três sab...   \n",
       "2  2020-06-04T10:46:29  Madrid rectifica: fronteiras com Portugal abre...   \n",
       "3  2020-06-04T10:38:00  Dia 57: diz-me que lugar ocupas na fratria e d...   \n",
       "4  2020-06-04T10:11:00                                Repensar as escolas   \n",
       "\n",
       "                                           Descricao  \\\n",
       "0  Queda de passageiros foi transversal a todos o...   \n",
       "1  Fomos revisitar o clássico Ernesto, conhecer o...   \n",
       "2  A mudança de posição de Espanha surge depois d...   \n",
       "3  Uma mãe/avó e uma filha/mãe falam de educação....   \n",
       "4  Certamente que o digital passará a fazer parte...   \n",
       "\n",
       "                                         Rubrica  \\\n",
       "0                                    Coronavírus   \n",
       "1                                    Coronavírus   \n",
       "2                                    Coronavírus   \n",
       "3  CARTAS DE MÃE E FILHA EM TEMPOS DE QUARENTENA   \n",
       "4                                        Opinião   \n",
       "\n",
       "                                                 URL  \n",
       "0  /2020/06/04/economia/noticia/so-comboio-suburb...  \n",
       "1  /2020/06/04/fugas/noticia/regresso-restaurante...  \n",
       "2  /2020/06/04/mundo/noticia/espanha-reabre-front...  \n",
       "3  /2020/06/04/impar/cronica/dia-57-dizme-lugar-o...  \n",
       "4  /2020/06/04/impar/opiniao/repensar-escolas-191...  "
      ]
     },
     "execution_count": 118,
     "metadata": {},
     "output_type": "execute_result"
    }
   ],
   "source": [
    "news_dataset.head()"
   ]
  },
  {
   "cell_type": "code",
   "execution_count": 86,
   "metadata": {},
   "outputs": [
    {
     "data": {
      "text/html": [
       "<div>\n",
       "<style scoped>\n",
       "    .dataframe tbody tr th:only-of-type {\n",
       "        vertical-align: middle;\n",
       "    }\n",
       "\n",
       "    .dataframe tbody tr th {\n",
       "        vertical-align: top;\n",
       "    }\n",
       "\n",
       "    .dataframe thead th {\n",
       "        text-align: right;\n",
       "    }\n",
       "</style>\n",
       "<table border=\"1\" class=\"dataframe\">\n",
       "  <thead>\n",
       "    <tr style=\"text-align: right;\">\n",
       "      <th></th>\n",
       "      <th>Data</th>\n",
       "      <th>Titulo</th>\n",
       "      <th>Descricao</th>\n",
       "      <th>Rubrica</th>\n",
       "      <th>URL</th>\n",
       "    </tr>\n",
       "  </thead>\n",
       "  <tbody>\n",
       "    <tr>\n",
       "      <th>995</th>\n",
       "      <td>2020-06-02T12:18:47</td>\n",
       "      <td>Covid-19: Meta-análise confirma que uso de más...</td>\n",
       "      <td>Publicado na revista médica &lt;i&gt;The Lancet&lt;/i&gt;,...</td>\n",
       "      <td>Coronavírus</td>\n",
       "      <td>/2020/06/02/ciencia/noticia/covid19-metaanalis...</td>\n",
       "    </tr>\n",
       "    <tr>\n",
       "      <th>996</th>\n",
       "      <td>2020-06-02T12:09:48</td>\n",
       "      <td>DGS “clarifica” recomendação sobre uso de másc...</td>\n",
       "      <td>Direcção-Geral da Saúde “clarifica” recomendaç...</td>\n",
       "      <td>Covid-19</td>\n",
       "      <td>/2020/06/02/politica/noticia/afinal-preciso-ma...</td>\n",
       "    </tr>\n",
       "    <tr>\n",
       "      <th>997</th>\n",
       "      <td>2020-06-02T11:56:57</td>\n",
       "      <td>Fórmula 1 divulga calendário de oito corridas ...</td>\n",
       "      <td>O Grande Prémio de Itália, último em solo euro...</td>\n",
       "      <td>Motores</td>\n",
       "      <td>/2020/06/02/desporto/noticia/formula-1-divulga...</td>\n",
       "    </tr>\n",
       "    <tr>\n",
       "      <th>998</th>\n",
       "      <td>2020-06-02T11:56:25</td>\n",
       "      <td>Governo quer exportações de volta aos níveis p...</td>\n",
       "      <td>AICEP lança apoio à exportação através do comé...</td>\n",
       "      <td>Coronavírus</td>\n",
       "      <td>/2020/06/02/economia/noticia/governo-quer-expo...</td>\n",
       "    </tr>\n",
       "    <tr>\n",
       "      <th>999</th>\n",
       "      <td>2020-06-02T11:54:55</td>\n",
       "      <td>Novo &lt;i&gt;layoff&lt;/i&gt; “não pode assentar num cort...</td>\n",
       "      <td>O ministro de Estado e da Economia, Pedro Siza...</td>\n",
       "      <td>Coronavírus</td>\n",
       "      <td>/2020/06/02/economia/noticia/novo-layoff-nao-a...</td>\n",
       "    </tr>\n",
       "  </tbody>\n",
       "</table>\n",
       "</div>"
      ],
      "text/plain": [
       "                    Data                                             Titulo  \\\n",
       "995  2020-06-02T12:18:47  Covid-19: Meta-análise confirma que uso de más...   \n",
       "996  2020-06-02T12:09:48  DGS “clarifica” recomendação sobre uso de másc...   \n",
       "997  2020-06-02T11:56:57  Fórmula 1 divulga calendário de oito corridas ...   \n",
       "998  2020-06-02T11:56:25  Governo quer exportações de volta aos níveis p...   \n",
       "999  2020-06-02T11:54:55  Novo <i>layoff</i> “não pode assentar num cort...   \n",
       "\n",
       "                                             Descricao      Rubrica  \\\n",
       "995  Publicado na revista médica <i>The Lancet</i>,...  Coronavírus   \n",
       "996  Direcção-Geral da Saúde “clarifica” recomendaç...     Covid-19   \n",
       "997  O Grande Prémio de Itália, último em solo euro...      Motores   \n",
       "998  AICEP lança apoio à exportação através do comé...  Coronavírus   \n",
       "999  O ministro de Estado e da Economia, Pedro Siza...  Coronavírus   \n",
       "\n",
       "                                                   URL  \n",
       "995  /2020/06/02/ciencia/noticia/covid19-metaanalis...  \n",
       "996  /2020/06/02/politica/noticia/afinal-preciso-ma...  \n",
       "997  /2020/06/02/desporto/noticia/formula-1-divulga...  \n",
       "998  /2020/06/02/economia/noticia/governo-quer-expo...  \n",
       "999  /2020/06/02/economia/noticia/novo-layoff-nao-a...  "
      ]
     },
     "execution_count": 86,
     "metadata": {},
     "output_type": "execute_result"
    }
   ],
   "source": [
    "news_dataset.tail()"
   ]
  },
  {
   "cell_type": "code",
   "execution_count": 87,
   "metadata": {},
   "outputs": [
    {
     "data": {
      "text/plain": [
       "1000"
      ]
     },
     "execution_count": 87,
     "metadata": {},
     "output_type": "execute_result"
    }
   ],
   "source": [
    "len(news_dataset)"
   ]
  },
  {
   "cell_type": "code",
   "execution_count": 46,
   "metadata": {},
   "outputs": [],
   "source": [
    "news_dataset.to_csv('news_sample.csv')"
   ]
  }
 ],
 "metadata": {
  "kernelspec": {
   "display_name": "Python 3",
   "language": "python",
   "name": "python3"
  },
  "language_info": {
   "codemirror_mode": {
    "name": "ipython",
    "version": 3
   },
   "file_extension": ".py",
   "mimetype": "text/x-python",
   "name": "python",
   "nbconvert_exporter": "python",
   "pygments_lexer": "ipython3",
   "version": "3.8.3"
  }
 },
 "nbformat": 4,
 "nbformat_minor": 4
}
